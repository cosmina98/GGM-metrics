{
 "cells": [
  {
   "cell_type": "code",
   "execution_count": 2,
   "metadata": {},
   "outputs": [],
   "source": []
  },
  {
   "cell_type": "code",
   "execution_count": 3,
   "metadata": {},
   "outputs": [
    {
     "name": "stdout",
     "output_type": "stream",
     "text": [
      "10-percent\\gen_smiles (1).txt\n",
      "25-percent\\gen_smiles (2).txt\n",
      "33-percent\\gen_smiles (3).txt\n",
      "40-percent\\gen_smiles (4).txt\n",
      "50-percent\\gen_smiles (5).txt\n",
      "5-percent\\gen_smiles.txt\n",
      "66-percent\\gen_smiles (6).txt\n"
     ]
    }
   ],
   "source": [
    "import os\n",
    "import shutil\n",
    "import glob\n",
    "folder_names=['100-percent','10-percent','25-percent','33-percent','40-percent','50-percent','5-percent','66-percent','75-percent']\n",
    "experiment_name='cyp2c19_veith_50_train1_neg'\n",
    "for folder_name in folder_names:\n",
    "     file_name = glob.glob(folder_name+\"\\\\*.txt\")\n",
    "     if file_name!= []:\n",
    "          source=file_name[0]\n",
    "          print(source)\n",
    "          #destination=folder_name+'\\\\'+experiment_name[:11]+'\\\\'+experiment_name[:14]\\ +'\\\\'+experiment_name[-3:]\n",
    "          destination=folder_name+'\\\\'+experiment_name.split('_')[0]+\"_\"+experiment_name.split('_')[1]+'\\\\'+experiment_name.split('_')[0]+'_'+experiment_name.split('_')[1]+'_'+experiment_name.split('_')[2]+'\\\\'+experiment_name[-3:]\n",
    "          shutil.move(source, destination)\n",
    "\n",
    "     else:continue\n",
    "     "
   ]
  },
  {
   "cell_type": "code",
   "execution_count": 40,
   "metadata": {},
   "outputs": [
    {
     "data": {
      "text/plain": [
       "'75-percent\\\\lipophilicity_astrazeneca\\\\lipophilicity_astrazeneca_50\\\\pos'"
      ]
     },
     "execution_count": 40,
     "metadata": {},
     "output_type": "execute_result"
    }
   ],
   "source": [
    "folder_name+'\\\\'+experiment_name.split('_')[0]+\"_\"+experiment_name.split('_')[1]+'\\\\'+experiment_name.split('_')[0]+'_'+experiment_name.split('_')[1]+'_'+experiment_name.split('_')[2]+'\\\\'+experiment_name[-3:]"
   ]
  },
  {
   "cell_type": "code",
   "execution_count": 19,
   "metadata": {},
   "outputs": [
    {
     "data": {
      "text/plain": [
       "'100-percent\\\\ames\\\\ames_50'"
      ]
     },
     "execution_count": 19,
     "metadata": {},
     "output_type": "execute_result"
    }
   ],
   "source": [
    "folder_name='100-percent'\n",
    "experiment_name='ames_50_train1_pos'\n",
    "folder_name+'\\\\'+experiment_name.split('_')[0]+'\\\\'+experiment_name.split('_')[0]+'_'+experiment_name.split('_')[1]+\\\n",
    "+experiment_name[-3:]"
   ]
  },
  {
   "cell_type": "code",
   "execution_count": 20,
   "metadata": {},
   "outputs": [
    {
     "data": {
      "text/plain": [
       "'pos'"
      ]
     },
     "execution_count": 20,
     "metadata": {},
     "output_type": "execute_result"
    }
   ],
   "source": [
    "experiment_name[-3:]"
   ]
  },
  {
   "cell_type": "code",
   "execution_count": 24,
   "metadata": {},
   "outputs": [],
   "source": [
    "path='final_samples_graph****.pkl'\n",
    "path1='final_samples_graph(12).pkl'\n"
   ]
  },
  {
   "cell_type": "code",
   "execution_count": 31,
   "metadata": {},
   "outputs": [],
   "source": [
    "import re\n",
    "result =re.search(r'final_samples_graph*[1-9][1-9]*', path1)\n"
   ]
  },
  {
   "cell_type": "code",
   "execution_count": 32,
   "metadata": {},
   "outputs": [],
   "source": [
    "result"
   ]
  },
  {
   "cell_type": "code",
   "execution_count": 4,
   "metadata": {},
   "outputs": [
    {
     "name": "stdout",
     "output_type": "stream",
     "text": [
      "[]\n"
     ]
    }
   ],
   "source": [
    "import glob\n",
    "\n",
    "file_name = glob.glob(\"100-percent\\\\*.txt\")\n",
    "print(file_name)"
   ]
  },
  {
   "cell_type": "code",
   "execution_count": null,
   "metadata": {},
   "outputs": [],
   "source": []
  },
  {
   "cell_type": "code",
   "execution_count": null,
   "metadata": {},
   "outputs": [],
   "source": []
  },
  {
   "cell_type": "code",
   "execution_count": null,
   "metadata": {},
   "outputs": [],
   "source": []
  },
  {
   "cell_type": "code",
   "execution_count": null,
   "metadata": {},
   "outputs": [],
   "source": []
  },
  {
   "cell_type": "code",
   "execution_count": null,
   "metadata": {},
   "outputs": [],
   "source": []
  }
 ],
 "metadata": {
  "kernelspec": {
   "display_name": "Python 3",
   "language": "python",
   "name": "python3"
  },
  "language_info": {
   "codemirror_mode": {
    "name": "ipython",
    "version": 3
   },
   "file_extension": ".py",
   "mimetype": "text/x-python",
   "name": "python",
   "nbconvert_exporter": "python",
   "pygments_lexer": "ipython3",
   "version": "3.10.5"
  },
  "orig_nbformat": 4,
  "vscode": {
   "interpreter": {
    "hash": "06a8be8316eed2f6558da5cb68a9abde15f0a0ec61139bf81bc916fa7c6839e3"
   }
  }
 },
 "nbformat": 4,
 "nbformat_minor": 2
}
