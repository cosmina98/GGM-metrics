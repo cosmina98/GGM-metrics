{
 "cells": [
  {
   "cell_type": "code",
   "execution_count": 2,
   "metadata": {},
   "outputs": [],
   "source": [
    "import warnings\n",
    "warnings.filterwarnings(\"ignore\")\n",
    "from evaluation.mol_structure import list_of_smiles_to_nx_graphs,list_of_nx_graphs_to_smiles\n",
    "from evaluation.mol_structure import draw_one_mol, draw_graphs\n",
    "from evaluation.new_structural_metric import symmetric_graph_set_distance,atom,cycle,neighborhood\n",
    "from evaluate import evaluate\n",
    "#import utils.graph_generators as gen\n",
    "import torch\n",
    "import networkx as nx\n",
    "import os \n",
    "import sys\n",
    "import json\n",
    "current = os.getcwd()\n",
    "parent = os.path.dirname(current)\n",
    "sys.path.append(parent)\n",
    "import rdkit\n",
    "import numpy as np\n",
    "from evaluation.utils import get_data,  get_mock_data,remove_empty_graphs_and_targets,\\\n",
    "    get_generated_data,preprocess,get_graph_data, get_generated_graph_data\n",
    "import rdkit\n",
    "from rdkit import Chem\n",
    "from rdkit.Chem.rdchem import ChiralType, BondType, BondDir\n",
    "from rdkit.Chem.rdmolops import AddHs\n",
    "from evaluation.atom_bond_encoder import  atom_to_feature_vector,bond_to_feature_vector\n",
    "from evaluation.moses.metrics.metrics import get_all_metrics\n",
    "\n"
   ]
  },
  {
   "cell_type": "markdown",
   "metadata": {},
   "source": [
    "#  Functions used"
   ]
  },
  {
   "cell_type": "markdown",
   "metadata": {},
   "source": [
    "The standard converters from  nx and rdkit "
   ]
  },
  {
   "cell_type": "code",
   "execution_count": 120,
   "metadata": {},
   "outputs": [],
   "source": [
    "def rdkmol_to_nx(mol):\n",
    "    #  rdkit-mol object to nx.graph\n",
    "    graph = nx.Graph()\n",
    "    for atom in mol.GetAtoms():\n",
    "        graph.add_node(atom.GetIdx(), label=int(atom.GetAtomicNum()), attr=atom_to_feature_vector(atom) ,  label_name=atom.GetSymbol())\n",
    "    for bond in mol.GetBonds():\n",
    "        graph.add_edge(bond.GetBeginAtomIdx(), bond.GetEndAtomIdx(),label=(int(bond.GetBondTypeAsDouble())),\n",
    "                       attr=bond_to_feature_vector(bond),\n",
    "                       edge_label=str(bond.GetBondType()) )\n",
    "    return graph\n",
    "\n",
    "def smiles_to_mol(list_of_smiles):\n",
    "    list_of_rdkit_mols=[]\n",
    "    for _,smile in enumerate(list_of_smiles):\n",
    "        try:\n",
    "            mol = Chem.MolFromSmiles(smile)\n",
    "            list_of_rdkit_mols.append(mol)\n",
    "        except:list_of_rdkit_mols.append(Chem.MolFromSmiles('C'))\n",
    "    return list_of_rdkit_mols\n",
    "    \n",
    "\n",
    "\n",
    "\n",
    "def nx_to_rdkit(graph):\n",
    "    m = Chem.MolFromSmiles('')\n",
    "    mw = Chem.RWMol(m)\n",
    "    atom_index = {}\n",
    "    for n, d in graph.nodes(data=True):\n",
    "        atom_index[n] = mw.AddAtom(Chem.Atom(d['label']))\n",
    "    for a, b, d in graph.edges(data=True):\n",
    "        start = atom_index[a]\n",
    "        end = atom_index[b] \n",
    "        bond_type=d['edge_label']\n",
    "        try:\n",
    "            mw.AddBond(start, end, eval(\"rdkit.Chem.rdchem.BondType.{}\".format(bond_type)))\n",
    "        except:\n",
    "            mw.AddBond(start, end, eval(\"rdkit.Chem.rdchem.BondType.{}\".format('SINGLE')))\n",
    "            #print('exc',bond_type)\n",
    "            continue\n",
    "            raise Exception('bond type not implemented')\n",
    "\n",
    "    mol = mw.GetMol()\n",
    "    return mol\n",
    "\n",
    "def list_of_smiles_to_nx_graphs(smiles):\n",
    "    list_of_nx_graphs=[]\n",
    "    for i,smile in enumerate(smiles):\n",
    "        mol = Chem.MolFromSmiles(smile)\n",
    "        if mol is not None:\n",
    "           list_of_nx_graphs.append(rdkmol_to_nx(mol))\n",
    "        else:\n",
    "            continue\n",
    "         \n",
    "    return list_of_nx_graphs\n",
    "\n",
    "\n",
    "def list_of_nx_graphs_to_smiles(graphs, file=None):\n",
    "    # writes smiles strings to a file\n",
    "    chem = [nx_to_rdkit(graph) for graph in graphs]\n",
    "    smis = [Chem.MolToSmiles(m) for m in chem]\n",
    "    if file:\n",
    "        with open(file, 'w') as f:\n",
    "            f.write('\\n'.join(smis))\n",
    "    return smis\n"
   ]
  },
  {
   "cell_type": "markdown",
   "metadata": {},
   "source": [
    "# Smiles =>  Molecular graphs =>  Smiles"
   ]
  },
  {
   "cell_type": "markdown",
   "metadata": {},
   "source": [
    "# Train1 vs Train1                    /Before vs After graph conversion of the train smiles using directly the get_all_metrics from moses\n"
   ]
  },
  {
   "cell_type": "markdown",
   "metadata": {},
   "source": [
    "I am trying to compare sets of training smiles  against sets of training smiles and evaluate those using Moses.\n",
    "As we can see bellow, initially the evaluation fails for the graphs converted back to smiles. "
   ]
  },
  {
   "cell_type": "code",
   "execution_count": 73,
   "metadata": {},
   "outputs": [
    {
     "name": "stdout",
     "output_type": "stream",
     "text": [
      "ames_50 train1\n",
      "Metrics before  coversion:\n",
      "{'valid': 1.0, 'unique@1000': 0.999, 'unique@10000': 0.9996073812328229, 'FCD/Test': -3.552713678800501e-13, 'SNN/Test': 1.0, 'Frag/Test': 1, 'Scaf/Test': 1, 'FCD/TestSF': 22.270570164551017, 'SNN/TestSF': 0.33544746274439363, 'Frag/TestSF': -0.06553137100764106, 'Scaf/TestSF': 0.13905682249091533, 'IntDiv': 0.9105206593714188, 'IntDiv2': 0.8919648544524341, 'Filters': 0.5551629367883785, 'logP': 0.0, 'SA': 0.0, 'QED': 0.0, 'weight': 0.0, 'Novelty': 0.0015710919088766694}\n",
      "Metrics after  coversion:\n",
      "Error when computing the metrics for the converted graphs\n",
      "bbb_martins_50 train1\n",
      "Metrics before  coversion:\n",
      "{'valid': 1.0, 'unique@1000': 0.9943661971830986, 'unique@10000': 0.9943661971830986, 'FCD/Test': -5.826450433232822e-13, 'SNN/Test': 1.0, 'Frag/Test': 1, 'Scaf/Test': 1, 'FCD/TestSF': 19.4438681661209, 'SNN/TestSF': 0.3730856233761764, 'Frag/TestSF': -0.10547896046759009, 'Scaf/TestSF': 0.024943099994351514, 'IntDiv': 0.8849596139292613, 'IntDiv2': 0.8690461844981707, 'Filters': 0.780281690140845, 'logP': 0.0, 'SA': 0.0, 'QED': 0.0, 'weight': 0.0, 'Novelty': 0.0}\n",
      "Metrics after  coversion:\n",
      "Error when computing the metrics for the converted graphs\n",
      "cyp1a2_veith_50 train1\n",
      "Metrics before  coversion:\n",
      "{'valid': 1.0, 'unique@1000': 1.0, 'unique@10000': 1.0, 'FCD/Test': 1.4210854715202004e-14, 'SNN/Test': 1.0, 'Frag/Test': 1, 'Scaf/Test': 1, 'FCD/TestSF': 8.68471033752347, 'SNN/TestSF': 0.4536928006264634, 'Frag/TestSF': -0.5124778390566402, 'Scaf/TestSF': 0.09790371189976232, 'IntDiv': 0.87820185611965, 'IntDiv2': 0.8694200489448817, 'Filters': 0.7891867333030441, 'logP': 0.0, 'SA': 0.0, 'QED': 0.0, 'weight': 0.0, 'Novelty': 0.0}\n",
      "Metrics after  coversion:\n",
      "Error when computing the metrics for the converted graphs\n",
      "cyp2c19_veith_50 train1\n",
      "Metrics before  coversion:\n",
      "{'valid': 1.0, 'unique@1000': 1.0, 'unique@10000': 1.0, 'FCD/Test': -1.7053025658242404e-13, 'SNN/Test': 1.0, 'Frag/Test': 1, 'Scaf/Test': 1, 'FCD/TestSF': 9.42857922145528, 'SNN/TestSF': 0.4480696106848479, 'Frag/TestSF': -0.4739719471863224, 'Scaf/TestSF': 0.07032037444800865, 'IntDiv': 0.8781976350681175, 'IntDiv2': 0.8690361392317498, 'Filters': 0.7847958493119783, 'logP': 0.0, 'SA': 0.0, 'QED': 0.0, 'weight': 0.0, 'Novelty': 0.0}\n",
      "Metrics after  coversion:\n",
      "Error when computing the metrics for the converted graphs\n",
      "herg_karim_50 train1\n",
      "Metrics before  coversion:\n",
      "{'valid': 1.0, 'unique@1000': 1.0, 'unique@10000': 1.0, 'FCD/Test': -1.9895196601282805e-13, 'SNN/Test': 1.0, 'Frag/Test': 1, 'Scaf/Test': 1, 'FCD/TestSF': 12.292042602097979, 'SNN/TestSF': nan, 'Frag/TestSF': -0.5475403186125658, 'Scaf/TestSF': 0.01632947815994945, 'IntDiv': 0.8667687113607576, 'IntDiv2': 0.8592294261235195, 'Filters': 0.8610284742881428, 'logP': 0.0, 'SA': 0.0, 'QED': 0.0, 'weight': 0.0, 'Novelty': 0.024436889077773055}\n",
      "Metrics after  coversion:\n",
      "Error when computing the metrics for the converted graphs\n",
      "lipophilicity_astrazeneca_50 train1\n",
      "Metrics before  coversion:\n",
      "{'valid': 1.0, 'unique@1000': 1.0, 'unique@10000': 1.0, 'FCD/Test': -2.8421709430404007e-13, 'SNN/Test': 1.0, 'Frag/Test': 1, 'Scaf/Test': 1, 'FCD/TestSF': 9.829001233793633, 'SNN/TestSF': 0.4317776018360845, 'Frag/TestSF': -0.6119188442457055, 'Scaf/TestSF': 0.05753227311080622, 'IntDiv': 0.868971554014153, 'IntDiv2': 0.8589942044000322, 'Filters': 0.8979591836734694, 'logP': 0.0, 'SA': 0.0, 'QED': 0.0, 'weight': 0.0, 'Novelty': 0.011564625850340135}\n",
      "Metrics after  coversion:\n",
      "Error when computing the metrics for the converted graphs\n"
     ]
    }
   ],
   "source": [
    "current_smiles_datasets=['ames', 'bbb_martins', 'cyp1a2_veith', 'cyp2c19_veith','herg_karim','lipophilicity_astrazeneca']\n",
    "splits=['_50']\n",
    "device=torch.device('cpu')\n",
    "structural_statistic=['WL', 'nspdk','degree','cluster', 'spectral']#'common_substructures']\n",
    "\n",
    "metrics_type=['molecular']\n",
    "#leave it blank to compute all the structural structures \n",
    "metrics={}\n",
    "metrics2={}\n",
    "for generator in ['train1']:\n",
    "    for dataset_name in current_smiles_datasets:\n",
    "        for split in splits:\n",
    "                print(dataset_name+split, generator)\n",
    "                graphs,smiles  =get_data(dataset_name+split, return_smiles=True)\n",
    "                train1_smiles_before_conversion=smiles['train1_pos_smiles']+ smiles['train1_neg_smiles']\n",
    "                train1_graphs=list_of_smiles_to_nx_graphs(train1_smiles_before_conversion)\n",
    "                train1_smiles=list_of_nx_graphs_to_smiles(train1_graphs)          \n",
    "                print('Metrics before  coversion:')\n",
    "                metrics=get_all_metrics(gen=train1_smiles_before_conversion,train=train1_smiles_before_conversion,test=train1_smiles_before_conversion)\n",
    "                print(metrics)\n",
    "                print('Metrics after  coversion:')\n",
    "                try:\n",
    "                    metrics2=get_all_metrics(gen=train1_smiles,train=train1_smiles,test=train1_smiles)\n",
    "                    print(metrics2)\n",
    "                except:\n",
    "                    print('Error when computing the metrics for the converted graphs')\n",
    "                    continue\n",
    "                "
   ]
  },
  {
   "cell_type": "markdown",
   "metadata": {},
   "source": [
    "# Example of equivalent smiles that will raise an exception  during evaluation. Although the smiles are similar , we can notice  that the stereochemistry is lost which may be the reason for the error"
   ]
  },
  {
   "cell_type": "markdown",
   "metadata": {},
   "source": [
    "So of course my first  step was trying to identify whether my converted  (smiles=>mols=>graphs=>mols=>smiles2 ) smiles2 contain any 'None; , null or empty strings or even 1-atom smiles strings which was not the case. So I manuually tried to see which smiles, (otherwise valid ones) would cause erors. For example, here I discovered after testing that smile at location 14 from the cyp1a2_veith_50  dataset will  generate an evaluation error: "
   ]
  },
  {
   "cell_type": "code",
   "execution_count": 84,
   "metadata": {},
   "outputs": [
    {
     "data": {
      "image/png": "[encoded data removed]",
      "text/plain": [
       "<rdkit.Chem.rdchem.Mol at 0x21ff1d8a6d0>"
      ]
     },
     "execution_count": 84,
     "metadata": {},
     "output_type": "execute_result"
    }
   ],
   "source": [
    "smiles_to_mol([train1_smiles_before_conversion[14]])[0]"
   ]
  },
  {
   "cell_type": "code",
   "execution_count": 66,
   "metadata": {},
   "outputs": [
    {
     "data": {
      "text/plain": [
       "'CCCCCCC/C=C\\\\CCCCCCCCC(=O)O'"
      ]
     },
     "execution_count": 66,
     "metadata": {},
     "output_type": "execute_result"
    }
   ],
   "source": [
    "train1_smiles_before_conversion[14]"
   ]
  },
  {
   "cell_type": "code",
   "execution_count": 59,
   "metadata": {},
   "outputs": [
    {
     "data": {
      "image/png": "[encoded data removed]",
      "text/plain": [
       "<rdkit.Chem.rdchem.Mol at 0x22038cf9350>"
      ]
     },
     "execution_count": 59,
     "metadata": {},
     "output_type": "execute_result"
    }
   ],
   "source": [
    "#The smile after conversion, respecting teh  number of edges and atoms but withj removed stereochemistry\n",
    "smiles_to_mol([train1_smiles[14]])[0]"
   ]
  },
  {
   "cell_type": "code",
   "execution_count": 85,
   "metadata": {},
   "outputs": [
    {
     "data": {
      "text/plain": [
       "'CCCCCCCC=CCCCCCCCCC(=O)O'"
      ]
     },
     "execution_count": 85,
     "metadata": {},
     "output_type": "execute_result"
    }
   ],
   "source": [
    "train1_smiles[14]"
   ]
  },
  {
   "cell_type": "code",
   "execution_count": 67,
   "metadata": {},
   "outputs": [
    {
     "data": {
      "text/plain": [
       "{'valid': 1.0,\n",
       " 'unique@1000': 1.0,\n",
       " 'unique@10000': 1.0,\n",
       " 'FCD/Test': nan,\n",
       " 'SNN/Test': 1.0,\n",
       " 'Frag/Test': 1,\n",
       " 'Scaf/Test': 1,\n",
       " 'FCD/TestSF': nan,\n",
       " 'SNN/TestSF': 0.45974692915167126,\n",
       " 'Frag/TestSF': 0.20737029122517026,\n",
       " 'Scaf/TestSF': 0.0,\n",
       " 'IntDiv': 0.7967902275980735,\n",
       " 'IntDiv2': 0.6934234527593401,\n",
       " 'Filters': 0.8571428571428571,\n",
       " 'logP': 0.0,\n",
       " 'SA': 0.0,\n",
       " 'QED': 0.0,\n",
       " 'weight': 0.0,\n",
       " 'Novelty': 0.0}"
      ]
     },
     "execution_count": 67,
     "metadata": {},
     "output_type": "execute_result"
    }
   ],
   "source": [
    "get_all_metrics(gen=train1_smiles_before_conversion[:14],train=train1_smiles_before_conversion[:14],test=train1_smiles_before_conversion[:14])"
   ]
  },
  {
   "cell_type": "code",
   "execution_count": 68,
   "metadata": {},
   "outputs": [
    {
     "ename": "ArgumentError",
     "evalue": "Python argument types in\n    rdkit.Chem.rdMolDescriptors.CalcCrippenDescriptors(NoneType)\ndid not match C++ signature:\n    CalcCrippenDescriptors(class RDKit::ROMol mol, bool includeHs=True, bool force=False)",
     "output_type": "error",
     "traceback": [
      "\u001b[1;31m---------------------------------------------------------------------------\u001b[0m",
      "\u001b[1;31mArgumentError\u001b[0m                             Traceback (most recent call last)",
      "\u001b[1;32mc:\\Users\\cosmi\\Documents\\PhD\\2023\\Proposal\\Graph_Evaluation_Benchmark\\molecular_proof.ipynb.ipynb Cell 12\u001b[0m line \u001b[0;36m1\n\u001b[1;32m----> <a href='vscode-notebook-cell:/c%3A/Users/cosmi/Documents/PhD/2023/Proposal/Graph_Evaluation_Benchmark/molecular_proof.ipynb.ipynb#Y110sZmlsZQ%3D%3D?line=0'>1</a>\u001b[0m get_all_metrics(gen\u001b[39m=\u001b[39;49mtrain1_smiles[:\u001b[39m14\u001b[39;49m],train\u001b[39m=\u001b[39;49mtrain1_smiles[:\u001b[39m14\u001b[39;49m],test\u001b[39m=\u001b[39;49mtrain1_smiles[:\u001b[39m14\u001b[39;49m])\n",
      "File \u001b[1;32mc:\\Users\\cosmi\\Documents\\PhD\\2023\\Proposal\\Graph_Evaluation_Benchmark\\evaluation\\moses\\metrics\\metrics.py:102\u001b[0m, in \u001b[0;36mget_all_metrics\u001b[1;34m(gen, k, n_jobs, device, batch_size, pool, test, test_scaffolds, ptest, ptest_scaffolds, train)\u001b[0m\n\u001b[0;32m     99\u001b[0m     metrics[\u001b[39m'\u001b[39m\u001b[39munique@\u001b[39m\u001b[39m{}\u001b[39;00m\u001b[39m'\u001b[39m\u001b[39m.\u001b[39mformat(_k)] \u001b[39m=\u001b[39m fraction_unique(gen, _k, pool)\n\u001b[0;32m    101\u001b[0m \u001b[39mif\u001b[39;00m ptest \u001b[39mis\u001b[39;00m \u001b[39mNone\u001b[39;00m:\n\u001b[1;32m--> 102\u001b[0m     ptest \u001b[39m=\u001b[39m compute_intermediate_statistics(test, n_jobs\u001b[39m=\u001b[39;49mn_jobs,\n\u001b[0;32m    103\u001b[0m                                             device\u001b[39m=\u001b[39;49mdevice,\n\u001b[0;32m    104\u001b[0m                                             batch_size\u001b[39m=\u001b[39;49mbatch_size,\n\u001b[0;32m    105\u001b[0m                                             pool\u001b[39m=\u001b[39;49mpool)\n\u001b[0;32m    106\u001b[0m \u001b[39mif\u001b[39;00m test_scaffolds \u001b[39mis\u001b[39;00m \u001b[39mnot\u001b[39;00m \u001b[39mNone\u001b[39;00m \u001b[39mand\u001b[39;00m ptest_scaffolds \u001b[39mis\u001b[39;00m \u001b[39mNone\u001b[39;00m:\n\u001b[0;32m    107\u001b[0m     ptest_scaffolds \u001b[39m=\u001b[39m compute_intermediate_statistics(\n\u001b[0;32m    108\u001b[0m         test_scaffolds, n_jobs\u001b[39m=\u001b[39mn_jobs,\n\u001b[0;32m    109\u001b[0m         device\u001b[39m=\u001b[39mdevice, batch_size\u001b[39m=\u001b[39mbatch_size,\n\u001b[0;32m    110\u001b[0m         pool\u001b[39m=\u001b[39mpool\n\u001b[0;32m    111\u001b[0m     )\n",
      "File \u001b[1;32mc:\\Users\\cosmi\\Documents\\PhD\\2023\\Proposal\\Graph_Evaluation_Benchmark\\evaluation\\moses\\metrics\\metrics.py:207\u001b[0m, in \u001b[0;36mcompute_intermediate_statistics\u001b[1;34m(smiles, n_jobs, device, batch_size, pool)\u001b[0m\n\u001b[0;32m    202\u001b[0m \u001b[39mexcept\u001b[39;00m: statistics[\u001b[39m'\u001b[39m\u001b[39mScaf\u001b[39m\u001b[39m'\u001b[39m] \u001b[39m=\u001b[39m np\u001b[39m.\u001b[39mnan\n\u001b[0;32m    204\u001b[0m \u001b[39mfor\u001b[39;00m name, func \u001b[39min\u001b[39;00m [(\u001b[39m'\u001b[39m\u001b[39mlogP\u001b[39m\u001b[39m'\u001b[39m, logP), (\u001b[39m'\u001b[39m\u001b[39mSA\u001b[39m\u001b[39m'\u001b[39m, SA),\n\u001b[0;32m    205\u001b[0m                    (\u001b[39m'\u001b[39m\u001b[39mQED\u001b[39m\u001b[39m'\u001b[39m, QED),\n\u001b[0;32m    206\u001b[0m                    (\u001b[39m'\u001b[39m\u001b[39mweight\u001b[39m\u001b[39m'\u001b[39m, weight)]:\n\u001b[1;32m--> 207\u001b[0m     statistics[name] \u001b[39m=\u001b[39m WassersteinMetric(func, \u001b[39m*\u001b[39;49m\u001b[39m*\u001b[39;49mkwargs)\u001b[39m.\u001b[39;49mprecalc(mols)\n\u001b[0;32m    208\u001b[0m \u001b[39mif\u001b[39;00m close_pool:\n\u001b[0;32m    209\u001b[0m     pool\u001b[39m.\u001b[39mterminate()\n",
      "File \u001b[1;32mc:\\Users\\cosmi\\Documents\\PhD\\2023\\Proposal\\Graph_Evaluation_Benchmark\\evaluation\\moses\\metrics\\metrics.py:369\u001b[0m, in \u001b[0;36mWassersteinMetric.precalc\u001b[1;34m(self, mols)\u001b[0m\n\u001b[0;32m    367\u001b[0m \u001b[39mdef\u001b[39;00m \u001b[39mprecalc\u001b[39m(\u001b[39mself\u001b[39m, mols):\n\u001b[0;32m    368\u001b[0m     \u001b[39mif\u001b[39;00m \u001b[39mself\u001b[39m\u001b[39m.\u001b[39mfunc \u001b[39mis\u001b[39;00m \u001b[39mnot\u001b[39;00m \u001b[39mNone\u001b[39;00m:\n\u001b[1;32m--> 369\u001b[0m         values \u001b[39m=\u001b[39m mapper(\u001b[39mself\u001b[39;49m\u001b[39m.\u001b[39;49mn_jobs)(\u001b[39mself\u001b[39;49m\u001b[39m.\u001b[39;49mfunc, mols)\n\u001b[0;32m    370\u001b[0m     \u001b[39melse\u001b[39;00m:\n\u001b[0;32m    371\u001b[0m         values \u001b[39m=\u001b[39m mols\n",
      "File \u001b[1;32mc:\\Users\\cosmi\\Documents\\PhD\\2023\\Proposal\\Graph_Evaluation_Benchmark\\evaluation\\moses\\utils.py:115\u001b[0m, in \u001b[0;36mmapper.<locals>._mapper\u001b[1;34m(*args, **kwargs)\u001b[0m\n\u001b[0;32m    114\u001b[0m \u001b[39mdef\u001b[39;00m \u001b[39m_mapper\u001b[39m(\u001b[39m*\u001b[39margs, \u001b[39m*\u001b[39m\u001b[39m*\u001b[39mkwargs):\n\u001b[1;32m--> 115\u001b[0m     \u001b[39mreturn\u001b[39;00m \u001b[39mlist\u001b[39;49m(\u001b[39mmap\u001b[39;49m(\u001b[39m*\u001b[39;49margs, \u001b[39m*\u001b[39;49m\u001b[39m*\u001b[39;49mkwargs))\n",
      "File \u001b[1;32mc:\\Users\\cosmi\\Documents\\PhD\\2023\\Proposal\\Graph_Evaluation_Benchmark\\evaluation\\moses\\metrics\\utils.py:38\u001b[0m, in \u001b[0;36mlogP\u001b[1;34m(mol)\u001b[0m\n\u001b[0;32m     34\u001b[0m \u001b[39mdef\u001b[39;00m \u001b[39mlogP\u001b[39m(mol):\n\u001b[0;32m     35\u001b[0m \u001b[39m    \u001b[39m\u001b[39m\"\"\"\u001b[39;00m\n\u001b[0;32m     36\u001b[0m \u001b[39m    Computes RDKit's logP\u001b[39;00m\n\u001b[0;32m     37\u001b[0m \u001b[39m    \"\"\"\u001b[39;00m\n\u001b[1;32m---> 38\u001b[0m     \u001b[39mreturn\u001b[39;00m Chem\u001b[39m.\u001b[39;49mCrippen\u001b[39m.\u001b[39;49mMolLogP(mol)\n",
      "File \u001b[1;32m~\\AppData\\Local\\Packages\\PythonSoftwareFoundation.Python.3.9_qbz5n2kfra8p0\\LocalCache\\local-packages\\Python39\\site-packages\\rdkit\\Chem\\Crippen.py:171\u001b[0m, in \u001b[0;36m<lambda>\u001b[1;34m(*x, **y)\u001b[0m\n\u001b[0;32m    166\u001b[0m   \u001b[39mreturn\u001b[39;00m numpy\u001b[39m.\u001b[39msum(atomContribs, \u001b[39m0\u001b[39m)[\u001b[39m1\u001b[39m]\n\u001b[0;32m    169\u001b[0m _pyMolMR\u001b[39m.\u001b[39mversion \u001b[39m=\u001b[39m \u001b[39m\"\u001b[39m\u001b[39m1.1.0\u001b[39m\u001b[39m\"\u001b[39m\n\u001b[1;32m--> 171\u001b[0m MolLogP \u001b[39m=\u001b[39m \u001b[39mlambda\u001b[39;00m \u001b[39m*\u001b[39mx, \u001b[39m*\u001b[39m\u001b[39m*\u001b[39my: rdMolDescriptors\u001b[39m.\u001b[39mCalcCrippenDescriptors(\u001b[39m*\u001b[39mx, \u001b[39m*\u001b[39m\u001b[39m*\u001b[39my)[\u001b[39m0\u001b[39m]\n\u001b[0;32m    172\u001b[0m MolLogP\u001b[39m.\u001b[39mversion \u001b[39m=\u001b[39m rdMolDescriptors\u001b[39m.\u001b[39m_CalcCrippenDescriptors_version\n\u001b[0;32m    173\u001b[0m MolLogP\u001b[39m.\u001b[39m\u001b[39m__doc__\u001b[39m \u001b[39m=\u001b[39m \u001b[39m\"\"\"\u001b[39m\u001b[39m Wildman-Crippen LogP value\u001b[39m\n\u001b[0;32m    174\u001b[0m \n\u001b[0;32m    175\u001b[0m \u001b[39m  Uses an atom-based scheme based on the values in the paper:\u001b[39m\n\u001b[1;32m   (...)\u001b[0m\n\u001b[0;32m    184\u001b[0m \n\u001b[0;32m    185\u001b[0m \u001b[39m\"\"\"\u001b[39m\n",
      "\u001b[1;31mArgumentError\u001b[0m: Python argument types in\n    rdkit.Chem.rdMolDescriptors.CalcCrippenDescriptors(NoneType)\ndid not match C++ signature:\n    CalcCrippenDescriptors(class RDKit::ROMol mol, bool includeHs=True, bool force=False)"
     ]
    }
   ],
   "source": [
    "\n",
    "get_all_metrics(gen=train1_smiles[:14],train=train1_smiles[:14],test=train1_smiles[:14])"
   ]
  },
  {
   "cell_type": "markdown",
   "metadata": {},
   "source": [
    "# FIX- Preserve stereochemistry when converting the smiles to graphs and the graphs back from smiles by making some properties more explicit "
   ]
  },
  {
   "cell_type": "markdown",
   "metadata": {},
   "source": [
    "Adapted from: \n",
    "https://github.com/dakoner/keras-molecules/blob/dbbb790e74e406faa70b13e8be8104d9e938eba2/convert_rdkit_to_networkx.py#L17"
   ]
  },
  {
   "cell_type": "code",
   "execution_count": 3,
   "metadata": {},
   "outputs": [],
   "source": [
    "def rdkmol_to_nx(mol):\n",
    "    #  rdkit-mol object to nx.graph\n",
    "    graph = nx.Graph()\n",
    "    for atom in mol.GetAtoms():\n",
    "        graph.add_node(atom.GetIdx(), label=int(atom.GetAtomicNum()), attr=atom_to_feature_vector(atom) ,  label_name=atom.GetSymbol(),\n",
    "                   atomic_num=atom.GetAtomicNum(),\n",
    "                   formal_charge=atom.GetFormalCharge(),\n",
    "                   chiral_tag=atom.GetChiralTag(),\n",
    "                   hybridization=atom.GetHybridization(),\n",
    "                   num_explicit_hs=atom.GetNumExplicitHs(),\n",
    "                   is_aromatic=atom.GetIsAromatic()) \n",
    "    for bond in mol.GetBonds():\n",
    "        graph.add_edge(bond.GetBeginAtomIdx(), bond.GetEndAtomIdx(),label=(int(bond.GetBondTypeAsDouble())),\n",
    "                       attr=bond_to_feature_vector(bond),\n",
    "                       edge_label=str(bond.GetBondType()),\n",
    "                       bond_type= bond.GetBondType())\n",
    "    return graph\n",
    "\n",
    "def smiles_to_mol(list_of_smiles):\n",
    "    list_of_rdkit_mols=[]\n",
    "    for _,smile in enumerate(list_of_smiles):\n",
    "        try:\n",
    "            mol = Chem.MolFromSmiles(smile)\n",
    "            list_of_rdkit_mols.append(mol)\n",
    "        except:list_of_rdkit_mols.append(Chem.MolFromSmiles('C'))\n",
    "    return list_of_rdkit_mols\n",
    "    \n",
    "\n",
    "\n",
    "\n",
    "def nx_to_rdkit(graph):\n",
    "    m = Chem.MolFromSmiles('')\n",
    "    atomic_nums = nx.get_node_attributes(graph, 'atomic_num')\n",
    "    chiral_tags = nx.get_node_attributes(graph, 'chiral_tag')\n",
    "    formal_charges = nx.get_node_attributes(graph, 'formal_charge')\n",
    "    node_is_aromatics = nx.get_node_attributes(graph, 'is_aromatic')\n",
    "    node_hybridizations = nx.get_node_attributes(graph, 'hybridization')\n",
    "    num_explicit_hss = nx.get_node_attributes(graph, 'num_explicit_hs')\n",
    "    mw = Chem.RWMol(m)\n",
    "    node_to_idx = {}\n",
    "    for node in graph.nodes():\n",
    "        a=Chem.Atom(atomic_nums[node])\n",
    "        a.SetChiralTag(chiral_tags[node])\n",
    "        a.SetFormalCharge(formal_charges[node])\n",
    "        a.SetIsAromatic(node_is_aromatics[node])\n",
    "        a.SetHybridization(node_hybridizations[node])\n",
    "        a.SetNumExplicitHs(num_explicit_hss[node])\n",
    "        idx = mw.AddAtom(a)\n",
    "        node_to_idx[node] = idx\n",
    "\n",
    "    bond_types = nx.get_edge_attributes(graph, 'bond_type')\n",
    "    for a, b, d in graph.edges(data=True):\n",
    "        start = node_to_idx[a]\n",
    "        end = node_to_idx[b] \n",
    "        bond_type=bond_types[a,b]\n",
    "        try:\n",
    "            mw.AddBond(start, end, bond_type)\n",
    "        except:\n",
    "            mw.AddBond(start, end, eval(\"rdkit.Chem.rdchem.BondType.{}\".format('SINGLE')))\n",
    "            #print('exc',bond_type)\n",
    "            continue\n",
    "            raise Exception('bond type not implemented')\n",
    "\n",
    "    Chem.SanitizeMol(mw)\n",
    "    return mw\n",
    "\n",
    "def list_of_smiles_to_nx_graphs(smiles):\n",
    "    list_of_nx_graphs=[]\n",
    "    for i,smile in enumerate(smiles):\n",
    "        mol = Chem.MolFromSmiles(smile)\n",
    "        if mol is not None:\n",
    "           list_of_nx_graphs.append(rdkmol_to_nx(mol))\n",
    "        else:\n",
    "            continue\n",
    "         \n",
    "    return list_of_nx_graphs\n",
    "\n",
    "\n",
    "def list_of_nx_graphs_to_smiles(graphs, file=None):\n",
    "    # writes smiles strings to a file\n",
    "    chem = [nx_to_rdkit(graph) for graph in graphs]\n",
    "    smis = [Chem.MolToSmiles(m) for m in chem]\n",
    "    if file:\n",
    "        with open(file, 'w') as f:\n",
    "            f.write('\\n'.join(smis))\n",
    "    return smis\n",
    "\n",
    "\n"
   ]
  },
  {
   "cell_type": "code",
   "execution_count": 4,
   "metadata": {},
   "outputs": [
    {
     "name": "stdout",
     "output_type": "stream",
     "text": [
      "ames_50 train1\n",
      "Metrics before  coversion:\n",
      "{'valid': 1.0, 'unique@1000': 0.999, 'unique@10000': 0.9996073812328229, 'FCD/Test': -3.552713678800501e-13, 'SNN/Test': 1.0, 'Frag/Test': 1, 'Scaf/Test': 1, 'FCD/TestSF': 22.270570164551017, 'SNN/TestSF': 0.33544746274439363, 'Frag/TestSF': -0.06553137100764106, 'Scaf/TestSF': 0.13905682249091533, 'IntDiv': 0.9105206593714188, 'IntDiv2': 0.8919648544524341, 'Filters': 0.5551629367883785, 'logP': 0.0, 'SA': 0.0, 'QED': 0.0, 'weight': 0.0, 'Novelty': 0.0015710919088766694}\n",
      "Metrics after  coversion:\n",
      "{'valid': 1.0, 'unique@1000': 0.999, 'unique@10000': 0.9996073812328229, 'FCD/Test': 2.2026824808563106e-13, 'SNN/Test': 1.0, 'Frag/Test': 1, 'Scaf/Test': 1, 'FCD/TestSF': 22.271112528170434, 'SNN/TestSF': 0.33544746274439363, 'Frag/TestSF': -0.06551872571011819, 'Scaf/TestSF': 0.1385673996879525, 'IntDiv': 0.9105226033883607, 'IntDiv2': 0.8919665588930472, 'Filters': 0.5551629367883785, 'logP': 0.0, 'SA': 0.0, 'QED': 0.0, 'weight': 0.0, 'Novelty': 0.0015710919088766694}\n",
      "bbb_martins_50 train1\n",
      "Metrics before  coversion:\n",
      "{'valid': 1.0, 'unique@1000': 0.9943661971830986, 'unique@10000': 0.9943661971830986, 'FCD/Test': -5.826450433232822e-13, 'SNN/Test': 1.0, 'Frag/Test': 1, 'Scaf/Test': 1, 'FCD/TestSF': 19.4438681661209, 'SNN/TestSF': 0.3730856233761764, 'Frag/TestSF': -0.10547896046759009, 'Scaf/TestSF': 0.024943099994351514, 'IntDiv': 0.8849596139292613, 'IntDiv2': 0.8690461844981707, 'Filters': 0.780281690140845, 'logP': 0.0, 'SA': 0.0, 'QED': 0.0, 'weight': 0.0, 'Novelty': 0.0}\n",
      "Metrics after  coversion:\n",
      "{'valid': 1.0, 'unique@1000': 0.9929577464788732, 'unique@10000': 0.9929577464788732, 'FCD/Test': 2.842170943040401e-14, 'SNN/Test': 1.0, 'Frag/Test': 1, 'Scaf/Test': 1, 'FCD/TestSF': 19.3893554839848, 'SNN/TestSF': 0.3731135540497555, 'Frag/TestSF': -0.10537666170841709, 'Scaf/TestSF': 0.024943099994351514, 'IntDiv': 0.884956095039407, 'IntDiv2': 0.8690450632524, 'Filters': 0.780281690140845, 'logP': 0.0, 'SA': 0.0, 'QED': 0.0, 'weight': 0.0, 'Novelty': 0.0}\n",
      "cyp1a2_veith_50 train1\n",
      "Metrics before  coversion:\n",
      "{'valid': 1.0, 'unique@1000': 1.0, 'unique@10000': 1.0, 'FCD/Test': 1.4210854715202004e-14, 'SNN/Test': 1.0, 'Frag/Test': 1, 'Scaf/Test': 1, 'FCD/TestSF': 8.68471033752347, 'SNN/TestSF': 0.4536928006264634, 'Frag/TestSF': -0.5124778390566402, 'Scaf/TestSF': 0.09790371189976232, 'IntDiv': 0.87820185611965, 'IntDiv2': 0.8694200489448817, 'Filters': 0.7891867333030441, 'logP': 0.0, 'SA': 0.0, 'QED': 0.0, 'weight': 0.0, 'Novelty': 0.0}\n",
      "Metrics after  coversion:\n",
      "{'valid': 1.0, 'unique@1000': 1.0, 'unique@10000': 0.9997728305315765, 'FCD/Test': -2.2737367544323206e-13, 'SNN/Test': 1.0, 'Frag/Test': 1, 'Scaf/Test': 1, 'FCD/TestSF': 8.677946163865442, 'SNN/TestSF': 0.4536827068736964, 'Frag/TestSF': -0.5125003964003256, 'Scaf/TestSF': 0.09789178187938052, 'IntDiv': 0.8782031268701376, 'IntDiv2': 0.8694210478325712, 'Filters': 0.7891867333030441, 'logP': 0.0, 'SA': 0.0, 'QED': 0.0, 'weight': 0.0, 'Novelty': 0.0}\n",
      "cyp2c19_veith_50 train1\n",
      "Metrics before  coversion:\n",
      "{'valid': 1.0, 'unique@1000': 1.0, 'unique@10000': 1.0, 'FCD/Test': -1.7053025658242404e-13, 'SNN/Test': 1.0, 'Frag/Test': 1, 'Scaf/Test': 1, 'FCD/TestSF': 9.42857922145528, 'SNN/TestSF': 0.4480696106848479, 'Frag/TestSF': -0.4739719471863224, 'Scaf/TestSF': 0.07032037444800865, 'IntDiv': 0.8781976350681175, 'IntDiv2': 0.8690361392317498, 'Filters': 0.7847958493119783, 'logP': 0.0, 'SA': 0.0, 'QED': 0.0, 'weight': 0.0, 'Novelty': 0.0}\n",
      "Metrics after  coversion:\n",
      "{'valid': 1.0, 'unique@1000': 1.0, 'unique@10000': 0.9997744191292578, 'FCD/Test': -4.121147867408581e-13, 'SNN/Test': 1.0, 'Frag/Test': 1, 'Scaf/Test': 1, 'FCD/TestSF': 9.426026988838913, 'SNN/TestSF': 0.44805858716009006, 'Frag/TestSF': -0.4739885257399443, 'Scaf/TestSF': 0.07029569630215382, 'IntDiv': 0.8782001839166462, 'IntDiv2': 0.8690383865774167, 'Filters': 0.7847958493119783, 'logP': 0.0, 'SA': 0.0, 'QED': 0.0, 'weight': 0.0, 'Novelty': 0.0}\n",
      "herg_karim_50 train1\n",
      "Metrics before  coversion:\n",
      "{'valid': 1.0, 'unique@1000': 1.0, 'unique@10000': 1.0, 'FCD/Test': -1.9895196601282805e-13, 'SNN/Test': 1.0, 'Frag/Test': 1, 'Scaf/Test': 1, 'FCD/TestSF': 12.292042602097979, 'SNN/TestSF': 0.38609590720982184, 'Frag/TestSF': -0.5475403186125658, 'Scaf/TestSF': 0.01632947815994945, 'IntDiv': 0.8667687113607576, 'IntDiv2': 0.8592294261235195, 'Filters': 0.8610284742881428, 'logP': 0.0, 'SA': 0.0, 'QED': 0.0, 'weight': 0.0, 'Novelty': 0.024436889077773055}\n",
      "Metrics after  coversion:\n",
      "{'valid': 1.0, 'unique@1000': 0.999, 'unique@10000': 0.9946876328091798, 'FCD/Test': -4.263256414560601e-14, 'SNN/Test': 1.0, 'Frag/Test': 1, 'Scaf/Test': 1, 'FCD/TestSF': 12.25891536213706, 'SNN/TestSF': 0.3861358372682189, 'Frag/TestSF': -0.547506156935182, 'Scaf/TestSF': 0.016311225449419875, 'IntDiv': 0.8667364943491662, 'IntDiv2': 0.8591898771020612, 'Filters': 0.8610284742881428, 'logP': 7.549327834255075e-19, 'SA': 0.0, 'QED': 1.1795824741022784e-20, 'weight': 4.8315698139235636e-17, 'Novelty': 0.02627643665883358}\n",
      "lipophilicity_astrazeneca_50 train1\n",
      "Metrics before  coversion:\n",
      "{'valid': 1.0, 'unique@1000': 1.0, 'unique@10000': 1.0, 'FCD/Test': -2.8421709430404007e-13, 'SNN/Test': 1.0, 'Frag/Test': 1, 'Scaf/Test': 1, 'FCD/TestSF': 9.829001233793633, 'SNN/TestSF': 0.4317776018360845, 'Frag/TestSF': -0.6119188442457055, 'Scaf/TestSF': 0.05753227311080622, 'IntDiv': 0.868971554014153, 'IntDiv2': 0.8589942044000322, 'Filters': 0.8979591836734694, 'logP': 0.0, 'SA': 0.0, 'QED': 0.0, 'weight': 0.0, 'Novelty': 0.011564625850340135}\n",
      "Metrics after  coversion:\n",
      "{'valid': 1.0, 'unique@1000': 1.0, 'unique@10000': 1.0, 'FCD/Test': -8.526512829121202e-14, 'SNN/Test': 1.0, 'Frag/Test': 1, 'Scaf/Test': 1, 'FCD/TestSF': 9.830208398534197, 'SNN/TestSF': 0.4317776018360845, 'Frag/TestSF': -0.6119188442457055, 'Scaf/TestSF': 0.05751505045719152, 'IntDiv': 0.868971554014153, 'IntDiv2': 0.8589942044000322, 'Filters': 0.8979591836734694, 'logP': 0.0, 'SA': 0.0, 'QED': 0.0, 'weight': 0.0, 'Novelty': 0.011564625850340135}\n"
     ]
    }
   ],
   "source": [
    "current_smiles_datasets=['ames', 'bbb_martins', 'cyp1a2_veith', 'cyp2c19_veith','herg_karim','lipophilicity_astrazeneca']\n",
    "splits=['_50']\n",
    "device=torch.device('cpu')\n",
    "structural_statistic=['WL', 'nspdk','degree','cluster', 'spectral']#'common_substructures']\n",
    "\n",
    "metrics_type=['molecular']\n",
    "#leave it blank to compute all the structural structures \n",
    "metrics={}\n",
    "metrics2={}\n",
    "for generator in ['train1']:\n",
    "    for dataset_name in current_smiles_datasets:\n",
    "        for split in splits:\n",
    "                print(dataset_name+split, generator)\n",
    "                graphs,smiles  =get_data(dataset_name+split, return_smiles=True)\n",
    "                train1_smiles_before_conversion=smiles['train1_pos_smiles']+ smiles['train1_neg_smiles']\n",
    "                train1_graphs=list_of_smiles_to_nx_graphs(train1_smiles_before_conversion)\n",
    "                train1_smiles=list_of_nx_graphs_to_smiles(train1_graphs)          \n",
    "                print('Metrics before  coversion:')\n",
    "                metrics=get_all_metrics(gen=train1_smiles_before_conversion,train=train1_smiles_before_conversion,test=train1_smiles_before_conversion)\n",
    "                print(metrics)\n",
    "                print('Metrics after  coversion:')\n",
    "                try:\n",
    "                    metrics2=get_all_metrics(gen=train1_smiles,train=train1_smiles,test=train1_smiles)\n",
    "                    print(metrics2)\n",
    "                except:\n",
    "                    print('Error when computing the metrics for the converted graphs')\n",
    "                    continue"
   ]
  },
  {
   "cell_type": "code",
   "execution_count": null,
   "metadata": {},
   "outputs": [],
   "source": []
  },
  {
   "cell_type": "markdown",
   "metadata": {},
   "source": [
    "Although,  making some molecular  properties more explicit, would solve the errors , I still found some variability in  the  converted data as it is the case for herg_karim_50. See: 'logP': 7.549327834255075e-19, 'SA': 0.0, 'QED': 1.1795824741022784e-20, 'weight': 4.8315698139235636e-17 which were epected to be eequal to 0. \n",
    "Conclusion:  always use the original smiles in your molecular  evaluation and not their smi=>mol=>nx=>mol=>smi equivalent\n"
   ]
  },
  {
   "cell_type": "code",
   "execution_count": null,
   "metadata": {},
   "outputs": [],
   "source": []
  }
 ],
 "metadata": {
  "kernelspec": {
   "display_name": "Python 3",
   "language": "python",
   "name": "python3"
  },
  "language_info": {
   "codemirror_mode": {
    "name": "ipython",
    "version": 3
   },
   "file_extension": ".py",
   "mimetype": "text/x-python",
   "name": "python",
   "nbconvert_exporter": "python",
   "pygments_lexer": "ipython3",
   "version": "3.9.6"
  },
  "orig_nbformat": 4,
  "vscode": {
   "interpreter": {
    "hash": "06a8be8316eed2f6558da5cb68a9abde15f0a0ec61139bf81bc916fa7c6839e3"
   }
  }
 },
 "nbformat": 4,
 "nbformat_minor": 2
}
