{
 "cells": [
  {
   "cell_type": "code",
   "execution_count": 3,
   "metadata": {},
   "outputs": [],
   "source": [
    "import warnings\n",
    "warnings.filterwarnings(\"ignore\")\n",
    "import torch\n",
    "import networkx as nx\n",
    "import os \n",
    "import sys\n",
    "from evaluation.mol_structure import list_of_smiles_to_nx_graphs\n",
    "#from evaluation.mol_structure import draw_one_mol, draw_graphs\n",
    "#from evaluate import evaluate\n",
    "#import utils.graph_generators as gen\n",
    "\n",
    "current = os.getcwd()\n",
    "parent = os.path.dirname(current)\n",
    "sys.path.append(parent)\n",
    "import rdkit\n",
    "import numpy as np\n",
    "from evaluation.utils import get_data\n",
    "import json\n",
    "from evaluation.moses.metrics.utils  import logP, QED, SA\n",
    "from rdkit import Chem\n",
    "import pandas as pd\n",
    "from rdkit import RDLogger \n"
   ]
  },
  {
   "cell_type": "code",
   "execution_count": 4,
   "metadata": {},
   "outputs": [
    {
     "data": {
      "text/plain": [
       "defaultdict(<function __main__.composition.<locals>.<lambda>()>,\n",
       "            {8: 1, 6: 19, 7: 1, 1: 29})"
      ]
     },
     "execution_count": 4,
     "metadata": {},
     "output_type": "execute_result"
    }
   ],
   "source": [
    "from rdkit import Chem\n",
    "from rdkit.Chem import GetFormalCharge\n",
    "from collections  import defaultdict\n",
    "import rdkit\n",
    "smiles='O[C@@](CCN1CCCC1)(c1ccccc1)C1CCCCC1'\n",
    "m = Chem.MolFromSmiles(smiles)\n",
    "def composition(molecule):\n",
    "    \"\"\"Get the composition of an RDKit molecule:\n",
    "    Atomic counts, including hydrogen atoms, and any charge.\n",
    "    For example, fluoride ion (chemical formula F-, SMILES string [F-])\n",
    "    returns {9: 1, 0: -1}.\n",
    "\n",
    "    :param molecule: The molecule to analyze\n",
    "    :type some_input: An RDKit molecule\n",
    "    :rtype: A dictionary.\n",
    "    \"\"\"\n",
    "    # Check that there is a valid molecule\n",
    "    if molecule:\n",
    "\n",
    "        # Add hydrogen atoms--RDKit excludes them by default\n",
    "        molecule_with_Hs = Chem.AddHs(molecule)\n",
    "        comp = defaultdict(lambda: 0)\n",
    "\n",
    "        # Get atom counts\n",
    "        for atom in molecule_with_Hs.GetAtoms():\n",
    "            comp[atom.GetAtomicNum()] += 1\n",
    "\n",
    "        # If charged, add charge as \"atomic number\" 0\n",
    "        charge = GetFormalCharge(molecule_with_Hs)\n",
    "        if charge != 0:\n",
    "            comp[0] = charge\n",
    "        return comp\n",
    "composition(m)"
   ]
  },
  {
   "cell_type": "code",
   "execution_count": 26,
   "metadata": {},
   "outputs": [],
   "source": [
    "smiles='C[C@@H]1O[C@H](O[C@@H]2CC[C@@]3(C=O)[C@H]4CC[C@@]5(C)[C@@H](C6=CC(=O)OC6)CC[C@@]5(O)[C@@H]4CC[C@]3(O)C2)C[C@H](O)[C@@H]1O'\n",
    "smiles='C[SiH2][Cu]'\n",
    "smiles='F'\n",
    "smiles='CN[Cu](C)([Cu])([SeH])P[Mn].C[IH]N.C[Ni](N)O.N.NP.PI.P[Cu].P[Ni].[CaH][Pt].[Fe][Pt].[Fe][Se][Ni].[K][Pt].[Li]C.[Ni].[Pt]'\n",
    "m = Chem.MolFromSmiles(smiles)\n"
   ]
  },
  {
   "cell_type": "code",
   "execution_count": 27,
   "metadata": {},
   "outputs": [
    {
     "data": {
      "image/png": "[encoded data removed]",
      "text/plain": [
       "<rdkit.Chem.rdchem.Mol at 0x13a594e95b0>"
      ]
     },
     "execution_count": 27,
     "metadata": {},
     "output_type": "execute_result"
    }
   ],
   "source": [
    "m"
   ]
  },
  {
   "cell_type": "code",
   "execution_count": 13,
   "metadata": {},
   "outputs": [
    {
     "data": {
      "text/plain": [
       "['BytesIO',\n",
       " 'Chem',\n",
       " 'ContourAndDrawGaussians',\n",
       " 'ContourAndDrawGrid',\n",
       " 'ContourParams',\n",
       " 'DrawMoleculeACS1996',\n",
       " 'DrawMorganBit',\n",
       " 'DrawMorganBits',\n",
       " 'DrawMorganEnv',\n",
       " 'DrawMorganEnvs',\n",
       " 'DrawRDKitBit',\n",
       " 'DrawRDKitBits',\n",
       " 'DrawRDKitEnv',\n",
       " 'DrawRDKitEnvs',\n",
       " 'DrawingOptions',\n",
       " 'FingerprintEnv',\n",
       " 'IPythonConsole',\n",
       " 'IntStringMap',\n",
       " 'InteractiveRenderer',\n",
       " 'MeanBondLength',\n",
       " 'MolDraw2D',\n",
       " 'MolDraw2DCairo',\n",
       " 'MolDraw2DSVG',\n",
       " 'MolDrawOptions',\n",
       " 'MolDrawing',\n",
       " 'MolToACS1996SVG',\n",
       " 'MolToFile',\n",
       " 'MolToImage',\n",
       " 'MolToImageFile',\n",
       " 'MolToMPL',\n",
       " 'MolToQPixmap',\n",
       " 'MolToSVG',\n",
       " 'MolsToGridImage',\n",
       " 'MolsToImage',\n",
       " 'PrepareAndDrawMolecule',\n",
       " 'PrepareMolForDrawing',\n",
       " 'RDConfig',\n",
       " 'ReactionToImage',\n",
       " 'SetACS1996Mode',\n",
       " 'SetComicMode',\n",
       " 'SetDarkMode',\n",
       " 'SetMonochromeMode',\n",
       " 'ShowMol',\n",
       " 'UpdateDrawerParamsFromJSON',\n",
       " 'UpdateMolDrawOptionsFromJSON',\n",
       " '_MolsToGridImage',\n",
       " '_MolsToGridSVG',\n",
       " '__builtins__',\n",
       " '__cached__',\n",
       " '__doc__',\n",
       " '__file__',\n",
       " '__loader__',\n",
       " '__name__',\n",
       " '__package__',\n",
       " '__path__',\n",
       " '__spec__',\n",
       " '_bivariate_normal',\n",
       " '_createCanvas',\n",
       " '_drawerToImage',\n",
       " '_getCanvas',\n",
       " '_getMorganEnv',\n",
       " '_getRDKitEnv',\n",
       " '_legacyMolToFile',\n",
       " '_legacyMolToImage',\n",
       " '_legacyReactionToImage',\n",
       " '_moltoSVG',\n",
       " '_moltoimg',\n",
       " '_sip_available',\n",
       " 'calcAtomGaussians',\n",
       " 'find_spec',\n",
       " 'map_indexing_suite_IntStringMap_entry',\n",
       " 'namedtuple',\n",
       " 'numpy',\n",
       " 'os',\n",
       " 'rdBase',\n",
       " 'rdDepictor',\n",
       " 'rdMolDraw2D',\n",
       " 'shouldKekulize',\n",
       " 'warnings']"
      ]
     },
     "execution_count": 13,
     "metadata": {},
     "output_type": "execute_result"
    }
   ],
   "source": [
    "dir(Draw)"
   ]
  },
  {
   "cell_type": "code",
   "execution_count": 2,
   "metadata": {},
   "outputs": [],
   "source": [
    "def get_data(name, path='data/smiles/',return_smiles=False):\n",
    "    splits={}\n",
    "    RDLogger.EnableLog('rdApp.*')\n",
    "    RDLogger.DisableLog('rdApp.*')  \n",
    "    split_names=[ 'train1_pos_smiles','train1_neg_smiles','test_smiles','test_targets' ]\n",
    "    for i,split in enumerate(split_names):\n",
    "        exact_path=path+'{}/{}.txt'.format(name, split)\n",
    "        #from data.smiles.carcinogens import test_smiles\n",
    "        current_list = []\n",
    "        with open(exact_path) as my_file:\n",
    "         for line in my_file:\n",
    "            current_list.append(line.strip())\n",
    "        splits[split]=current_list     \n",
    "    return splits\n",
    "    "
   ]
  },
  {
   "cell_type": "code",
   "execution_count": 102,
   "metadata": {},
   "outputs": [],
   "source": [
    "def get_data(name, path='data/smiles/',return_smiles=False):\n",
    "    \n",
    "    RDLogger.EnableLog('rdApp.*')\n",
    "    RDLogger.DisableLog('rdApp.*')  \n",
    "   \n",
    "    exact_path1=path+'{}/{}.txt'.format(name, split)\n",
    "    exact_path2=path+'{}/{}.txt'.format(name, split)\n",
    "    #from data.smiles.carcinogens import test_smiles\n",
    "    smiles = []\n",
    "    with open(exact_path) as my_file:\n",
    "        for line in my_file:\n",
    "         smiles.append(line.strip())\n",
    "    with open(exact_path) as my_file:\n",
    "        for line in my_file:\n",
    "         smiles.append(line.strip())\n",
    "    return smiles\n",
    "    "
   ]
  },
  {
   "cell_type": "code",
   "execution_count": 3,
   "metadata": {},
   "outputs": [],
   "source": [
    "current_smiles_datasets=['ames', 'bbb_martins', 'cyp1a2_veith', 'cyp2c19_veith','herg_karim','lipophilicity_astrazeneca']\n",
    "dataset_name='lipophilicity_astrazeneca'\n",
    "splits=get_data(dataset_name ,return_smiles=True)"
   ]
  },
  {
   "cell_type": "code",
   "execution_count": null,
   "metadata": {},
   "outputs": [],
   "source": []
  },
  {
   "cell_type": "code",
   "execution_count": null,
   "metadata": {},
   "outputs": [],
   "source": []
  },
  {
   "cell_type": "code",
   "execution_count": null,
   "metadata": {},
   "outputs": [],
   "source": []
  },
  {
   "cell_type": "code",
   "execution_count": 63,
   "metadata": {},
   "outputs": [],
   "source": [
    "        \n",
    "current_smiles_datasets=['ames', 'bbb_martins', 'cyp1a2_veith', 'cyp2c19_veith','herg_karim','lipophilicity_astrazeneca']\n",
    "dataset_name='lipophilicity_astrazeneca'\n",
    "splits=get_data(dataset_name ,return_smiles=True)\n"
   ]
  },
  {
   "cell_type": "code",
   "execution_count": 94,
   "metadata": {},
   "outputs": [
    {
     "data": {
      "text/plain": [
       "['CNc1cccc(CCCc2ccc(C[C@H](NC(=O)c3c(Cl)cccc3Cl)C(=O)O)s2)n1',\n",
       " 'CC(C)NC(=O)c1cc2c(-n3ccc(C(F)(F)F)n3)c(-c3cncc(C(=O)O)c3)cnc2[nH]1',\n",
       " 'C(=C/c1nn[nH]n1)\\\\c1ccccc1',\n",
       " 'COc1ccc2nnc(=O)n(CCN3CCC(NCc4ccc5c(n4)NC(=O)CO5)CC3)c2c1',\n",
       " 'O=S(=O)(NCCNc1ncccn1)c1cccc2cnccc12',\n",
       " 'CCC(c1nc2ncccc2c(=O)n1Cc1ccccc1)N(CCCN)C(=O)c1ccc(C)cc1',\n",
       " 'CC1Sc2c(C(=O)O)c(=O)c3cc(F)c(N4CCNCC4)cc3n21',\n",
       " 'O=C(O)CN1C(=O)C(NC(=O)c2cc3sc(Cl)c(Cl)c3[nH]2)Cc2ccccc21',\n",
       " 'C[C@H]1CN(c2c(F)c(N)c3c(=O)c(C(=O)O)cn(C4CC4)c3c2F)C[C@@H](C)N1',\n",
       " 'CCC(C)NC(=O)c1c(C)nn(-c2ccccc2)c1NS(=O)(=O)c1ccc(C)cc1',\n",
       " 'O=C(N[C@@H](Cc1ccc(C#CCCNc2ccccn2)cc1)C(=O)O)c1c(Cl)cccc1Cl',\n",
       " 'CCN1CCCC1CNC(=O)c1cc(S(N)(=O)=O)ccc1OC',\n",
       " 'CC[C@H]1CN(Cc2cc(Cl)ccc2OCC(=O)O)CCN1S(=O)(=O)c1ccccc1',\n",
       " 'O=c1cc(N2CCOCC2)oc2cc(O)ccc12',\n",
       " 'CCC1(C)CC(=O)NC1=O',\n",
       " 'CNc1cccc(CCCc2ccc(C[C@H](NC(=O)c3c(Cl)cccc3Cl)C(=O)O)cc2)n1',\n",
       " 'N#Cc1ccc2ccc(=O)n(CCN3CC[C@H](NCc4ccc5c(n4)NC(=O)CO5)[C@H](O)C3)c2c1',\n",
       " 'Nc1ccnc(-c2cccnc2)n1',\n",
       " 'CN(CCOc1ccc(NS(C)(=O)=O)cc1)CCc1ccc(NS(C)(=O)=O)cc1',\n",
       " 'CC1CCc2cc(F)cc3c(=O)c(C(=O)O)cn1c23',\n",
       " 'CC(=O)c1ccc(S(=O)(=O)NC(=O)NC2CCCCC2)cc1',\n",
       " 'CC(C)Cc1ccc([C@H](C)C(=O)NS(C)(=O)=O)cc1',\n",
       " 'CS(=O)(=O)c1ccc(-c2cc(Cl)ccc2OCC(=O)O)c(Cl)c1',\n",
       " 'CC(C)(N)C(=O)N[C@H](Cc1c[nH]c2ccccc12)C(=O)N[C@H](Cc1c[nH]c2ccccc12)NC=O',\n",
       " 'O=C(Nc1cccc(-c2nnn[nH]2)c1)c1cc(O)cc(C(F)(F)F)c1',\n",
       " 'CN1C2CCC1CC(OC(=O)C(CO)c1ccccc1)C2',\n",
       " 'CC(C)C(NC(=O)Cn1c(-c2ccccc2)ccc(NC(=O)OCc2ccc(C(=O)O)cc2)c1=O)C(=O)C(F)(F)F',\n",
       " 'CC(C)(C)c1cc(O)n2nc(N)nc2n1',\n",
       " 'Cc1cn([C@H]2CCCN([C@H](C)c3ccc(C(=O)O)c(Oc4cccc(Cl)c4)c3)C2)c(=O)[nH]c1=O',\n",
       " 'CN1CCN(C(=O)c2cccc(Cc3n[nH]c(=O)c4ccccc34)c2)CC1',\n",
       " 'COc1ccc2c(C)nc(=O)n(CCN3CCC(NCc4cc5c(cn4)OCCO5)CC3)c2c1',\n",
       " 'N=C(N)Nc1ccc(Cl)c(Cl)c1',\n",
       " 'CCC(CC)NC(=O)c1cnn(-c2ccccc2)c1NS(=O)(=O)c1ccc(-c2cnco2)cc1',\n",
       " 'CCC(c1ccccn1)n1[nH]c(=O)c2nc3cc(Cl)ccc3c(O)c2c1=O',\n",
       " 'CCS(=O)(=O)c1ccc(Oc2c(C)n(CC(=O)O)c3ccc(C(F)(F)F)cc23)cc1',\n",
       " 'CCN(CC)CCCNCc1cc(Cl)c2cccnc2c1O',\n",
       " 'CCS(=O)(=O)c1ccc(-c2cc(Cl)ccc2OCC(=O)O)c(C(F)(F)F)c1',\n",
       " 'CCC(c1nc2nccnc2c(=O)n1Cc1ccccc1)N(CCCN)C(=O)c1ccc(C)cc1',\n",
       " 'Cc1nn(-c2ccc(F)cc2)c(NS(=O)(=O)c2ccc(C#N)cc2)c1C(=O)N[C@@H](C)C(C)(C)C',\n",
       " 'C[C@H]([C@H](O)c1ccc(O)cc1)N1CCC(O)(c2ccccc2)CC1',\n",
       " 'O=C(O)c1ccc2[nH]c(C(F)(F)F)nc2c1',\n",
       " 'CC(C)(C)Cn1c(CN2C(=O)CC3(CCNCC3)C2=O)cc2cnc(C#N)nc21',\n",
       " 'NS(=O)(=O)c1cc2c(cc1Cl)NCNS2(=O)=O',\n",
       " 'Cc1ccc2c(c1)c(S(=O)(=O)c1ccc(Cl)cc1)c(C)n2CC(=O)O',\n",
       " 'COc1ccc2ncc(=O)n(CCN3CC[C@@H](NCc4cc5c(cn4)OCCO5)[C@@H](O)C3)c2c1',\n",
       " 'O=C(O)c1cc2cc(OCc3ccccc3)ccc2[nH]1',\n",
       " '[O-][S+](c1ccccc1)c1ccc2nnnn2n1',\n",
       " 'Cc1ccc(S(=O)(=O)N2N=Cc3ccccc3B2O)cc1',\n",
       " 'CC(=O)NC[C@H]1CN(c2ccc(N3CCOCC3)c(F)c2)C(=O)O1',\n",
       " 'COc1cccc(COCC(O)CN2CCC(C(N)=O)CC2)c1',\n",
       " 'NC1C2CN(c3nc4c(cc3F)c(=O)c(C(=O)O)cn4-c3ccc(F)cc3F)CC12',\n",
       " 'Cc1cccc(Br)c1C(=O)N[C@@H](Cc1ccc(NC(=O)c2c(Cl)cccc2Cl)cc1)C(=O)O',\n",
       " 'CN1CCN(CC(=O)Nc2c(C#N)cnn2-c2ccccc2)CC1',\n",
       " 'CC(C)NCC(O)COc1ccc(COCCOC(C)C)cc1',\n",
       " 'CC(C)(C)NC[C@H](O)COc1nsnc1N1CCOCC1',\n",
       " 'COc1nc(N)nc2c1ncn2[C@@H]1O[C@H](CO)[C@@H](O)[C@H]1O',\n",
       " 'N#Cc1cc(F)c(Cl)cc1O[C@H](CCN)c1ccccc1',\n",
       " 'CCOc1nc2cccc(C(=O)O)c2n1Cc1ccc(-c2ccccc2-c2nnn[nH]2)cc1',\n",
       " 'Cc1cn([C@H]2CCCN([C@@H](CC(C)C)c3ccc(C(=O)O)c(Oc4cccc(Cl)c4)c3)C2)c(=O)[nH]c1=O',\n",
       " 'Nc1ncnc2c1ncn2[C@@H]1O[C@H](CSCCCNC(=O)NCc2ccccc2)[C@@H](O)[C@H]1O',\n",
       " 'COc1ccc(-c2cc(C(F)(F)F)ccc2OCC(=O)O)cc1',\n",
       " 'CCCCc1ncc(/C=C(\\\\Cc2cccs2)C(=O)O)n1Cc1ccc(C(=O)O)cc1',\n",
       " 'CCn1cc(C(=O)O)c(=O)c2cc(F)c(N3CCNCC3)cc21',\n",
       " 'Cc1c(CC(=O)O)c2cc(F)ccc2n1S(=O)(=O)c1ccc(S(C)(=O)=O)cc1',\n",
       " 'CC(C)NCC(O)COc1cccc2[nH]ccc12',\n",
       " 'CC(C)(C)OC(=O)N[C@@H](Cc1ccccc1)C(=O)O',\n",
       " 'CCS(=O)(=O)c1ccc(-c2cc(C(F)(F)F)ccc2O[C@H](C)C(=O)O)c(C)c1',\n",
       " 'N#Cc1cc(Cl)ccc1O[C@H](CCN)c1ccccc1',\n",
       " 'CN1CCC(NC(=O)c2ccc(Oc3ccc(C#C[C@]4(O)CN5CCC4CC5)cc3)cc2)CC1',\n",
       " 'CS(=O)(=O)c1ccc(C(=O)Nc2ccc(F)cc2)c[n+]1[O-]',\n",
       " 'CCN1CCC[C@H]1CNC(=O)c1cc(S(N)(=O)=O)ccc1OC',\n",
       " 'O=C(N[C@H]1CN2CCC1CC2)c1ccc(-c2ccccn2)s1',\n",
       " 'c1ccc2nc(C3=NCCN3)ccc2c1',\n",
       " 'CN(C)c1ncnc2nc[nH]c12',\n",
       " 'Cc1cccc(C)c1OC[C@@H](C)N',\n",
       " 'Cc1ccc(S(=O)(=O)NC(=O)NN2CCCCCC2)cc1',\n",
       " 'CCN(CC)C(=O)c1ccc(C(c2cccc3cccnc23)N2CCNCC2)cc1',\n",
       " 'CCOC(=O)[C@H](CCc1ccccc1)N[C@@H](C)C(=O)N1[C@H](C(=O)O)C[C@@H]2CCC[C@@H]21',\n",
       " 'C[N+]1(C)[C@H]2C[C@H](OC(=O)C(O)(c3cccs3)c3cccs3)C[C@@H]1[C@H]1O[C@@H]21',\n",
       " 'Oc1nc2ccccc2c(O)c1-c1ccccc1',\n",
       " 'CC1=C(C(=O)O)N2C(=O)[C@@H](NC(=O)[C@H](N)c3ccc(O)cc3)[C@H]2SC1',\n",
       " 'O=C(O)Cc1csc(-c2ccc(Cl)cc2)n1',\n",
       " 'CN1[C@H]2CC[C@@H]1C[C@H](OC(=O)C(CO)c1ccccc1)C2',\n",
       " 'NS(=O)(=O)c1cc(Cl)c(Cl)c(S(N)(=O)=O)c1',\n",
       " 'C[C@@](Cc1ccc(O)c(O)c1)(NN)C(=O)O',\n",
       " 'CN(C)c1cccc2c(S(=O)(=O)N(C)CC(=O)O)cccc12',\n",
       " 'Cc1ccc(S(=O)(=O)Nc2c(C(=O)N[C@@H](C)C(C)(C)C)c(C)nn2C2CCN(C)CC2)cc1',\n",
       " 'CCn1c(-c2nonc2N)nc2c(C#CC(C)(C)O)ncc(OCC3CCCNC3)c21',\n",
       " 'O=C(COc1ccccc1)N1CCOCC1',\n",
       " 'CCN(C(=O)Cc1ccc(S(C)(=O)=O)cc1)C1CCN(CCC(c2ccccc2)N2CCC(C(C)=O)CC2)CC1',\n",
       " 'COc1ccccc1CCNCc1ccc(CCNC[C@H](O)c2ccc(O)c3[nH]c(=O)sc23)cc1',\n",
       " 'Cc1ccc(S(=O)(=O)Nc2c(C(=O)NC3CCOCC3)c(C)nn2-c2ccccc2)cc1',\n",
       " 'CC(=O)CCCCn1c(=O)c2c(ncn2C)n(C)c1=O',\n",
       " 'CCC(c1nc2ccsc2c(=O)n1Cc1cccnc1)N(CCCN)C(=O)c1ccc(C)cc1',\n",
       " 'NC1=NC(c2cccs2)Nc2cccc(F)c21',\n",
       " 'NC(=O)N1c2ccccc2C[C@H](O)c2ccccc21',\n",
       " 'NC(Cc1c[nH]c2ccccc12)C(=O)O',\n",
       " 'CNc1cccc(CCOc2ccc(C[C@H](NC(=O)c3ccccc3Cl)C(=O)O)cc2)n1',\n",
       " 'CN[C@@H](C)C(=O)N[C@H](C(=O)N[C@H]1CCN(C(=O)Cc2ccccc2)C1)C1CCCCC1',\n",
       " 'Cc1nc(C(=O)N2CCCC3(CCN(Cc4ccc(Cl)cc4)CC3)C2)cs1',\n",
       " 'Cc1c(Sc2ccc(Cl)cc2)c2c(Cl)nccc2n1CC(=O)O',\n",
       " 'O=C(O)COc1ccc(Cl)cc1CN1CCN(S(=O)(=O)c2ccc(F)cc2)CC1',\n",
       " 'O=C(O)c1cn(C2CC2)c2cc(N3CCN(C(=O)CC[N+](=O)[O-])CC3)c(F)cc2c1=O',\n",
       " 'COCC(C)n1nc(C)c(C(=O)N[C@@H](C)C(C)(C)C)c1NS(=O)(=O)c1ccc(C)cc1',\n",
       " 'COc1nc(Br)cnc1NS(=O)(=O)c1ccc(Cl)s1',\n",
       " 'CN(CCCc1ccccc1)S(=O)(=O)c1cc(C(=O)N2CCc3ccc(S(=O)(=O)NCCc4ccccc4)cc3C2)c(O)c(O)c1O',\n",
       " 'N#Cc1ccc(F)c(-c2cc(C(F)(F)F)ccc2OCC(=O)O)c1',\n",
       " 'O=c1[nH]n(Cc2ccncc2)c(=O)c2c(=O)c3ccc(Cl)cc3[nH]c12',\n",
       " 'O=C(N[C@@H](Cc1ccc(OCCc2ccc3c(n2)NCCC3)cc1)C(=O)O)c1c(Cl)cccc1Cl',\n",
       " 'CCCNC(=O)NS(=O)(=O)c1ccc(Cl)cc1',\n",
       " 'COc1cc(OC)c(S(=O)(=O)N2c3ccccc3CCC2C)cc1NC(=O)CCc1nn[nH]n1',\n",
       " 'O=C(c1cc(Cc2n[nH]c(=O)c3ccccc23)ccc1F)N1CCCNCC1',\n",
       " 'CCOc1ccc(CCNCCCSCCNC[C@H](O)c2ccc(O)c3[nH]c(=O)sc23)cc1',\n",
       " 'Cc1ccc2c(c1)c(-c1ccnc3c(S(C)(=O)=O)cccc13)c(C)n2CC(=O)O',\n",
       " 'CCc1c(C(=O)NC2C3CC4CC(C3)CC2C4)cnn1-c1ccc(C(=O)O)cc1',\n",
       " 'O=C1CCCCCN1',\n",
       " 'CN1CCN(C(=O)[C@@H]2CCCC[C@H]2C(=O)NCC#N)CC1',\n",
       " 'Cc1oc(=O)oc1CN1CCN(c2cc3c(cc2F)c(=O)c(C(=O)O)c2n3C(C)S2)CC1',\n",
       " 'CCN(CC)c1ccc2cc(C(=O)O)c(=O)oc2c1',\n",
       " 'COC[C@H](C)Oc1cc(Oc2ccccc2)cc(C(=O)Nc2ccc(C(=O)O)cn2)c1',\n",
       " 'COC1/C=C/OC2(C)Oc3c(C)c(O)c4c(c3C2=O)C(=O)C=C(NC(=O)/C(C)=C\\\\C=C\\\\C(C)C(O)C(C)C(O)C(C)C(OC(C)=O)C1C)C4=O',\n",
       " 'N[C@@H](Cc1ccc(F)cc1)C(=O)O',\n",
       " 'Nc1nc2cc3c(cc2s1)CCN(Cc1cnc[nH]1)CC3',\n",
       " 'O=c1c2ccccc2nc2n1CCO2',\n",
       " 'CCN1C(=O)NC(c2ccccc2)C1=O',\n",
       " 'CC1CN(Cc2cc(Cl)ccc2OCC(=O)O)CCN1S(=O)(=O)c1ccccc1',\n",
       " 'NS(=O)(=O)c1cc(C2(O)NC(=O)c3ccccc32)ccc1Cl',\n",
       " 'Cc1c(Oc2ccc(Cl)cc2)c2c(NS(C)(=O)=O)cccc2n1CC(=O)O',\n",
       " 'COc1cc(OC)c(S(=O)(=O)N2c3ccccc3Oc3ccccc32)cc1NC(=O)CCC(=O)O',\n",
       " 'O=C(Nc1cccc(-c2nnn[nH]2)c1)c1cc(F)cc2[nH]cnc12',\n",
       " 'Cc1nc(C(=O)N2CCCC3(CCN(Cc4ccccc4)CC3)C2)cs1',\n",
       " 'N#Cc1ccc(C(=O)N2CCC3(CC2)N=C(N)c2c(F)ccc(F)c2N3)cn1',\n",
       " 'COc1ccc2ncc(=O)n(CCN3CC[C@@H](NCc4cc5c(cn4)OCCO5)[C@H](O)C3)c2c1',\n",
       " 'COc1ccc(OC)c(C(O)CNC(=O)CN)c1',\n",
       " 'COc1cccc2c(-c3c(C)n(CC(=O)O)c4ccc(C)cc34)ccnc12',\n",
       " 'O=C(N[C@@H](Cc1ccc(N2CCN(c3ccccc3)CC2)cc1)C(=O)O)c1c(Cl)cccc1Cl',\n",
       " 'Cc1cc(NS(=O)(=O)c2ccc(N)cc2)no1',\n",
       " 'O=C(N[C@@H](Cc1cccc(OCCCNc2ccccn2)c1)C(=O)O)c1c(Cl)cccc1Cl',\n",
       " 'CCCN(CCC)CCc1cccc2c1CC(=O)N2',\n",
       " 'CC(=O)O[C@H]1CC[C@]2(C=O)[C@H]3CC[C@]4(C)[C@@H](C5=CC(=O)OC5)CC[C@]4(O)[C@@H]3CC[C@]2(O)C1',\n",
       " 'Cc1nc(-c2ccc(OCC(C)C)c(C#N)c2)sc1C(=O)O',\n",
       " 'CC(=O)c1c(C)c2cnc(Nc3ccc(N4CCNCC4)cn3)nc2n(C2CCCC2)c1=O',\n",
       " 'N#CCNC(=O)[C@@H]1CCCC[C@H]1C(=O)N1CCCCC1',\n",
       " 'CCCCNC(=O)NS(=O)(=O)c1ccc(C)cc1',\n",
       " 'COc1cc(OC)c(S(=O)(=O)NCc2ccccc2N2CCCCC2)cc1NC(=O)CCC(=O)O',\n",
       " 'CNc1cccc(CCOc2ccc(C[C@H](NC(=O)c3ccc(F)cc3Cl)C(=O)O)cc2)n1',\n",
       " 'O=C(O)COc1ccc([N+](=O)[O-])cc1-c1ccccc1',\n",
       " 'Fc1ccc(-c2ncn(C3CCNCC3)c2-c2ccncc2)cc1',\n",
       " 'O=C1OCCN1N=Cc1ccc([N+](=O)[O-])o1',\n",
       " 'OCC[C@]1(c2ccc(Cl)c(Cl)c2)CCCNC1',\n",
       " 'COc1ccc(C[C@@H](C)NC[C@H](O)c2ccc(O)c(NC=O)c2)cc1',\n",
       " 'CC(NC(=O)C1(N)CCN(c2ncnc3[nH]ccc23)CC1)c1ccc(S(C)(=O)=O)cc1',\n",
       " 'Nc1nc(OCc2nccs2)nc2c1ncn2[C@@H]1O[C@H](CF)[C@@H](O)[C@H]1O',\n",
       " 'CC1CC(CN)CC(CO)C1',\n",
       " 'O=C(O)COc1ccc(-c2nccs2)cc1-c1ccccc1',\n",
       " 'CC1CN(S(=O)(=O)c2ccccc2)CCN1Cc1cc(Cl)ccc1OCC(=O)O',\n",
       " 'CCS(=O)(=O)c1ccc(-c2cc(Cl)ccc2OCC(=O)O)c(Cl)c1',\n",
       " 'CNC(=C[N+](=O)[O-])NCCSCc1ccc(CN(C)C)o1']"
      ]
     },
     "execution_count": 94,
     "metadata": {},
     "output_type": "execute_result"
    }
   ],
   "source": [
    "train1_pos_smiles,train1_neg_smiles, test_smiles, test_targets=splits['train1_pos_smiles'], splits['train1_neg_smiles'],splits['test_smiles'],splits['test_targets']\n",
    "test_pos=[x for x, y in zip(splits['test_smiles'],splits['test_targets']) if y=='1.0']\n",
    "test_neg=[x for x, y in zip(splits['test_smiles'],splits['test_targets']) if y=='0.0']\n",
    "test_neg"
   ]
  },
  {
   "cell_type": "code",
   "execution_count": 95,
   "metadata": {},
   "outputs": [
    {
     "data": {
      "text/plain": [
       "True"
      ]
     },
     "execution_count": 95,
     "metadata": {},
     "output_type": "execute_result"
    }
   ],
   "source": [
    "splits['test_targets'][0]=='1.0'\n"
   ]
  },
  {
   "cell_type": "code",
   "execution_count": 96,
   "metadata": {},
   "outputs": [],
   "source": [
    "\n",
    "data=train1_pos_smiles+test_pos\n",
    "mols =[Chem.MolFromSmiles(smiles)  for smiles in data]\n",
    "log_p =[logP(mol) for mol in mols]\n",
    "qeds= [QED(mol) for mol in mols]\n",
    "sas= [SA(mol) for mol in mols]\n",
    "d1={'smiles':data,'logP':log_p, 'qed':qeds,'SAS':sas}\n",
    "trial=pd.DataFrame(data=d1)\n",
    "trial.to_csv('{}_train1_pos.csv'.format(dataset_name), index=True)"
   ]
  },
  {
   "cell_type": "code",
   "execution_count": 97,
   "metadata": {},
   "outputs": [],
   "source": [
    "data2=train1_neg_smiles+test_neg\n",
    "mols =[Chem.MolFromSmiles(smiles)  for smiles in data2]\n",
    "log_p =[logP(mol) for mol in mols]\n",
    "qeds= [QED(mol) for mol in mols]\n",
    "sas= [SA(mol) for mol in mols]\n",
    "d2={'smiles':data2,'logP':log_p, 'qed':qeds,'SAS':sas}\n",
    "trial=pd.DataFrame(data=d2)\n",
    "trial.to_csv('{}_train1_neg.csv'.format(dataset_name), index=True)"
   ]
  },
  {
   "cell_type": "code",
   "execution_count": 98,
   "metadata": {},
   "outputs": [],
   "source": [
    "valid_idx_pos=list(np.arange (len(train1_pos_smiles), len(train1_pos_smiles)+ len(test_pos)))\n",
    "valid_idx_pos_=[str(i) for i in valid_idx_pos]\n",
    "valid_idx_neg=list(np.arange (len(train1_neg_smiles), len(train1_neg_smiles)+ len(test_neg)))\n",
    "valid_idx_neg_=[str(i) for i in valid_idx_neg]"
   ]
  },
  {
   "cell_type": "code",
   "execution_count": 99,
   "metadata": {},
   "outputs": [],
   "source": [
    "dict={\"valid_idxs\":valid_idx_pos_}\n",
    "with open(\"valid_idx_{}_train1_pos.json\".format(dataset_name), \"w\") as outfile:\n",
    "    json.dump(dict, outfile)\n"
   ]
  },
  {
   "cell_type": "code",
   "execution_count": 100,
   "metadata": {},
   "outputs": [],
   "source": [
    "dict={\"valid_idxs\":valid_idx_neg_}\n",
    "with open(\"valid_idx_{}_train1_neg.json\".format(dataset_name), \"w\") as outfile:\n",
    "    json.dump(dict, outfile)\n"
   ]
  },
  {
   "cell_type": "code",
   "execution_count": null,
   "metadata": {},
   "outputs": [],
   "source": []
  },
  {
   "cell_type": "code",
   "execution_count": null,
   "metadata": {},
   "outputs": [],
   "source": []
  },
  {
   "cell_type": "code",
   "execution_count": null,
   "metadata": {},
   "outputs": [],
   "source": []
  },
  {
   "cell_type": "code",
   "execution_count": null,
   "metadata": {},
   "outputs": [],
   "source": []
  },
  {
   "cell_type": "code",
   "execution_count": null,
   "metadata": {},
   "outputs": [],
   "source": []
  }
 ],
 "metadata": {
  "kernelspec": {
   "display_name": "Python 3",
   "language": "python",
   "name": "python3"
  },
  "language_info": {
   "codemirror_mode": {
    "name": "ipython",
    "version": 3
   },
   "file_extension": ".py",
   "mimetype": "text/x-python",
   "name": "python",
   "nbconvert_exporter": "python",
   "pygments_lexer": "ipython3",
   "version": "3.10.5"
  },
  "orig_nbformat": 4
 },
 "nbformat": 4,
 "nbformat_minor": 2
}
