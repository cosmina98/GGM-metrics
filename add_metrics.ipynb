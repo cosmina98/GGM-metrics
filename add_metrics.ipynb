{
 "cells": [
  {
   "cell_type": "code",
   "execution_count": 3,
   "metadata": {},
   "outputs": [],
   "source": [
    "import warnings\n",
    "warnings.filterwarnings(\"ignore\")\n",
    "from evaluation.mol_structure import list_of_smiles_to_nx_graphs\n",
    "from evaluation.mol_structure import draw_one_mol, draw_graphs\n",
    "from evaluate import evaluate\n",
    "#import utils.graph_generators as gen\n",
    "import torch\n",
    "import networkx as nx\n",
    "import os \n",
    "import sys\n",
    "current = os.getcwd()\n",
    "parent = os.path.dirname(current)\n",
    "sys.path.append(parent)\n",
    "import rdkit\n",
    "import numpy as np\n",
    "from evaluation.utils import get_data,  get_mock_data,remove_empty_graphs_and_targets,\\\n",
    "    get_generated_data,preprocess\n",
    "import json\n",
    "from evaluation.moses.metrics.utils  import logP, QED, SA\n",
    "from rdkit import Chem\n",
    "import pandas as pd\n",
    "from rdkit import RDLogger \n"
   ]
  },
  {
   "cell_type": "code",
   "execution_count": 4,
   "metadata": {},
   "outputs": [],
   "source": [
    "def get_data(name, path='data/smiles/',return_smiles=False):\n",
    "    splits={}\n",
    "    RDLogger.EnableLog('rdApp.*')\n",
    "    RDLogger.DisableLog('rdApp.*')  \n",
    "    split_names=[ 'train1_pos_smiles','train1_neg_smiles','test_smiles','test_targets' ]\n",
    "    for i,split in enumerate(split_names):\n",
    "        exact_path=path+'{}/{}.txt'.format(name, split)\n",
    "        #from data.smiles.carcinogens import test_smiles\n",
    "        current_list = []\n",
    "        with open(exact_path) as my_file:\n",
    "         for line in my_file:\n",
    "            current_list.append(line.strip())\n",
    "        splits[split]=current_list     \n",
    "    return splits\n",
    "    "
   ]
  },
  {
   "cell_type": "code",
   "execution_count": 63,
   "metadata": {},
   "outputs": [],
   "source": [
    "        \n",
    "current_smiles_datasets=['ames', 'bbb_martins', 'cyp1a2_veith', 'cyp2c19_veith','herg_karim','lipophilicity_astrazeneca']\n",
    "dataset_name='lipophilicity_astrazeneca'\n",
    "splits=get_data(dataset_name ,return_smiles=True)\n"
   ]
  },
  {
   "cell_type": "code",
   "execution_count": 64,
   "metadata": {},
   "outputs": [],
   "source": [
    "train1_pos_smiles,train1_neg_smiles, test_smiles, test_targets=splits['train1_pos_smiles'], splits['train1_neg_smiles'],splits['test_smiles'],splits['test_targets']\n",
    "test_pos=[x for x, y in zip(splits['test_smiles'],splits['test_targets']) if y=='1']\n",
    "test_neg=[x for x, y in zip(splits['test_smiles'],splits['test_targets']) if y=='0']\n",
    "test_pos=[1,2,3,4,6,7,8,9,10,11,12]\n",
    "test_neg=[1,2,3,4,5,6,7,9,9,10]"
   ]
  },
  {
   "cell_type": "code",
   "execution_count": 65,
   "metadata": {},
   "outputs": [],
   "source": [
    "\n",
    "data=train1_pos_smiles+test_pos\n",
    "mols =[Chem.MolFromSmiles(smiles)  for smiles in data]\n",
    "log_p =[logP(mol) for mol in mols]\n",
    "qeds= [QED(mol) for mol in mols]\n",
    "sas= [SA(mol) for mol in mols]\n",
    "d1={'smiles':data,'logP':log_p, 'qed':qeds,'SAS':sas}\n",
    "trial=pd.DataFrame(data=d1)\n",
    "trial.to_csv('{}_train1_pos.csv'.format(dataset_name), index=True)"
   ]
  },
  {
   "cell_type": "code",
   "execution_count": 66,
   "metadata": {},
   "outputs": [],
   "source": [
    "data2=train1_neg_smiles+test_neg\n",
    "mols =[Chem.MolFromSmiles(smiles)  for smiles in data2]\n",
    "log_p =[logP(mol) for mol in mols]\n",
    "qeds= [QED(mol) for mol in mols]\n",
    "sas= [SA(mol) for mol in mols]\n",
    "d2={'smiles':data2,'logP':log_p, 'qed':qeds,'SAS':sas}\n",
    "trial=pd.DataFrame(data=d2)\n",
    "trial.to_csv('{}_train1_neg.csv'.format(dataset_name), index=True)"
   ]
  },
  {
   "cell_type": "code",
   "execution_count": 68,
   "metadata": {},
   "outputs": [],
   "source": [
    "valid_idx_pos=list(np.arange (len(train1_pos_smiles), len(train1_pos_smiles)+ len(test_pos)))\n",
    "valid_idx_pos_=[str(i) for i in valid_idx_pos]\n",
    "valid_idx_neg=list(np.arange (len(train1_neg_smiles), len(train1_neg_smiles)+ len(test_neg)))\n",
    "valid_idx_neg_=[str(i) for i in valid_idx_neg]"
   ]
  },
  {
   "cell_type": "code",
   "execution_count": 69,
   "metadata": {},
   "outputs": [],
   "source": [
    "dict={\"valid_idxs\":valid_idx_pos_}\n",
    "with open(\"valid_idx_{}_train1_pos.json\".format(dataset_name), \"w\") as outfile:\n",
    "    json.dump(dict, outfile)\n"
   ]
  },
  {
   "cell_type": "code",
   "execution_count": 70,
   "metadata": {},
   "outputs": [],
   "source": [
    "dict={\"valid_idxs\":valid_idx_neg_}\n",
    "with open(\"valid_idx_{}_train1_neg.json\".format(dataset_name), \"w\") as outfile:\n",
    "    json.dump(dict, outfile)\n"
   ]
  },
  {
   "cell_type": "code",
   "execution_count": null,
   "metadata": {},
   "outputs": [],
   "source": []
  },
  {
   "cell_type": "code",
   "execution_count": null,
   "metadata": {},
   "outputs": [],
   "source": []
  },
  {
   "cell_type": "code",
   "execution_count": null,
   "metadata": {},
   "outputs": [],
   "source": []
  },
  {
   "cell_type": "code",
   "execution_count": null,
   "metadata": {},
   "outputs": [],
   "source": []
  },
  {
   "cell_type": "code",
   "execution_count": null,
   "metadata": {},
   "outputs": [],
   "source": []
  }
 ],
 "metadata": {
  "kernelspec": {
   "display_name": "Python 3",
   "language": "python",
   "name": "python3"
  },
  "language_info": {
   "codemirror_mode": {
    "name": "ipython",
    "version": 3
   },
   "file_extension": ".py",
   "mimetype": "text/x-python",
   "name": "python",
   "nbconvert_exporter": "python",
   "pygments_lexer": "ipython3",
   "version": "3.10.5"
  },
  "orig_nbformat": 4
 },
 "nbformat": 4,
 "nbformat_minor": 2
}
