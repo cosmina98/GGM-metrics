{
 "cells": [
  {
   "cell_type": "code",
   "execution_count": 1,
   "metadata": {},
   "outputs": [],
   "source": [
    "import warnings\n",
    "warnings.filterwarnings(\"ignore\")\n",
    "from evaluation.mol_structure import list_of_smiles_to_nx_graphs,list_of_nx_graphs_to_smiles\n",
    "from evaluation.mol_structure import draw_one_mol, draw_graphs\n",
    "from evaluation.new_structural_metric import symmetric_graph_set_distance,atom,cycle,neighborhood\n",
    "from evaluate import evaluate\n",
    "#import utils.graph_generators as gen\n",
    "import torch\n",
    "import networkx as nx\n",
    "import os \n",
    "import sys\n",
    "import json\n",
    "current = os.getcwd()\n",
    "parent = os.path.dirname(current)\n",
    "sys.path.append(parent)\n",
    "import rdkit\n",
    "import numpy as np\n",
    "from evaluation.utils import get_data,  get_mock_data,remove_empty_graphs_and_targets,\\\n",
    "    get_generated_data,preprocess,get_graph_data, get_generated_graph_data\n",
    "import rdkit\n",
    "from rdkit import Chem\n",
    "from rdkit.Chem.rdchem import ChiralType, BondType, BondDir\n",
    "from rdkit.Chem.rdmolops import AddHs\n",
    "from evaluation.atom_bond_encoder import  atom_to_feature_vector,bond_to_feature_vector\n",
    "from evaluation.moses.metrics.metrics import get_all_metrics\n",
    "\n"
   ]
  },
  {
   "cell_type": "markdown",
   "metadata": {},
   "source": [
    "#  Functions used"
   ]
  },
  {
   "cell_type": "code",
   "execution_count": 2,
   "metadata": {},
   "outputs": [],
   "source": [
    "def rdkmol_to_nx(mol):\n",
    "    #  rdkit-mol object to nx.graph\n",
    "    graph = nx.Graph()\n",
    "    for atom in mol.GetAtoms():\n",
    "        graph.add_node(atom.GetIdx(), label=int(atom.GetAtomicNum()), attr=atom_to_feature_vector(atom) ,  label_name=atom.GetSymbol())\n",
    "    for bond in mol.GetBonds():\n",
    "        graph.add_edge(bond.GetBeginAtomIdx(), bond.GetEndAtomIdx(),label=(int(bond.GetBondTypeAsDouble())),\n",
    "                       attr=bond_to_feature_vector(bond),\n",
    "                       edge_label=str(bond.GetBondType()) )\n",
    "    return graph\n",
    "\n",
    "def smiles_to_mol(list_of_smiles):\n",
    "    list_of_rdkit_mols=[]\n",
    "    for _,smile in enumerate(list_of_smiles):\n",
    "        try:\n",
    "            mol = Chem.MolFromSmiles(smile)\n",
    "            list_of_rdkit_mols.append(mol)\n",
    "        except:list_of_rdkit_mols.append(Chem.MolFromSmiles('C'))\n",
    "    return list_of_rdkit_mols\n",
    "    \n",
    "\n",
    "\n",
    "\n",
    "def nx_to_rdkit(graph):\n",
    "    m = Chem.MolFromSmiles('')\n",
    "    mw = Chem.RWMol(m)\n",
    "    atom_index = {}\n",
    "    for n, d in graph.nodes(data=True):\n",
    "        atom_index[n] = mw.AddAtom(Chem.Atom(d['label']))\n",
    "    for a, b, d in graph.edges(data=True):\n",
    "        start = atom_index[a]\n",
    "        end = atom_index[b] \n",
    "        bond_type=d['edge_label']\n",
    "        try:\n",
    "            mw.AddBond(start, end, eval(\"rdkit.Chem.rdchem.BondType.{}\".format(bond_type)))\n",
    "        except:\n",
    "            mw.AddBond(start, end, eval(\"rdkit.Chem.rdchem.BondType.{}\".format('SINGLE')))\n",
    "            #print('exc',bond_type)\n",
    "            continue\n",
    "            raise Exception('bond type not implemented')\n",
    "\n",
    "    mol = mw.GetMol()\n",
    "    return mol\n",
    "\n",
    "def list_of_smiles_to_nx_graphs(smiles):\n",
    "    list_of_nx_graphs=[]\n",
    "    for i,smile in enumerate(smiles):\n",
    "        mol = Chem.MolFromSmiles(smile)\n",
    "        if mol is not None:\n",
    "           list_of_nx_graphs.append(rdkmol_to_nx(mol))\n",
    "        else:\n",
    "            continue\n",
    "         \n",
    "    return list_of_nx_graphs\n",
    "\n",
    "\n",
    "def list_of_nx_graphs_to_smiles(graphs, file=None):\n",
    "    # writes smiles strings to a file\n",
    "    chem = [nx_to_rdkit(graph) for graph in graphs]\n",
    "    smis = [Chem.MolToSmiles(m) for m in chem]\n",
    "    if file:\n",
    "        with open(file, 'w') as f:\n",
    "            f.write('\\n'.join(smis))\n",
    "    return smis\n",
    "\n",
    "\n"
   ]
  },
  {
   "cell_type": "markdown",
   "metadata": {},
   "source": [
    "# Smiles =>  Molecular graphs =>  Smiles"
   ]
  },
  {
   "cell_type": "markdown",
   "metadata": {},
   "source": [
    "# Train1 vs Train1  before versus after graph conversion "
   ]
  },
  {
   "cell_type": "code",
   "execution_count": 4,
   "metadata": {},
   "outputs": [
    {
     "name": "stdout",
     "output_type": "stream",
     "text": [
      "ames_50 train1\n",
      "Metrics before  coversion:\n",
      "{'valid': 1.0, 'unique@1000': 0.999, 'unique@10000': 0.9996073812328229, 'FCD/Test': -3.552713678800501e-13, 'SNN/Test': 1.0, 'Frag/Test': 1, 'Scaf/Test': 1, 'FCD/TestSF': 22.270570164551017, 'SNN/TestSF': 0.33544746274439363, 'Frag/TestSF': -0.06553137100764106, 'Scaf/TestSF': 0.13905682249091533, 'IntDiv': 0.9105206593714188, 'IntDiv2': 0.8919648544524341, 'Filters': 0.5551629367883785, 'logP': 0.0, 'SA': 0.0, 'QED': 0.0, 'weight': 0.0, 'Novelty': 0.0015710919088766694}\n",
      "Metrics after  coversion:\n",
      "Error when computing the metrics for the converted graphs\n",
      "bbb_martins_50 train1\n",
      "Metrics before  coversion:\n",
      "{'valid': 1.0, 'unique@1000': 0.9943661971830986, 'unique@10000': 0.9943661971830986, 'FCD/Test': -5.826450433232822e-13, 'SNN/Test': 1.0, 'Frag/Test': 1, 'Scaf/Test': 1, 'FCD/TestSF': 19.4438681661209, 'SNN/TestSF': 0.3730856233761764, 'Frag/TestSF': -0.10547896046759009, 'Scaf/TestSF': 0.024943099994351514, 'IntDiv': 0.8849596139292613, 'IntDiv2': 0.8690461844981707, 'Filters': 0.780281690140845, 'logP': 0.0, 'SA': 0.0, 'QED': 0.0, 'weight': 0.0, 'Novelty': 0.0}\n",
      "Metrics after  coversion:\n",
      "Error when computing the metrics for the converted graphs\n",
      "cyp1a2_veith_50 train1\n",
      "Metrics before  coversion:\n"
     ]
    }
   ],
   "source": [
    "current_smiles_datasets=['ames', 'bbb_martins', 'cyp1a2_veith', 'cyp2c19_veith','herg_karim','lipophilicity_astrazeneca']\n",
    "splits=['_50']\n",
    "device=torch.device('cpu')\n",
    "structural_statistic=['WL', 'nspdk','degree','cluster', 'spectral']#'common_substructures']\n",
    "\n",
    "metrics_type=['molecular']\n",
    "#leave it blank to compute all the structural structures \n",
    "metrics={}\n",
    "metrics2={}\n",
    "for generator in ['train1']:\n",
    "    for dataset_name in current_smiles_datasets:\n",
    "        for split in splits:\n",
    "                print(dataset_name+split, generator)\n",
    "                graphs,smiles  =get_data(dataset_name+split, return_smiles=True)\n",
    "                train1_smiles_before_conversion=smiles['train1_pos_smiles']+ smiles['train1_neg_smiles']\n",
    "                train1_graphs=list_of_smiles_to_nx_graphs(train1_smiles_before_conversion)\n",
    "                train1_smiles=list_of_nx_graphs_to_smiles(train1_graphs)          \n",
    "                print('Metrics before  coversion:')\n",
    "                metrics=get_all_metrics(gen=train1_smiles_before_conversion,train=train1_smiles_before_conversion, test=train1_smiles_before_conversion)\n",
    "                print(metrics)\n",
    "                print('Metrics after  coversion:')\n",
    "                try:\n",
    "                  metrics2=get_all_metrics(gen=train1_smiles,train=train1_smiles,test=train1_smiles)\n",
    "                  print(metrics2)\n",
    "                except:\n",
    "                     print('Error when computing the metrics for the converted graphs')\n",
    "                     continue\n",
    "                "
   ]
  },
  {
   "cell_type": "code",
   "execution_count": null,
   "metadata": {},
   "outputs": [],
   "source": []
  },
  {
   "cell_type": "code",
   "execution_count": null,
   "metadata": {},
   "outputs": [],
   "source": []
  },
  {
   "cell_type": "code",
   "execution_count": null,
   "metadata": {},
   "outputs": [],
   "source": []
  },
  {
   "cell_type": "markdown",
   "metadata": {},
   "source": [
    "# Direct smiles evaluation  "
   ]
  },
  {
   "cell_type": "code",
   "execution_count": null,
   "metadata": {},
   "outputs": [],
   "source": [
    "current_smiles_datasets=['ames', 'bbb_martins', 'cyp1a2_veith', 'cyp2c19_veith','herg_karim','lipophilicity_astrazeneca']\n",
    "splits=['_25','_33','_40','_50']\n",
    "device=torch.device('cpu')\n",
    "structural_statistic=['WL', 'nspdk','degree','cluster', 'spectral']#'common_substructures']\n",
    "\n",
    "metrics_type=['molecular']\n",
    "#leave it blank to compute all the structural structures \n",
    "generators=['hiervae','wgan','stgg','moflow','gdss','jtnn','swingnn']\n",
    "metrics={}\n",
    "for generator in generators:\n",
    "    for dataset_name in current_smiles_datasets:\n",
    "        for split in splits:\n",
    "        \n",
    "                print(dataset_name+split, generator)\n",
    "                graphs,smiles  =get_data(dataset_name+split, return_smiles=True)\n",
    "                _, _, generated_smiles_before_conversion=get_generated_data(dataset_name+split,generator_name=generator, return_smiles=True)\n",
    "                train1_smiles_before_conversion=smiles['train1_pos_smiles']+ smiles['train1_neg_smiles']\n",
    "                train1_graphs=list_of_smiles_to_nx_graphs(train1_smiles_before_conversion)\n",
    "                generated_graphs=list_of_smiles_to_nx_graphs(generated_smiles_before_conversion)\n",
    "                train1_smiles=list_of_nx_graphs_to_smiles(train1_graphs)\n",
    "                generated_smiles=list_of_nx_graphs_to_smiles(generated_graphs)\n",
    "                \n",
    "  \n",
    "                metrics=get_all_metrics(gen=generated_smiles,train=train1_smiles)\n",
    "                metrics['dataset']=dataset_name+split\n",
    "                metrics['generator_name']=generator\n",
    "                print(metrics)"
   ]
  },
  {
   "cell_type": "code",
   "execution_count": 19,
   "metadata": {},
   "outputs": [
    {
     "name": "stdout",
     "output_type": "stream",
     "text": [
      "ames_25 hiervae\n"
     ]
    }
   ],
   "source": [
    "from evaluation.moses.metrics.metrics import get_all_metrics\n",
    "current_smiles_datasets=['ames', 'bbb_martins', 'cyp1a2_veith', 'cyp2c19_veith','herg_karim','lipophilicity_astrazeneca']\n",
    "splits2=['_25','_33','_40','_50']\n",
    "generators=['hiervae','wgan','stgg','moflow','gdss','jtnn','swingnn']\n",
    "metrics={}\n",
    "for generator in generators:\n",
    "    for dataset_name in current_smiles_datasets:\n",
    "        for split in splits2:\n",
    "            try:\n",
    "                print(dataset_name+split, generator)\n",
    "                graphs, splits =get_data(dataset_name+split, return_smiles=True)\n",
    "                train1_smiles=splits['train1_pos_smiles']+splits['train1_neg_smiles'] \n",
    "                _,_, generated_smiles=get_generated_data(dataset_name+split,generator_name=generator,return_smiles=True)\n",
    "                metrics=get_all_metrics(gen=generated_smiles,train=train1_smiles)\n",
    "                metrics['dataset']=dataset_name+split\n",
    "                metrics['generator_name']=generator\n",
    "                print(metrics)\n",
    "            except: print('skipping',dataset_name+split,generator )\n"
   ]
  },
  {
   "cell_type": "code",
   "execution_count": 5,
   "metadata": {},
   "outputs": [
    {
     "name": "stdout",
     "output_type": "stream",
     "text": [
      "cyp2c19_veith_50 moflow\n",
      "{'valid': 1.0, 'unique@1000': 0.97, 'unique@10000': 0.9398843930635838, 'FCD/Test': 43.248436351736586, 'SNN/Test': 0.17088936643448868, 'Frag/Test': 0.2790688518825144, 'Scaf/Test': nan, 'FCD/TestSF': 41.87841065178454, 'SNN/TestSF': 0.16461410985344407, 'Frag/TestSF': 0.6603249006054549, 'Scaf/TestSF': nan, 'IntDiv': 0.9124524837882134, 'IntDiv2': 0.8942235711822561, 'Filters': 0.20046242774566475, 'logP': 1.5311836774402188, 'SA': 2.307734549674342, 'QED': 0.26153900948175934, 'weight': 147.22643688834015, 'Novelty': 1.0, 'dataset': 'cyp2c19_veith_50', 'generator_name': 'moflow'}\n"
     ]
    }
   ],
   "source": [
    "from evaluation.moses.metrics.metrics import get_all_metrics\n",
    "current_smiles_datasets=[ 'cyp2c19_veith']\n",
    "\n",
    "splits2=['_50']\n",
    "generators=['moflow']\n",
    "metrics={}\n",
    "for generator in generators:\n",
    "    for dataset_name in current_smiles_datasets:\n",
    "        for split in splits2:\n",
    "       \n",
    "                print(dataset_name+split, generator)\n",
    "                graphs, splits =get_data(dataset_name+split, return_smiles=True)\n",
    "                train1_smiles=splits['train1_pos_smiles']+splits['train1_neg_smiles'] \n",
    "                _,_, generated_smiles=get_generated_data(dataset_name+split,generator_name=generator,return_smiles=True)\n",
    "                metrics=get_all_metrics(gen=generated_smiles,train=train1_smiles,test=train1_smiles)\n",
    "                metrics['dataset']=dataset_name+split\n",
    "                metrics['generator_name']=generator\n",
    "                print(metrics)\n"
   ]
  },
  {
   "cell_type": "code",
   "execution_count": null,
   "metadata": {},
   "outputs": [],
   "source": [
    "current_smiles_datasets=['ames', 'bbb_martins', 'cyp1a2_veith', 'cyp2c19_veith','herg_karim','lipophilicity_astrazeneca']\n",
    "splits2=['_25','_33','_40','_50']\n",
    "generators=['train1']\n",
    "metrics={}\n",
    "for generator in generators:\n",
    "    for dataset_name in current_smiles_datasets:\n",
    "        for split in splits2:\n",
    "            print(dataset_name+split)\n",
    "            graphs, splits =get_data(dataset_name+split, return_smiles=True)\n",
    "            train1_smiles=splits['train1_pos_smiles']+splits['train1_neg_smiles'] \n",
    "            metrics=get_all_metrics(gen=train1_smiles,train=train1_smiles,test=train1_smiles)\n",
    "            metrics['dataset']=dataset_name+split\n",
    "            metrics['generator_name']=generator\n",
    "            print(metrics)"
   ]
  },
  {
   "cell_type": "code",
   "execution_count": 2,
   "metadata": {},
   "outputs": [
    {
     "name": "stdout",
     "output_type": "stream",
     "text": [
      "bbb_martins_25\n",
      "{'valid': 1.0, 'unique@1000': 0.987, 'unique@10000': 0.9868667917448405, 'FCD/Test': nan, 'SNN/Test': 0.4450105435405395, 'Frag/Test': 0.9652945674793054, 'Scaf/Test': 0.5085105846511926, 'FCD/TestSF': 19.48097952918213, 'SNN/TestSF': 0.37320428054017935, 'Frag/TestSF': -0.014896269920706029, 'Scaf/TestSF': 0.01325809036969583, 'IntDiv': 0.8875475790522638, 'IntDiv2': 0.8725379596126854, 'Filters': 0.776735459662289, 'logP': 0.10707440031181478, 'SA': 0.07811260311719424, 'QED': 0.010851765333097079, 'weight': 16.219715191713142, 'Novelty': 0.9933460076045627, 'dataset': 'bbb_martins_25', 'generator_name': 'train2'}\n",
      "bbb_martins_33\n",
      "{'valid': 1.0, 'unique@1000': 0.989451476793249, 'unique@10000': 0.989451476793249, 'FCD/Test': 4.019596103748967, 'SNN/Test': 0.46147108480004195, 'Frag/Test': 0.9720934347020695, 'Scaf/Test': 0.5219050765936551, 'FCD/TestSF': 19.574541878846595, 'SNN/TestSF': 0.37471392010004584, 'Frag/TestSF': -0.015828951721364337, 'Scaf/TestSF': 0.03424493625087621, 'IntDiv': 0.8870747657497233, 'IntDiv2': 0.8717198221067975, 'Filters': 0.7837552742616034, 'logP': 0.1311791362922722, 'SA': 0.055928750645205826, 'QED': 0.015540743423217157, 'weight': 9.36151941775721, 'Novelty': 0.9914712153518124, 'dataset': 'bbb_martins_33', 'generator_name': 'train2'}\n",
      "bbb_martins_40\n"
     ]
    },
    {
     "ename": "KeyboardInterrupt",
     "evalue": "",
     "output_type": "error",
     "traceback": [
      "\u001b[1;31m---------------------------------------------------------------------------\u001b[0m",
      "\u001b[1;31mKeyboardInterrupt\u001b[0m                         Traceback (most recent call last)",
      "\u001b[1;32mc:\\Users\\cosmi\\Documents\\PhD\\2023\\Proposal\\Graph_Evaluation_Benchmark\\molecular_proof.ipynb.ipynb Cell 10\u001b[0m line \u001b[0;36m1\n\u001b[0;32m     <a href='vscode-notebook-cell:/c%3A/Users/cosmi/Documents/PhD/2023/Proposal/Graph_Evaluation_Benchmark/molecular_proof.ipynb.ipynb#X13sZmlsZQ%3D%3D?line=9'>10</a>\u001b[0m train1_smiles\u001b[39m=\u001b[39msplits[\u001b[39m'\u001b[39m\u001b[39mtrain1_pos_smiles\u001b[39m\u001b[39m'\u001b[39m]\u001b[39m+\u001b[39msplits[\u001b[39m'\u001b[39m\u001b[39mtrain1_neg_smiles\u001b[39m\u001b[39m'\u001b[39m] \n\u001b[0;32m     <a href='vscode-notebook-cell:/c%3A/Users/cosmi/Documents/PhD/2023/Proposal/Graph_Evaluation_Benchmark/molecular_proof.ipynb.ipynb#X13sZmlsZQ%3D%3D?line=10'>11</a>\u001b[0m train2_smiles\u001b[39m=\u001b[39msplits[\u001b[39m'\u001b[39m\u001b[39mtrain2_pos_smiles\u001b[39m\u001b[39m'\u001b[39m]\u001b[39m+\u001b[39msplits[\u001b[39m'\u001b[39m\u001b[39mtrain2_neg_smiles\u001b[39m\u001b[39m'\u001b[39m] \n\u001b[1;32m---> <a href='vscode-notebook-cell:/c%3A/Users/cosmi/Documents/PhD/2023/Proposal/Graph_Evaluation_Benchmark/molecular_proof.ipynb.ipynb#X13sZmlsZQ%3D%3D?line=11'>12</a>\u001b[0m metrics\u001b[39m=\u001b[39mget_all_metrics(gen\u001b[39m=\u001b[39;49mtrain2_smiles,train\u001b[39m=\u001b[39;49mtrain1_smiles,test\u001b[39m=\u001b[39;49mtrain1_smiles)\n\u001b[0;32m     <a href='vscode-notebook-cell:/c%3A/Users/cosmi/Documents/PhD/2023/Proposal/Graph_Evaluation_Benchmark/molecular_proof.ipynb.ipynb#X13sZmlsZQ%3D%3D?line=12'>13</a>\u001b[0m metrics[\u001b[39m'\u001b[39m\u001b[39mdataset\u001b[39m\u001b[39m'\u001b[39m]\u001b[39m=\u001b[39mdataset_name\u001b[39m+\u001b[39msplit\n\u001b[0;32m     <a href='vscode-notebook-cell:/c%3A/Users/cosmi/Documents/PhD/2023/Proposal/Graph_Evaluation_Benchmark/molecular_proof.ipynb.ipynb#X13sZmlsZQ%3D%3D?line=13'>14</a>\u001b[0m metrics[\u001b[39m'\u001b[39m\u001b[39mgenerator_name\u001b[39m\u001b[39m'\u001b[39m]\u001b[39m=\u001b[39mgenerator\n",
      "File \u001b[1;32mc:\\Users\\cosmi\\Documents\\PhD\\2023\\Proposal\\Graph_Evaluation_Benchmark\\evaluation\\moses\\metrics\\metrics.py:102\u001b[0m, in \u001b[0;36mget_all_metrics\u001b[1;34m(gen, k, n_jobs, device, batch_size, pool, test, test_scaffolds, ptest, ptest_scaffolds, train)\u001b[0m\n\u001b[0;32m     99\u001b[0m     metrics[\u001b[39m'\u001b[39m\u001b[39munique@\u001b[39m\u001b[39m{}\u001b[39;00m\u001b[39m'\u001b[39m\u001b[39m.\u001b[39mformat(_k)] \u001b[39m=\u001b[39m fraction_unique(gen, _k, pool)\n\u001b[0;32m    101\u001b[0m \u001b[39mif\u001b[39;00m ptest \u001b[39mis\u001b[39;00m \u001b[39mNone\u001b[39;00m:\n\u001b[1;32m--> 102\u001b[0m     ptest \u001b[39m=\u001b[39m compute_intermediate_statistics(test, n_jobs\u001b[39m=\u001b[39;49mn_jobs,\n\u001b[0;32m    103\u001b[0m                                             device\u001b[39m=\u001b[39;49mdevice,\n\u001b[0;32m    104\u001b[0m                                             batch_size\u001b[39m=\u001b[39;49mbatch_size,\n\u001b[0;32m    105\u001b[0m                                             pool\u001b[39m=\u001b[39;49mpool)\n\u001b[0;32m    106\u001b[0m \u001b[39mif\u001b[39;00m test_scaffolds \u001b[39mis\u001b[39;00m \u001b[39mnot\u001b[39;00m \u001b[39mNone\u001b[39;00m \u001b[39mand\u001b[39;00m ptest_scaffolds \u001b[39mis\u001b[39;00m \u001b[39mNone\u001b[39;00m:\n\u001b[0;32m    107\u001b[0m     ptest_scaffolds \u001b[39m=\u001b[39m compute_intermediate_statistics(\n\u001b[0;32m    108\u001b[0m         test_scaffolds, n_jobs\u001b[39m=\u001b[39mn_jobs,\n\u001b[0;32m    109\u001b[0m         device\u001b[39m=\u001b[39mdevice, batch_size\u001b[39m=\u001b[39mbatch_size,\n\u001b[0;32m    110\u001b[0m         pool\u001b[39m=\u001b[39mpool\n\u001b[0;32m    111\u001b[0m     )\n",
      "File \u001b[1;32mc:\\Users\\cosmi\\Documents\\PhD\\2023\\Proposal\\Graph_Evaluation_Benchmark\\evaluation\\moses\\metrics\\metrics.py:185\u001b[0m, in \u001b[0;36mcompute_intermediate_statistics\u001b[1;34m(smiles, n_jobs, device, batch_size, pool)\u001b[0m\n\u001b[0;32m    181\u001b[0m statistics[\u001b[39m'\u001b[39m\u001b[39mScaf\u001b[39m\u001b[39m'\u001b[39m] \u001b[39m=\u001b[39m ScafMetric(\u001b[39m*\u001b[39m\u001b[39m*\u001b[39mkwargs)\u001b[39m.\u001b[39mprecalc(mols)\n\u001b[0;32m    182\u001b[0m \u001b[39mfor\u001b[39;00m name, func \u001b[39min\u001b[39;00m [(\u001b[39m'\u001b[39m\u001b[39mlogP\u001b[39m\u001b[39m'\u001b[39m, logP), (\u001b[39m'\u001b[39m\u001b[39mSA\u001b[39m\u001b[39m'\u001b[39m, SA),\n\u001b[0;32m    183\u001b[0m                    (\u001b[39m'\u001b[39m\u001b[39mQED\u001b[39m\u001b[39m'\u001b[39m, QED),\n\u001b[0;32m    184\u001b[0m                    (\u001b[39m'\u001b[39m\u001b[39mweight\u001b[39m\u001b[39m'\u001b[39m, weight)]:\n\u001b[1;32m--> 185\u001b[0m     statistics[name] \u001b[39m=\u001b[39m WassersteinMetric(func, \u001b[39m*\u001b[39;49m\u001b[39m*\u001b[39;49mkwargs)\u001b[39m.\u001b[39;49mprecalc(mols)\n\u001b[0;32m    186\u001b[0m \u001b[39mif\u001b[39;00m close_pool:\n\u001b[0;32m    187\u001b[0m     pool\u001b[39m.\u001b[39mterminate()\n",
      "File \u001b[1;32mc:\\Users\\cosmi\\Documents\\PhD\\2023\\Proposal\\Graph_Evaluation_Benchmark\\evaluation\\moses\\metrics\\metrics.py:347\u001b[0m, in \u001b[0;36mWassersteinMetric.precalc\u001b[1;34m(self, mols)\u001b[0m\n\u001b[0;32m    345\u001b[0m \u001b[39mdef\u001b[39;00m \u001b[39mprecalc\u001b[39m(\u001b[39mself\u001b[39m, mols):\n\u001b[0;32m    346\u001b[0m     \u001b[39mif\u001b[39;00m \u001b[39mself\u001b[39m\u001b[39m.\u001b[39mfunc \u001b[39mis\u001b[39;00m \u001b[39mnot\u001b[39;00m \u001b[39mNone\u001b[39;00m:\n\u001b[1;32m--> 347\u001b[0m         values \u001b[39m=\u001b[39m mapper(\u001b[39mself\u001b[39;49m\u001b[39m.\u001b[39;49mn_jobs)(\u001b[39mself\u001b[39;49m\u001b[39m.\u001b[39;49mfunc, mols)\n\u001b[0;32m    348\u001b[0m     \u001b[39melse\u001b[39;00m:\n\u001b[0;32m    349\u001b[0m         values \u001b[39m=\u001b[39m mols\n",
      "File \u001b[1;32mc:\\Users\\cosmi\\Documents\\PhD\\2023\\Proposal\\Graph_Evaluation_Benchmark\\evaluation\\moses\\utils.py:115\u001b[0m, in \u001b[0;36mmapper.<locals>._mapper\u001b[1;34m(*args, **kwargs)\u001b[0m\n\u001b[0;32m    114\u001b[0m \u001b[39mdef\u001b[39;00m \u001b[39m_mapper\u001b[39m(\u001b[39m*\u001b[39margs, \u001b[39m*\u001b[39m\u001b[39m*\u001b[39mkwargs):\n\u001b[1;32m--> 115\u001b[0m     \u001b[39mreturn\u001b[39;00m \u001b[39mlist\u001b[39;49m(\u001b[39mmap\u001b[39;49m(\u001b[39m*\u001b[39;49margs, \u001b[39m*\u001b[39;49m\u001b[39m*\u001b[39;49mkwargs))\n",
      "File \u001b[1;32mc:\\Users\\cosmi\\Documents\\PhD\\2023\\Proposal\\Graph_Evaluation_Benchmark\\evaluation\\moses\\metrics\\utils.py:38\u001b[0m, in \u001b[0;36mlogP\u001b[1;34m(mol)\u001b[0m\n\u001b[0;32m     34\u001b[0m \u001b[39mdef\u001b[39;00m \u001b[39mlogP\u001b[39m(mol):\n\u001b[0;32m     35\u001b[0m \u001b[39m    \u001b[39m\u001b[39m\"\"\"\u001b[39;00m\n\u001b[0;32m     36\u001b[0m \u001b[39m    Computes RDKit's logP\u001b[39;00m\n\u001b[0;32m     37\u001b[0m \u001b[39m    \"\"\"\u001b[39;00m\n\u001b[1;32m---> 38\u001b[0m     \u001b[39mreturn\u001b[39;00m Chem\u001b[39m.\u001b[39;49mCrippen\u001b[39m.\u001b[39;49mMolLogP(mol)\n",
      "File \u001b[1;32m~\\AppData\\Local\\Packages\\PythonSoftwareFoundation.Python.3.9_qbz5n2kfra8p0\\LocalCache\\local-packages\\Python39\\site-packages\\rdkit\\Chem\\Crippen.py:171\u001b[0m, in \u001b[0;36m<lambda>\u001b[1;34m(*x, **y)\u001b[0m\n\u001b[0;32m    166\u001b[0m   \u001b[39mreturn\u001b[39;00m numpy\u001b[39m.\u001b[39msum(atomContribs, \u001b[39m0\u001b[39m)[\u001b[39m1\u001b[39m]\n\u001b[0;32m    169\u001b[0m _pyMolMR\u001b[39m.\u001b[39mversion \u001b[39m=\u001b[39m \u001b[39m\"\u001b[39m\u001b[39m1.1.0\u001b[39m\u001b[39m\"\u001b[39m\n\u001b[1;32m--> 171\u001b[0m MolLogP \u001b[39m=\u001b[39m \u001b[39mlambda\u001b[39;00m \u001b[39m*\u001b[39mx, \u001b[39m*\u001b[39m\u001b[39m*\u001b[39my: rdMolDescriptors\u001b[39m.\u001b[39;49mCalcCrippenDescriptors(\u001b[39m*\u001b[39;49mx, \u001b[39m*\u001b[39;49m\u001b[39m*\u001b[39;49my)[\u001b[39m0\u001b[39;49m]\n\u001b[0;32m    172\u001b[0m MolLogP\u001b[39m.\u001b[39mversion \u001b[39m=\u001b[39m rdMolDescriptors\u001b[39m.\u001b[39m_CalcCrippenDescriptors_version\n\u001b[0;32m    173\u001b[0m MolLogP\u001b[39m.\u001b[39m\u001b[39m__doc__\u001b[39m \u001b[39m=\u001b[39m \u001b[39m\"\"\"\u001b[39m\u001b[39m Wildman-Crippen LogP value\u001b[39m\n\u001b[0;32m    174\u001b[0m \n\u001b[0;32m    175\u001b[0m \u001b[39m  Uses an atom-based scheme based on the values in the paper:\u001b[39m\n\u001b[1;32m   (...)\u001b[0m\n\u001b[0;32m    184\u001b[0m \n\u001b[0;32m    185\u001b[0m \u001b[39m\"\"\"\u001b[39m\n",
      "\u001b[1;31mKeyboardInterrupt\u001b[0m: "
     ]
    }
   ],
   "source": [
    "current_smiles_datasets=['ames', 'bbb_martins', 'cyp1a2_veith', 'cyp2c19_veith','herg_karim','lipophilicity_astrazeneca']\n",
    "splits2=['_25','_33','_40','_50']\n",
    "generators=['train2']\n",
    "metrics={}\n",
    "for generator in generators:\n",
    "    for dataset_name in current_smiles_datasets:\n",
    "        for split in splits2:\n",
    "            print(dataset_name+split)\n",
    "            graphs, splits =get_data(dataset_name+split, return_smiles=True)\n",
    "            train1_smiles=splits['train1_pos_smiles']+splits['train1_neg_smiles'] \n",
    "            train2_smiles=splits['train2_pos_smiles']+splits['train2_neg_smiles'] \n",
    "            metrics=get_all_metrics(gen=train2_smiles,train=train1_smiles,test=train1_smiles)\n",
    "            metrics['dataset']=dataset_name+split\n",
    "            metrics['generator_name']=generator\n",
    "            print(metrics)"
   ]
  },
  {
   "cell_type": "code",
   "execution_count": null,
   "metadata": {},
   "outputs": [],
   "source": [
    "current_smiles_datasets=['ames', 'bbb_martins', 'cyp1a2_veith', 'cyp2c19_veith','herg_karim','lipophilicity_astrazeneca']\n",
    "splits2=['_25','_33','_40','_50']\n",
    "generators=['train1/2+train2/2']\n",
    "metrics={}\n",
    "for generator in generators:\n",
    "    for dataset_name in current_smiles_datasets:\n",
    "            for split in splits2:\n",
    "                print(dataset_name+split)\n",
    "                graphs, splits =get_data(dataset_name+split, return_smiles=True)\n",
    "                train1_smiles=splits['train1_pos_smiles']+splits['train1_neg_smiles'] \n",
    "                train2_smiles=splits['train2_pos_smiles']+splits['train2_neg_smiles'] \n",
    "                half=len(train1_smiles)//2\n",
    "                train3_smiles=train1_smiles[:half] + train2_smiles[:half]\n",
    "                metrics=get_all_metrics(gen=train3_smiles,train=train1_smiles,test=train1_smiles)\n",
    "                metrics['dataset']=dataset_name+split\n",
    "                metrics['generator_name']=generator\n",
    "                print(metrics)"
   ]
  },
  {
   "cell_type": "code",
   "execution_count": null,
   "metadata": {},
   "outputs": [],
   "source": []
  },
  {
   "cell_type": "code",
   "execution_count": null,
   "metadata": {},
   "outputs": [
    {
     "name": "stdout",
     "output_type": "stream",
     "text": [
      "synthetic_1_25\n",
      "Now computing classifier based metrics\n",
      "WARNING:tensorflow:From C:\\Users\\cosmi\\AppData\\Local\\Packages\\PythonSoftwareFoundation.Python.3.11_qbz5n2kfra8p0\\LocalCache\\local-packages\\Python311\\site-packages\\tensorflow_gan\\python\\eval\\classifier_metrics.py:1157: calling map_fn_v2 (from tensorflow.python.ops.map_fn) with back_prop=False is deprecated and will be removed in a future version.\n",
      "Instructions for updating:\n",
      "back_prop=False is deprecated. Consider using tf.stop_gradient instead.\n",
      "Instead of:\n",
      "results = tf.map_fn(fn, elems, back_prop=False)\n",
      "Use:\n",
      "results = tf.nest.map_structure(tf.stop_gradient, tf.map_fn(fn, elems))\n",
      "Now computing structural based metrics\n",
      "Cannot compute these structural metrics\n",
      "Now computing the auc_roc based  metric\n"
     ]
    }
   ],
   "source": [
    "structural_statistic=['WL', 'nspdk','degree','cluster', 'spectral']\n",
    "device=torch.device('cpu')\n",
    "metrics_type=['nn','structural', 'auc_roc']\n",
    "generators=['swingnn','gdss']\n",
    "splits=['_25','_33','_40','_50']\n",
    "metrics={}\n",
    "for generator in generators:\n",
    "    for dataset_name in ['synthetic_1','synthetic_2']:\n",
    "        for split in splits:\n",
    "                print(dataset_name+split)\n",
    "                train1_graphs,train1_targets,train2_graphs,train2_targets,test_graphs,test_targets=get_graph_data(dataset_name+split, path=r'data/graphs/datasets')\n",
    "                generated_graphs, generated_targets= get_generated_graph_data(dataset_name+split,generator_name=generator)\n",
    "                splits_for_auc_roc=[train1_graphs , train1_targets,train2_graphs , train2_targets, test_graphs, test_targets, generated_graphs, generated_targets]\n",
    "                metrics=evaluate(train1_graphs, generated_graphs, device,  metrics_type, structural_statistic,*splits_for_auc_roc)\n",
    "                metrics['dataset']=dataset_name+split\n",
    "                metrics['generator_name']=generator\n",
    "                print(metrics)"
   ]
  },
  {
   "cell_type": "code",
   "execution_count": null,
   "metadata": {},
   "outputs": [],
   "source": [
    "structural_statistic=['WL', 'nspdk','degree','cluster', 'spectral']\n",
    "device=torch.device('cpu')\n",
    "metrics_type=['nn','structural', 'auc_roc']\n",
    "generators=['train2']\n",
    "splits=['_25','_33','_40','_50']\n",
    "metrics={}\n",
    "for generator in ['train2']:\n",
    "    for dataset_name in ['synthetic_1','synthetic_2']:\n",
    "        for split in splits:\n",
    "            print(dataset_name+split)\n",
    "            train1_graphs,train1_targets,train2_graphs,train2_targets,test_graphs,test_targets=get_graph_data(dataset_name+split, path=r'data/graphs/datasets')\n",
    "            generated_graphs, generated_targets=train1_graphs,train1_targets\n",
    "            splits_for_auc_roc=[train1_graphs , train1_targets,train2_graphs , train2_targets, test_graphs, test_targets, generated_graphs, generated_targets]\n",
    "            metrics=evaluate(train1_graphs, generated_graphs, device,  metrics_type, structural_statistic,*splits_for_auc_roc)\n",
    "            metrics['dataset']=dataset_name+split\n",
    "            metrics['generator_name']=generator\n",
    "            print(metrics)"
   ]
  },
  {
   "cell_type": "code",
   "execution_count": null,
   "metadata": {},
   "outputs": [
    {
     "name": "stdout",
     "output_type": "stream",
     "text": [
      "synthetic_1_25\n",
      "Now computing classifier based metrics\n",
      "WARNING:tensorflow:From C:\\Users\\cosmi\\AppData\\Local\\Packages\\PythonSoftwareFoundation.Python.3.11_qbz5n2kfra8p0\\LocalCache\\local-packages\\Python311\\site-packages\\tensorflow_gan\\python\\eval\\classifier_metrics.py:1157: calling map_fn_v2 (from tensorflow.python.ops.map_fn) with back_prop=False is deprecated and will be removed in a future version.\n",
      "Instructions for updating:\n",
      "back_prop=False is deprecated. Consider using tf.stop_gradient instead.\n",
      "Instead of:\n",
      "results = tf.map_fn(fn, elems, back_prop=False)\n",
      "Use:\n",
      "results = tf.nest.map_structure(tf.stop_gradient, tf.map_fn(fn, elems))\n",
      "Now computing structural based metrics\n",
      "Now computing the auc_roc based  metric\n",
      "0.7019 0.7620000000000001 0.7061000000000001 0.7620000000000001\n",
      "{'activations_time': 0.09424567222595215, 'fid': 0.22577179982117457, 'fid_time': 0.09925174713134766, 'kid': 0.0009200573, 'kid_time': 48.37495970726013, 'precision': 0.985, 'recall': 0.99, 'f1_pr': 0.9875036709501676, 'precision_time': 0.1743147373199463, 'recall_time': 0.1743147373199463, 'f1_pr_time': 0.1743147373199463, 'density': 1.002, 'coverage': 0.98, 'f1_dc': 0.990887902342055, 'density_time': 0.15848922729492188, 'coverage_time': 0.15848922729492188, 'f1_dc_time': 0.15848922729492188, 'mmd_rbf': 0.009055978152900934, 'mmd_rbf_time': 0.2005460262298584, 'mmd_linear': 0.0436557, 'mmd_linear_time': 0.09424567222595215, 'wl_mmd': 0.01, 'wl_mmd_time': 0.5377421379089355, 'nspdk_mmd': 0.008479482377276748, 'nspdk_mmd_time': 8.1046724319458, 'degree_mmd': 0.00026336114711855707, 'degree_mmd_time': 18.325754, 'cluster_mmd': 0.009086384920187818, 'cluster_mmd_time': 17.834011, 'spectral_mmd': 0.003590700655711876, 'spectral_mmd_time': 22.302664, 'AUC_ROC_based_metric_with_nspdk': 1.0, 'AUC_ROC_based_metric_with_nspdk_time': 45.63545823097229, 'dataset': 'synthetic_1_25', 'generator_name': 'train2'}\n",
      "synthetic_1_33\n",
      "Now computing classifier based metrics\n",
      "Now computing structural based metrics\n",
      "Cannot compute these structural metrics\n",
      "Now computing the auc_roc based  metric\n"
     ]
    }
   ],
   "source": [
    "structural_statistic=['WL', 'nspdk','degree','cluster', 'spectral']\n",
    "device=torch.device('cpu')\n",
    "metrics_type=['nn','structural', 'auc_roc']\n",
    "generators=['train2']\n",
    "splits=['_25','_33','_40','_50']\n",
    "metrics={}\n",
    "for generator in ['train2']:\n",
    "    for dataset_name in ['synthetic_1','synthetic_2']:\n",
    "        for split in splits:\n",
    "            print(dataset_name+split)\n",
    "            train1_graphs,train1_targets,train2_graphs,train2_targets,test_graphs,test_targets=get_graph_data(dataset_name+split, path=r'data/graphs/datasets')\n",
    "            generated_graphs, generated_targets=train2_graphs,train2_targets\n",
    "            splits_for_auc_roc=[train1_graphs , train1_targets,train2_graphs , train2_targets, test_graphs, test_targets, generated_graphs, generated_targets]\n",
    "            metrics=evaluate(train1_graphs, generated_graphs, device,  metrics_type, structural_statistic,*splits_for_auc_roc)\n",
    "            metrics['dataset']=dataset_name+split\n",
    "            metrics['generator_name']=generator\n",
    "            print(metrics)\n"
   ]
  },
  {
   "cell_type": "code",
   "execution_count": null,
   "metadata": {},
   "outputs": [
    {
     "name": "stdout",
     "output_type": "stream",
     "text": [
      "synthetic_1_25\n",
      "Now computing classifier based metrics\n",
      "WARNING:tensorflow:From C:\\Users\\cosmi\\AppData\\Local\\Packages\\PythonSoftwareFoundation.Python.3.11_qbz5n2kfra8p0\\LocalCache\\local-packages\\Python311\\site-packages\\tensorflow_gan\\python\\eval\\classifier_metrics.py:1157: calling map_fn_v2 (from tensorflow.python.ops.map_fn) with back_prop=False is deprecated and will be removed in a future version.\n",
      "Instructions for updating:\n",
      "back_prop=False is deprecated. Consider using tf.stop_gradient instead.\n",
      "Instead of:\n",
      "results = tf.map_fn(fn, elems, back_prop=False)\n",
      "Use:\n",
      "results = tf.nest.map_structure(tf.stop_gradient, tf.map_fn(fn, elems))\n",
      "Now computing structural based metrics\n",
      "Cannot compute these structural metrics\n",
      "Now computing the auc_roc based  metric\n"
     ]
    }
   ],
   "source": [
    "structural_statistic=['WL', 'nspdk','degree','cluster', 'spectral']\n",
    "device=torch.device('cpu')\n",
    "metrics_type=['nn','structural', 'auc_roc']\n",
    "generators=['train2']\n",
    "splits=['_25','_33','_40','_50']\n",
    "metrics={}\n",
    "for generator in ['train1/2+train2/2']:\n",
    "    for dataset_name in ['synthetic_1','synthetic_2']:\n",
    "        for split in splits:\n",
    "            print(dataset_name+split)\n",
    "            train1_graphs,train1_targets,train2_graphs,train2_targets,test_graphs,test_targets=get_graph_data(dataset_name+split, path=r'data/graphs/datasets')\n",
    "            half=len(train1_graphs)//2\n",
    "            half2=len(train2_graphs)//2\n",
    "            train3_graphs,train3_targets=train1_graphs[:half]+train2_graphs[:half], train1_targets[:half]+train2_targets[:half]\n",
    "            generated_graphs, generated_targets=train3_graphs,train3_targets\n",
    "            splits_for_auc_roc=[train1_graphs , train1_targets,train2_graphs , train2_targets, test_graphs, test_targets, generated_graphs, generated_targets]\n",
    "            metrics=evaluate(train1_graphs, generated_graphs, device,  metrics_type, structural_statistic,*splits_for_auc_roc)\n",
    "            metrics['dataset']=dataset_name+split\n",
    "            metrics['generator_name']=generator\n",
    "            print(metrics)"
   ]
  },
  {
   "attachments": {},
   "cell_type": "markdown",
   "metadata": {},
   "source": [
    "# Data collection"
   ]
  },
  {
   "attachments": {},
   "cell_type": "markdown",
   "metadata": {},
   "source": [
    "## Hide"
   ]
  },
  {
   "cell_type": "code",
   "execution_count": 3,
   "metadata": {},
   "outputs": [
    {
     "data": {
      "text/plain": [
       "'\\nprint(reference_smiles_list[0])\\nmol = Chem.MolFromSmiles(reference_smiles_list[0])\\nChem.Kekulize(mol)\\nChem.RemoveStereochemistry(mol)\\nChem.rdmolops.AddHs(mol)\\nprint(mol_to_smiles([mol])[0])\\nprint(mol_to_smiles([nx_to_mol(reference_nx_graphs[0])])[0])\\nrdkit.Chem.Draw.MolToImage(mol = Chem.MolFromSmiles(reference_smiles_list[0]))\\nrdkit.Chem.Draw.MolToImage(mol = Chem.MolFromSmiles(mol_to_smiles([nx_to_mol(reference_nx_graphs[0])])[0]))\\n\\n#rdkit.Chem.Draw.MolsToGridImage(mols = [Chem.MolFromSmiles(mol_to_smiles([nx_to_mol(reference_nx_graphs[0])])[0]),   Chem.MolFromSmiles(reference_smiles_list[0])  ]  )\\n\\n#rdkit.Chem.Draw.MolsToGridImage(mols = [Chem.MolFromSmiles(mol_to_smiles([nx_to_mol(reference_nx_graphs[0])])[0]),   Chem.MolFromSmiles(reference_smiles_list[0])  ]  )\\n'"
      ]
     },
     "execution_count": 3,
     "metadata": {},
     "output_type": "execute_result"
    }
   ],
   "source": [
    "#disable  \n",
    "from rdkit import RDLogger \n",
    "RDLogger.EnableLog('rdApp.*')\n",
    "#RDLogger.DisableLog('rdApp.*')        \n",
    "name='ames'                                                                                                                                                                                                                                                                                                                                                                                                                                                               \n",
    "path='data/smiles/{}/train1_smiles.txt'.format(name)\n",
    "#rom data.smiles.carcinogens import test_smiles\n",
    "reference_smiles_list = []\n",
    "with open(path) as my_file:\n",
    "    for line in my_file:\n",
    "        reference_smiles_list.append(line)\n",
    "reference_nx_graphs=list_of_smiles_to_nx_graphs(reference_smiles_list)\n",
    "\"\"\"\n",
    "print(reference_smiles_list[0])\n",
    "mol = Chem.MolFromSmiles(reference_smiles_list[0])\n",
    "Chem.Kekulize(mol)\n",
    "Chem.RemoveStereochemistry(mol)\n",
    "Chem.rdmolops.AddHs(mol)\n",
    "print(mol_to_smiles([mol])[0])\n",
    "print(mol_to_smiles([nx_to_mol(reference_nx_graphs[0])])[0])\n",
    "rdkit.Chem.Draw.MolToImage(mol = Chem.MolFromSmiles(reference_smiles_list[0]))\n",
    "rdkit.Chem.Draw.MolToImage(mol = Chem.MolFromSmiles(mol_to_smiles([nx_to_mol(reference_nx_graphs[0])])[0]))\n",
    "\n",
    "#rdkit.Chem.Draw.MolsToGridImage(mols = [Chem.MolFromSmiles(mol_to_smiles([nx_to_mol(reference_nx_graphs[0])])[0]),   Chem.MolFromSmiles(reference_smiles_list[0])  ]  )\n",
    "\n",
    "#rdkit.Chem.Draw.MolsToGridImage(mols = [Chem.MolFromSmiles(mol_to_smiles([nx_to_mol(reference_nx_graphs[0])])[0]),   Chem.MolFromSmiles(reference_smiles_list[0])  ]  )\n",
    "\"\"\""
   ]
  },
  {
   "cell_type": "code",
   "execution_count": 66,
   "metadata": {},
   "outputs": [
    {
     "data": {
      "image/png": "[encoded data removed]",
      "text/plain": [
       "<Figure size 1080x720 with 6 Axes>"
      ]
     },
     "metadata": {
      "needs_background": "light"
     },
     "output_type": "display_data"
    }
   ],
   "source": [
    "list_of_G=reference_nx_graphs[:4]\n",
    "#for n , d in (G.nodes().items() ):\n",
    "    #print(str(d['label'][0]))\n",
    "\n",
    "draw_graphs(list_of_G)"
   ]
  },
  {
   "cell_type": "code",
   "execution_count": 68,
   "metadata": {},
   "outputs": [
    {
     "name": "stdout",
     "output_type": "stream",
     "text": [
      "[N-]=[N+]=CC(=O)NCC(=O)NN\n",
      "\n"
     ]
    },
    {
     "data": {
      "image/png": "[encoded data removed]",
      "text/plain": [
       "<PIL.PngImagePlugin.PngImageFile image mode=RGB size=300x300>"
      ]
     },
     "execution_count": 68,
     "metadata": {},
     "output_type": "execute_result"
    },
    {
     "data": {
      "image/png": "[encoded data removed]",
      "text/plain": [
       "<Figure size 540x360 with 1 Axes>"
      ]
     },
     "metadata": {},
     "output_type": "display_data"
    }
   ],
   "source": [
    "draw_one_mol(reference_nx_graphs[2])\n",
    "print(reference_smiles_list[2])\n",
    "draw_one_mol(reference_nx_graphs[2])\n",
    "\n",
    "rdkit.Chem.Draw.MolToImage(mol = Chem.MolFromSmiles(reference_smiles_list[2]))\n"
   ]
  },
  {
   "cell_type": "code",
   "execution_count": 69,
   "metadata": {},
   "outputs": [
    {
     "data": {
      "text/plain": [
       "NodeDataView({0: {'label': 8, 'attr': [7, 0, 1, 5, 0, 0, 1, 0, 0], 'label_name': 'O'}, 1: {'label': 7, 'attr': [6, 0, 3, 6, 0, 0, 1, 0, 0], 'label_name': 'N'}, 2: {'label': 8, 'attr': [7, 0, 1, 4, 0, 0, 1, 0, 0], 'label_name': 'O'}, 3: {'label': 6, 'attr': [5, 0, 3, 5, 0, 0, 1, 1, 1], 'label_name': 'C'}, 4: {'label': 6, 'attr': [5, 0, 3, 5, 0, 0, 1, 1, 1], 'label_name': 'C'}, 5: {'label': 6, 'attr': [5, 0, 3, 5, 0, 0, 1, 1, 1], 'label_name': 'C'}, 6: {'label': 6, 'attr': [5, 0, 3, 5, 0, 0, 1, 1, 1], 'label_name': 'C'}, 7: {'label': 6, 'attr': [5, 0, 3, 5, 1, 0, 1, 1, 1], 'label_name': 'C'}, 8: {'label': 6, 'attr': [5, 0, 3, 5, 1, 0, 1, 1, 1], 'label_name': 'C'}, 9: {'label': 6, 'attr': [5, 0, 3, 5, 0, 0, 1, 1, 1], 'label_name': 'C'}, 10: {'label': 6, 'attr': [5, 0, 3, 5, 1, 0, 1, 1, 1], 'label_name': 'C'}, 11: {'label': 6, 'attr': [5, 0, 3, 5, 1, 0, 1, 1, 1], 'label_name': 'C'}, 12: {'label': 6, 'attr': [5, 0, 3, 5, 1, 0, 1, 1, 1], 'label_name': 'C'}, 13: {'label': 6, 'attr': [5, 0, 3, 5, 0, 0, 1, 1, 1], 'label_name': 'C'}, 14: {'label': 6, 'attr': [5, 0, 3, 5, 1, 0, 1, 1, 1], 'label_name': 'C'}, 15: {'label': 6, 'attr': [5, 0, 3, 5, 1, 0, 1, 1, 1], 'label_name': 'C'}, 16: {'label': 6, 'attr': [5, 0, 3, 5, 0, 0, 1, 1, 1], 'label_name': 'C'}, 17: {'label': 6, 'attr': [5, 0, 3, 5, 0, 0, 1, 1, 1], 'label_name': 'C'}, 18: {'label': 6, 'attr': [5, 0, 3, 5, 0, 0, 1, 1, 1], 'label_name': 'C'}, 19: {'label': 6, 'attr': [5, 0, 4, 5, 2, 0, 2, 0, 1], 'label_name': 'C'}, 20: {'label': 6, 'attr': [5, 0, 4, 5, 2, 0, 2, 0, 1], 'label_name': 'C'}, 21: {'label': 6, 'attr': [5, 0, 4, 5, 2, 0, 2, 0, 1], 'label_name': 'C'}, 22: {'label': 6, 'attr': [5, 0, 4, 5, 2, 0, 2, 0, 1], 'label_name': 'C'}})"
      ]
     },
     "execution_count": 69,
     "metadata": {},
     "output_type": "execute_result"
    }
   ],
   "source": [
    "reference_nx_graphs[0].nodes(data=True)"
   ]
  },
  {
   "cell_type": "code",
   "execution_count": 70,
   "metadata": {},
   "outputs": [
    {
     "data": {
      "text/plain": [
       "EdgeDataView([(0, 1, {'label': 2, 'attr': [1, 0, 1], 'edge_label': 'DOUBLE'}), (1, 2, {'label': 1, 'attr': [0, 0, 1], 'edge_label': 'SINGLE'}), (1, 3, {'label': 1, 'attr': [0, 0, 1], 'edge_label': 'SINGLE'}), (3, 4, {'label': 1, 'attr': [3, 0, 1], 'edge_label': 'AROMATIC'}), (3, 16, {'label': 1, 'attr': [3, 0, 1], 'edge_label': 'AROMATIC'}), (4, 5, {'label': 1, 'attr': [3, 0, 1], 'edge_label': 'AROMATIC'}), (4, 22, {'label': 1, 'attr': [0, 0, 0], 'edge_label': 'SINGLE'}), (5, 6, {'label': 1, 'attr': [3, 0, 1], 'edge_label': 'AROMATIC'}), (5, 19, {'label': 1, 'attr': [0, 0, 0], 'edge_label': 'SINGLE'}), (6, 7, {'label': 1, 'attr': [3, 0, 1], 'edge_label': 'AROMATIC'}), (6, 17, {'label': 1, 'attr': [3, 0, 1], 'edge_label': 'AROMATIC'}), (7, 8, {'label': 1, 'attr': [3, 0, 1], 'edge_label': 'AROMATIC'}), (8, 9, {'label': 1, 'attr': [3, 0, 1], 'edge_label': 'AROMATIC'}), (9, 10, {'label': 1, 'attr': [3, 0, 1], 'edge_label': 'AROMATIC'}), (9, 18, {'label': 1, 'attr': [3, 0, 1], 'edge_label': 'AROMATIC'}), (10, 11, {'label': 1, 'attr': [3, 0, 1], 'edge_label': 'AROMATIC'}), (11, 12, {'label': 1, 'attr': [3, 0, 1], 'edge_label': 'AROMATIC'}), (12, 13, {'label': 1, 'attr': [3, 0, 1], 'edge_label': 'AROMATIC'}), (13, 14, {'label': 1, 'attr': [3, 0, 1], 'edge_label': 'AROMATIC'}), (13, 18, {'label': 1, 'attr': [3, 0, 1], 'edge_label': 'AROMATIC'}), (14, 15, {'label': 1, 'attr': [3, 0, 1], 'edge_label': 'AROMATIC'}), (15, 16, {'label': 1, 'attr': [3, 0, 1], 'edge_label': 'AROMATIC'}), (16, 17, {'label': 1, 'attr': [3, 0, 1], 'edge_label': 'AROMATIC'}), (17, 18, {'label': 1, 'attr': [3, 0, 1], 'edge_label': 'AROMATIC'}), (19, 20, {'label': 1, 'attr': [0, 0, 0], 'edge_label': 'SINGLE'}), (20, 21, {'label': 1, 'attr': [0, 0, 0], 'edge_label': 'SINGLE'}), (21, 22, {'label': 1, 'attr': [0, 0, 0], 'edge_label': 'SINGLE'})])"
      ]
     },
     "execution_count": 70,
     "metadata": {},
     "output_type": "execute_result"
    }
   ],
   "source": [
    "reference_nx_graphs[0].edges(data=True)"
   ]
  },
  {
   "attachments": {},
   "cell_type": "markdown",
   "metadata": {},
   "source": [
    "## Show\n"
   ]
  },
  {
   "cell_type": "code",
   "execution_count": 3,
   "metadata": {},
   "outputs": [],
   "source": [
    "current_smiles_datasets=['ames', 'bbb_martins', 'cyp1a2_veith', 'cyp2c19_veith','herg_karim','lipophilicity_astrazeneca']\n",
    "splits=['_25','_33','_40','_50']\n",
    "device=torch.device('cpu')\n",
    "structural_statistic=['WL', 'nspdk','degree','cluster', 'spectral']#'common_substructures']\n",
    "metrics_type=['nn', 'structural']#'molecular']\n",
    "#leave it blank to compute all the structural structures \n",
    "generators=['hiervae','wgan','stgg','moflow','gdss','jtnn','swingnn']\n",
    "\n"
   ]
  },
  {
   "cell_type": "code",
   "execution_count": 4,
   "metadata": {},
   "outputs": [
    {
     "name": "stdout",
     "output_type": "stream",
     "text": [
      "ames_25\n",
      "Now computing classifier based metrics\n",
      "WARNING:tensorflow:From C:\\Users\\cosmi\\AppData\\Local\\Packages\\PythonSoftwareFoundation.Python.3.11_qbz5n2kfra8p0\\LocalCache\\local-packages\\Python311\\site-packages\\tensorflow_gan\\python\\eval\\classifier_metrics.py:1157: calling map_fn_v2 (from tensorflow.python.ops.map_fn) with back_prop=False is deprecated and will be removed in a future version.\n",
      "Instructions for updating:\n",
      "back_prop=False is deprecated. Consider using tf.stop_gradient instead.\n",
      "Instead of:\n",
      "results = tf.map_fn(fn, elems, back_prop=False)\n",
      "Use:\n",
      "results = tf.nest.map_structure(tf.stop_gradient, tf.map_fn(fn, elems))\n",
      "Now computing structural based metrics\n",
      "{'activations_time': 0.4745817184448242, 'fid': 89.37352740009594, 'fid_time': 0.4916257858276367, 'kid': 5.7525334, 'kid_time': 41.67520999908447, 'precision': 0.9975980784627703, 'recall': 0.25216025137470544, 'f1_pr': 0.402578719623196, 'precision_time': 0.9364092350006104, 'recall_time': 0.9364092350006104, 'f1_pr_time': 0.9364092350006104, 'density': 0.9651721377101682, 'coverage': 0.13904163393558522, 'f1_dc': 0.24308286295937623, 'density_time': 0.6416990756988525, 'coverage_time': 0.6416990756988525, 'f1_dc_time': 0.6416990756988525, 'mmd_rbf': 0.484066367149353, 'mmd_rbf_time': 1.4535744190216064, 'mmd_linear': 66.20517, 'mmd_linear_time': 0.4745817184448242, 'wl_mmd': 0.0011858662106432986, 'wl_mmd_time': 3.564973831176758, 'nspdk_mmd': 0.08737609087136888, 'nspdk_mmd_time': 8.914185285568237, 'degree_mmd': 0.05763470496130352, 'degree_mmd_time': 78.351266, 'cluster_mmd': 0.0039769277227603705, 'cluster_mmd_time': 98.10683, 'spectral_mmd': 0.09585061153748553, 'spectral_mmd_time': 138.058168, 'dataset': 'ames_25', 'generator_name': 'hiervae'}\n",
      "ames_33\n",
      "Now computing classifier based metrics\n",
      "Now computing structural based metrics\n",
      "{'activations_time': 0.5243275165557861, 'fid': 82.80161407428758, 'fid_time': 0.5304958820343018, 'kid': 4.5584335, 'kid_time': 0.6263728141784668, 'precision': 0.989191353082466, 'recall': 0.14840989399293286, 'f1_pr': 0.25811254903967995, 'precision_time': 1.0389606952667236, 'recall_time': 1.0389606952667236, 'f1_pr_time': 1.0389606952667236, 'density': 0.9523618895116093, 'coverage': 0.11778563015312132, 'f1_dc': 0.20965922587574892, 'density_time': 0.8076567649841309, 'coverage_time': 0.8076567649841309, 'f1_dc_time': 0.8076567649841309, 'mmd_rbf': 0.45067381858825684, 'mmd_rbf_time': 1.8408973217010498, 'mmd_linear': 55.60174, 'mmd_linear_time': 0.5243275165557861, 'wl_mmd': 0.0009892484069705704, 'wl_mmd_time': 3.327969551086426, 'nspdk_mmd': 0.08830047609052574, 'nspdk_mmd_time': 11.157580852508545, 'degree_mmd': 0.0596997709586613, 'degree_mmd_time': 116.035234, 'cluster_mmd': 0.003077660913646474, 'cluster_mmd_time': 114.62513, 'spectral_mmd': 0.098540544330459, 'spectral_mmd_time': 161.369953, 'dataset': 'ames_33', 'generator_name': 'hiervae'}\n",
      "ames_40\n",
      "Now computing classifier based metrics\n",
      "Now computing structural based metrics\n",
      "{'activations_time': 0.5616064071655273, 'fid': 95.69807889260636, 'fid_time': 0.5681285858154297, 'kid': 6.0325127, 'kid_time': 0.6540732383728027, 'precision': 0.9771817453963171, 'recall': 0.1900785854616896, 'f1_pr': 0.31826630107043463, 'precision_time': 2.4645636081695557, 'recall_time': 2.4645636081695557, 'f1_pr_time': 2.4645636081695557, 'density': 0.8303442754203364, 'coverage': 0.12770137524557956, 'f1_dc': 0.22137457152601073, 'density_time': 0.905390739440918, 'coverage_time': 0.905390739440918, 'f1_dc_time': 0.905390739440918, 'mmd_rbf': 0.5066514611244202, 'mmd_rbf_time': 1.86680269241333, 'mmd_linear': 69.8575, 'mmd_linear_time': 0.5616064071655273, 'wl_mmd': 0.0008914793917648853, 'wl_mmd_time': 3.567352056503296, 'nspdk_mmd': 0.08954406217825842, 'nspdk_mmd_time': 13.36267876625061, 'degree_mmd': 0.06032289812677427, 'degree_mmd_time': 108.939206, 'cluster_mmd': 0.0030026717148694537, 'cluster_mmd_time': 134.348997, 'spectral_mmd': 0.09839552042182853, 'spectral_mmd_time': 179.343475, 'dataset': 'ames_40', 'generator_name': 'hiervae'}\n",
      "ames_50\n",
      "Now computing classifier based metrics\n",
      "Now computing structural based metrics\n",
      "Cannot compute these structural metrics\n",
      "{'activations_time': 0.667142391204834, 'fid': 89.76942522150546, 'fid_time': 0.67519211769104, 'kid': 5.9566536, 'kid_time': 0.7870833873748779, 'precision': 0.8594875900720577, 'recall': 0.1951315272870043, 'f1_pr': 0.3180683698631629, 'precision_time': 1.436547040939331, 'recall_time': 1.436547040939331, 'f1_pr_time': 1.436547040939331, 'density': 0.833546837469976, 'coverage': 0.11307420494699646, 'f1_dc': 0.19915069814161895, 'density_time': 1.1068167686462402, 'coverage_time': 1.1068167686462402, 'f1_dc_time': 1.1068167686462402, 'mmd_rbf': 0.48530101776123047, 'mmd_rbf_time': 2.299746513366699, 'mmd_linear': 67.98952, 'mmd_linear_time': 0.667142391204834, 'wl_mmd': 0.000792939023382035, 'wl_mmd_time': 4.384673833847046, 'nspdk_mmd': 0.08942939420333518, 'nspdk_mmd_time': 15.79987096786499, 'degree_mmd': 0.06025973895205472, 'degree_mmd_time': 145.176991, 'cluster_mmd': 0.0037524661099086476, 'cluster_mmd_time': 165.772752, 'dataset': 'ames_50', 'generator_name': 'hiervae'}\n",
      "bbb_martins_25\n",
      "Now computing classifier based metrics\n",
      "Now computing structural based metrics\n"
     ]
    }
   ],
   "source": [
    "device=torch.device('cpu')\n",
    "metrics={}\n",
    "for generator in generators:\n",
    "    for dataset_name in current_smiles_datasets:\n",
    "        for split in splits:\n",
    "            print(dataset_name+split)\n",
    "            train1_graphs , train1_targets,train2_graphs , train2_targets, test_graphs, test_targets  =get_data(dataset_name+split, return_smiles=False)\n",
    "            generated_graphs, generated_targets=get_generated_data(dataset_name,generator_name=generator)\n",
    "            splits_for_auc_roc=[train1_graphs , train1_targets,train2_graphs , train2_targets, test_graphs, test_targets, generated_graphs, generated_targets]\n",
    "            metrics=evaluate(train1_graphs, generated_graphs, device,  metrics_type, structural_statistic,*splits_for_auc_roc)\n",
    "            metrics['dataset']=dataset_name+split\n",
    "            metrics['generator_name']=generator\n",
    "            print(metrics)"
   ]
  },
  {
   "cell_type": "code",
   "execution_count": 3,
   "metadata": {},
   "outputs": [
    {
     "name": "stdout",
     "output_type": "stream",
     "text": [
      "ames_25\n",
      "Now computing classifier based metrics\n",
      "WARNING:tensorflow:From /Users/cosmina/Library/Python/3.9/lib/python/site-packages/tensorflow_gan/python/eval/classifier_metrics.py:1157: calling map_fn_v2 (from tensorflow.python.ops.map_fn) with back_prop=False is deprecated and will be removed in a future version.\n",
      "Instructions for updating:\n",
      "back_prop=False is deprecated. Consider using tf.stop_gradient instead.\n",
      "Instead of:\n",
      "results = tf.map_fn(fn, elems, back_prop=False)\n",
      "Use:\n",
      "results = tf.nest.map_structure(tf.stop_gradient, tf.map_fn(fn, elems))\n",
      "Now computing structural based metrics\n",
      "{'activations_time': 0.09497904777526855, 'fid': -2.05708658995718e-08, 'fid_time': 0.10605001449584961, 'kid': -1.0951546, 'kid_time': 4.503940105438232, 'precision': 1.0, 'recall': 1.0, 'f1_pr': 1.00001, 'precision_time': 0.5347938537597656, 'recall_time': 0.5347938537597656, 'f1_pr_time': 0.5347938537597656, 'density': 1.2001571091908878, 'coverage': 1.0, 'f1_dc': 1.0909840901883978, 'density_time': 0.31894588470458984, 'coverage_time': 0.31894588470458984, 'f1_dc_time': 0.31894588470458984, 'mmd_rbf': 0, 'mmd_rbf_time': 0.5747997760772705, 'mmd_linear': 0.0, 'mmd_linear_time': 0.09510588645935059, 'wl_mmd': 0.0015710919088766694, 'wl_mmd_time': 1.1218819618225098, 'nspdk_mmd': 0.0, 'nspdk_mmd_time': 14.322160959243774, 'degree_mmd': 0.0, 'degree_mmd_time': 26.819279, 'cluster_mmd': 0.0, 'cluster_mmd_time': 16.719982, 'spectral_mmd': 0.0, 'spectral_mmd_time': 29.594875, 'dataset': 'ames_25', 'generator_name': 'train1'}\n",
      "ames_33\n",
      "Now computing classifier based metrics\n",
      "Now computing structural based metrics\n",
      "{'activations_time': 0.13530516624450684, 'fid': 6.190589374455158e-09, 'fid_time': 1.0242242813110352, 'kid': -2.3686876, 'kid_time': 0.17930316925048828, 'precision': 1.0, 'recall': 1.0, 'f1_pr': 1.00001, 'precision_time': 2.538015365600586, 'recall_time': 2.538015365600586, 'f1_pr_time': 2.538015365600586, 'density': 1.2001177856301533, 'coverage': 1.0, 'f1_dc': 1.090967842783784, 'density_time': 3.5064542293548584, 'coverage_time': 3.5064542293548584, 'f1_dc_time': 3.5064542293548584, 'mmd_rbf': 0, 'mmd_rbf_time': 4.06897234916687, 'mmd_linear': 0.0, 'mmd_linear_time': 0.13540434837341309, 'wl_mmd': 0.001177856301531213, 'wl_mmd_time': 3.494804859161377, 'nspdk_mmd': 0.0, 'nspdk_mmd_time': 9.954582691192627, 'degree_mmd': 0.0, 'degree_mmd_time': 25.353816, 'cluster_mmd': 0.0, 'cluster_mmd_time': 45.66944, 'spectral_mmd': 0.0, 'spectral_mmd_time': 39.907798, 'dataset': 'ames_33', 'generator_name': 'train1'}\n",
      "ames_40\n",
      "Now computing classifier based metrics\n",
      "Now computing structural based metrics\n",
      "{'activations_time': 0.16597986221313477, 'fid': -2.18926743400516e-09, 'fid_time': 0.17082500457763672, 'kid': -0.034701943, 'kid_time': 0.2794160842895508, 'precision': 1.0, 'recall': 1.0, 'f1_pr': 1.00001, 'precision_time': 3.4787509441375732, 'recall_time': 3.4787509441375732, 'f1_pr_time': 3.4787509441375732, 'density': 1.200294695481336, 'coverage': 1.0, 'f1_dc': 1.0910409324569021, 'density_time': 2.5382769107818604, 'coverage_time': 2.5382769107818604, 'f1_dc_time': 2.5382769107818604, 'mmd_rbf': 0, 'mmd_rbf_time': 3.585052728652954, 'mmd_linear': 0.0, 'mmd_linear_time': 0.16608595848083496, 'wl_mmd': 0.0009823182711198428, 'wl_mmd_time': 2.3086118698120117, 'nspdk_mmd': 0.0, 'nspdk_mmd_time': 13.547586917877197, 'degree_mmd': 0.0, 'degree_mmd_time': 42.095605, 'cluster_mmd': 0.0, 'cluster_mmd_time': 43.26541, 'spectral_mmd': 0.0, 'spectral_mmd_time': 74.356568, 'dataset': 'ames_40', 'generator_name': 'train1'}\n",
      "ames_50\n",
      "Now computing classifier based metrics\n",
      "Now computing structural based metrics\n",
      "{'activations_time': 0.18601584434509277, 'fid': -6.056950496713398e-09, 'fid_time': 0.21403098106384277, 'kid': -0.23147695, 'kid_time': 0.3032097816467285, 'precision': 1.0, 'recall': 1.0, 'f1_pr': 1.00001, 'precision_time': 0.9004929065704346, 'recall_time': 0.9004929065704346, 'f1_pr_time': 0.9004929065704346, 'density': 1.2002355712603063, 'coverage': 1.0, 'f1_dc': 1.0910165068038087, 'density_time': 0.6604719161987305, 'coverage_time': 0.6604719161987305, 'f1_dc_time': 0.6604719161987305, 'mmd_rbf': 0, 'mmd_rbf_time': 1.373687744140625, 'mmd_linear': 0.0, 'mmd_linear_time': 0.18614602088928223, 'wl_mmd': 0.0007852375343541421, 'wl_mmd_time': 6.2973620891571045, 'nspdk_mmd': 0.0, 'nspdk_mmd_time': 14.61179804801941, 'degree_mmd': 0.0, 'degree_mmd_time': 55.755841, 'cluster_mmd': 0.0, 'cluster_mmd_time': 69.282173, 'spectral_mmd': 0.0, 'spectral_mmd_time': 116.416862, 'dataset': 'ames_50', 'generator_name': 'train1'}\n",
      "bbb_martins_25\n",
      "Now computing classifier based metrics\n",
      "Now computing structural based metrics\n",
      "{'activations_time': 0.03544306755065918, 'fid': 4.073746140420553e-08, 'fid_time': 0.04265117645263672, 'kid': -0.5708357, 'kid_time': 0.07246637344360352, 'precision': 1.0, 'recall': 1.0, 'f1_pr': 1.00001, 'precision_time': 0.15455007553100586, 'recall_time': 0.15455007553100586, 'f1_pr_time': 0.15455007553100586, 'density': 1.2000000000000002, 'coverage': 1.0, 'f1_dc': 1.090919173552968, 'density_time': 0.13483500480651855, 'coverage_time': 0.13483500480651855, 'f1_dc_time': 0.13483500480651855, 'mmd_rbf': 0, 'mmd_rbf_time': 0.18179011344909668, 'mmd_linear': 0.0, 'mmd_linear_time': 0.03549695014953613, 'wl_mmd': 0.005633802816901409, 'wl_mmd_time': 0.39182114601135254, 'nspdk_mmd': 0.0, 'nspdk_mmd_time': 4.519932985305786, 'degree_mmd': 0.0, 'degree_mmd_time': 7.57338, 'cluster_mmd': 0.0, 'cluster_mmd_time': 9.510879, 'spectral_mmd': 0.0, 'spectral_mmd_time': 10.215501, 'dataset': 'bbb_martins_25', 'generator_name': 'train1'}\n",
      "bbb_martins_33\n",
      "Now computing classifier based metrics\n",
      "Now computing structural based metrics\n",
      "{'activations_time': 0.04679417610168457, 'fid': 2.7917991474168957e-08, 'fid_time': 0.05137228965759277, 'kid': -0.17480898, 'kid_time': 0.1414632797241211, 'precision': 1.0, 'recall': 1.0, 'f1_pr': 1.00001, 'precision_time': 0.2605772018432617, 'recall_time': 0.2605772018432617, 'f1_pr_time': 0.2605772018432617, 'density': 1.200845665961945, 'coverage': 1.0, 'f1_dc': 1.0912684886596515, 'density_time': 0.1858530044555664, 'coverage_time': 0.1858530044555664, 'f1_dc_time': 0.1858530044555664, 'mmd_rbf': 0, 'mmd_rbf_time': 0.24909734725952148, 'mmd_linear': 0.0, 'mmd_linear_time': 0.04685831069946289, 'wl_mmd': 0.004228329809725159, 'wl_mmd_time': 0.5471549034118652, 'nspdk_mmd': 0.0, 'nspdk_mmd_time': 6.667998313903809, 'degree_mmd': 0.0, 'degree_mmd_time': 12.122227, 'cluster_mmd': 0.0, 'cluster_mmd_time': 12.916984, 'spectral_mmd': 0.0, 'spectral_mmd_time': 26.058308, 'dataset': 'bbb_martins_33', 'generator_name': 'train1'}\n",
      "bbb_martins_40\n",
      "Now computing classifier based metrics\n",
      "Now computing structural based metrics\n",
      "{'activations_time': 0.05884194374084473, 'fid': 1.0201475220128486e-08, 'fid_time': 0.06073498725891113, 'kid': -0.5868162, 'kid_time': 0.09444212913513184, 'precision': 1.0, 'recall': 1.0, 'f1_pr': 1.00001, 'precision_time': 0.20475387573242188, 'recall_time': 0.20475387573242188, 'f1_pr_time': 0.20475387573242188, 'density': 1.2007042253521127, 'coverage': 1.0, 'f1_dc': 1.0912100831736442, 'density_time': 0.14453721046447754, 'coverage_time': 0.14453721046447754, 'f1_dc_time': 0.14453721046447754, 'mmd_rbf': 0, 'mmd_rbf_time': 0.1960761547088623, 'mmd_linear': 0.0, 'mmd_linear_time': 0.05890488624572754, 'wl_mmd': 0.0035211267605633804, 'wl_mmd_time': 0.6685009002685547, 'nspdk_mmd': 0.0, 'nspdk_mmd_time': 5.150732040405273, 'degree_mmd': 0.0, 'degree_mmd_time': 11.262673, 'cluster_mmd': 0.0, 'cluster_mmd_time': 10.271811, 'spectral_mmd': 0.0, 'spectral_mmd_time': 12.01753, 'dataset': 'bbb_martins_40', 'generator_name': 'train1'}\n",
      "bbb_martins_50\n",
      "Now computing classifier based metrics\n",
      "Now computing structural based metrics\n",
      "{'activations_time': 0.06314802169799805, 'fid': -3.6572771477949573e-09, 'fid_time': 0.10181021690368652, 'kid': -0.069545746, 'kid_time': 0.07971811294555664, 'precision': 1.0, 'recall': 1.0, 'f1_pr': 1.00001, 'precision_time': 0.3018178939819336, 'recall_time': 0.3018178939819336, 'f1_pr_time': 0.3018178939819336, 'density': 1.2005633802816904, 'coverage': 1.0, 'f1_dc': 1.0911519161448995, 'density_time': 0.1757049560546875, 'coverage_time': 0.1757049560546875, 'f1_dc_time': 0.1757049560546875, 'mmd_rbf': 0, 'mmd_rbf_time': 0.34372401237487793, 'mmd_linear': 0.0, 'mmd_linear_time': 0.0632169246673584, 'wl_mmd': 0.0028169014084507044, 'wl_mmd_time': 2.4520978927612305, 'nspdk_mmd': 0.0, 'nspdk_mmd_time': 13.738681077957153, 'degree_mmd': 0.0, 'degree_mmd_time': 9.04927, 'cluster_mmd': 0.0, 'cluster_mmd_time': 11.201355, 'spectral_mmd': 0.0, 'spectral_mmd_time': 15.833862, 'dataset': 'bbb_martins_50', 'generator_name': 'train1'}\n",
      "cyp1a2_veith_25\n",
      "Now computing classifier based metrics\n",
      "Now computing structural based metrics\n",
      "{'activations_time': 0.17763805389404297, 'fid': 6.334147428788128e-09, 'fid_time': 0.20486688613891602, 'kid': -1.7042879, 'kid_time': 0.25136303901672363, 'precision': 1.0, 'recall': 1.0, 'f1_pr': 1.00001, 'precision_time': 0.8092062473297119, 'recall_time': 0.8092062473297119, 'f1_pr_time': 0.8092062473297119, 'density': 1.2000000000000002, 'coverage': 1.0, 'f1_dc': 1.090919173552968, 'density_time': 0.6050212383270264, 'coverage_time': 0.6050212383270264, 'f1_dc_time': 0.6050212383270264, 'mmd_rbf': 0, 'mmd_rbf_time': 1.1872100830078125, 'mmd_linear': 0.0, 'mmd_linear_time': 0.17775678634643555, 'wl_mmd': 0.0009090909090909091, 'wl_mmd_time': 5.679750919342041, 'nspdk_mmd': 0.0, 'nspdk_mmd_time': 21.444586038589478, 'degree_mmd': 0.0, 'degree_mmd_time': 50.411144, 'cluster_mmd': 0.0, 'cluster_mmd_time': 44.260371, 'spectral_mmd': 0.0, 'spectral_mmd_time': 104.849771, 'dataset': 'cyp1a2_veith_25', 'generator_name': 'train1'}\n",
      "cyp1a2_veith_33\n",
      "Now computing classifier based metrics\n",
      "Now computing structural based metrics\n",
      "{'activations_time': 0.2346658706665039, 'fid': 1.1319073678350833e-08, 'fid_time': 0.2776498794555664, 'kid': -0.325704, 'kid_time': 0.33818888664245605, 'precision': 1.0, 'recall': 1.0, 'f1_pr': 1.00001, 'precision_time': 1.1126708984375, 'recall_time': 1.1126708984375, 'f1_pr_time': 1.1126708984375, 'density': 1.2000000000000002, 'coverage': 1.0, 'f1_dc': 1.090919173552968, 'density_time': 0.662848949432373, 'coverage_time': 0.662848949432373, 'f1_dc_time': 0.662848949432373, 'mmd_rbf': 0, 'mmd_rbf_time': 1.6352267265319824, 'mmd_linear': 0.0, 'mmd_linear_time': 0.23480796813964844, 'wl_mmd': 0.0006816632583503749, 'wl_mmd_time': 4.091817378997803, 'nspdk_mmd': 0.0, 'nspdk_mmd_time': 35.82878494262695, 'degree_mmd': 0.0, 'degree_mmd_time': 67.869292, 'cluster_mmd': 0.0, 'cluster_mmd_time': 91.418654, 'spectral_mmd': 0.0, 'spectral_mmd_time': 142.519551, 'dataset': 'cyp1a2_veith_33', 'generator_name': 'train1'}\n",
      "cyp1a2_veith_40\n",
      "Now computing classifier based metrics\n",
      "Now computing structural based metrics\n",
      "{'activations_time': 0.2694530487060547, 'fid': 3.6592808783098008e-09, 'fid_time': 0.3034861087799072, 'kid': -1.027406, 'kid_time': 0.3804738521575928, 'precision': 1.0, 'recall': 1.0, 'f1_pr': 1.00001, 'precision_time': 1.2494049072265625, 'recall_time': 1.2494049072265625, 'f1_pr_time': 1.2494049072265625, 'density': 1.2000000000000002, 'coverage': 1.0, 'f1_dc': 1.090919173552968, 'density_time': 0.9319789409637451, 'coverage_time': 0.9319789409637451, 'f1_dc_time': 0.9319789409637451, 'mmd_rbf': 0, 'mmd_rbf_time': 2.250913143157959, 'mmd_linear': 0.0, 'mmd_linear_time': 0.26961708068847656, 'wl_mmd': 0.0005683432793407218, 'wl_mmd_time': 10.946004152297974, 'nspdk_mmd': 0.0, 'nspdk_mmd_time': 48.24010229110718, 'degree_mmd': 0.0, 'degree_mmd_time': 89.500095, 'cluster_mmd': 0.0, 'cluster_mmd_time': 141.293135, 'spectral_mmd': 0.0, 'spectral_mmd_time': 197.783346, 'dataset': 'cyp1a2_veith_40', 'generator_name': 'train1'}\n",
      "cyp1a2_veith_50\n",
      "Now computing classifier based metrics\n",
      "Now computing structural based metrics\n",
      "{'activations_time': 0.8190672397613525, 'fid': 9.173106718662893e-11, 'fid_time': 0.9155471324920654, 'kid': -4.6440635, 'kid_time': 1.040804147720337, 'precision': 1.0, 'recall': 1.0, 'f1_pr': 1.00001, 'precision_time': 3.6505250930786133, 'recall_time': 3.6505250930786133, 'f1_pr_time': 3.6505250930786133, 'density': 1.2000454442172235, 'coverage': 1.0, 'f1_dc': 1.0909379518013802, 'density_time': 1.6889500617980957, 'coverage_time': 1.6889500617980957, 'f1_dc_time': 1.6889500617980957, 'mmd_rbf': 0, 'mmd_rbf_time': 3.738952398300171, 'mmd_linear': 0.0, 'mmd_linear_time': 0.8192572593688965, 'wl_mmd': 0.0004544421722335833, 'wl_mmd_time': 8.37305212020874, 'nspdk_mmd': 0.0, 'nspdk_mmd_time': 61.434659242630005, 'degree_mmd': 0.0, 'degree_mmd_time': 145.863456, 'cluster_mmd': 0.0, 'cluster_mmd_time': 239.505167, 'spectral_mmd': 0.0, 'spectral_mmd_time': 344.842278, 'dataset': 'cyp1a2_veith_50', 'generator_name': 'train1'}\n",
      "cyp2c19_veith_25\n",
      "Now computing classifier based metrics\n",
      "Now computing structural based metrics\n",
      "{'activations_time': 0.21239018440246582, 'fid': 8.840231657814002e-09, 'fid_time': 0.22312092781066895, 'kid': -0.18167154, 'kid_time': 0.2621731758117676, 'precision': 1.0, 'recall': 1.0, 'f1_pr': 1.00001, 'precision_time': 0.585860013961792, 'recall_time': 0.585860013961792, 'f1_pr_time': 0.585860013961792, 'density': 1.2000000000000002, 'coverage': 1.0, 'f1_dc': 1.090919173552968, 'density_time': 0.44782114028930664, 'coverage_time': 0.44782114028930664, 'f1_dc_time': 0.44782114028930664, 'mmd_rbf': 0, 'mmd_rbf_time': 1.1593811511993408, 'mmd_linear': 0.0, 'mmd_linear_time': 0.21251821517944336, 'wl_mmd': 0.0009029345372460496, 'wl_mmd_time': 3.8256380558013916, 'nspdk_mmd': 0.0, 'nspdk_mmd_time': 19.986786127090454, 'degree_mmd': 0.0, 'degree_mmd_time': 44.743632, 'cluster_mmd': 0.0, 'cluster_mmd_time': 53.065291, 'spectral_mmd': 0.0, 'spectral_mmd_time': 85.379024, 'dataset': 'cyp2c19_veith_25', 'generator_name': 'train1'}\n",
      "cyp2c19_veith_33\n",
      "Now computing classifier based metrics\n",
      "Now computing structural based metrics\n",
      "{'activations_time': 0.24450421333312988, 'fid': -1.528121629235102e-08, 'fid_time': 0.27405714988708496, 'kid': -0.65805364, 'kid_time': 0.34546804428100586, 'precision': 1.0, 'recall': 1.0, 'f1_pr': 1.00001, 'precision_time': 1.040642499923706, 'recall_time': 1.040642499923706, 'f1_pr_time': 1.040642499923706, 'density': 1.2000000000000002, 'coverage': 1.0, 'f1_dc': 1.090919173552968, 'density_time': 0.7091221809387207, 'coverage_time': 0.7091221809387207, 'f1_dc_time': 0.7091221809387207, 'mmd_rbf': 0, 'mmd_rbf_time': 1.6030924320220947, 'mmd_linear': 0.0, 'mmd_linear_time': 0.24464917182922363, 'wl_mmd': 0.0006768189509306261, 'wl_mmd_time': 5.293338060379028, 'nspdk_mmd': 0.0, 'nspdk_mmd_time': 39.735357999801636, 'degree_mmd': 0.0, 'degree_mmd_time': 70.233154, 'cluster_mmd': 0.0, 'cluster_mmd_time': 94.451689, 'spectral_mmd': 0.0, 'spectral_mmd_time': 147.765238, 'dataset': 'cyp2c19_veith_33', 'generator_name': 'train1'}\n",
      "cyp2c19_veith_40\n",
      "Now computing classifier based metrics\n",
      "Now computing structural based metrics\n",
      "{'activations_time': 0.8168861865997314, 'fid': 6.53442100428947e-09, 'fid_time': 0.8830821514129639, 'kid': -0.40289307, 'kid_time': 0.9667501449584961, 'precision': 1.0, 'recall': 1.0, 'f1_pr': 1.00001, 'precision_time': 5.33414888381958, 'recall_time': 5.33414888381958, 'f1_pr_time': 5.33414888381958, 'density': 1.2000000000000002, 'coverage': 1.0, 'f1_dc': 1.090919173552968, 'density_time': 4.511984348297119, 'coverage_time': 4.511984348297119, 'f1_dc_time': 4.511984348297119, 'mmd_rbf': 0, 'mmd_rbf_time': 7.11588716506958, 'mmd_linear': 0.0, 'mmd_linear_time': 0.8170630931854248, 'wl_mmd': 0.0005644933672029354, 'wl_mmd_time': 5.2159130573272705, 'nspdk_mmd': 0.0, 'nspdk_mmd_time': 51.35476207733154, 'degree_mmd': 0.0, 'degree_mmd_time': 93.162514, 'cluster_mmd': 0.0, 'cluster_mmd_time': 147.160901, 'spectral_mmd': 0.0, 'spectral_mmd_time': 214.828012, 'dataset': 'cyp2c19_veith_40', 'generator_name': 'train1'}\n",
      "cyp2c19_veith_50\n",
      "Now computing classifier based metrics\n",
      "Now computing structural based metrics\n",
      "{'activations_time': 0.9188809394836426, 'fid': 2.093315742968116e-09, 'fid_time': 0.9521520137786865, 'kid': -0.6979741, 'kid_time': 1.0724897384643555, 'precision': 1.0, 'recall': 1.0, 'f1_pr': 1.00001, 'precision_time': 2.547492742538452, 'recall_time': 2.547492742538452, 'f1_pr_time': 2.547492742538452, 'density': 1.2000000000000002, 'coverage': 1.0, 'f1_dc': 1.090919173552968, 'density_time': 7.969446897506714, 'coverage_time': 7.969446897506714, 'f1_dc_time': 7.969446897506714, 'mmd_rbf': 0, 'mmd_rbf_time': 8.847251892089844, 'mmd_linear': 0.0, 'mmd_linear_time': 0.9190819263458252, 'wl_mmd': 0.00045116174148432213, 'wl_mmd_time': 8.638872623443604, 'nspdk_mmd': 0.0, 'nspdk_mmd_time': 51.811614990234375, 'degree_mmd': 0.0, 'degree_mmd_time': 152.020464, 'cluster_mmd': 0.0, 'cluster_mmd_time': 232.21819, 'spectral_mmd': 0.0, 'spectral_mmd_time': 232.532863, 'dataset': 'cyp2c19_veith_50', 'generator_name': 'train1'}\n",
      "herg_karim_25\n",
      "Now computing classifier based metrics\n",
      "Now computing structural based metrics\n",
      "{'activations_time': 0.20145010948181152, 'fid': -5.3180997383606154e-09, 'fid_time': 0.20501399040222168, 'kid': -0.12673347, 'kid_time': 0.2938392162322998, 'precision': 1.0, 'recall': 1.0, 'f1_pr': 1.00001, 'precision_time': 0.5274651050567627, 'recall_time': 0.5274651050567627, 'f1_pr_time': 0.5274651050567627, 'density': 1.2000000000000002, 'coverage': 1.0, 'f1_dc': 1.090919173552968, 'density_time': 0.41612696647644043, 'coverage_time': 0.41612696647644043, 'f1_dc_time': 0.41612696647644043, 'mmd_rbf': 0, 'mmd_rbf_time': 0.9764072895050049, 'mmd_linear': 0.0, 'mmd_linear_time': 0.20157527923583984, 'wl_mmd': 0.0008499787505312367, 'wl_mmd_time': 3.7204980850219727, 'nspdk_mmd': 0.0, 'nspdk_mmd_time': 26.149626970291138, 'degree_mmd': 0.0, 'degree_mmd_time': 33.759578, 'cluster_mmd': 0.0, 'cluster_mmd_time': 44.261673, 'spectral_mmd': 0.0, 'spectral_mmd_time': 63.950594, 'dataset': 'herg_karim_25', 'generator_name': 'train1'}\n",
      "herg_karim_33\n",
      "Now computing classifier based metrics\n",
      "Now computing structural based metrics\n",
      "{'activations_time': 0.28055500984191895, 'fid': -2.612637217680458e-09, 'fid_time': 0.2955210208892822, 'kid': -0.7041925, 'kid_time': 0.4351229667663574, 'precision': 1.0, 'recall': 1.0, 'f1_pr': 1.00001, 'precision_time': 0.884591817855835, 'recall_time': 0.884591817855835, 'f1_pr_time': 0.884591817855835, 'density': 1.2000637551801085, 'coverage': 1.0, 'f1_dc': 1.090945517953171, 'density_time': 0.6303679943084717, 'coverage_time': 0.6303679943084717, 'f1_dc_time': 0.6303679943084717, 'mmd_rbf': 0, 'mmd_rbf_time': 1.5464849472045898, 'mmd_linear': 0.0, 'mmd_linear_time': 0.28070878982543945, 'wl_mmd': 0.000637551801083838, 'wl_mmd_time': 5.187176942825317, 'nspdk_mmd': 0.0, 'nspdk_mmd_time': 35.144603967666626, 'degree_mmd': 0.0, 'degree_mmd_time': 54.894885, 'cluster_mmd': 0.0, 'cluster_mmd_time': 76.46194, 'spectral_mmd': 0.0, 'spectral_mmd_time': 108.910618, 'dataset': 'herg_karim_33', 'generator_name': 'train1'}\n",
      "herg_karim_40\n",
      "Now computing classifier based metrics\n",
      "Now computing structural based metrics\n",
      "{'activations_time': 0.338824987411499, 'fid': -5.23542098562757e-10, 'fid_time': 0.34188008308410645, 'kid': -1.1846261, 'kid_time': 0.4590587615966797, 'precision': 1.0, 'recall': 1.0, 'f1_pr': 1.00001, 'precision_time': 1.1390631198883057, 'recall_time': 1.1390631198883057, 'f1_pr_time': 1.1390631198883057, 'density': 1.200106269925611, 'coverage': 1.0, 'f1_dc': 1.0909630847041232, 'density_time': 0.7943539619445801, 'coverage_time': 0.7943539619445801, 'f1_dc_time': 0.7943539619445801, 'mmd_rbf': 0, 'mmd_rbf_time': 2.0951650142669678, 'mmd_linear': 0.0, 'mmd_linear_time': 0.3389878273010254, 'wl_mmd': 0.0005313496280552603, 'wl_mmd_time': 6.457216024398804, 'nspdk_mmd': 0.0, 'nspdk_mmd_time': 42.73132514953613, 'degree_mmd': 0.0, 'degree_mmd_time': 78.400226, 'cluster_mmd': 0.0, 'cluster_mmd_time': 111.685644, 'spectral_mmd': 0.0, 'spectral_mmd_time': 156.617175, 'dataset': 'herg_karim_40', 'generator_name': 'train1'}\n",
      "herg_karim_50\n",
      "Now computing classifier based metrics\n",
      "Now computing structural based metrics\n",
      "{'activations_time': 1.045517921447754, 'fid': 6.500471272374853e-10, 'fid_time': 1.0488181114196777, 'kid': -0.7575699, 'kid_time': 1.2351789474487305, 'precision': 1.0, 'recall': 1.0, 'f1_pr': 1.00001, 'precision_time': 2.2375738620758057, 'recall_time': 2.2375738620758057, 'f1_pr_time': 2.2375738620758057, 'density': 1.2001274968125797, 'coverage': 1.0, 'f1_dc': 1.0909718552290162, 'density_time': 1.7492930889129639, 'coverage_time': 1.7492930889129639, 'f1_dc_time': 1.7492930889129639, 'mmd_rbf': 0, 'mmd_rbf_time': 3.630979061126709, 'mmd_linear': 0.0, 'mmd_linear_time': 1.045712947845459, 'wl_mmd': 0.00042498937526561835, 'wl_mmd_time': 8.420717000961304, 'nspdk_mmd': 0.0, 'nspdk_mmd_time': 54.19461393356323, 'degree_mmd': 0.0, 'degree_mmd_time': 117.301068, 'cluster_mmd': 0.0, 'cluster_mmd_time': 186.737711, 'spectral_mmd': 0.0, 'spectral_mmd_time': 262.265011, 'dataset': 'herg_karim_50', 'generator_name': 'train1'}\n",
      "lipophilicity_astrazeneca_25\n",
      "Now computing classifier based metrics\n",
      "Now computing structural based metrics\n",
      "{'activations_time': 0.07199311256408691, 'fid': -7.704230142735469e-09, 'fid_time': 0.07332587242126465, 'kid': -0.35381842, 'kid_time': 0.12285923957824707, 'precision': 1.0, 'recall': 1.0, 'f1_pr': 1.00001, 'precision_time': 0.18450522422790527, 'recall_time': 0.18450522422790527, 'f1_pr_time': 0.18450522422790527, 'density': 1.2000000000000002, 'coverage': 1.0, 'f1_dc': 1.090919173552968, 'density_time': 0.12755727767944336, 'coverage_time': 0.12755727767944336, 'f1_dc_time': 0.12755727767944336, 'mmd_rbf': 0, 'mmd_rbf_time': 0.1985032558441162, 'mmd_linear': 0.0, 'mmd_linear_time': 0.07205605506896973, 'wl_mmd': 0.0027210884353741495, 'wl_mmd_time': 0.9460461139678955, 'nspdk_mmd': 0.0, 'nspdk_mmd_time': 6.918684959411621, 'degree_mmd': 0.0, 'degree_mmd_time': 9.135809, 'cluster_mmd': 0.0, 'cluster_mmd_time': 10.481192, 'spectral_mmd': 0.0, 'spectral_mmd_time': 13.345146, 'dataset': 'lipophilicity_astrazeneca_25', 'generator_name': 'train1'}\n",
      "lipophilicity_astrazeneca_33\n",
      "Now computing classifier based metrics\n",
      "Now computing structural based metrics\n",
      "{'activations_time': 0.10126471519470215, 'fid': -7.413589742100157e-09, 'fid_time': 0.11221861839294434, 'kid': -0.05955577, 'kid_time': 0.14524459838867188, 'precision': 1.0, 'recall': 1.0, 'f1_pr': 1.00001, 'precision_time': 0.258908748626709, 'recall_time': 0.258908748626709, 'f1_pr_time': 0.258908748626709, 'density': 1.2000000000000002, 'coverage': 1.0, 'f1_dc': 1.090919173552968, 'density_time': 0.20119571685791016, 'coverage_time': 0.20119571685791016, 'f1_dc_time': 0.20119571685791016, 'mmd_rbf': 0, 'mmd_rbf_time': 0.2790687084197998, 'mmd_linear': 0.0, 'mmd_linear_time': 0.10133695602416992, 'wl_mmd': 0.0020408163265306124, 'wl_mmd_time': 1.2693462371826172, 'nspdk_mmd': 0.0, 'nspdk_mmd_time': 9.22746205329895, 'degree_mmd': 0.0, 'degree_mmd_time': 11.397254, 'cluster_mmd': 0.0, 'cluster_mmd_time': 13.749398, 'spectral_mmd': 0.0, 'spectral_mmd_time': 18.044245, 'dataset': 'lipophilicity_astrazeneca_33', 'generator_name': 'train1'}\n",
      "lipophilicity_astrazeneca_40\n",
      "Now computing classifier based metrics\n",
      "Now computing structural based metrics\n",
      "{'activations_time': 0.12214303016662598, 'fid': -4.76546802019584e-09, 'fid_time': 0.12360787391662598, 'kid': -0.4927895, 'kid_time': 0.18167519569396973, 'precision': 1.0, 'recall': 1.0, 'f1_pr': 1.00001, 'precision_time': 0.3053750991821289, 'recall_time': 0.3053750991821289, 'f1_pr_time': 0.3053750991821289, 'density': 1.200170068027211, 'coverage': 1.0, 'f1_dc': 1.090989444292908, 'density_time': 0.20214605331420898, 'coverage_time': 0.20214605331420898, 'f1_dc_time': 0.20214605331420898, 'mmd_rbf': 0, 'mmd_rbf_time': 0.3890538215637207, 'mmd_linear': 0.0, 'mmd_linear_time': 0.12222981452941895, 'wl_mmd': 0.0017006802721088435, 'wl_mmd_time': 1.5655632019042969, 'nspdk_mmd': 0.0, 'nspdk_mmd_time': 10.955263137817383, 'degree_mmd': 0.0, 'degree_mmd_time': 13.322906, 'cluster_mmd': 0.0, 'cluster_mmd_time': 17.519411, 'spectral_mmd': 0.0, 'spectral_mmd_time': 22.566052, 'dataset': 'lipophilicity_astrazeneca_40', 'generator_name': 'train1'}\n",
      "lipophilicity_astrazeneca_50\n",
      "Now computing classifier based metrics\n",
      "Now computing structural based metrics\n",
      "{'activations_time': 0.1528010368347168, 'fid': -5.132221758685773e-08, 'fid_time': 0.15599513053894043, 'kid': -0.53940237, 'kid_time': 0.2116379737854004, 'precision': 1.0, 'recall': 1.0, 'f1_pr': 1.00001, 'precision_time': 0.33333826065063477, 'recall_time': 0.33333826065063477, 'f1_pr_time': 0.33333826065063477, 'density': 1.2000000000000002, 'coverage': 1.0, 'f1_dc': 1.090919173552968, 'density_time': 0.24823594093322754, 'coverage_time': 0.24823594093322754, 'f1_dc_time': 0.24823594093322754, 'mmd_rbf': 0, 'mmd_rbf_time': 0.52779221534729, 'mmd_linear': 0.0, 'mmd_linear_time': 0.1528911590576172, 'wl_mmd': 0.0013605442176870747, 'wl_mmd_time': 2.0046920776367188, 'nspdk_mmd': 0.0, 'nspdk_mmd_time': 13.837071895599365, 'degree_mmd': 0.0, 'degree_mmd_time': 17.90733, 'cluster_mmd': 0.0, 'cluster_mmd_time': 22.254548, 'spectral_mmd': 0.0, 'spectral_mmd_time': 30.712938, 'dataset': 'lipophilicity_astrazeneca_50', 'generator_name': 'train1'}\n"
     ]
    }
   ],
   "source": [
    "device=torch.device('cpu')\n",
    "metrics={}\n",
    "for generator in ['train1']:\n",
    "    for dataset_name in current_smiles_datasets:\n",
    "        for split in splits:\n",
    "            print(dataset_name+split)\n",
    "            train1_graphs , train1_targets,train2_graphs , train2_targets, test_graphs, test_targets  =get_data(dataset_name+split, return_smiles=False)\n",
    "            generated_graphs, generated_targets=train1_graphs,train1_targets\n",
    "            splits_for_auc_roc=[train1_graphs , train1_targets,train2_graphs , train2_targets, test_graphs, test_targets, generated_graphs, generated_targets]\n",
    "            metrics=evaluate(train1_graphs, generated_graphs, device,  metrics_type, structural_statistic,*splits_for_auc_roc)\n",
    "            metrics['dataset']=dataset_name+split\n",
    "            metrics['generator_name']=generator\n",
    "            print(metrics)"
   ]
  },
  {
   "cell_type": "code",
   "execution_count": 20,
   "metadata": {},
   "outputs": [
    {
     "name": "stdout",
     "output_type": "stream",
     "text": [
      "ames_25\n",
      "Now computing classifier based metrics\n",
      "Now computing structural based metrics\n",
      "{'activations_time': 0.10030484199523926, 'fid': 4.865800534791404, 'fid_time': 0.10283994674682617, 'kid': 0.19350207, 'kid_time': 0.1501750946044922, 'precision': 0.9685781618224666, 'recall': 0.9732914375490966, 'f1_pr': 0.9709390797498794, 'precision_time': 0.2710459232330322, 'recall_time': 0.2710459232330322, 'f1_pr_time': 0.2710459232330322, 'density': 0.9538098978790259, 'coverage': 0.9536527886881383, 'f1_dc': 0.9537413368134584, 'density_time': 0.20402002334594727, 'coverage_time': 0.20402002334594727, 'f1_dc_time': 0.20402002334594727, 'mmd_rbf': 0.001806885004043579, 'mmd_rbf_time': 0.40337681770324707, 'mmd_linear': 0.103768684, 'mmd_linear_time': 0.10039353370666504, 'wl_mmd': 0.0015710919088766694, 'wl_mmd_time': 1.1708450317382812, 'nspdk_mmd': 0.0014388091537828052, 'nspdk_mmd_time': 7.240663766860962, 'degree_mmd': 0.00026359444890333705, 'degree_mmd_time': 13.983711, 'cluster_mmd': 7.422813866786449e-05, 'cluster_mmd_time': 16.410204, 'spectral_mmd': 0.0006019444525313666, 'spectral_mmd_time': 23.052817, 'dataset': 'ames_25', 'generator_name': 'train2'}\n",
      "ames_33\n",
      "Now computing classifier based metrics\n",
      "Now computing structural based metrics\n",
      "{'activations_time': 0.13014817237854004, 'fid': 1.2033053177306385, 'fid_time': 0.13173508644104004, 'kid': -0.03785479, 'kid_time': 0.19437432289123535, 'precision': 0.9752650176678446, 'recall': 0.9699646643109541, 'f1_pr': 0.9726176198737843, 'precision_time': 0.33321118354797363, 'recall_time': 0.33321118354797363, 'f1_pr_time': 0.33321118354797363, 'density': 0.9879858657243816, 'coverage': 0.9740871613663133, 'f1_dc': 0.9809972870356547, 'density_time': 0.23789429664611816, 'coverage_time': 0.23789429664611816, 'f1_dc_time': 0.23789429664611816, 'mmd_rbf': 0.0012330301105976105, 'mmd_rbf_time': 0.5370922088623047, 'mmd_linear': 0.0249965, 'mmd_linear_time': 0.13025999069213867, 'wl_mmd': 0.001177856301531213, 'wl_mmd_time': 1.610166072845459, 'nspdk_mmd': 0.0009066945734560461, 'nspdk_mmd_time': 9.801639795303345, 'degree_mmd': 6.390227074382082e-06, 'degree_mmd_time': 19.877505, 'cluster_mmd': 8.714448973945466e-05, 'cluster_mmd_time': 25.547289, 'spectral_mmd': 0.00029545958604138, 'spectral_mmd_time': 36.202071, 'dataset': 'ames_33', 'generator_name': 'train2'}\n",
      "ames_40\n",
      "Now computing classifier based metrics\n",
      "Now computing structural based metrics\n",
      "{'activations_time': 0.15340685844421387, 'fid': 0.6351721411081712, 'fid_time': 0.15734457969665527, 'kid': 0.011539221, 'kid_time': 0.22359991073608398, 'precision': 0.9788801571709234, 'recall': 0.9710216110019646, 'f1_pr': 0.9749450483875719, 'precision_time': 0.41315364837646484, 'recall_time': 0.41315364837646484, 'f1_pr_time': 0.41315364837646484, 'density': 0.9862475442043221, 'coverage': 0.9764243614931237, 'f1_dc': 0.9813213705599038, 'density_time': 0.2882869243621826, 'coverage_time': 0.2882869243621826, 'f1_dc_time': 0.2882869243621826, 'mmd_rbf': 0.0010029155673692003, 'mmd_rbf_time': 0.7444007396697998, 'mmd_linear': 0.0065243887, 'mmd_linear_time': 0.1535189151763916, 'wl_mmd': 0.0009823182711198428, 'wl_mmd_time': 1.9833300113677979, 'nspdk_mmd': 0.000707261553486549, 'nspdk_mmd_time': 11.774445056915283, 'degree_mmd': 1.7022678240774525e-05, 'degree_mmd_time': 25.795094, 'cluster_mmd': 7.487136887962542e-05, 'cluster_mmd_time': 33.497256, 'spectral_mmd': 0.0002829786245157617, 'spectral_mmd_time': 50.292066, 'dataset': 'ames_40', 'generator_name': 'train2'}\n",
      "ames_50\n",
      "Now computing classifier based metrics\n",
      "Now computing structural based metrics\n",
      "{'activations_time': 0.19146203994750977, 'fid': 2.1681092993165407, 'fid_time': 0.19381499290466309, 'kid': 0.031369407, 'kid_time': 0.30042529106140137, 'precision': 0.9693757361601885, 'recall': 0.9693757361601885, 'f1_pr': 0.9693857361601884, 'precision_time': 0.5939481258392334, 'recall_time': 0.5939481258392334, 'f1_pr_time': 0.5939481258392334, 'density': 1.0094228504122498, 'coverage': 0.9701609736945426, 'f1_dc': 0.9894125677450492, 'density_time': 0.47362804412841797, 'coverage_time': 0.47362804412841797, 'f1_dc_time': 0.47362804412841797, 'mmd_rbf': 0.0008807480335235596, 'mmd_rbf_time': 1.1415798664093018, 'mmd_linear': 0.03902129, 'mmd_linear_time': 0.19160890579223633, 'wl_mmd': 0.0007852375343541421, 'wl_mmd_time': 2.576201915740967, 'nspdk_mmd': 0.0006431956157184615, 'nspdk_mmd_time': 14.778714895248413, 'degree_mmd': 3.204833337533408e-05, 'degree_mmd_time': 36.169184, 'cluster_mmd': 6.997753852311384e-05, 'cluster_mmd_time': 50.951848, 'spectral_mmd': 0.00025196089791812426, 'spectral_mmd_time': 74.905589, 'dataset': 'ames_50', 'generator_name': 'train2'}\n",
      "bbb_martins_25\n",
      "Now computing classifier based metrics\n",
      "Now computing structural based metrics\n",
      "{'activations_time': 0.03640913963317871, 'fid': 2.753069422143767, 'fid_time': 0.037546396255493164, 'kid': -0.1141634, 'kid_time': 0.05919313430786133, 'precision': 0.9746478873239437, 'recall': 0.9633802816901409, 'f1_pr': 0.9689913301775193, 'precision_time': 0.0896444320678711, 'recall_time': 0.0896444320678711, 'f1_pr_time': 0.0896444320678711, 'density': 1.0321126760563382, 'coverage': 0.9661971830985916, 'f1_dc': 0.9980778087020103, 'density_time': 0.07555985450744629, 'coverage_time': 0.07555985450744629, 'f1_dc_time': 0.07555985450744629, 'mmd_rbf': 0.005616601600195281, 'mmd_rbf_time': 0.10114717483520508, 'mmd_linear': 0.23851746, 'mmd_linear_time': 0.03646111488342285, 'wl_mmd': 0.005633802816901409, 'wl_mmd_time': 0.4073600769042969, 'nspdk_mmd': 0.004548570889554404, 'nspdk_mmd_time': 3.09881591796875, 'degree_mmd': 0.000204687149339966, 'degree_mmd_time': 7.27268, 'cluster_mmd': 6.754965152855341e-05, 'cluster_mmd_time': 7.779738, 'spectral_mmd': 0.0018329858982684133, 'spectral_mmd_time': 8.98464, 'dataset': 'bbb_martins_25', 'generator_name': 'train2'}\n",
      "bbb_martins_33\n",
      "Now computing classifier based metrics\n",
      "Now computing structural based metrics\n",
      "{'activations_time': 0.04378175735473633, 'fid': 2.32533272985971, 'fid_time': 0.044853925704956055, 'kid': -0.060671806, 'kid_time': 0.06684184074401855, 'precision': 0.9704016913319239, 'recall': 0.9725158562367865, 'f1_pr': 0.9714676235432549, 'precision_time': 0.1045386791229248, 'recall_time': 0.1045386791229248, 'f1_pr_time': 0.1045386791229248, 'density': 0.961522198731501, 'coverage': 0.9936575052854123, 'f1_dc': 0.977335766982975, 'density_time': 0.08057188987731934, 'coverage_time': 0.08057188987731934, 'f1_dc_time': 0.08057188987731934, 'mmd_rbf': 0.004243785602739081, 'mmd_rbf_time': 0.12188076972961426, 'mmd_linear': 0.053070847, 'mmd_linear_time': 0.04383587837219238, 'wl_mmd': 0.004228329809725159, 'wl_mmd_time': 0.5593011379241943, 'nspdk_mmd': 0.00304544165597187, 'nspdk_mmd_time': 4.182619094848633, 'degree_mmd': 1.899736432209309e-05, 'degree_mmd_time': 7.753549, 'cluster_mmd': 0.0004247723581682905, 'cluster_mmd_time': 8.312837, 'spectral_mmd': 0.0009349187252136737, 'spectral_mmd_time': 10.16231, 'dataset': 'bbb_martins_33', 'generator_name': 'train2'}\n",
      "bbb_martins_40\n",
      "Now computing classifier based metrics\n",
      "Now computing structural based metrics\n",
      "{'activations_time': 0.05811190605163574, 'fid': 1.263294863285509, 'fid_time': 0.05944490432739258, 'kid': 0.04056549, 'kid_time': 0.07798004150390625, 'precision': 0.9595070422535211, 'recall': 0.9612676056338029, 'f1_pr': 0.9603965170944188, 'precision_time': 0.11759376525878906, 'recall_time': 0.11759376525878906, 'f1_pr_time': 0.11759376525878906, 'density': 0.9978873239436621, 'coverage': 0.9753521126760564, 'f1_dc': 0.9865010388930903, 'density_time': 0.09573483467102051, 'coverage_time': 0.09573483467102051, 'f1_dc_time': 0.09573483467102051, 'mmd_rbf': 0.0036749718710780144, 'mmd_rbf_time': 0.13559484481811523, 'mmd_linear': 0.118047, 'mmd_linear_time': 0.058200836181640625, 'wl_mmd': 0.0035211267605633804, 'wl_mmd_time': 0.6779618263244629, 'nspdk_mmd': 0.002647486646568886, 'nspdk_mmd_time': 4.998173236846924, 'degree_mmd': 1.8686684321922442e-05, 'degree_mmd_time': 8.181707, 'cluster_mmd': 0.0001768469773475445, 'cluster_mmd_time': 10.011873, 'spectral_mmd': 0.000636985303964277, 'spectral_mmd_time': 11.155607, 'dataset': 'bbb_martins_40', 'generator_name': 'train2'}\n",
      "bbb_martins_50\n",
      "Now computing classifier based metrics\n",
      "Now computing structural based metrics\n",
      "{'activations_time': 0.07389497756958008, 'fid': 6.890888232006262, 'fid_time': 0.07537102699279785, 'kid': 1.6765223, 'kid_time': 0.10566091537475586, 'precision': 0.9492957746478873, 'recall': 0.9732394366197183, 'f1_pr': 0.9611285074582963, 'precision_time': 0.13665008544921875, 'recall_time': 0.13665008544921875, 'f1_pr_time': 0.13665008544921875, 'density': 0.9307042253521127, 'coverage': 0.952112676056338, 'f1_dc': 0.9412967402785339, 'density_time': 0.11867880821228027, 'coverage_time': 0.11867880821228027, 'f1_dc_time': 0.11867880821228027, 'mmd_rbf': 0.0033427588641643524, 'mmd_rbf_time': 0.20579099655151367, 'mmd_linear': 0.7857214, 'mmd_linear_time': 0.07402801513671875, 'wl_mmd': 0.0028169014084507044, 'wl_mmd_time': 0.857396125793457, 'nspdk_mmd': 0.0025070215246376093, 'nspdk_mmd_time': 6.340163946151733, 'degree_mmd': 3.895604202930336e-05, 'degree_mmd_time': 8.976122, 'cluster_mmd': 7.42649904188486e-05, 'cluster_mmd_time': 11.126546, 'spectral_mmd': 0.0007670605735397018, 'spectral_mmd_time': 12.765506, 'dataset': 'bbb_martins_50', 'generator_name': 'train2'}\n",
      "cyp1a2_veith_25\n",
      "Now computing classifier based metrics\n",
      "Now computing structural based metrics\n",
      "{'activations_time': 0.19248294830322266, 'fid': 1.5908366899961521, 'fid_time': 0.19442296028137207, 'kid': -0.30144617, 'kid_time': 0.3106100559234619, 'precision': 0.9722727272727273, 'recall': 0.9640909090909091, 'f1_pr': 0.9681745328289821, 'precision_time': 0.5087289810180664, 'recall_time': 0.5087289810180664, 'f1_pr_time': 0.5087289810180664, 'density': 1.024727272727273, 'coverage': 0.9695454545454546, 'f1_dc': 0.9963829268007856, 'density_time': 0.4022989273071289, 'coverage_time': 0.4022989273071289, 'f1_dc_time': 0.4022989273071289, 'mmd_rbf': 0.0009355610236525536, 'mmd_rbf_time': 0.9233388900756836, 'mmd_linear': 0.05862753, 'mmd_linear_time': 0.19260311126708984, 'wl_mmd': 0.0009090909090909091, 'wl_mmd_time': 3.0725860595703125, 'nspdk_mmd': 0.0007283490326567277, 'nspdk_mmd_time': 19.351723194122314, 'degree_mmd': 1.0194034098631732e-05, 'degree_mmd_time': 28.84688, 'cluster_mmd': 8.111667384902432e-06, 'cluster_mmd_time': 37.844118, 'spectral_mmd': 0.00022517230892171725, 'spectral_mmd_time': 55.092291, 'dataset': 'cyp1a2_veith_25', 'generator_name': 'train2'}\n",
      "cyp1a2_veith_33\n",
      "Now computing classifier based metrics\n",
      "Now computing structural based metrics\n",
      "{'activations_time': 0.22729086875915527, 'fid': 24.102008681219758, 'fid_time': 0.22966694831848145, 'kid': 3.7453184, 'kid_time': 0.3399837017059326, 'precision': 0.9659168370824812, 'recall': 0.9529652351738241, 'f1_pr': 0.9594073278028488, 'precision_time': 0.6807477474212646, 'recall_time': 0.6807477474212646, 'f1_pr_time': 0.6807477474212646, 'density': 1.0013633265167008, 'coverage': 0.9652351738241309, 'f1_dc': 0.9829774004962796, 'density_time': 0.5195128917694092, 'coverage_time': 0.5195128917694092, 'f1_dc_time': 0.5195128917694092, 'mmd_rbf': 0.0006813049139964278, 'mmd_rbf_time': 1.2923839092254639, 'mmd_linear': 0.06865528, 'mmd_linear_time': 0.2274320125579834, 'wl_mmd': 0.0006816632583503749, 'wl_mmd_time': 4.021647214889526, 'nspdk_mmd': 0.00046340554697149594, 'nspdk_mmd_time': 25.56686282157898, 'degree_mmd': 1.3156794003377215e-05, 'degree_mmd_time': 45.500835, 'cluster_mmd': 1.2388255804962611e-05, 'cluster_mmd_time': 62.442113, 'spectral_mmd': 0.0001861884011422621, 'spectral_mmd_time': 92.918005, 'dataset': 'cyp1a2_veith_33', 'generator_name': 'train2'}\n",
      "cyp1a2_veith_40\n",
      "Now computing classifier based metrics\n",
      "Now computing structural based metrics\n",
      "{'activations_time': 0.27129316329956055, 'fid': 1.3496271833993632, 'fid_time': 0.27399516105651855, 'kid': -0.0774118, 'kid_time': 0.3722712993621826, 'precision': 0.9511224779766979, 'recall': 0.9596476271668087, 'f1_pr': 0.9553760347401982, 'precision_time': 0.9156880378723145, 'recall_time': 0.9156880378723145, 'f1_pr_time': 0.9156880378723145, 'density': 0.9990906507530548, 'coverage': 0.9715828360329639, 'f1_dc': 0.9851547602470386, 'density_time': 0.6732630729675293, 'coverage_time': 0.6732630729675293, 'f1_dc_time': 0.6732630729675293, 'mmd_rbf': 0.0005677764656866202, 'mmd_rbf_time': 1.789546012878418, 'mmd_linear': 0.017702144, 'mmd_linear_time': 0.2714512348175049, 'wl_mmd': 0.0005683432793407218, 'wl_mmd_time': 4.980483770370483, 'nspdk_mmd': 0.0004791636551575995, 'nspdk_mmd_time': 30.79678201675415, 'degree_mmd': 3.5471280941390404e-06, 'degree_mmd_time': 63.870999, 'cluster_mmd': 2.7846345504567438e-05, 'cluster_mmd_time': 92.604426, 'spectral_mmd': 0.00015711181391742102, 'spectral_mmd_time': 145.47662, 'dataset': 'cyp1a2_veith_40', 'generator_name': 'train2'}\n",
      "cyp1a2_veith_50\n",
      "Now computing classifier based metrics\n",
      "Now computing structural based metrics\n",
      "{'activations_time': 0.354625940322876, 'fid': 0.8666768709392727, 'fid_time': 0.3579549789428711, 'kid': -0.18902579, 'kid_time': 0.48776912689208984, 'precision': 0.9734151329243353, 'recall': 0.9670529425130652, 'f1_pr': 0.9702336080058507, 'precision_time': 1.3671989440917969, 'recall_time': 1.3671989440917969, 'f1_pr_time': 1.3671989440917969, 'density': 0.9919563735514656, 'coverage': 0.9693251533742331, 'f1_dc': 0.9805201940119823, 'density_time': 0.9567029476165771, 'coverage_time': 0.9567029476165771, 'f1_dc_time': 0.9567029476165771, 'mmd_rbf': 0.00045442095233738655, 'mmd_rbf_time': 2.7113571166992188, 'mmd_linear': 0.015328467, 'mmd_linear_time': 0.35481977462768555, 'wl_mmd': 0.0004544421722335833, 'wl_mmd_time': 8.129476070404053, 'nspdk_mmd': 0.0003376067680639916, 'nspdk_mmd_time': 40.12654113769531, 'degree_mmd': 1.5532857893241214e-06, 'degree_mmd_time': 102.745958, 'cluster_mmd': 4.8935224135071564e-06, 'cluster_mmd_time': 168.536273, 'spectral_mmd': 0.00010420268513211539, 'spectral_mmd_time': 230.108003, 'dataset': 'cyp1a2_veith_50', 'generator_name': 'train2'}\n",
      "cyp2c19_veith_25\n",
      "Now computing classifier based metrics\n",
      "Now computing structural based metrics\n",
      "{'activations_time': 0.19394803047180176, 'fid': 12.698760789604947, 'fid_time': 0.19687223434448242, 'kid': 17.348488, 'kid_time': 0.31798672676086426, 'precision': 0.9679458239277653, 'recall': 0.9674943566591422, 'f1_pr': 0.9677300376386132, 'precision_time': 0.5381178855895996, 'recall_time': 0.5381178855895996, 'f1_pr_time': 0.5381178855895996, 'density': 0.9933182844243792, 'coverage': 0.9656884875846501, 'f1_dc': 0.9793185429109151, 'density_time': 0.38991594314575195, 'coverage_time': 0.38991594314575195, 'f1_dc_time': 0.38991594314575195, 'mmd_rbf': 0.0009021720334203565, 'mmd_rbf_time': 0.8720541000366211, 'mmd_linear': 0.09557766, 'mmd_linear_time': 0.19407105445861816, 'wl_mmd': 0.0009029345372460496, 'wl_mmd_time': 3.1074740886688232, 'nspdk_mmd': 0.0007310885506434106, 'nspdk_mmd_time': 19.73732018470764, 'degree_mmd': 3.1885788655872105e-05, 'degree_mmd_time': 29.946329, 'cluster_mmd': 3.315150648486309e-05, 'cluster_mmd_time': 39.658895, 'spectral_mmd': 0.00024739280706098654, 'spectral_mmd_time': 59.372662, 'dataset': 'cyp2c19_veith_25', 'generator_name': 'train2'}\n",
      "cyp2c19_veith_33\n",
      "Now computing classifier based metrics\n",
      "Now computing structural based metrics\n",
      "{'activations_time': 0.24860000610351562, 'fid': 18.376933586425537, 'fid_time': 0.2558479309082031, 'kid': 8.114261, 'kid_time': 0.40116214752197266, 'precision': 0.9631133671742809, 'recall': 0.9681895093062606, 'f1_pr': 0.9656547673673528, 'precision_time': 0.7458958625793457, 'recall_time': 0.7458958625793457, 'f1_pr_time': 0.7458958625793457, 'density': 0.9852453468697124, 'coverage': 0.9729272419627749, 'f1_dc': 0.9790575505997866, 'density_time': 0.5599792003631592, 'coverage_time': 0.5599792003631592, 'f1_dc_time': 0.5599792003631592, 'mmd_rbf': 0.0006745832833985332, 'mmd_rbf_time': 1.405216932296753, 'mmd_linear': 0.035425477, 'mmd_linear_time': 0.24874377250671387, 'wl_mmd': 0.0006768189509306261, 'wl_mmd_time': 4.284024000167847, 'nspdk_mmd': 0.00047802395627805083, 'nspdk_mmd_time': 26.542943954467773, 'degree_mmd': 2.4152335779348277e-05, 'degree_mmd_time': 49.658195, 'cluster_mmd': 6.680530455271949e-06, 'cluster_mmd_time': 67.374843, 'spectral_mmd': 0.00021232019522532397, 'spectral_mmd_time': 98.209434, 'dataset': 'cyp2c19_veith_33', 'generator_name': 'train2'}\n",
      "cyp2c19_veith_40\n",
      "Now computing classifier based metrics\n",
      "fid calculation produces singular product; adding 1e-06 to diagonal of cov estimates\n",
      "Now computing structural based metrics\n",
      "{'activations_time': 0.2951028347015381, 'fid': 8.226899694505647, 'fid_time': 0.2996668815612793, 'kid': -1.26683, 'kid_time': 0.4367349147796631, 'precision': 0.9599209709285916, 'recall': 0.9751622918430708, 'f1_pr': 0.967491609301303, 'precision_time': 1.0001499652862549, 'recall_time': 1.0001499652862549, 'f1_pr_time': 1.0001499652862549, 'density': 1.0068868190798759, 'coverage': 0.9737510584250635, 'f1_dc': 0.9900517635152308, 'density_time': 0.7427046298980713, 'coverage_time': 0.7427046298980713, 'f1_dc_time': 0.7427046298980713, 'mmd_rbf': 0.0005683386698365211, 'mmd_rbf_time': 1.9127166271209717, 'mmd_linear': 0.013324516, 'mmd_linear_time': 0.295259952545166, 'wl_mmd': 0.0005644933672029354, 'wl_mmd_time': 6.169774055480957, 'nspdk_mmd': 0.0004075253049497518, 'nspdk_mmd_time': 31.56806993484497, 'degree_mmd': 2.2259349818920526e-06, 'degree_mmd_time': 65.576415, 'cluster_mmd': 4.6195536276272264e-06, 'cluster_mmd_time': 94.472881, 'spectral_mmd': 0.00012004588946634698, 'spectral_mmd_time': 136.003015, 'dataset': 'cyp2c19_veith_40', 'generator_name': 'train2'}\n",
      "cyp2c19_veith_50\n",
      "Now computing classifier based metrics\n",
      "Now computing structural based metrics\n",
      "{'activations_time': 1.032463788986206, 'fid': 0.529463901933255, 'fid_time': 1.0367977619171143, 'kid': -0.17193742, 'kid_time': 1.19614577293396, 'precision': 0.9616425992779783, 'recall': 0.9614256711030904, 'f1_pr': 0.9615441229555701, 'precision_time': 2.052907943725586, 'recall_time': 2.052907943725586, 'f1_pr_time': 2.052907943725586, 'density': 1.0074007220216605, 'coverage': 0.9722535528987142, 'f1_dc': 0.9895251357554101, 'density_time': 1.7202796936035156, 'coverage_time': 1.7202796936035156, 'f1_dc_time': 1.7202796936035156, 'mmd_rbf': 0.0005338788032531738, 'mmd_rbf_time': 3.378253936767578, 'mmd_linear': 0.059742562, 'mmd_linear_time': 1.032651662826538, 'wl_mmd': 0.00045121263969522966, 'wl_mmd_time': 6.943850040435791, 'nspdk_mmd': 0.00034190926947991196, 'nspdk_mmd_time': 40.00847101211548, 'degree_mmd': 8.808374594160284e-06, 'degree_mmd_time': 101.740389, 'cluster_mmd': 2.5902659424037466e-06, 'cluster_mmd_time': 164.957689, 'spectral_mmd': 0.00011961757684542107, 'spectral_mmd_time': 237.228056, 'dataset': 'cyp2c19_veith_50', 'generator_name': 'train2'}\n",
      "herg_karim_25\n",
      "Now computing classifier based metrics\n",
      "Now computing structural based metrics\n",
      "{'activations_time': 0.20311594009399414, 'fid': 1.6583371014970396, 'fid_time': 0.2068178653717041, 'kid': 0.00063256425, 'kid_time': 0.28863000869750977, 'precision': 0.9613259668508287, 'recall': 0.969825754356141, 'f1_pr': 0.9655671552789292, 'precision_time': 0.5777721405029297, 'recall_time': 0.5777721405029297, 'f1_pr_time': 0.5777721405029297, 'density': 1.0216744581385464, 'coverage': 0.9736506587335316, 'f1_dc': 0.99709464204208, 'density_time': 0.4499218463897705, 'coverage_time': 0.4499218463897705, 'f1_dc_time': 0.4499218463897705, 'mmd_rbf': 0.000860290601849556, 'mmd_rbf_time': 0.9498851299285889, 'mmd_linear': 0.028008053, 'mmd_linear_time': 0.20324492454528809, 'wl_mmd': 0.0008499787505312367, 'wl_mmd_time': 3.8042290210723877, 'nspdk_mmd': 0.0006047271063904791, 'nspdk_mmd_time': 26.12613320350647, 'degree_mmd': 7.955013520799525e-06, 'degree_mmd_time': 33.105229, 'cluster_mmd': 0.00018170198719325015, 'cluster_mmd_time': 44.680805, 'spectral_mmd': 0.00017050527476225597, 'spectral_mmd_time': 64.129459, 'dataset': 'herg_karim_25', 'generator_name': 'train2'}\n",
      "herg_karim_33\n",
      "Now computing classifier based metrics\n",
      "Now computing structural based metrics\n",
      "{'activations_time': 0.2707362174987793, 'fid': 4.9498726598690155, 'fid_time': 0.27578020095825195, 'kid': -5.1295614, 'kid_time': 0.4034993648529053, 'precision': 0.9703538412496016, 'recall': 0.9735416002550207, 'f1_pr': 0.9719551070050102, 'precision_time': 0.7607614994049072, 'recall_time': 0.7607614994049072, 'f1_pr_time': 0.7607614994049072, 'density': 0.9787057698437999, 'coverage': 0.9697162894485177, 'f1_dc': 0.9742002923711159, 'density_time': 0.6003379821777344, 'coverage_time': 0.6003379821777344, 'f1_dc_time': 0.6003379821777344, 'mmd_rbf': 0.0006644129753112793, 'mmd_rbf_time': 1.477959156036377, 'mmd_linear': 0.010950871, 'mmd_linear_time': 0.2708892822265625, 'wl_mmd': 0.000637551801083838, 'wl_mmd_time': 5.4394850730896, 'nspdk_mmd': 0.0004583276476822773, 'nspdk_mmd_time': 35.22007703781128, 'degree_mmd': 6.801840931158765e-06, 'degree_mmd_time': 52.273248, 'cluster_mmd': 1.721101900442612e-05, 'cluster_mmd_time': 73.071812, 'spectral_mmd': 0.0001548477605566312, 'spectral_mmd_time': 109.103219, 'dataset': 'herg_karim_33', 'generator_name': 'train2'}\n",
      "herg_karim_40\n",
      "Now computing classifier based metrics\n",
      "Now computing structural based metrics\n",
      "{'activations_time': 0.3259618282318115, 'fid': 0.7311724435818405, 'fid_time': 0.3293037414550781, 'kid': -0.22885692, 'kid_time': 0.4737217426300049, 'precision': 0.963336875664187, 'recall': 0.963336875664187, 'f1_pr': 0.9633468756641869, 'precision_time': 1.126166820526123, 'recall_time': 1.126166820526123, 'f1_pr_time': 1.126166820526123, 'density': 0.9953772582359193, 'coverage': 0.972635494155154, 'f1_dc': 0.9838849790343673, 'density_time': 0.8044109344482422, 'coverage_time': 0.8044109344482422, 'f1_dc_time': 0.8044109344482422, 'mmd_rbf': 0.0005587190389633179, 'mmd_rbf_time': 2.054008722305298, 'mmd_linear': 0.01997269, 'mmd_linear_time': 0.3261268138885498, 'wl_mmd': 0.0005313496280552603, 'wl_mmd_time': 6.635692834854126, 'nspdk_mmd': 0.0004148676978298349, 'nspdk_mmd_time': 42.72891592979431, 'degree_mmd': 1.0098370864852768e-05, 'degree_mmd_time': 79.205659, 'cluster_mmd': 2.8689563284389763e-05, 'cluster_mmd_time': 110.148894, 'spectral_mmd': 0.0001048417817468561, 'spectral_mmd_time': 164.963662, 'dataset': 'herg_karim_40', 'generator_name': 'train2'}\n",
      "herg_karim_50\n",
      "Now computing classifier based metrics\n",
      "Now computing structural based metrics\n",
      "{'activations_time': 0.3931858539581299, 'fid': 0.44271499189849806, 'fid_time': 0.39638280868530273, 'kid': 0.0041716574, 'kid_time': 0.49081873893737793, 'precision': 0.9672758181045474, 'recall': 0.9619634509137271, 'f1_pr': 0.9646223204986194, 'precision_time': 1.5829651355743408, 'recall_time': 1.5829651355743408, 'f1_pr_time': 1.5829651355743408, 'density': 1.0122821929451764, 'coverage': 0.9708882277943052, 'f1_dc': 0.9911632144471624, 'density_time': 1.0577607154846191, 'coverage_time': 1.0577607154846191, 'f1_dc_time': 1.0577607154846191, 'mmd_rbf': 0.00042458959433133714, 'mmd_rbf_time': 2.983003854751587, 'mmd_linear': 0.009689326, 'mmd_linear_time': 0.3933687210083008, 'wl_mmd': 0.00042498937526561835, 'wl_mmd_time': 8.853582859039307, 'nspdk_mmd': 0.00032016434554882345, 'nspdk_mmd_time': 54.17536211013794, 'degree_mmd': 3.6238206644334525e-06, 'degree_mmd_time': 114.825402, 'cluster_mmd': 5.394339641640045e-06, 'cluster_mmd_time': 187.131262, 'spectral_mmd': 0.0001015151573939832, 'spectral_mmd_time': 265.673411, 'dataset': 'herg_karim_50', 'generator_name': 'train2'}\n",
      "lipophilicity_astrazeneca_25\n",
      "Now computing classifier based metrics\n",
      "Now computing structural based metrics\n",
      "{'activations_time': 0.07158923149108887, 'fid': 2.437136161650187, 'fid_time': 0.0734105110168457, 'kid': 0.1943649, 'kid_time': 0.10218429565429688, 'precision': 0.9687074829931973, 'recall': 0.9619047619047619, 'f1_pr': 0.9653041375113175, 'precision_time': 0.1484544277191162, 'recall_time': 0.1484544277191162, 'f1_pr_time': 0.1484544277191162, 'density': 1.034013605442177, 'coverage': 0.9768707482993197, 'f1_dc': 1.0046402769620397, 'density_time': 0.1207273006439209, 'coverage_time': 0.1207273006439209, 'f1_dc_time': 0.1207273006439209, 'mmd_rbf': 0.003109365701675415, 'mmd_rbf_time': 0.24285531044006348, 'mmd_linear': 0.1276797, 'mmd_linear_time': 0.07164907455444336, 'wl_mmd': 0.0027210884353741495, 'wl_mmd_time': 0.9647860527038574, 'nspdk_mmd': 0.0018256643321392652, 'nspdk_mmd_time': 6.895720958709717, 'degree_mmd': 1.3335020995652869e-05, 'degree_mmd_time': 9.220919, 'cluster_mmd': 6.671874283403767e-05, 'cluster_mmd_time': 10.614815, 'spectral_mmd': 0.0005911158131743921, 'spectral_mmd_time': 13.173435, 'dataset': 'lipophilicity_astrazeneca_25', 'generator_name': 'train2'}\n",
      "lipophilicity_astrazeneca_33\n",
      "Now computing classifier based metrics\n",
      "Now computing structural based metrics\n",
      "{'activations_time': 0.10349178314208984, 'fid': 0.71880347341326, 'fid_time': 0.10549163818359375, 'kid': -0.10099375, 'kid_time': 0.14672589302062988, 'precision': 0.9704081632653061, 'recall': 0.9775510204081632, 'f1_pr': 0.9739764961094829, 'precision_time': 0.20217466354370117, 'recall_time': 0.20217466354370117, 'f1_pr_time': 0.20217466354370117, 'density': 1.003061224489796, 'coverage': 0.9683673469387755, 'f1_dc': 0.985419011420812, 'density_time': 0.16114354133605957, 'coverage_time': 0.16114354133605957, 'f1_dc_time': 0.16114354133605957, 'mmd_rbf': 0.002033529402979184, 'mmd_rbf_time': 0.30589962005615234, 'mmd_linear': 0.034311153, 'mmd_linear_time': 0.1036369800567627, 'wl_mmd': 0.0020408163265306124, 'wl_mmd_time': 1.306640863418579, 'nspdk_mmd': 0.0012678182925298653, 'nspdk_mmd_time': 9.176283836364746, 'degree_mmd': 4.904057735011236e-06, 'degree_mmd_time': 11.218121, 'cluster_mmd': 1.3017865603925927e-05, 'cluster_mmd_time': 14.208739, 'spectral_mmd': 0.0003933622566896222, 'spectral_mmd_time': 17.722686, 'dataset': 'lipophilicity_astrazeneca_33', 'generator_name': 'train2'}\n",
      "lipophilicity_astrazeneca_40\n",
      "Now computing classifier based metrics\n",
      "Now computing structural based metrics\n",
      "{'activations_time': 0.12238097190856934, 'fid': 0.8718263286945103, 'fid_time': 0.12516021728515625, 'kid': 0.024575055, 'kid_time': 0.16628503799438477, 'precision': 0.9804421768707483, 'recall': 0.9642857142857143, 'f1_pr': 0.9723068337216124, 'precision_time': 0.2524089813232422, 'recall_time': 0.2524089813232422, 'f1_pr_time': 0.2524089813232422, 'density': 1.0151360544217687, 'coverage': 0.9710884353741497, 'f1_dc': 0.9926338375659988, 'density_time': 0.266679048538208, 'coverage_time': 0.266679048538208, 'f1_dc_time': 0.266679048538208, 'mmd_rbf': 0.0016996400081552565, 'mmd_rbf_time': 0.4206688404083252, 'mmd_linear': 0.052137934, 'mmd_linear_time': 0.12246298789978027, 'wl_mmd': 0.0017006802721088435, 'wl_mmd_time': 1.6257812976837158, 'nspdk_mmd': 0.0012474870427149343, 'nspdk_mmd_time': 11.026231050491333, 'degree_mmd': 6.647071688181683e-06, 'degree_mmd_time': 13.397991, 'cluster_mmd': 0.0003804454055604811, 'cluster_mmd_time': 17.925094, 'spectral_mmd': 0.0005571359838960621, 'spectral_mmd_time': 21.957146, 'dataset': 'lipophilicity_astrazeneca_40', 'generator_name': 'train2'}\n",
      "lipophilicity_astrazeneca_50\n",
      "Now computing classifier based metrics\n",
      "Now computing structural based metrics\n",
      "{'activations_time': 0.15395092964172363, 'fid': 25.611016238922517, 'fid_time': 0.15799903869628906, 'kid': 125.44637, 'kid_time': 0.21708393096923828, 'precision': 0.9517006802721089, 'recall': 0.9639455782312926, 'f1_pr': 0.9577939946881082, 'precision_time': 0.32303881645202637, 'recall_time': 0.32303881645202637, 'f1_pr_time': 0.32303881645202637, 'density': 0.9748299319727892, 'coverage': 0.9687074829931973, 'f1_dc': 0.9717690642429173, 'density_time': 0.2574148178100586, 'coverage_time': 0.2574148178100586, 'f1_dc_time': 0.2574148178100586, 'mmd_rbf': 0.0013500658060365822, 'mmd_rbf_time': 0.5175790786743164, 'mmd_linear': 0.09712947, 'mmd_linear_time': 0.1541297435760498, 'wl_mmd': 0.0013605442176870747, 'wl_mmd_time': 2.033719062805176, 'nspdk_mmd': 0.0011330443727615158, 'nspdk_mmd_time': 13.837324619293213, 'degree_mmd': 5.868990926849449e-05, 'degree_mmd_time': 17.741918, 'cluster_mmd': 4.2896402825176594e-05, 'cluster_mmd_time': 21.243038, 'spectral_mmd': 0.00038791734227716645, 'spectral_mmd_time': 30.72893, 'dataset': 'lipophilicity_astrazeneca_50', 'generator_name': 'train2'}\n"
     ]
    }
   ],
   "source": [
    "device=torch.device('cpu')\n",
    "metrics={}\n",
    "for generator in ['train2']:\n",
    "    for dataset_name in current_smiles_datasets:\n",
    "        for split in splits:\n",
    "            print(dataset_name+split)\n",
    "            train1_graphs , train1_targets,train2_graphs , train2_targets, test_graphs, test_targets  =get_data(dataset_name+split, return_smiles=False)\n",
    "            generated_graphs, generated_targets=train2_graphs,train2_targets\n",
    "            splits_for_auc_roc=[train1_graphs , train1_targets,train2_graphs , train2_targets, test_graphs, test_targets, generated_graphs, generated_targets]\n",
    "            metrics=evaluate(train1_graphs, generated_graphs, device,  metrics_type, structural_statistic,*splits_for_auc_roc)\n",
    "            metrics['dataset']=dataset_name+split\n",
    "            metrics['generator_name']=generator\n",
    "            print(metrics)"
   ]
  },
  {
   "cell_type": "code",
   "execution_count": null,
   "metadata": {},
   "outputs": [],
   "source": [
    "device=torch.device('cpu')\n",
    "metrics={}\n",
    "for generator in ['train1/2+train2/2']:\n",
    "    for dataset_name in current_smiles_datasets:\n",
    "        for split in splits:\n",
    "            print(dataset_name+split)\n",
    "            train1_graphs , train1_targets,train2_graphs , train2_targets, test_graphs, test_targets  =get_data(dataset_name+split, return_smiles=False)\n",
    "            half=len(train1_graphs)//2\n",
    "            half2=len(train2_graphs)//2\n",
    "            train3_graphs,train3_targets=train1_graphs[:half]+train2_graphs[:half], train1_targets[:half]+train2_targets[:half]\n",
    "            generated_graphs, generated_targets=train3_graphs,train3_targets\n",
    "            splits_for_auc_roc=[train1_graphs , train1_targets,train2_graphs , train2_targets, test_graphs, test_targets, generated_graphs, generated_targets]\n",
    "            metrics=evaluate(train1_graphs, generated_graphs, device,  metrics_type, structural_statistic,*splits_for_auc_roc)\n",
    "            metrics['dataset']=dataset_name+split\n",
    "            metrics['generator_name']=generator\n",
    "            print(metrics)"
   ]
  }
 ],
 "metadata": {
  "kernelspec": {
   "display_name": "Python 3",
   "language": "python",
   "name": "python3"
  },
  "language_info": {
   "codemirror_mode": {
    "name": "ipython",
    "version": 3
   },
   "file_extension": ".py",
   "mimetype": "text/x-python",
   "name": "python",
   "nbconvert_exporter": "python",
   "pygments_lexer": "ipython3",
   "version": "3.9.6"
  },
  "orig_nbformat": 4,
  "vscode": {
   "interpreter": {
    "hash": "06a8be8316eed2f6558da5cb68a9abde15f0a0ec61139bf81bc916fa7c6839e3"
   }
  }
 },
 "nbformat": 4,
 "nbformat_minor": 2
}
