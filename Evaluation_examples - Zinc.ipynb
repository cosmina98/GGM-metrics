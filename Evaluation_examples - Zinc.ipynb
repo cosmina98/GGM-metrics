{
 "cells": [
  {
   "cell_type": "code",
   "execution_count": 30,
   "id": "09d37d22",
   "metadata": {},
   "outputs": [
    {
     "name": "stdout",
     "output_type": "stream",
     "text": [
      "The autoreload extension is already loaded. To reload it, use:\n",
      "  %reload_ext autoreload\n"
     ]
    }
   ],
   "source": [
    "%load_ext autoreload\n",
    "%autoreload 2"
   ]
  },
  {
   "cell_type": "code",
   "execution_count": 134,
   "id": "8ed54c75",
   "metadata": {},
   "outputs": [],
   "source": [
    "a=gen.load_zinc(n_samples=10)"
   ]
  },
  {
   "cell_type": "code",
   "execution_count": 135,
   "id": "ddae90fa",
   "metadata": {},
   "outputs": [
    {
     "data": {
      "text/plain": [
       "[Graph(num_nodes=29, num_edges=64,\n",
       "       ndata_schemes={'attr': Scheme(shape=(28,), dtype=torch.float32), 'feat': Scheme(shape=(), dtype=torch.int64)}\n",
       "       edata_schemes={'attr': Scheme(shape=(4,), dtype=torch.float32), 'feat': Scheme(shape=(), dtype=torch.int64)}),\n",
       " Graph(num_nodes=26, num_edges=56,\n",
       "       ndata_schemes={'attr': Scheme(shape=(28,), dtype=torch.float32), 'feat': Scheme(shape=(), dtype=torch.int64)}\n",
       "       edata_schemes={'attr': Scheme(shape=(4,), dtype=torch.float32), 'feat': Scheme(shape=(), dtype=torch.int64)}),\n",
       " Graph(num_nodes=16, num_edges=34,\n",
       "       ndata_schemes={'attr': Scheme(shape=(28,), dtype=torch.float32), 'feat': Scheme(shape=(), dtype=torch.int64)}\n",
       "       edata_schemes={'attr': Scheme(shape=(4,), dtype=torch.float32), 'feat': Scheme(shape=(), dtype=torch.int64)}),\n",
       " Graph(num_nodes=27, num_edges=60,\n",
       "       ndata_schemes={'attr': Scheme(shape=(28,), dtype=torch.float32), 'feat': Scheme(shape=(), dtype=torch.int64)}\n",
       "       edata_schemes={'attr': Scheme(shape=(4,), dtype=torch.float32), 'feat': Scheme(shape=(), dtype=torch.int64)}),\n",
       " Graph(num_nodes=21, num_edges=44,\n",
       "       ndata_schemes={'attr': Scheme(shape=(28,), dtype=torch.float32), 'feat': Scheme(shape=(), dtype=torch.int64)}\n",
       "       edata_schemes={'attr': Scheme(shape=(4,), dtype=torch.float32), 'feat': Scheme(shape=(), dtype=torch.int64)}),\n",
       " Graph(num_nodes=28, num_edges=60,\n",
       "       ndata_schemes={'attr': Scheme(shape=(28,), dtype=torch.float32), 'feat': Scheme(shape=(), dtype=torch.int64)}\n",
       "       edata_schemes={'attr': Scheme(shape=(4,), dtype=torch.float32), 'feat': Scheme(shape=(), dtype=torch.int64)}),\n",
       " Graph(num_nodes=19, num_edges=38,\n",
       "       ndata_schemes={'attr': Scheme(shape=(28,), dtype=torch.float32), 'feat': Scheme(shape=(), dtype=torch.int64)}\n",
       "       edata_schemes={'attr': Scheme(shape=(4,), dtype=torch.float32), 'feat': Scheme(shape=(), dtype=torch.int64)}),\n",
       " Graph(num_nodes=16, num_edges=32,\n",
       "       ndata_schemes={'attr': Scheme(shape=(28,), dtype=torch.float32), 'feat': Scheme(shape=(), dtype=torch.int64)}\n",
       "       edata_schemes={'attr': Scheme(shape=(4,), dtype=torch.float32), 'feat': Scheme(shape=(), dtype=torch.int64)}),\n",
       " Graph(num_nodes=22, num_edges=46,\n",
       "       ndata_schemes={'attr': Scheme(shape=(28,), dtype=torch.float32), 'feat': Scheme(shape=(), dtype=torch.int64)}\n",
       "       edata_schemes={'attr': Scheme(shape=(4,), dtype=torch.float32), 'feat': Scheme(shape=(), dtype=torch.int64)}),\n",
       " Graph(num_nodes=18, num_edges=38,\n",
       "       ndata_schemes={'attr': Scheme(shape=(28,), dtype=torch.float32), 'feat': Scheme(shape=(), dtype=torch.int64)}\n",
       "       edata_schemes={'attr': Scheme(shape=(4,), dtype=torch.float32), 'feat': Scheme(shape=(), dtype=torch.int64)})]"
      ]
     },
     "execution_count": 135,
     "metadata": {},
     "output_type": "execute_result"
    }
   ],
   "source": [
    "a"
   ]
  },
  {
   "cell_type": "code",
   "execution_count": 138,
   "id": "13cf5f5b",
   "metadata": {},
   "outputs": [],
   "source": [
    "nx_a = [dgl.to_networkx(a.cpu())  for a in a]"
   ]
  },
  {
   "cell_type": "code",
   "execution_count": 140,
   "id": "876ecfd3",
   "metadata": {},
   "outputs": [
    {
     "data": {
      "text/plain": [
       "<networkx.classes.multidigraph.MultiDiGraph at 0x192fe1e2920>"
      ]
     },
     "execution_count": 140,
     "metadata": {},
     "output_type": "execute_result"
    }
   ],
   "source": [
    "nx_a[0]"
   ]
  },
  {
   "cell_type": "code",
   "execution_count": 141,
   "id": "3f683c14",
   "metadata": {},
   "outputs": [
    {
     "ename": "AttributeError",
     "evalue": "'DGLHeteroGraph' object has no attribute 'is_directed'",
     "output_type": "error",
     "traceback": [
      "\u001b[1;31m---------------------------------------------------------------------------\u001b[0m",
      "\u001b[1;31mAttributeError\u001b[0m                            Traceback (most recent call last)",
      "\u001b[1;32mc:\\Users\\cs843\\Documents\\PhD\\2023\\February\\GGM-metrics\\Evaluation_examples - Zinc.ipynb Cell 6\u001b[0m in \u001b[0;36m<cell line: 6>\u001b[1;34m()\u001b[0m\n\u001b[0;32m      <a href='vscode-notebook-cell:/c%3A/Users/cs843/Documents/PhD/2023/February/GGM-metrics/Evaluation_examples%20-%20Zinc.ipynb#X15sZmlsZQ%3D%3D?line=1'>2</a>\u001b[0m grids \u001b[39m=\u001b[39m a\n\u001b[0;32m      <a href='vscode-notebook-cell:/c%3A/Users/cs843/Documents/PhD/2023/February/GGM-metrics/Evaluation_examples%20-%20Zinc.ipynb#X15sZmlsZQ%3D%3D?line=3'>4</a>\u001b[0m device \u001b[39m=\u001b[39m torch\u001b[39m.\u001b[39mdevice(\u001b[39m'\u001b[39m\u001b[39mcuda\u001b[39m\u001b[39m'\u001b[39m) \u001b[39mif\u001b[39;00m torch\u001b[39m.\u001b[39mcuda\u001b[39m.\u001b[39mis_available() \u001b[39melse\u001b[39;00m torch\u001b[39m.\u001b[39mdevice(\u001b[39m'\u001b[39m\u001b[39mcpu\u001b[39m\u001b[39m'\u001b[39m)\n\u001b[1;32m----> <a href='vscode-notebook-cell:/c%3A/Users/cs843/Documents/PhD/2023/February/GGM-metrics/Evaluation_examples%20-%20Zinc.ipynb#X15sZmlsZQ%3D%3D?line=5'>6</a>\u001b[0m grids \u001b[39m=\u001b[39m [ dgl\u001b[39m.\u001b[39mfrom_networkx(g)\u001b[39m.\u001b[39mto(device) \u001b[39mfor\u001b[39;00m g \u001b[39min\u001b[39;00m grids] \u001b[39m# Convert graphs to DGL from NetworkX\u001b[39;00m\n\u001b[0;32m      <a href='vscode-notebook-cell:/c%3A/Users/cs843/Documents/PhD/2023/February/GGM-metrics/Evaluation_examples%20-%20Zinc.ipynb#X15sZmlsZQ%3D%3D?line=6'>7</a>\u001b[0m lobsters \u001b[39m=\u001b[39m [ dgl\u001b[39m.\u001b[39mfrom_networkx(g)\u001b[39m.\u001b[39mto(device) \u001b[39mfor\u001b[39;00m g \u001b[39min\u001b[39;00m lobsters] \u001b[39m# Convert graphs to DGL from NetworkX\u001b[39;00m\n\u001b[0;32m      <a href='vscode-notebook-cell:/c%3A/Users/cs843/Documents/PhD/2023/February/GGM-metrics/Evaluation_examples%20-%20Zinc.ipynb#X15sZmlsZQ%3D%3D?line=8'>9</a>\u001b[0m \u001b[39m\"\"\"\u001b[39;00m\n\u001b[0;32m     <a href='vscode-notebook-cell:/c%3A/Users/cs843/Documents/PhD/2023/February/GGM-metrics/Evaluation_examples%20-%20Zinc.ipynb#X15sZmlsZQ%3D%3D?line=9'>10</a>\u001b[0m \u001b[39mgrids = [ dgl.from_networkx(g).to(device) for g in grids] # Convert graphs to DGL from NetworkX\u001b[39;00m\n\u001b[0;32m     <a href='vscode-notebook-cell:/c%3A/Users/cs843/Documents/PhD/2023/February/GGM-metrics/Evaluation_examples%20-%20Zinc.ipynb#X15sZmlsZQ%3D%3D?line=10'>11</a>\u001b[0m \u001b[39mlobsters = [ dgl.from_networkx(g).to(device) for g in lobsters] # Convert graphs to DGL from NetworkX\u001b[39;00m\n\u001b[0;32m     <a href='vscode-notebook-cell:/c%3A/Users/cs843/Documents/PhD/2023/February/GGM-metrics/Evaluation_examples%20-%20Zinc.ipynb#X15sZmlsZQ%3D%3D?line=11'>12</a>\u001b[0m \n\u001b[0;32m     <a href='vscode-notebook-cell:/c%3A/Users/cs843/Documents/PhD/2023/February/GGM-metrics/Evaluation_examples%20-%20Zinc.ipynb#X15sZmlsZQ%3D%3D?line=12'>13</a>\u001b[0m \u001b[39m\"\"\"\u001b[39;00m\n",
      "\u001b[1;32mc:\\Users\\cs843\\Documents\\PhD\\2023\\February\\GGM-metrics\\Evaluation_examples - Zinc.ipynb Cell 6\u001b[0m in \u001b[0;36m<listcomp>\u001b[1;34m(.0)\u001b[0m\n\u001b[0;32m      <a href='vscode-notebook-cell:/c%3A/Users/cs843/Documents/PhD/2023/February/GGM-metrics/Evaluation_examples%20-%20Zinc.ipynb#X15sZmlsZQ%3D%3D?line=1'>2</a>\u001b[0m grids \u001b[39m=\u001b[39m a\n\u001b[0;32m      <a href='vscode-notebook-cell:/c%3A/Users/cs843/Documents/PhD/2023/February/GGM-metrics/Evaluation_examples%20-%20Zinc.ipynb#X15sZmlsZQ%3D%3D?line=3'>4</a>\u001b[0m device \u001b[39m=\u001b[39m torch\u001b[39m.\u001b[39mdevice(\u001b[39m'\u001b[39m\u001b[39mcuda\u001b[39m\u001b[39m'\u001b[39m) \u001b[39mif\u001b[39;00m torch\u001b[39m.\u001b[39mcuda\u001b[39m.\u001b[39mis_available() \u001b[39melse\u001b[39;00m torch\u001b[39m.\u001b[39mdevice(\u001b[39m'\u001b[39m\u001b[39mcpu\u001b[39m\u001b[39m'\u001b[39m)\n\u001b[1;32m----> <a href='vscode-notebook-cell:/c%3A/Users/cs843/Documents/PhD/2023/February/GGM-metrics/Evaluation_examples%20-%20Zinc.ipynb#X15sZmlsZQ%3D%3D?line=5'>6</a>\u001b[0m grids \u001b[39m=\u001b[39m [ dgl\u001b[39m.\u001b[39;49mfrom_networkx(g)\u001b[39m.\u001b[39mto(device) \u001b[39mfor\u001b[39;00m g \u001b[39min\u001b[39;00m grids] \u001b[39m# Convert graphs to DGL from NetworkX\u001b[39;00m\n\u001b[0;32m      <a href='vscode-notebook-cell:/c%3A/Users/cs843/Documents/PhD/2023/February/GGM-metrics/Evaluation_examples%20-%20Zinc.ipynb#X15sZmlsZQ%3D%3D?line=6'>7</a>\u001b[0m lobsters \u001b[39m=\u001b[39m [ dgl\u001b[39m.\u001b[39mfrom_networkx(g)\u001b[39m.\u001b[39mto(device) \u001b[39mfor\u001b[39;00m g \u001b[39min\u001b[39;00m lobsters] \u001b[39m# Convert graphs to DGL from NetworkX\u001b[39;00m\n\u001b[0;32m      <a href='vscode-notebook-cell:/c%3A/Users/cs843/Documents/PhD/2023/February/GGM-metrics/Evaluation_examples%20-%20Zinc.ipynb#X15sZmlsZQ%3D%3D?line=8'>9</a>\u001b[0m \u001b[39m\"\"\"\u001b[39;00m\n\u001b[0;32m     <a href='vscode-notebook-cell:/c%3A/Users/cs843/Documents/PhD/2023/February/GGM-metrics/Evaluation_examples%20-%20Zinc.ipynb#X15sZmlsZQ%3D%3D?line=9'>10</a>\u001b[0m \u001b[39mgrids = [ dgl.from_networkx(g).to(device) for g in grids] # Convert graphs to DGL from NetworkX\u001b[39;00m\n\u001b[0;32m     <a href='vscode-notebook-cell:/c%3A/Users/cs843/Documents/PhD/2023/February/GGM-metrics/Evaluation_examples%20-%20Zinc.ipynb#X15sZmlsZQ%3D%3D?line=10'>11</a>\u001b[0m \u001b[39mlobsters = [ dgl.from_networkx(g).to(device) for g in lobsters] # Convert graphs to DGL from NetworkX\u001b[39;00m\n\u001b[0;32m     <a href='vscode-notebook-cell:/c%3A/Users/cs843/Documents/PhD/2023/February/GGM-metrics/Evaluation_examples%20-%20Zinc.ipynb#X15sZmlsZQ%3D%3D?line=11'>12</a>\u001b[0m \n\u001b[0;32m     <a href='vscode-notebook-cell:/c%3A/Users/cs843/Documents/PhD/2023/February/GGM-metrics/Evaluation_examples%20-%20Zinc.ipynb#X15sZmlsZQ%3D%3D?line=12'>13</a>\u001b[0m \u001b[39m\"\"\"\u001b[39;00m\n",
      "File \u001b[1;32mc:\\Users\\cs843\\AppData\\Local\\Programs\\Python\\Python310\\lib\\site-packages\\dgl\\convert.py:1289\u001b[0m, in \u001b[0;36mfrom_networkx\u001b[1;34m(nx_graph, node_attrs, edge_attrs, edge_id_attr_name, idtype, device)\u001b[0m\n\u001b[0;32m   1284\u001b[0m \u001b[39mif\u001b[39;00m edge_id_attr_name \u001b[39mis\u001b[39;00m \u001b[39mnot\u001b[39;00m \u001b[39mNone\u001b[39;00m \u001b[39mand\u001b[39;00m \\\n\u001b[0;32m   1285\u001b[0m         edge_id_attr_name \u001b[39mnot\u001b[39;00m \u001b[39min\u001b[39;00m \u001b[39mnext\u001b[39m(\u001b[39miter\u001b[39m(nx_graph\u001b[39m.\u001b[39medges(data\u001b[39m=\u001b[39m\u001b[39mTrue\u001b[39;00m)))[\u001b[39m-\u001b[39m\u001b[39m1\u001b[39m]:\n\u001b[0;32m   1286\u001b[0m     \u001b[39mraise\u001b[39;00m DGLError(\u001b[39m'\u001b[39m\u001b[39mFailed to find the pre-specified edge IDs in the edge features of \u001b[39m\u001b[39m'\u001b[39m\n\u001b[0;32m   1287\u001b[0m                    \u001b[39m'\u001b[39m\u001b[39mthe NetworkX graph with name \u001b[39m\u001b[39m{}\u001b[39;00m\u001b[39m'\u001b[39m\u001b[39m.\u001b[39mformat(edge_id_attr_name))\n\u001b[1;32m-> 1289\u001b[0m \u001b[39mif\u001b[39;00m \u001b[39mnot\u001b[39;00m nx_graph\u001b[39m.\u001b[39;49mis_directed() \u001b[39mand\u001b[39;00m \u001b[39mnot\u001b[39;00m (edge_id_attr_name \u001b[39mis\u001b[39;00m \u001b[39mNone\u001b[39;00m \u001b[39mand\u001b[39;00m edge_attrs \u001b[39mis\u001b[39;00m \u001b[39mNone\u001b[39;00m):\n\u001b[0;32m   1290\u001b[0m     \u001b[39mraise\u001b[39;00m DGLError(\u001b[39m'\u001b[39m\u001b[39mExpect edge_id_attr_name and edge_attrs to be None when nx_graph is \u001b[39m\u001b[39m'\u001b[39m\n\u001b[0;32m   1291\u001b[0m                    \u001b[39m'\u001b[39m\u001b[39mundirected, got \u001b[39m\u001b[39m{}\u001b[39;00m\u001b[39m and \u001b[39m\u001b[39m{}\u001b[39;00m\u001b[39m'\u001b[39m\u001b[39m.\u001b[39mformat(edge_id_attr_name, edge_attrs))\n\u001b[0;32m   1293\u001b[0m \u001b[39m# Relabel nodes using consecutive integers starting from 0\u001b[39;00m\n",
      "\u001b[1;31mAttributeError\u001b[0m: 'DGLHeteroGraph' object has no attribute 'is_directed'"
     ]
    }
   ],
   "source": [
    "\n",
    "lobsters = a\n",
    "grids = a\n",
    "\n",
    "device = torch.device('cuda') if torch.cuda.is_available() else torch.device('cpu')\n",
    "\n",
    "grids = [ dgl.from_networkx(g).to(device) for g in grids] # Convert graphs to DGL from NetworkX\n",
    "lobsters = [ dgl.from_networkx(g).to(device) for g in lobsters] # Convert graphs to DGL from NetworkX\n",
    "\n",
    "\"\"\"\n",
    "grids = [ dgl.from_networkx(g).to(device) for g in grids] # Convert graphs to DGL from NetworkX\n",
    "lobsters = [ dgl.from_networkx(g).to(device) for g in lobsters] # Convert graphs to DGL from NetworkX\n",
    "\n",
    "\"\"\""
   ]
  },
  {
   "cell_type": "code",
   "execution_count": 121,
   "id": "c7ffe67d",
   "metadata": {},
   "outputs": [
    {
     "name": "stdout",
     "output_type": "stream",
     "text": [
      "Graph(num_nodes=327, num_edges=1798,\n",
      "      ndata_schemes={}\n",
      "      edata_schemes={}) \n",
      " Graph(num_nodes=327, num_edges=1798,\n",
      "      ndata_schemes={}\n",
      "      edata_schemes={})\n"
     ]
    }
   ],
   "source": [
    "print(grids[0],\"\\n\", lobsters[0])"
   ]
  },
  {
   "cell_type": "code",
   "execution_count": 122,
   "id": "4e01c2ea",
   "metadata": {},
   "outputs": [
    {
     "name": "stdout",
     "output_type": "stream",
     "text": [
      "orthogonal\n"
     ]
    },
    {
     "data": {
      "text/plain": [
       "{'activations_time': 0.0359041690826416,\n",
       " 'fid': -7.3418430730498585e-06,\n",
       " 'fid_time': 0.10272598266601562,\n",
       " 'kid': -0.8292633,\n",
       " 'kid_time': 0.051862239837646484,\n",
       " 'precision': 1.0,\n",
       " 'recall': 1.0,\n",
       " 'f1_pr': 1.00001,\n",
       " 'precision_time': 0.07978701591491699,\n",
       " 'recall_time': 0.07978701591491699,\n",
       " 'f1_pr_time': 0.07978701591491699,\n",
       " 'density': 1.2000000000000002,\n",
       " 'coverage': 1.0,\n",
       " 'f1_dc': 1.090919173552968,\n",
       " 'density_time': 0.05385470390319824,\n",
       " 'coverage_time': 0.05385470390319824,\n",
       " 'f1_dc_time': 0.05385470390319824,\n",
       " 'mmd_rbf': 0,\n",
       " 'mmd_rbf_time': 0.05984139442443848,\n",
       " 'mmd_linear': 0.0,\n",
       " 'mmd_linear_time': 0.0359041690826416}"
      ]
     },
     "execution_count": 122,
     "metadata": {},
     "output_type": "execute_result"
    }
   ],
   "source": [
    "# Compute all GNN-based metrics at once\n",
    "from evaluation.evaluator import Evaluator\n",
    "evaluator = Evaluator(device=device)\n",
    "evaluator.evaluate_all(generated_dataset=grids, reference_dataset=lobsters)"
   ]
  },
  {
   "cell_type": "code",
   "execution_count": 123,
   "id": "4018835c",
   "metadata": {},
   "outputs": [
    {
     "name": "stdout",
     "output_type": "stream",
     "text": [
      "orthogonal\n",
      "result: {'mmd_rbf': 0}, time to compute: 0.063s\n"
     ]
    }
   ],
   "source": [
    "# Alternatively, compute a single GNN-based metric. See evaluation/gin_evaluation.py for other metrics.\n",
    "from evaluation.gin_evaluation import load_feature_extractor, MMDEvaluation\n",
    "\n",
    "# Can tweak GIN hyperparameters, however defaults are set to our recommendations\n",
    "gin = load_feature_extractor(device=device)\n",
    "# Can tweak hyperparameters of MMD RBF, however defaults are set to our recommendations\n",
    "mmd_eval = MMDEvaluation(gin)\n",
    "result, time = mmd_eval.evaluate(generated_dataset=grids, reference_dataset=lobsters)\n",
    "print('result: {}, time to compute: {:.3f}s'.format(result, time))"
   ]
  },
  {
   "cell_type": "code",
   "execution_count": 124,
   "id": "f9541366",
   "metadata": {},
   "outputs": [
    {
     "name": "stdout",
     "output_type": "stream",
     "text": [
      "orthogonal\n",
      "result: {'mmd_rbf': 0.20000000298023224}, time to compute: 0.058s\n"
     ]
    }
   ],
   "source": [
    "# Evaluation incorporating custom node/edge features.\n",
    "# If no node features are provided, the default is degree features\n",
    "# expressed as an integer.\n",
    "\n",
    "node_feat_loc = 'feat'\n",
    "edge_feat_loc = 'feat'\n",
    "node_feat_dim = 10\n",
    "edge_feat_dim = 5\n",
    "\n",
    "# Create random node/edge features\n",
    "for g in grids:\n",
    "    num_nodes = g.number_of_nodes()\n",
    "    g.ndata[node_feat_loc] = torch.randn(num_nodes, node_feat_dim).to(g.device)\n",
    "    num_edges = g.number_of_edges()\n",
    "    g.edata[edge_feat_loc] = torch.randn(num_edges, edge_feat_dim).to(g.device)\n",
    "    \n",
    "for g in lobsters:\n",
    "    num_nodes = g.number_of_nodes()\n",
    "    g.ndata[node_feat_loc] = torch.randn(num_nodes, node_feat_dim).to(g.device)\n",
    "    num_edges = g.number_of_edges()\n",
    "    g.edata[edge_feat_loc] = torch.randn(num_edges, edge_feat_dim).to(g.device)\n",
    "\n",
    "# Load GIN\n",
    "gin = load_feature_extractor(\n",
    "    device=device, input_dim=node_feat_dim, edge_feat_dim=edge_feat_dim,\n",
    "    node_feat_loc=node_feat_loc, edge_feat_loc=edge_feat_loc)\n",
    "\n",
    "mmd_eval = MMDEvaluation(gin)\n",
    "result, time = mmd_eval.evaluate(generated_dataset=lobsters, reference_dataset=grids)\n",
    "print('result: {}, time to compute: {:.3f}s'.format(result, time))"
   ]
  },
  {
   "cell_type": "code",
   "execution_count": 125,
   "id": "e4143dbb",
   "metadata": {},
   "outputs": [
    {
     "name": "stdout",
     "output_type": "stream",
     "text": [
      "MMD RBF for grids with itself: 0\n",
      "MMD RBF after altering node/edge feat. distributions: 0.20000000298023224\n"
     ]
    }
   ],
   "source": [
    "# To quickly demonstrate sensitivity to node/edge features, let's create\n",
    "# a copy of the grid graphs and slightly alter the node/edge feat distributions\n",
    "import copy\n",
    "\n",
    "result, time = mmd_eval.evaluate(generated_dataset=grids, reference_dataset=grids)\n",
    "print('MMD RBF for grids with itself: {}'.format(result['mmd_rbf']))\n",
    "\n",
    "grids_copy = [copy.deepcopy(g) for g in grids]\n",
    "for g in grids_copy:\n",
    "    g.ndata[node_feat_loc] *= 1.15\n",
    "    g.edata[edge_feat_loc] *= 1.15\n",
    "    \n",
    "result, time = mmd_eval.evaluate(reference_dataset=grids, generated_dataset=grids_copy)\n",
    "print('MMD RBF after altering node/edge feat. distributions: {}'.format(result['mmd_rbf']))"
   ]
  },
  {
   "cell_type": "code",
   "execution_count": null,
   "id": "b331942a",
   "metadata": {},
   "outputs": [],
   "source": []
  }
 ],
 "metadata": {
  "kernelspec": {
   "display_name": "Python 3",
   "language": "python",
   "name": "python3"
  },
  "language_info": {
   "codemirror_mode": {
    "name": "ipython",
    "version": 3
   },
   "file_extension": ".py",
   "mimetype": "text/x-python",
   "name": "python",
   "nbconvert_exporter": "python",
   "pygments_lexer": "ipython3",
   "version": "3.10.5"
  },
  "vscode": {
   "interpreter": {
    "hash": "06a8be8316eed2f6558da5cb68a9abde15f0a0ec61139bf81bc916fa7c6839e3"
   }
  }
 },
 "nbformat": 4,
 "nbformat_minor": 5
}
