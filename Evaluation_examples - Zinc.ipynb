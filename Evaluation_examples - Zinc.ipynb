{
 "cells": [
  {
   "cell_type": "code",
   "execution_count": 2,
   "id": "09d37d22",
   "metadata": {},
   "outputs": [],
   "source": [
    "from evaluation.mol_structure import list_of_smiles_to_nx_graphs\n",
    "# Generate graphs for demonstration purposes\n",
    "import utils.graph_generators as gen\n",
    "import torch\n",
    "import dgl\n",
    "import networkx as nx\n",
    "from evaluation.moses.metrics import get_all_metrics\n",
    "from evaluation.evaluator import Evaluator\n",
    "from evaluation.gin_evaluation import load_feature_extractor, MMDEvaluation\n",
    "import copy\n"
   ]
  },
  {
   "cell_type": "code",
   "execution_count": 1,
   "id": "4fc92815",
   "metadata": {},
   "outputs": [],
   "source": [
    "import numpy as np"
   ]
  },
  {
   "cell_type": "code",
   "execution_count": null,
   "id": "73a646d2",
   "metadata": {},
   "outputs": [],
   "source": []
  },
  {
   "cell_type": "code",
   "execution_count": 3,
   "id": "7f8f9f8d",
   "metadata": {},
   "outputs": [],
   "source": [
    "a=gen.load_zinc(n_samples=10)\n",
    "grids=a\n",
    "lobsters=a\n",
    "#print(len(grids[0].ndata['attr']))\n",
    "#print(grids[0].ndata['attr']  , grids[0].ndata['feat'])"
   ]
  },
  {
   "cell_type": "code",
   "execution_count": 4,
   "id": "13cf5f5b",
   "metadata": {},
   "outputs": [],
   "source": [
    "\n",
    "\n",
    "lobsters_nx = [ dgl.to_networkx(g, node_attrs=['attr','feat'], edge_attrs=['attr','feat'])  for g in a]\n",
    "grids_nx = [dgl.to_networkx(g, node_attrs=['attr','feat'], edge_attrs=['attr','feat']) for g in a]\n",
    "\n",
    "#device = torch.device('cuda') if torch.cuda.is_available() else torch.device('cpu')\n",
    "\n",
    "device=torch.device('cpu')\n",
    "\n",
    "grids = [ dgl.from_networkx(g,node_attrs=['feat'], edge_attrs=['feat']).to(device) for g in grids_nx] # Convert graphs to DGL from NetworkX\n",
    "lobsters = [ dgl.from_networkx(g,node_attrs=['feat'], edge_attrs=['feat']).to(device) for g in lobsters_nx] # Convert graphs to DGL from NetworkX"
   ]
  },
  {
   "cell_type": "code",
   "execution_count": 5,
   "id": "f19d3a4c",
   "metadata": {},
   "outputs": [
    {
     "name": "stdout",
     "output_type": "stream",
     "text": [
      "WARNING:tensorflow:From c:\\Users\\cs843\\AppData\\Local\\Programs\\Python\\Python310\\lib\\site-packages\\tensorflow_gan\\python\\estimator\\tpu_gan_estimator.py:42: The name tf.estimator.tpu.TPUEstimator is deprecated. Please use tf.compat.v1.estimator.tpu.TPUEstimator instead.\n",
      "\n",
      "WARNING:tensorflow:From c:\\Users\\cs843\\AppData\\Local\\Programs\\Python\\Python310\\lib\\site-packages\\tensorflow_gan\\python\\eval\\classifier_metrics.py:1157: calling map_fn_v2 (from tensorflow.python.ops.map_fn) with back_prop=False is deprecated and will be removed in a future version.\n",
      "Instructions for updating:\n",
      "back_prop=False is deprecated. Consider using tf.stop_gradient instead.\n",
      "Instead of:\n",
      "results = tf.map_fn(fn, elems, back_prop=False)\n",
      "Use:\n",
      "results = tf.nest.map_structure(tf.stop_gradient, tf.map_fn(fn, elems))\n",
      "{'activations_time': 0.03400278091430664, 'fid': -7.276851491155867e-06, 'fid_time': 0.060003042221069336, 'kid': -0.6868758, 'kid_time': 10.257941007614136, 'precision': 1.0, 'recall': 1.0, 'f1_pr': 1.00001, 'precision_time': 0.0614469051361084, 'recall_time': 0.0614469051361084, 'f1_pr_time': 0.0614469051361084, 'density': 1.2000000000000002, 'coverage': 1.0, 'f1_dc': 1.090919173552968, 'density_time': 0.0500030517578125, 'coverage_time': 0.0500030517578125, 'f1_dc_time': 0.0500030517578125, 'mmd_rbf': 0, 'mmd_rbf_time': 0.06000518798828125, 'mmd_linear': 0.0, 'mmd_linear_time': 0.03400278091430664}\n",
      "The single gin  metric recommended by the https://github.com/uoguelph-mlrg/GGM-metrics/search?q=prdcEvaluation: {'mmd_rbf': 0}, time to compute: 0.050s\n",
      "result: {'mmd_rbf': 0.20685051707550883}, time to compute: 0.046s\n",
      "MMD RBF for grids with itself: 0\n",
      "MMD RBF after altering node/edge feat. distributions: 0.20000000298023224\n"
     ]
    }
   ],
   "source": [
    "\n",
    "# Compute all GNN-based metrics at once\n",
    "evaluator = Evaluator(device=device)\n",
    "all_gnn=evaluator.evaluate_all(generated_dataset=grids, reference_dataset=lobsters)\n",
    "print(all_gnn)\n",
    " #Alternatively, compute a single GNN-based metric. See evaluation/gin_evaluation.py for other metrics.\n",
    "# Can tweak GIN hyperparameters, however defaults are set to our recommendations\n",
    "gin = load_feature_extractor(device=device)\n",
    "# Can tweak hyperparameters of MMD RBF, however defaults are set to our recommendations\n",
    "mmd_eval = MMDEvaluation(gin)\n",
    "result, time = mmd_eval.evaluate(generated_dataset=grids, reference_dataset=lobsters)\n",
    "print('The single gin  metric recommended by the https://github.com/uoguelph-mlrg/GGM-metrics/search?q=prdcEvaluation: {}, time to compute: {:.3f}s'.format(result, time))\n",
    "\n",
    "# Evaluation incorporating custom node/edge features.\n",
    "# If no node features are provided, the default is degree features\n",
    "# expressed as an integer.\n",
    "\n",
    "node_feat_loc = 'feat'\n",
    "edge_feat_loc = 'feat'\n",
    "node_feat_dim = 10\n",
    "edge_feat_dim = 5\n",
    "\n",
    "# Create random node/edge features\n",
    "for g in grids:\n",
    "    num_nodes = g.number_of_nodes()\n",
    "    g.ndata[node_feat_loc] = torch.randn(num_nodes, node_feat_dim).to(g.device)\n",
    "    num_edges = g.number_of_edges()\n",
    "    g.edata[edge_feat_loc] = torch.randn(num_edges, edge_feat_dim).to(g.device)\n",
    "    \n",
    "for g in lobsters:\n",
    "    num_nodes = g.number_of_nodes()\n",
    "    g.ndata[node_feat_loc] = torch.randn(num_nodes, node_feat_dim).to(g.device)\n",
    "    num_edges = g.number_of_edges()\n",
    "    g.edata[edge_feat_loc] = torch.randn(num_edges, edge_feat_dim).to(g.device)\n",
    "\n",
    "# Load GIN\n",
    "gin = load_feature_extractor(\n",
    "    device=device, input_dim=node_feat_dim, edge_feat_dim=edge_feat_dim,\n",
    "    node_feat_loc=node_feat_loc, edge_feat_loc=edge_feat_loc)\n",
    "\n",
    "mmd_eval = MMDEvaluation(gin)\n",
    "result, time = mmd_eval.evaluate(generated_dataset=lobsters, reference_dataset=grids)\n",
    "print('result: {}, time to compute: {:.3f}s'.format(result, time))\n",
    "\n",
    "# To quickly demonstrate sensitivity to node/edge features, let's create\n",
    "# a copy of the grid graphs and slightly alter the node/edge feat distributions\n",
    "\n",
    "result, time = mmd_eval.evaluate(generated_dataset=grids, reference_dataset=grids)\n",
    "print('MMD RBF for grids with itself: {}'.format(result['mmd_rbf']))\n",
    "\n",
    "grids_copy = [copy.deepcopy(g) for g in grids]\n",
    "for g in grids_copy:\n",
    "    g.ndata[node_feat_loc] *= 1.15\n",
    "    g.edata[edge_feat_loc] *= 1.15\n",
    "    \n",
    "result, time = mmd_eval.evaluate(reference_dataset=grids, generated_dataset=grids_copy)\n",
    "print('MMD RBF after altering node/edge feat. distributions: {}'.format(result['mmd_rbf']))"
   ]
  },
  {
   "cell_type": "code",
   "execution_count": 6,
   "id": "8130cec4",
   "metadata": {},
   "outputs": [
    {
     "name": "stderr",
     "output_type": "stream",
     "text": [
      "c:\\Users\\cs843\\Documents\\PhD\\2023\\Proposal\\GGM-metrics\\evaluation\\graph_structure_evaluation.py:128: RuntimeWarning: Mean of empty slice.\n",
      "  mmd = K_GG.mean() + K_RR.mean() - (2 * K_GR.mean())\n",
      "c:\\Users\\cs843\\AppData\\Local\\Programs\\Python\\Python310\\lib\\site-packages\\numpy\\core\\_methods.py:190: RuntimeWarning: invalid value encountered in double_scalars\n",
      "  ret = ret.dtype.type(ret / rcount)\n",
      "<class 'networkx.utils.decorators.argmap'> compilation 8:4: FutureWarning: normalized_laplacian_matrix will return a scipy.sparse array instead of a matrix in Networkx 3.0.\n"
     ]
    },
    {
     "data": {
      "text/plain": [
       "{'nspdk_mmd': 0.0,\n",
       " 'nspdk_mmd_time': 0.18408966064453125,\n",
       " 'wl_mmd': 0.0,\n",
       " 'wl_mmd_time': 0.021998882293701172,\n",
       " 'degree_mmd': 0,\n",
       " 'degree_mmd_time': 52.47593832015991,\n",
       " 'clustering_mmd': 0,\n",
       " 'clustering_mmd_time': 53.26442575454712,\n",
       " 'orbits_mmd': 0,\n",
       " 'orbits_mmd_time': 0.07153749465942383,\n",
       " 'spectral_mmd': 0,\n",
       " 'spectral_mmd_time': 35.36649465560913}"
      ]
     },
     "execution_count": 6,
     "metadata": {},
     "output_type": "execute_result"
    }
   ],
   "source": [
    "evaluator = Evaluator(device=device, metrics_type=['gin','structure', 'molecular'],feature_extractor='mmd-structure',statistic='all' )\n",
    "evaluator.evaluate_all(generated_dataset=grids, reference_dataset=lobsters)"
   ]
  },
  {
   "cell_type": "code",
   "execution_count": 7,
   "id": "95956494",
   "metadata": {},
   "outputs": [
    {
     "name": "stdout",
     "output_type": "stream",
     "text": [
      "MMD RBF for grids with itself: 0\n",
      "MMD RBF after altering node/edge feat. distributions: 1.0981200635433197\n"
     ]
    }
   ],
   "source": [
    "# To quickly demonstrate sensitivity to node/edge features, let's create\n",
    "# a copy of the grid graphs and slightly alter the node/edge feat distributions\n",
    "\n",
    "result, time = mmd_eval.evaluate(generated_dataset=grids, reference_dataset=grids)\n",
    "print('MMD RBF for grids with itself: {}'.format(result['mmd_rbf']))\n",
    "\n",
    "grids_copy = [copy.deepcopy(g) for g in grids]\n",
    "for g in grids_copy:\n",
    "    g.ndata[node_feat_loc] *= 5\n",
    "    g.edata[edge_feat_loc] *= 5\n",
    "    \n",
    "result, time = mmd_eval.evaluate(reference_dataset=grids, generated_dataset=grids_copy)\n",
    "print('MMD RBF after altering node/edge feat. distributions: {}'.format(result['mmd_rbf']))"
   ]
  },
  {
   "cell_type": "code",
   "execution_count": null,
   "id": "580c73fd",
   "metadata": {},
   "outputs": [],
   "source": [
    "#What sort of preprocessing  you need to make to be able to execute the metrics from moses\n",
    "\n",
    "#https://github.com/graphdeeplearning/benchmarking-gnns/issues/42\n",
    "#https://stackoverflow.com/questions/51195392/smiles-from-graph\n"
   ]
  },
  {
   "cell_type": "code",
   "execution_count": 8,
   "id": "b83d7812",
   "metadata": {},
   "outputs": [],
   "source": [
    "lobsters = [ dgl.to_networkx(g, node_attrs=['attr','feat'], edge_attrs=['attr','feat'])  for g in a]\n",
    "grids = [dgl.to_networkx(g, node_attrs=['attr','feat'], edge_attrs=['attr','feat']) for g in a]"
   ]
  },
  {
   "cell_type": "code",
   "execution_count": 158,
   "id": "22ddcfa3",
   "metadata": {},
   "outputs": [
    {
     "data": {
      "text/plain": [
       "NodeDataView({0: {'attr': tensor(0), 'feat': tensor(0), 'label': tensor(0)}, 1: {'attr': tensor(1), 'feat': tensor(1), 'label': tensor(1)}, 2: {'attr': tensor(0), 'feat': tensor(0), 'label': tensor(0)}, 3: {'attr': tensor(0), 'feat': tensor(0), 'label': tensor(0)}, 4: {'attr': tensor(0), 'feat': tensor(0), 'label': tensor(0)}, 5: {'attr': tensor(0), 'feat': tensor(0), 'label': tensor(0)}, 6: {'attr': tensor(0), 'feat': tensor(0), 'label': tensor(0)}, 7: {'attr': tensor(0), 'feat': tensor(0), 'label': tensor(0)}, 8: {'attr': tensor(0), 'feat': tensor(0), 'label': tensor(0)}, 9: {'attr': tensor(1), 'feat': tensor(1), 'label': tensor(1)}, 10: {'attr': tensor(0), 'feat': tensor(0), 'label': tensor(0)}, 11: {'attr': tensor(0), 'feat': tensor(0), 'label': tensor(0)}, 12: {'attr': tensor(2), 'feat': tensor(2), 'label': tensor(2)}, 13: {'attr': tensor(0), 'feat': tensor(0), 'label': tensor(0)}, 14: {'attr': tensor(0), 'feat': tensor(0), 'label': tensor(0)}, 15: {'attr': tensor(2), 'feat': tensor(2), 'label': tensor(2)}, 16: {'attr': tensor(5), 'feat': tensor(5), 'label': tensor(5)}, 17: {'attr': tensor(1), 'feat': tensor(1), 'label': tensor(1)}, 18: {'attr': tensor(1), 'feat': tensor(1), 'label': tensor(1)}, 19: {'attr': tensor(0), 'feat': tensor(0), 'label': tensor(0)}, 20: {'attr': tensor(0), 'feat': tensor(0), 'label': tensor(0)}, 21: {'attr': tensor(2), 'feat': tensor(2), 'label': tensor(2)}, 22: {'attr': tensor(0), 'feat': tensor(0), 'label': tensor(0)}, 23: {'attr': tensor(0), 'feat': tensor(0), 'label': tensor(0)}, 24: {'attr': tensor(0), 'feat': tensor(0), 'label': tensor(0)}, 25: {'attr': tensor(0), 'feat': tensor(0), 'label': tensor(0)}, 26: {'attr': tensor(0), 'feat': tensor(0), 'label': tensor(0)}, 27: {'attr': tensor(0), 'feat': tensor(0), 'label': tensor(0)}, 28: {'attr': tensor(0), 'feat': tensor(0), 'label': tensor(0)}})"
      ]
     },
     "execution_count": 158,
     "metadata": {},
     "output_type": "execute_result"
    }
   ],
   "source": [
    "discrete_node_label_name='attr' #leave blank if this does not exist, default: 'label'\n",
    " #leave blank if this does not exist, default: 'label'\n",
    "continuous_node_label_name='feat'  #leave blank if this does not exist default: 'attr'\n",
    "discrete_edge_label_name='attr'  #leave blank if this does not exist  ,default: 'label'\n",
    "continuous_edge_label_name='feat' #leave blank if this does not exist , default: 'attr'\n",
    "#dicrete labels should be set to 'label'\n",
    "#continous labels should be set to 'attr'\n",
    "#'nn and 'structural need dgl graphs, need conversion\n",
    "def preprocess(nx_dataset,discrete_node_label_name, continuous_node_label_name,discrete_edge_label_name,  continuous_edge_label_name):\n",
    "    processed_dataset=[]\n",
    "    for G in nx_dataset:\n",
    "        dict=nx.get_node_attributes(G, discrete_node_label_name)\n",
    "        nx.set_node_attributes(G, dict, 'label') \n",
    "        dict=nx.get_node_attributes(G, continuous_node_label_name)\n",
    "        nx.set_node_attributes(G, dict, 'attr')\n",
    "        dict=nx.get_edge_attributes(G, discrete_edge_label_name)\n",
    "        nx.set_node_attributes(G, dict, 'label')\n",
    "        dict=nx.get_edge_attributes(G, continuous_edge_label_name)\n",
    "        nx.set_node_attributes(G, dict, 'attr')\n",
    "        processed_dataset.append(G)\n",
    "    return processed_dataset\n",
    "\n",
    "tr=preprocess(nx_lobsters,discrete_node_label_name, continuous_node_label_name, discrete_edge_label_name,continuous_edge_label_name)\n",
    "tr[0].nodes(data=True)"
   ]
  },
  {
   "cell_type": "code",
   "execution_count": 174,
   "id": "992e7949",
   "metadata": {},
   "outputs": [
    {
     "data": {
      "text/plain": [
       "NodeDataView({0: {'attr': tensor(0), 'feat': tensor(0), 'label': tensor([1., 0., 0., 0., 0., 0., 0., 0., 0., 0., 0., 0., 0., 0., 0., 0., 0., 0.,\n",
       "        0., 0., 0., 0., 0., 0., 0., 0., 0., 0.])}, 1: {'attr': tensor(1), 'feat': tensor(1), 'label': tensor([0., 1., 0., 0., 0., 0., 0., 0., 0., 0., 0., 0., 0., 0., 0., 0., 0., 0.,\n",
       "        0., 0., 0., 0., 0., 0., 0., 0., 0., 0.])}, 2: {'attr': tensor(0), 'feat': tensor(0), 'label': tensor([1., 0., 0., 0., 0., 0., 0., 0., 0., 0., 0., 0., 0., 0., 0., 0., 0., 0.,\n",
       "        0., 0., 0., 0., 0., 0., 0., 0., 0., 0.])}, 3: {'attr': tensor(0), 'feat': tensor(0), 'label': tensor([1., 0., 0., 0., 0., 0., 0., 0., 0., 0., 0., 0., 0., 0., 0., 0., 0., 0.,\n",
       "        0., 0., 0., 0., 0., 0., 0., 0., 0., 0.])}, 4: {'attr': tensor(0), 'feat': tensor(0), 'label': tensor([1., 0., 0., 0., 0., 0., 0., 0., 0., 0., 0., 0., 0., 0., 0., 0., 0., 0.,\n",
       "        0., 0., 0., 0., 0., 0., 0., 0., 0., 0.])}, 5: {'attr': tensor(0), 'feat': tensor(0), 'label': tensor([1., 0., 0., 0., 0., 0., 0., 0., 0., 0., 0., 0., 0., 0., 0., 0., 0., 0.,\n",
       "        0., 0., 0., 0., 0., 0., 0., 0., 0., 0.])}, 6: {'attr': tensor(0), 'feat': tensor(0), 'label': tensor([1., 0., 0., 0., 0., 0., 0., 0., 0., 0., 0., 0., 0., 0., 0., 0., 0., 0.,\n",
       "        0., 0., 0., 0., 0., 0., 0., 0., 0., 0.])}, 7: {'attr': tensor(0), 'feat': tensor(0), 'label': tensor([1., 0., 0., 0., 0., 0., 0., 0., 0., 0., 0., 0., 0., 0., 0., 0., 0., 0.,\n",
       "        0., 0., 0., 0., 0., 0., 0., 0., 0., 0.])}, 8: {'attr': tensor(0), 'feat': tensor(0), 'label': tensor([1., 0., 0., 0., 0., 0., 0., 0., 0., 0., 0., 0., 0., 0., 0., 0., 0., 0.,\n",
       "        0., 0., 0., 0., 0., 0., 0., 0., 0., 0.])}, 9: {'attr': tensor(1), 'feat': tensor(1), 'label': tensor([0., 1., 0., 0., 0., 0., 0., 0., 0., 0., 0., 0., 0., 0., 0., 0., 0., 0.,\n",
       "        0., 0., 0., 0., 0., 0., 0., 0., 0., 0.])}, 10: {'attr': tensor(0), 'feat': tensor(0), 'label': tensor([1., 0., 0., 0., 0., 0., 0., 0., 0., 0., 0., 0., 0., 0., 0., 0., 0., 0.,\n",
       "        0., 0., 0., 0., 0., 0., 0., 0., 0., 0.])}, 11: {'attr': tensor(0), 'feat': tensor(0), 'label': tensor([1., 0., 0., 0., 0., 0., 0., 0., 0., 0., 0., 0., 0., 0., 0., 0., 0., 0.,\n",
       "        0., 0., 0., 0., 0., 0., 0., 0., 0., 0.])}, 12: {'attr': tensor(2), 'feat': tensor(2), 'label': tensor([0., 0., 1., 0., 0., 0., 0., 0., 0., 0., 0., 0., 0., 0., 0., 0., 0., 0.,\n",
       "        0., 0., 0., 0., 0., 0., 0., 0., 0., 0.])}, 13: {'attr': tensor(0), 'feat': tensor(0), 'label': tensor([1., 0., 0., 0., 0., 0., 0., 0., 0., 0., 0., 0., 0., 0., 0., 0., 0., 0.,\n",
       "        0., 0., 0., 0., 0., 0., 0., 0., 0., 0.])}, 14: {'attr': tensor(0), 'feat': tensor(0), 'label': tensor([1., 0., 0., 0., 0., 0., 0., 0., 0., 0., 0., 0., 0., 0., 0., 0., 0., 0.,\n",
       "        0., 0., 0., 0., 0., 0., 0., 0., 0., 0.])}, 15: {'attr': tensor(2), 'feat': tensor(2), 'label': tensor([0., 0., 1., 0., 0., 0., 0., 0., 0., 0., 0., 0., 0., 0., 0., 0., 0., 0.,\n",
       "        0., 0., 0., 0., 0., 0., 0., 0., 0., 0.])}, 16: {'attr': tensor(5), 'feat': tensor(5), 'label': tensor([0., 0., 0., 0., 0., 1., 0., 0., 0., 0., 0., 0., 0., 0., 0., 0., 0., 0.,\n",
       "        0., 0., 0., 0., 0., 0., 0., 0., 0., 0.])}, 17: {'attr': tensor(1), 'feat': tensor(1), 'label': tensor([0., 1., 0., 0., 0., 0., 0., 0., 0., 0., 0., 0., 0., 0., 0., 0., 0., 0.,\n",
       "        0., 0., 0., 0., 0., 0., 0., 0., 0., 0.])}, 18: {'attr': tensor(1), 'feat': tensor(1), 'label': tensor([0., 1., 0., 0., 0., 0., 0., 0., 0., 0., 0., 0., 0., 0., 0., 0., 0., 0.,\n",
       "        0., 0., 0., 0., 0., 0., 0., 0., 0., 0.])}, 19: {'attr': tensor(0), 'feat': tensor(0), 'label': tensor([1., 0., 0., 0., 0., 0., 0., 0., 0., 0., 0., 0., 0., 0., 0., 0., 0., 0.,\n",
       "        0., 0., 0., 0., 0., 0., 0., 0., 0., 0.])}, 20: {'attr': tensor(0), 'feat': tensor(0), 'label': tensor([1., 0., 0., 0., 0., 0., 0., 0., 0., 0., 0., 0., 0., 0., 0., 0., 0., 0.,\n",
       "        0., 0., 0., 0., 0., 0., 0., 0., 0., 0.])}, 21: {'attr': tensor(2), 'feat': tensor(2), 'label': tensor([0., 0., 1., 0., 0., 0., 0., 0., 0., 0., 0., 0., 0., 0., 0., 0., 0., 0.,\n",
       "        0., 0., 0., 0., 0., 0., 0., 0., 0., 0.])}, 22: {'attr': tensor(0), 'feat': tensor(0), 'label': tensor([1., 0., 0., 0., 0., 0., 0., 0., 0., 0., 0., 0., 0., 0., 0., 0., 0., 0.,\n",
       "        0., 0., 0., 0., 0., 0., 0., 0., 0., 0.])}, 23: {'attr': tensor(0), 'feat': tensor(0), 'label': tensor([1., 0., 0., 0., 0., 0., 0., 0., 0., 0., 0., 0., 0., 0., 0., 0., 0., 0.,\n",
       "        0., 0., 0., 0., 0., 0., 0., 0., 0., 0.])}, 24: {'attr': tensor(0), 'feat': tensor(0), 'label': tensor([1., 0., 0., 0., 0., 0., 0., 0., 0., 0., 0., 0., 0., 0., 0., 0., 0., 0.,\n",
       "        0., 0., 0., 0., 0., 0., 0., 0., 0., 0.])}, 25: {'attr': tensor(0), 'feat': tensor(0), 'label': tensor([1., 0., 0., 0., 0., 0., 0., 0., 0., 0., 0., 0., 0., 0., 0., 0., 0., 0.,\n",
       "        0., 0., 0., 0., 0., 0., 0., 0., 0., 0.])}, 26: {'attr': tensor(0), 'feat': tensor(0), 'label': tensor([1., 0., 0., 0., 0., 0., 0., 0., 0., 0., 0., 0., 0., 0., 0., 0., 0., 0.,\n",
       "        0., 0., 0., 0., 0., 0., 0., 0., 0., 0.])}, 27: {'attr': tensor(0), 'feat': tensor(0), 'label': tensor([1., 0., 0., 0., 0., 0., 0., 0., 0., 0., 0., 0., 0., 0., 0., 0., 0., 0.,\n",
       "        0., 0., 0., 0., 0., 0., 0., 0., 0., 0.])}, 28: {'attr': tensor(0), 'feat': tensor(0), 'label': tensor([1., 0., 0., 0., 0., 0., 0., 0., 0., 0., 0., 0., 0., 0., 0., 0., 0., 0.,\n",
       "        0., 0., 0., 0., 0., 0., 0., 0., 0., 0.])}})"
      ]
     },
     "execution_count": 174,
     "metadata": {},
     "output_type": "execute_result"
    }
   ],
   "source": [
    "lobsters_nx[0].nodes(data=True)"
   ]
  },
  {
   "cell_type": "code",
   "execution_count": 5,
   "id": "55cefb17",
   "metadata": {},
   "outputs": [
    {
     "name": "stdout",
     "output_type": "stream",
     "text": [
      "orthogonal\n",
      "WARNING:tensorflow:From c:\\Users\\cs843\\AppData\\Local\\Programs\\Python\\Python310\\lib\\site-packages\\tensorflow_gan\\python\\estimator\\tpu_gan_estimator.py:42: The name tf.estimator.tpu.TPUEstimator is deprecated. Please use tf.compat.v1.estimator.tpu.TPUEstimator instead.\n",
      "\n",
      "WARNING:tensorflow:From c:\\Users\\cs843\\AppData\\Local\\Programs\\Python\\Python310\\lib\\site-packages\\tensorflow_gan\\python\\eval\\classifier_metrics.py:1157: calling map_fn_v2 (from tensorflow.python.ops.map_fn) with back_prop=False is deprecated and will be removed in a future version.\n",
      "Instructions for updating:\n",
      "back_prop=False is deprecated. Consider using tf.stop_gradient instead.\n",
      "Instead of:\n",
      "results = tf.map_fn(fn, elems, back_prop=False)\n",
      "Use:\n",
      "results = tf.nest.map_structure(tf.stop_gradient, tf.map_fn(fn, elems))\n",
      "s\n"
     ]
    },
    {
     "name": "stderr",
     "output_type": "stream",
     "text": [
      "c:\\Users\\cs843\\Documents\\PhD\\2023\\February\\GGM-metrics\\evaluation\\moses\\metrics\\metrics.py:216: UserWarning: Can't compute unique@1000.gen contains only 10 molecules\n",
      "  warnings.warn(\n",
      "c:\\Users\\cs843\\Documents\\PhD\\2023\\February\\GGM-metrics\\evaluation\\moses\\metrics\\metrics.py:216: UserWarning: Can't compute unique@10000.gen contains only 10 molecules\n",
      "  warnings.warn(\n"
     ]
    },
    {
     "name": "stdout",
     "output_type": "stream",
     "text": [
      "{'activations_time': 0.022013425827026367, 'fid': -6.695371780551795e-06, 'fid_time': 0.030015945434570312, 'kid': -0.71907973, 'kid_time': 6.75724196434021, 'precision': 1.0, 'recall': 1.0, 'f1_pr': 1.00001, 'precision_time': 0.0653543472290039, 'recall_time': 0.0653543472290039, 'f1_pr_time': 0.0653543472290039, 'density': 1.2000000000000002, 'coverage': 1.0, 'f1_dc': 1.090919173552968, 'density_time': 0.04326772689819336, 'coverage_time': 0.04326772689819336, 'f1_dc_time': 0.04326772689819336, 'mmd_rbf': 0, 'mmd_rbf_time': 0.05101323127746582, 'mmd_linear': 0.0, 'mmd_linear_time': 0.022013425827026367, 'nspdk_mmd': 0.0, 'nspdk_mmd_time': 0.18700027465820312, 'valid': 1.0, 'unique@1000': 1.0, 'unique@10000': 1.0, 'FCD/Test': 46.72970354700773, 'SNN/Test': 0.49758105874061587, 'Frag/Test': 0.6078516005720516, 'Scaf/Test': 0.029266636262645807, 'FCD/TestSF': 47.06954094903616, 'SNN/TestSF': 0.4751725435256958, 'Frag/TestSF': -0.03829807449991973, 'Scaf/TestSF': 0.0, 'IntDiv': 0.7798648965358734, 'IntDiv2': 0.6573560342604137, 'Filters': 0.6, 'logP': 0.4848532570282956, 'SA': 0.23933803793536645, 'QED': 0.079520396336778, 'weight': 34.227634518441164, 'Novelty': 0.0}\n"
     ]
    }
   ],
   "source": [
    "device=torch.device('cpu')\n",
    "metrics_type=['nn', 'structural', 'molecular']\n",
    "structural_statistic='nspdk'  #options ['WL' , 'nspdk', 'orbits, \n",
    "#'degree', 'clustering' ,'spectral']\n",
    "\n",
    "\n",
    "reference_graphs=lobsters_nx\n",
    "generated_graphs=grids_nx\n",
    "\n",
    "discrete_node_label_name='attr' #leave it blank if this does not exist, default: 'label'\n",
    " #leave blank if this does not exist, default: 'label'\n",
    "continuous_node_label_name='feat'  #leave it blank if this does not exist default: 'attr'\n",
    "discrete_edge_label_name='attr'  #leave it blank if this does not exist  ,default: 'label'\n",
    "continuous_edge_label_name='feat' #leave it blank if this does not exist , default: 'attr'\n",
    "#dicrete labels should be set to 'label'\n",
    "#continous labels should be set to 'attr'\n",
    "\n",
    "\n",
    "def preprocess(nx_dataset,discrete_node_label_name, continuous_node_label_name,discrete_edge_label_name,  continuous_edge_label_name):\n",
    "    processed_dataset=[]\n",
    "    for G in nx_dataset:\n",
    "        dict=nx.get_node_attributes(G, discrete_node_label_name)\n",
    "        nx.set_node_attributes(G, dict, 'label') \n",
    "        dict=nx.get_node_attributes(G, continuous_node_label_name)\n",
    "        nx.set_node_attributes(G, dict, 'attr')\n",
    "        dict=nx.get_edge_attributes(G, discrete_edge_label_name)\n",
    "        nx.set_node_attributes(G, dict, 'label')\n",
    "        dict=nx.get_edge_attributes(G, continuous_edge_label_name)\n",
    "        nx.set_node_attributes(G, dict, 'attr')\n",
    "        processed_dataset.append(G)\n",
    "    return processed_dataset\n",
    "\n",
    "\n",
    "reference_graphs=preprocess(reference_graphs,discrete_node_label_name, continuous_node_label_name, discrete_edge_label_name,continuous_edge_label_name)\n",
    "generated_graphs=preprocess(generated_graphs,discrete_node_label_name, continuous_node_label_name, discrete_edge_label_name,continuous_edge_label_name)\n",
    "reference_graphs_dgl = [ dgl.from_networkx(g,node_attrs=[continuous_node_label_name], edge_attrs=[continuous_edge_label_name]).to(device) for g in reference_graphs] # Convert graphs to DGL from NetworkX\n",
    "generated_graphs_dgl = [ dgl.from_networkx(g,node_attrs=[continuous_node_label_name], edge_attrs=[continuous_edge_label_name]).to(device) for g in generated_graphs] # Convert graphs to DGL from NetworkX\n",
    "metrics={}\n",
    "if  'nn' in metrics_type:\n",
    "    assert continuous_node_label_name!='' ,'You need continuous features to be able to compure nn-based metrics'\n",
    "    eval=Evaluator(feature_extractor ='gin',device='cpu')\n",
    "    nn_metrics=eval.evaluate_all(generated_dataset=reference_graphs_dgl,reference_dataset=reference_graphs_dgl)\n",
    "    metrics.update(nn_metrics)\n",
    "        \n",
    "if 'structural' in metrics_type  :\n",
    "    eval=Evaluator(feature_extractor ='mmd-structure',device='cpu' ,statistic=structural_statistic)\n",
    "    structural_metrics=eval.evaluate_all(generated_dataset=generated_graphs_dgl,reference_dataset=reference_graphs_dgl)\n",
    "    metrics.update(structural_metrics)\n",
    "    \n",
    "if 'molecular'  in metrics_type:\n",
    "    #@fuckit\n",
    "    def func(reference_graphs, generated_graphs):\n",
    "        reference_graphs_mol= [nx_to_mol(g,edge_label='feat', node_label='feat') for g in reference_graphs]\n",
    "        generated_graphs_mol=[nx_to_mol(g,edge_label='feat', node_label='feat') for g in generated_graphs]\n",
    "        print('s')\n",
    "        reference_graphs_smiles=mol_to_smiles(reference_graphs_mol)\n",
    "        generated_graphs_smiles=mol_to_smiles(generated_graphs_mol)\n",
    "\n",
    "        mol_metrics=get_all_metrics(gen=generated_graphs_smiles,train=reference_graphs_smiles)\n",
    "        metrics.update(mol_metrics)\n",
    "    try: \n",
    "        func(reference_graphs,generated_graphs)\n",
    "    except: \n",
    "        print('Cannot compute molecular metrics for this type of graphs. You might neeed  to manually change the definition of nx_to_mol:)\\n')\n",
    "        \n",
    "    \n",
    "print(metrics)"
   ]
  },
  {
   "cell_type": "code",
   "execution_count": null,
   "id": "76cb6c84",
   "metadata": {},
   "outputs": [],
   "source": []
  },
  {
   "cell_type": "code",
   "execution_count": 272,
   "id": "963ae7d3",
   "metadata": {},
   "outputs": [
    {
     "data": {
      "text/plain": [
       "{'wl_mmd': 0.0, 'wl_mmd_time': 0.019949913024902344}"
      ]
     },
     "execution_count": 272,
     "metadata": {},
     "output_type": "execute_result"
    }
   ],
   "source": [
    "eval=Evaluator(feature_extractor ='mmd-structure',statistic='WL')\n",
    "eval.evaluate_all(generated_dataset=grids,reference_dataset=lobsters)"
   ]
  },
  {
   "cell_type": "code",
   "execution_count": 273,
   "id": "d51dd7d4",
   "metadata": {},
   "outputs": [
    {
     "data": {
      "text/plain": [
       "{'nspdk_mmd': 0.0, 'nspdk_mmd_time': 0.164459228515625}"
      ]
     },
     "execution_count": 273,
     "metadata": {},
     "output_type": "execute_result"
    }
   ],
   "source": [
    "eval=Evaluator(feature_extractor ='mmd-structure',statistic='nspdk')\n",
    "eval.evaluate_all(generated_dataset=grids,reference_dataset=lobsters)"
   ]
  },
  {
   "cell_type": "code",
   "execution_count": 274,
   "id": "3f2378e8",
   "metadata": {},
   "outputs": [
    {
     "data": {
      "text/plain": [
       "{'clustering_mmd': 0, 'clustering_mmd_time': 68.12237238883972}"
      ]
     },
     "execution_count": 274,
     "metadata": {},
     "output_type": "execute_result"
    }
   ],
   "source": [
    "eval=Evaluator(feature_extractor ='mmd-structure',statistic='clustering')\n",
    "eval.evaluate_all(generated_dataset=grids,reference_dataset=lobsters)"
   ]
  },
  {
   "cell_type": "code",
   "execution_count": 275,
   "id": "f402496d",
   "metadata": {},
   "outputs": [
    {
     "data": {
      "text/plain": [
       "{'degree_mmd': 0, 'degree_mmd_time': 62.189956188201904}"
      ]
     },
     "execution_count": 275,
     "metadata": {},
     "output_type": "execute_result"
    }
   ],
   "source": [
    "eval=Evaluator(feature_extractor ='mmd-structure',statistic='degree')\n",
    "eval.evaluate_all(generated_dataset=grids,reference_dataset=lobsters)"
   ]
  },
  {
   "cell_type": "code",
   "execution_count": 4,
   "id": "dc77cf0b",
   "metadata": {},
   "outputs": [
    {
     "data": {
      "text/plain": [
       "{'clustering_mmd': 0, 'clustering_mmd_time': 55.546926975250244}"
      ]
     },
     "execution_count": 4,
     "metadata": {},
     "output_type": "execute_result"
    }
   ],
   "source": [
    "eval=Evaluator(feature_extractor ='mmd-structure',statistic='clustering')\n",
    "eval.evaluate_all(generated_dataset=grids,reference_dataset=lobsters)"
   ]
  },
  {
   "cell_type": "code",
   "execution_count": 5,
   "id": "ae3ffaaf",
   "metadata": {},
   "outputs": [],
   "source": [
    "\n",
    "#beware the graph statistics metric it is very slow\n",
    "eval=Evaluator(feature_extractor ='mmd-structure',statistic='all')\n",
    "metrics=eval.evaluate_all(generated_dataset=grids[:5],reference_dataset=lobsters[5:])"
   ]
  },
  {
   "cell_type": "code",
   "execution_count": null,
   "id": "334d8f6f",
   "metadata": {},
   "outputs": [],
   "source": []
  },
  {
   "cell_type": "code",
   "execution_count": null,
   "id": "673c60b2",
   "metadata": {},
   "outputs": [],
   "source": []
  },
  {
   "cell_type": "code",
   "execution_count": null,
   "id": "801f70a0",
   "metadata": {},
   "outputs": [],
   "source": []
  },
  {
   "cell_type": "code",
   "execution_count": null,
   "id": "4f349f7c",
   "metadata": {},
   "outputs": [],
   "source": []
  },
  {
   "cell_type": "code",
   "execution_count": null,
   "id": "432aee27",
   "metadata": {},
   "outputs": [],
   "source": []
  }
 ],
 "metadata": {
  "kernelspec": {
   "display_name": "Python 3",
   "language": "python",
   "name": "python3"
  },
  "language_info": {
   "codemirror_mode": {
    "name": "ipython",
    "version": 3
   },
   "file_extension": ".py",
   "mimetype": "text/x-python",
   "name": "python",
   "nbconvert_exporter": "python",
   "pygments_lexer": "ipython3",
   "version": "3.10.5"
  },
  "vscode": {
   "interpreter": {
    "hash": "06a8be8316eed2f6558da5cb68a9abde15f0a0ec61139bf81bc916fa7c6839e3"
   }
  }
 },
 "nbformat": 4,
 "nbformat_minor": 5
}
