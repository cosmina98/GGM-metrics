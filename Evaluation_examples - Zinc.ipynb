{
 "cells": [
  {
   "cell_type": "code",
   "execution_count": 262,
   "id": "09d37d22",
   "metadata": {},
   "outputs": [],
   "source": [
    "# Generate graphs for demonstration purposes\n",
    "import utils.graph_generators as gen\n",
    "import torch\n",
    "import dgl\n",
    "a=gen.load_zinc(n_samples=10)"
   ]
  },
  {
   "cell_type": "code",
   "execution_count": 263,
   "id": "13cf5f5b",
   "metadata": {},
   "outputs": [],
   "source": [
    "#nx_a = [dgl.to_networkx(a.cpu())  for a in a]"
   ]
  },
  {
   "cell_type": "code",
   "execution_count": 264,
   "id": "f19d3a4c",
   "metadata": {},
   "outputs": [],
   "source": [
    "\n",
    "lobsters = [ dgl.to_networkx(g, node_attrs=['attr','feat'], edge_attrs=['attr','feat'])  for g in a]\n",
    "grids = [dgl.to_networkx(g, node_attrs=['attr','feat'], edge_attrs=['attr','feat']) for g in a]\n",
    "\n",
    "#device = torch.device('cuda') if torch.cuda.is_available() else torch.device('cpu')\n",
    "device=torch.device('cpu')\n",
    "\n",
    "grids = [ dgl.from_networkx(g,node_attrs=[], edge_attrs=[]).to(device) for g in grids] # Convert graphs to DGL from NetworkX\n",
    "lobsters = [ dgl.from_networkx(g,node_attrs=[], edge_attrs=[]).to(device) for g in lobsters] # Convert graphs to DGL from NetworkX"
   ]
  },
  {
   "cell_type": "code",
   "execution_count": 265,
   "id": "c7ffe67d",
   "metadata": {},
   "outputs": [
    {
     "name": "stdout",
     "output_type": "stream",
     "text": [
      "Graph(num_nodes=29, num_edges=64,\n",
      "      ndata_schemes={}\n",
      "      edata_schemes={}) \n",
      " Graph(num_nodes=29, num_edges=64,\n",
      "      ndata_schemes={}\n",
      "      edata_schemes={})\n"
     ]
    }
   ],
   "source": [
    "print(grids[0],\"\\n\", lobsters[0])"
   ]
  },
  {
   "cell_type": "code",
   "execution_count": 266,
   "id": "d9c69b91",
   "metadata": {},
   "outputs": [
    {
     "name": "stdout",
     "output_type": "stream",
     "text": [
      "orthogonal\n"
     ]
    },
    {
     "data": {
      "text/plain": [
       "{'activations_time': 0.028913021087646484,\n",
       " 'fid': -7.175364174827337e-06,\n",
       " 'fid_time': 0.05085492134094238,\n",
       " 'kid': -0.7352618,\n",
       " 'kid_time': 0.14959073066711426,\n",
       " 'precision': 1.0,\n",
       " 'recall': 1.0,\n",
       " 'f1_pr': 1.00001,\n",
       " 'precision_time': 0.0870969295501709,\n",
       " 'recall_time': 0.0870969295501709,\n",
       " 'f1_pr_time': 0.0870969295501709,\n",
       " 'density': 1.2000000000000002,\n",
       " 'coverage': 1.0,\n",
       " 'f1_dc': 1.090919173552968,\n",
       " 'density_time': 0.05186581611633301,\n",
       " 'coverage_time': 0.05186581611633301,\n",
       " 'f1_dc_time': 0.05186581611633301,\n",
       " 'mmd_rbf': 0,\n",
       " 'mmd_rbf_time': 0.06380510330200195,\n",
       " 'mmd_linear': 0.0,\n",
       " 'mmd_linear_time': 0.028913021087646484}"
      ]
     },
     "execution_count": 266,
     "metadata": {},
     "output_type": "execute_result"
    }
   ],
   "source": [
    "# Compute all GNN-based metrics at once\n",
    "from evaluation.evaluator import Evaluator\n",
    "evaluator = Evaluator(device=device)\n",
    "evaluator.evaluate_all(generated_dataset=grids, reference_dataset=lobsters)"
   ]
  },
  {
   "cell_type": "code",
   "execution_count": 267,
   "id": "4e01c2ea",
   "metadata": {},
   "outputs": [
    {
     "name": "stdout",
     "output_type": "stream",
     "text": [
      "orthogonal\n",
      "result: {'mmd_rbf': 0}, time to compute: 0.069s\n"
     ]
    }
   ],
   "source": [
    " #Alternatively, compute a single GNN-based metric. See evaluation/gin_evaluation.py for other metrics.\n",
    "from evaluation.gin_evaluation import load_feature_extractor, MMDEvaluation\n",
    "\n",
    "# Can tweak GIN hyperparameters, however defaults are set to our recommendations\n",
    "gin = load_feature_extractor(device=device)\n",
    "# Can tweak hyperparameters of MMD RBF, however defaults are set to our recommendations\n",
    "mmd_eval = MMDEvaluation(gin)\n",
    "result, time = mmd_eval.evaluate(generated_dataset=grids, reference_dataset=lobsters)\n",
    "print('result: {}, time to compute: {:.3f}s'.format(result, time))"
   ]
  },
  {
   "cell_type": "code",
   "execution_count": 268,
   "id": "f9541366",
   "metadata": {},
   "outputs": [
    {
     "name": "stdout",
     "output_type": "stream",
     "text": [
      "orthogonal\n",
      "result: {'mmd_rbf': 0.20000000298023224}, time to compute: 0.047s\n"
     ]
    }
   ],
   "source": [
    "# Evaluation incorporating custom node/edge features.\n",
    "# If no node features are provided, the default is degree features\n",
    "# expressed as an integer.\n",
    "\n",
    "node_feat_loc = 'feat'\n",
    "edge_feat_loc = 'feat'\n",
    "node_feat_dim = 10\n",
    "edge_feat_dim = 5\n",
    "\n",
    "# Create random node/edge features\n",
    "for g in grids:\n",
    "    num_nodes = g.number_of_nodes()\n",
    "    g.ndata[node_feat_loc] = torch.randn(num_nodes, node_feat_dim).to(g.device)\n",
    "    num_edges = g.number_of_edges()\n",
    "    g.edata[edge_feat_loc] = torch.randn(num_edges, edge_feat_dim).to(g.device)\n",
    "    \n",
    "for g in lobsters:\n",
    "    num_nodes = g.number_of_nodes()\n",
    "    g.ndata[node_feat_loc] = torch.randn(num_nodes, node_feat_dim).to(g.device)\n",
    "    num_edges = g.number_of_edges()\n",
    "    g.edata[edge_feat_loc] = torch.randn(num_edges, edge_feat_dim).to(g.device)\n",
    "\n",
    "# Load GIN\n",
    "gin = load_feature_extractor(\n",
    "    device=device, input_dim=node_feat_dim, edge_feat_dim=edge_feat_dim,\n",
    "    node_feat_loc=node_feat_loc, edge_feat_loc=edge_feat_loc)\n",
    "\n",
    "mmd_eval = MMDEvaluation(gin)\n",
    "result, time = mmd_eval.evaluate(generated_dataset=lobsters, reference_dataset=grids)\n",
    "print('result: {}, time to compute: {:.3f}s'.format(result, time))"
   ]
  },
  {
   "cell_type": "code",
   "execution_count": 269,
   "id": "e4143dbb",
   "metadata": {},
   "outputs": [
    {
     "name": "stdout",
     "output_type": "stream",
     "text": [
      "MMD RBF for grids with itself: 0\n",
      "MMD RBF after altering node/edge feat. distributions: 0.20000000298023224\n"
     ]
    }
   ],
   "source": [
    "# To quickly demonstrate sensitivity to node/edge features, let's create\n",
    "# a copy of the grid graphs and slightly alter the node/edge feat distributions\n",
    "import copy\n",
    "\n",
    "result, time = mmd_eval.evaluate(generated_dataset=grids, reference_dataset=grids)\n",
    "print('MMD RBF for grids with itself: {}'.format(result['mmd_rbf']))\n",
    "\n",
    "grids_copy = [copy.deepcopy(g) for g in grids]\n",
    "for g in grids_copy:\n",
    "    g.ndata[node_feat_loc] *= 1.15\n",
    "    g.edata[edge_feat_loc] *= 1.15\n",
    "    \n",
    "result, time = mmd_eval.evaluate(reference_dataset=grids, generated_dataset=grids_copy)\n",
    "print('MMD RBF after altering node/edge feat. distributions: {}'.format(result['mmd_rbf']))"
   ]
  },
  {
   "cell_type": "code",
   "execution_count": 276,
   "id": "7f8f9f8d",
   "metadata": {},
   "outputs": [
    {
     "name": "stdout",
     "output_type": "stream",
     "text": [
      "29\n",
      "tensor([[1., 0., 0., 0., 0., 0., 0., 0., 0., 0., 0., 0., 0., 0., 0., 0., 0., 0.,\n",
      "         0., 0., 0., 0., 0., 0., 0., 0., 0., 0.],\n",
      "        [0., 1., 0., 0., 0., 0., 0., 0., 0., 0., 0., 0., 0., 0., 0., 0., 0., 0.,\n",
      "         0., 0., 0., 0., 0., 0., 0., 0., 0., 0.],\n",
      "        [1., 0., 0., 0., 0., 0., 0., 0., 0., 0., 0., 0., 0., 0., 0., 0., 0., 0.,\n",
      "         0., 0., 0., 0., 0., 0., 0., 0., 0., 0.],\n",
      "        [1., 0., 0., 0., 0., 0., 0., 0., 0., 0., 0., 0., 0., 0., 0., 0., 0., 0.,\n",
      "         0., 0., 0., 0., 0., 0., 0., 0., 0., 0.],\n",
      "        [1., 0., 0., 0., 0., 0., 0., 0., 0., 0., 0., 0., 0., 0., 0., 0., 0., 0.,\n",
      "         0., 0., 0., 0., 0., 0., 0., 0., 0., 0.],\n",
      "        [1., 0., 0., 0., 0., 0., 0., 0., 0., 0., 0., 0., 0., 0., 0., 0., 0., 0.,\n",
      "         0., 0., 0., 0., 0., 0., 0., 0., 0., 0.],\n",
      "        [1., 0., 0., 0., 0., 0., 0., 0., 0., 0., 0., 0., 0., 0., 0., 0., 0., 0.,\n",
      "         0., 0., 0., 0., 0., 0., 0., 0., 0., 0.],\n",
      "        [1., 0., 0., 0., 0., 0., 0., 0., 0., 0., 0., 0., 0., 0., 0., 0., 0., 0.,\n",
      "         0., 0., 0., 0., 0., 0., 0., 0., 0., 0.],\n",
      "        [1., 0., 0., 0., 0., 0., 0., 0., 0., 0., 0., 0., 0., 0., 0., 0., 0., 0.,\n",
      "         0., 0., 0., 0., 0., 0., 0., 0., 0., 0.],\n",
      "        [0., 1., 0., 0., 0., 0., 0., 0., 0., 0., 0., 0., 0., 0., 0., 0., 0., 0.,\n",
      "         0., 0., 0., 0., 0., 0., 0., 0., 0., 0.],\n",
      "        [1., 0., 0., 0., 0., 0., 0., 0., 0., 0., 0., 0., 0., 0., 0., 0., 0., 0.,\n",
      "         0., 0., 0., 0., 0., 0., 0., 0., 0., 0.],\n",
      "        [1., 0., 0., 0., 0., 0., 0., 0., 0., 0., 0., 0., 0., 0., 0., 0., 0., 0.,\n",
      "         0., 0., 0., 0., 0., 0., 0., 0., 0., 0.],\n",
      "        [0., 0., 1., 0., 0., 0., 0., 0., 0., 0., 0., 0., 0., 0., 0., 0., 0., 0.,\n",
      "         0., 0., 0., 0., 0., 0., 0., 0., 0., 0.],\n",
      "        [1., 0., 0., 0., 0., 0., 0., 0., 0., 0., 0., 0., 0., 0., 0., 0., 0., 0.,\n",
      "         0., 0., 0., 0., 0., 0., 0., 0., 0., 0.],\n",
      "        [1., 0., 0., 0., 0., 0., 0., 0., 0., 0., 0., 0., 0., 0., 0., 0., 0., 0.,\n",
      "         0., 0., 0., 0., 0., 0., 0., 0., 0., 0.],\n",
      "        [0., 0., 1., 0., 0., 0., 0., 0., 0., 0., 0., 0., 0., 0., 0., 0., 0., 0.,\n",
      "         0., 0., 0., 0., 0., 0., 0., 0., 0., 0.],\n",
      "        [0., 0., 0., 0., 0., 1., 0., 0., 0., 0., 0., 0., 0., 0., 0., 0., 0., 0.,\n",
      "         0., 0., 0., 0., 0., 0., 0., 0., 0., 0.],\n",
      "        [0., 1., 0., 0., 0., 0., 0., 0., 0., 0., 0., 0., 0., 0., 0., 0., 0., 0.,\n",
      "         0., 0., 0., 0., 0., 0., 0., 0., 0., 0.],\n",
      "        [0., 1., 0., 0., 0., 0., 0., 0., 0., 0., 0., 0., 0., 0., 0., 0., 0., 0.,\n",
      "         0., 0., 0., 0., 0., 0., 0., 0., 0., 0.],\n",
      "        [1., 0., 0., 0., 0., 0., 0., 0., 0., 0., 0., 0., 0., 0., 0., 0., 0., 0.,\n",
      "         0., 0., 0., 0., 0., 0., 0., 0., 0., 0.],\n",
      "        [1., 0., 0., 0., 0., 0., 0., 0., 0., 0., 0., 0., 0., 0., 0., 0., 0., 0.,\n",
      "         0., 0., 0., 0., 0., 0., 0., 0., 0., 0.],\n",
      "        [0., 0., 1., 0., 0., 0., 0., 0., 0., 0., 0., 0., 0., 0., 0., 0., 0., 0.,\n",
      "         0., 0., 0., 0., 0., 0., 0., 0., 0., 0.],\n",
      "        [1., 0., 0., 0., 0., 0., 0., 0., 0., 0., 0., 0., 0., 0., 0., 0., 0., 0.,\n",
      "         0., 0., 0., 0., 0., 0., 0., 0., 0., 0.],\n",
      "        [1., 0., 0., 0., 0., 0., 0., 0., 0., 0., 0., 0., 0., 0., 0., 0., 0., 0.,\n",
      "         0., 0., 0., 0., 0., 0., 0., 0., 0., 0.],\n",
      "        [1., 0., 0., 0., 0., 0., 0., 0., 0., 0., 0., 0., 0., 0., 0., 0., 0., 0.,\n",
      "         0., 0., 0., 0., 0., 0., 0., 0., 0., 0.],\n",
      "        [1., 0., 0., 0., 0., 0., 0., 0., 0., 0., 0., 0., 0., 0., 0., 0., 0., 0.,\n",
      "         0., 0., 0., 0., 0., 0., 0., 0., 0., 0.],\n",
      "        [1., 0., 0., 0., 0., 0., 0., 0., 0., 0., 0., 0., 0., 0., 0., 0., 0., 0.,\n",
      "         0., 0., 0., 0., 0., 0., 0., 0., 0., 0.],\n",
      "        [1., 0., 0., 0., 0., 0., 0., 0., 0., 0., 0., 0., 0., 0., 0., 0., 0., 0.,\n",
      "         0., 0., 0., 0., 0., 0., 0., 0., 0., 0.],\n",
      "        [1., 0., 0., 0., 0., 0., 0., 0., 0., 0., 0., 0., 0., 0., 0., 0., 0., 0.,\n",
      "         0., 0., 0., 0., 0., 0., 0., 0., 0., 0.]]) tensor([0, 1, 0, 0, 0, 0, 0, 0, 0, 1, 0, 0, 2, 0, 0, 2, 5, 1, 1, 0, 0, 2, 0, 0,\n",
      "        0, 0, 0, 0, 0])\n"
     ]
    }
   ],
   "source": [
    "a=gen.load_zinc(n_samples=10)\n",
    "grids=a\n",
    "lobsters=a\n",
    "print(len(grids[0].ndata['attr']))\n",
    "print(grids[0].ndata['attr']  , grids[0].ndata['feat'])"
   ]
  },
  {
   "cell_type": "code",
   "execution_count": 58,
   "id": "597ffeea",
   "metadata": {},
   "outputs": [],
   "source": [
    "\n",
    "lobsters = [ dgl.to_networkx(g, node_attrs=['attr','feat'], edge_attrs=['attr','feat'])  for g in a]\n",
    "grids = [dgl.to_networkx(g, node_attrs=['attr','feat'], edge_attrs=['attr','feat']) for g in a]\n",
    "\n",
    "#device = torch.device('cuda') if torch.cuda.is_available() else torch.device('cpu')\n",
    "device=torch.device('cpu')\n",
    "\n",
    "grids = [ dgl.from_networkx(g,node_attrs=['feat'], edge_attrs=['feat']).to(device) for g in grids] # Convert graphs to DGL from NetworkX\n",
    "lobsters = [ dgl.from_networkx(g,node_attrs=['feat'], edge_attrs=['feat']).to(device) for g in lobsters] # Convert graphs to DGL from NetworkX"
   ]
  },
  {
   "cell_type": "code",
   "execution_count": 271,
   "id": "70ea8985",
   "metadata": {},
   "outputs": [
    {
     "name": "stdout",
     "output_type": "stream",
     "text": [
      "orthogonal\n"
     ]
    },
    {
     "data": {
      "text/plain": [
       "{'activations_time': 0.02293705940246582,\n",
       " 'fid': -5.0272063134571e-06,\n",
       " 'fid_time': 0.026926279067993164,\n",
       " 'kid': -0.6205814,\n",
       " 'kid_time': 0.03989148139953613,\n",
       " 'precision': 1.0,\n",
       " 'recall': 1.0,\n",
       " 'f1_pr': 1.00001,\n",
       " 'precision_time': 0.05186009407043457,\n",
       " 'recall_time': 0.05186009407043457,\n",
       " 'f1_pr_time': 0.05186009407043457,\n",
       " 'density': 1.2000000000000002,\n",
       " 'coverage': 1.0,\n",
       " 'f1_dc': 1.090919173552968,\n",
       " 'density_time': 0.038893699645996094,\n",
       " 'coverage_time': 0.038893699645996094,\n",
       " 'f1_dc_time': 0.038893699645996094,\n",
       " 'mmd_rbf': 0,\n",
       " 'mmd_rbf_time': 0.06283307075500488,\n",
       " 'mmd_linear': 0.0,\n",
       " 'mmd_linear_time': 0.02393341064453125}"
      ]
     },
     "execution_count": 271,
     "metadata": {},
     "output_type": "execute_result"
    }
   ],
   "source": [
    "# Compute all GNN-based metrics at once\n",
    "from evaluation.evaluator import Evaluator\n",
    "evaluator = Evaluator(device=device)\n",
    "evaluator.evaluate_all(generated_dataset=grids, reference_dataset=lobsters)"
   ]
  },
  {
   "cell_type": "code",
   "execution_count": 273,
   "id": "b47f8457",
   "metadata": {},
   "outputs": [
    {
     "name": "stdout",
     "output_type": "stream",
     "text": [
      "orthogonal\n",
      "result: {'mmd_rbf': 0}, time to compute: 0.046s\n"
     ]
    }
   ],
   "source": [
    " #Alternatively, compute a single GNN-based metric. See evaluation/gin_evaluation.py for other metrics.\n",
    "from evaluation.gin_evaluation import load_feature_extractor, MMDEvaluation\n",
    "\n",
    "# Can tweak GIN hyperparameters, however defaults are set to our recommendations\n",
    "gin = load_feature_extractor(device=device)\n",
    "# Can tweak hyperparameters of MMD RBF, however defaults are set to our recommendations\n",
    "mmd_eval = MMDEvaluation(gin)\n",
    "result, time = mmd_eval.evaluate(generated_dataset=grids, reference_dataset=lobsters)\n",
    "print('result: {}, time to compute: {:.3f}s'.format(result, time))"
   ]
  },
  {
   "cell_type": "code",
   "execution_count": 274,
   "id": "7ae0829b",
   "metadata": {},
   "outputs": [
    {
     "name": "stdout",
     "output_type": "stream",
     "text": [
      "orthogonal\n",
      "result: {'mmd_rbf': 0.20000000298023224}, time to compute: 0.130s\n"
     ]
    }
   ],
   "source": [
    "# Evaluation incorporating custom node/edge features.\n",
    "# If no node features are provided, the default is degree features\n",
    "# expressed as an integer.\n",
    "\n",
    "node_feat_loc = 'feat'\n",
    "edge_feat_loc = 'feat'\n",
    "node_feat_dim = 10\n",
    "edge_feat_dim = 5\n",
    "\n",
    "# Create random node/edge features\n",
    "for g in grids:\n",
    "    num_nodes = g.number_of_nodes()\n",
    "    g.ndata[node_feat_loc] = torch.randn(num_nodes, node_feat_dim).to(g.device)\n",
    "    num_edges = g.number_of_edges()\n",
    "    g.edata[edge_feat_loc] = torch.randn(num_edges, edge_feat_dim).to(g.device)\n",
    "    \n",
    "for g in lobsters:\n",
    "    num_nodes = g.number_of_nodes()\n",
    "    g.ndata[node_feat_loc] = torch.randn(num_nodes, node_feat_dim).to(g.device)\n",
    "    num_edges = g.number_of_edges()\n",
    "    g.edata[edge_feat_loc] = torch.randn(num_edges, edge_feat_dim).to(g.device)\n",
    "\n",
    "# Load GIN\n",
    "gin = load_feature_extractor(\n",
    "    device=device, input_dim=node_feat_dim, edge_feat_dim=edge_feat_dim,\n",
    "    node_feat_loc=node_feat_loc, edge_feat_loc=edge_feat_loc)\n",
    "\n",
    "mmd_eval = MMDEvaluation(gin)\n",
    "result, time = mmd_eval.evaluate(generated_dataset=lobsters, reference_dataset=grids)\n",
    "print('result: {}, time to compute: {:.3f}s'.format(result, time))"
   ]
  },
  {
   "cell_type": "code",
   "execution_count": 275,
   "id": "95956494",
   "metadata": {},
   "outputs": [
    {
     "name": "stdout",
     "output_type": "stream",
     "text": [
      "MMD RBF for grids with itself: 0\n",
      "MMD RBF after altering node/edge feat. distributions: 0.7479543089866638\n"
     ]
    }
   ],
   "source": [
    "# To quickly demonstrate sensitivity to node/edge features, let's create\n",
    "# a copy of the grid graphs and slightly alter the node/edge feat distributions\n",
    "import copy\n",
    "\n",
    "result, time = mmd_eval.evaluate(generated_dataset=grids, reference_dataset=grids)\n",
    "print('MMD RBF for grids with itself: {}'.format(result['mmd_rbf']))\n",
    "\n",
    "grids_copy = [copy.deepcopy(g) for g in grids]\n",
    "for g in grids_copy:\n",
    "    g.ndata[node_feat_loc] *= 5\n",
    "    g.edata[edge_feat_loc] *= 5\n",
    "    \n",
    "result, time = mmd_eval.evaluate(reference_dataset=grids, generated_dataset=grids_copy)\n",
    "print('MMD RBF after altering node/edge feat. distributions: {}'.format(result['mmd_rbf']))"
   ]
  },
  {
   "cell_type": "code",
   "execution_count": 91,
   "id": "48f0bc43",
   "metadata": {},
   "outputs": [],
   "source": [
    "a=gen.load_zinc(n_samples=10)\n"
   ]
  },
  {
   "cell_type": "code",
   "execution_count": 92,
   "id": "4b57d06b",
   "metadata": {},
   "outputs": [],
   "source": [
    "grids=a\n",
    "lobsters=a"
   ]
  },
  {
   "cell_type": "code",
   "execution_count": 174,
   "id": "4c3a79ce",
   "metadata": {},
   "outputs": [],
   "source": [
    "test=grids[0]\n",
    "test_nx=dgl.to_networkx(test, node_attrs=['attr','feat'], edge_attrs=['attr','feat'])"
   ]
  },
  {
   "cell_type": "code",
   "execution_count": 94,
   "id": "e2bfcfd3",
   "metadata": {},
   "outputs": [
    {
     "data": {
      "text/plain": [
       "OutMultiEdgeDataView([(0, 1, {'id': 0, 'attr': tensor([0., 1., 0., 0.]), 'feat': tensor(1)}), (1, 0, {'id': 1, 'attr': tensor([0., 1., 0., 0.]), 'feat': tensor(1)}), (1, 2, {'id': 2, 'attr': tensor([0., 1., 0., 0.]), 'feat': tensor(1)}), (2, 1, {'id': 3, 'attr': tensor([0., 1., 0., 0.]), 'feat': tensor(1)}), (2, 3, {'id': 4, 'attr': tensor([0., 0., 1., 0.]), 'feat': tensor(2)}), (2, 28, {'id': 5, 'attr': tensor([0., 1., 0., 0.]), 'feat': tensor(1)}), (3, 2, {'id': 6, 'attr': tensor([0., 0., 1., 0.]), 'feat': tensor(2)}), (3, 4, {'id': 7, 'attr': tensor([0., 1., 0., 0.]), 'feat': tensor(1)}), (4, 3, {'id': 8, 'attr': tensor([0., 1., 0., 0.]), 'feat': tensor(1)}), (4, 5, {'id': 9, 'attr': tensor([0., 0., 1., 0.]), 'feat': tensor(2)}), (5, 4, {'id': 10, 'attr': tensor([0., 0., 1., 0.]), 'feat': tensor(2)}), (5, 6, {'id': 11, 'attr': tensor([0., 1., 0., 0.]), 'feat': tensor(1)}), (5, 27, {'id': 12, 'attr': tensor([0., 1., 0., 0.]), 'feat': tensor(1)}), (6, 5, {'id': 13, 'attr': tensor([0., 1., 0., 0.]), 'feat': tensor(1)}), (6, 7, {'id': 14, 'attr': tensor([0., 0., 1., 0.]), 'feat': tensor(2)}), (7, 6, {'id': 15, 'attr': tensor([0., 0., 1., 0.]), 'feat': tensor(2)}), (7, 8, {'id': 16, 'attr': tensor([0., 1., 0., 0.]), 'feat': tensor(1)}), (8, 7, {'id': 17, 'attr': tensor([0., 1., 0., 0.]), 'feat': tensor(1)}), (8, 9, {'id': 18, 'attr': tensor([0., 1., 0., 0.]), 'feat': tensor(1)}), (8, 10, {'id': 19, 'attr': tensor([0., 0., 1., 0.]), 'feat': tensor(2)}), (9, 8, {'id': 20, 'attr': tensor([0., 1., 0., 0.]), 'feat': tensor(1)}), (10, 8, {'id': 21, 'attr': tensor([0., 0., 1., 0.]), 'feat': tensor(2)}), (10, 11, {'id': 22, 'attr': tensor([0., 1., 0., 0.]), 'feat': tensor(1)}), (10, 27, {'id': 23, 'attr': tensor([0., 1., 0., 0.]), 'feat': tensor(1)}), (11, 10, {'id': 24, 'attr': tensor([0., 1., 0., 0.]), 'feat': tensor(1)}), (11, 12, {'id': 25, 'attr': tensor([0., 1., 0., 0.]), 'feat': tensor(1)}), (12, 11, {'id': 26, 'attr': tensor([0., 1., 0., 0.]), 'feat': tensor(1)}), (12, 13, {'id': 27, 'attr': tensor([0., 1., 0., 0.]), 'feat': tensor(1)}), (12, 26, {'id': 28, 'attr': tensor([0., 1., 0., 0.]), 'feat': tensor(1)}), (13, 12, {'id': 29, 'attr': tensor([0., 1., 0., 0.]), 'feat': tensor(1)}), (13, 14, {'id': 30, 'attr': tensor([0., 1., 0., 0.]), 'feat': tensor(1)}), (14, 13, {'id': 31, 'attr': tensor([0., 1., 0., 0.]), 'feat': tensor(1)}), (14, 15, {'id': 32, 'attr': tensor([0., 1., 0., 0.]), 'feat': tensor(1)}), (15, 14, {'id': 33, 'attr': tensor([0., 1., 0., 0.]), 'feat': tensor(1)}), (15, 16, {'id': 34, 'attr': tensor([0., 1., 0., 0.]), 'feat': tensor(1)}), (15, 25, {'id': 35, 'attr': tensor([0., 1., 0., 0.]), 'feat': tensor(1)}), (16, 15, {'id': 36, 'attr': tensor([0., 1., 0., 0.]), 'feat': tensor(1)}), (16, 17, {'id': 37, 'attr': tensor([0., 0., 1., 0.]), 'feat': tensor(2)}), (16, 18, {'id': 38, 'attr': tensor([0., 0., 1., 0.]), 'feat': tensor(2)}), (16, 19, {'id': 39, 'attr': tensor([0., 1., 0., 0.]), 'feat': tensor(1)}), (17, 16, {'id': 40, 'attr': tensor([0., 0., 1., 0.]), 'feat': tensor(2)}), (18, 16, {'id': 41, 'attr': tensor([0., 0., 1., 0.]), 'feat': tensor(2)}), (19, 16, {'id': 42, 'attr': tensor([0., 1., 0., 0.]), 'feat': tensor(1)}), (19, 20, {'id': 43, 'attr': tensor([0., 0., 1., 0.]), 'feat': tensor(2)}), (19, 24, {'id': 44, 'attr': tensor([0., 1., 0., 0.]), 'feat': tensor(1)}), (20, 19, {'id': 45, 'attr': tensor([0., 0., 1., 0.]), 'feat': tensor(2)}), (20, 21, {'id': 46, 'attr': tensor([0., 1., 0., 0.]), 'feat': tensor(1)}), (21, 20, {'id': 47, 'attr': tensor([0., 1., 0., 0.]), 'feat': tensor(1)}), (21, 22, {'id': 48, 'attr': tensor([0., 1., 0., 0.]), 'feat': tensor(1)}), (21, 23, {'id': 49, 'attr': tensor([0., 1., 0., 0.]), 'feat': tensor(1)}), (22, 21, {'id': 50, 'attr': tensor([0., 1., 0., 0.]), 'feat': tensor(1)}), (23, 21, {'id': 51, 'attr': tensor([0., 1., 0., 0.]), 'feat': tensor(1)}), (23, 24, {'id': 52, 'attr': tensor([0., 0., 1., 0.]), 'feat': tensor(2)}), (24, 19, {'id': 53, 'attr': tensor([0., 1., 0., 0.]), 'feat': tensor(1)}), (24, 23, {'id': 54, 'attr': tensor([0., 0., 1., 0.]), 'feat': tensor(2)}), (25, 15, {'id': 55, 'attr': tensor([0., 1., 0., 0.]), 'feat': tensor(1)}), (25, 26, {'id': 56, 'attr': tensor([0., 1., 0., 0.]), 'feat': tensor(1)}), (26, 12, {'id': 57, 'attr': tensor([0., 1., 0., 0.]), 'feat': tensor(1)}), (26, 25, {'id': 58, 'attr': tensor([0., 1., 0., 0.]), 'feat': tensor(1)}), (27, 5, {'id': 59, 'attr': tensor([0., 1., 0., 0.]), 'feat': tensor(1)}), (27, 10, {'id': 60, 'attr': tensor([0., 1., 0., 0.]), 'feat': tensor(1)}), (27, 28, {'id': 61, 'attr': tensor([0., 0., 1., 0.]), 'feat': tensor(2)}), (28, 2, {'id': 62, 'attr': tensor([0., 1., 0., 0.]), 'feat': tensor(1)}), (28, 27, {'id': 63, 'attr': tensor([0., 0., 1., 0.]), 'feat': tensor(2)})])"
      ]
     },
     "execution_count": 94,
     "metadata": {},
     "output_type": "execute_result"
    }
   ],
   "source": [
    "test_nx.edges(data=True)"
   ]
  },
  {
   "cell_type": "code",
   "execution_count": 101,
   "id": "d47d4141",
   "metadata": {},
   "outputs": [
    {
     "data": {
      "text/plain": [
       "tensor([0, 1, 0, 0, 0, 0, 0, 0, 0, 1, 0, 0, 2, 0, 0, 2, 5, 1, 1, 0, 0, 2, 0, 0,\n",
       "        0, 0, 0, 0, 0])"
      ]
     },
     "execution_count": 101,
     "metadata": {},
     "output_type": "execute_result"
    }
   ],
   "source": [
    "(test.ndata[\"feat\"])"
   ]
  },
  {
   "cell_type": "code",
   "execution_count": 165,
   "id": "aeff6842",
   "metadata": {},
   "outputs": [
    {
     "data": {
      "text/plain": [
       "tensor([1, 1, 1, 1, 2, 1, 2, 1, 1, 2, 2, 1, 1, 1, 2, 2, 1, 1, 1, 2, 1, 2, 1, 1,\n",
       "        1, 1, 1, 1, 1, 1, 1, 1, 1, 1, 1, 1, 1, 2, 2, 1, 2, 2, 1, 2, 1, 2, 1, 1,\n",
       "        1, 1, 1, 1, 2, 1, 2, 1, 1, 1, 1, 1, 1, 2, 1, 2])"
      ]
     },
     "execution_count": 165,
     "metadata": {},
     "output_type": "execute_result"
    }
   ],
   "source": [
    "(test.edata[\"feat\"])"
   ]
  },
  {
   "cell_type": "code",
   "execution_count": 132,
   "id": "5f3e2343",
   "metadata": {},
   "outputs": [
    {
     "data": {
      "image/png": "[encoded data removed]",
      "text/plain": [
       "<Figure size 432x288 with 1 Axes>"
      ]
     },
     "metadata": {},
     "output_type": "display_data"
    }
   ],
   "source": [
    " import networkx as nx\n",
    " nx.draw(test_nx)"
   ]
  },
  {
   "cell_type": "code",
   "execution_count": 229,
   "id": "77a9d553",
   "metadata": {},
   "outputs": [
    {
     "name": "stdout",
     "output_type": "stream",
     "text": [
      "6\n"
     ]
    }
   ],
   "source": [
    "\n",
    "#https://github.com/graphdeeplearning/benchmarking-gnns/issues/42\n",
    "\n",
    "\n",
    "dict_of_nodes={0: 'C',\n",
    " 1: 'O',\n",
    " 2: 'N',\n",
    " 3: 'F',\n",
    " 4: 'C',\n",
    " 5: 'S',\n",
    " 6: 'Cl',\n",
    " 7: 'O',\n",
    " 8: 'N',\n",
    " 9: 'Br',\n",
    " 10: 'N',\n",
    " 11: 'N',\n",
    " 12: 'N',\n",
    " 13: 'N',\n",
    " 14: 'S ',\n",
    " 15: 'I',\n",
    " 16: 'P',\n",
    " 17: 'O',\n",
    " 18: 'N',\n",
    " 19: 'O',\n",
    " 20: 'S',\n",
    " 21: 'P',\n",
    " 22: 'P',\n",
    " 23: 'C',\n",
    " 24: 'P',\n",
    " 25: 'S',\n",
    " 26: 'C',\n",
    " 27: 'P'}\n",
    "\n",
    "dict_of_atomic_no ={ 'C':6, 'O':8, 'N':7, 'F':9, 'S':16, 'Cl':17,  'Br':35, 'I':53, 'P':15}\n",
    "\n",
    "res = dict_of_nodes\n",
    "for n in test_nx.nodes(data=True):\n",
    "    print(  dict_of_atomic_no[res[int(n[1]['feat'].numpy())]])\n",
    "    break"
   ]
  },
  {
   "cell_type": "code",
   "execution_count": 294,
   "id": "9122b94f",
   "metadata": {},
   "outputs": [
    {
     "data": {
      "image/png": "[encoded data removed]",
      "text/plain": [
       "<rdkit.Chem.rdchem.Mol at 0x188394dfca0>"
      ]
     },
     "execution_count": 294,
     "metadata": {},
     "output_type": "execute_result"
    }
   ],
   "source": [
    "\n",
    "def get_atomic_number():\n",
    "    dict_of_atomic_no ={ 'C':6, 'O':8, 'N':7, 'F':9, 'S':16, 'Cl':17,  'Br':35, 'I':53, 'P':15}\n",
    "    return dict_of_atomic_no\n",
    "\n",
    "def get_dict_of_nodes():\n",
    "    dict_of_nodes={0: 'C', 1: 'O',2: 'N',3: 'F',4: 'C',5: 'S', 6: 'Cl', 7: 'O', 8: 'N',9: 'Br', 10: 'N', 11: 'N', 12: 'N', 13: 'N', 14: 'S ', 15: 'I', 16: 'P', 17: 'O', 18: 'N', 19: 'O',20: 'S', 21: 'P' ,22: 'P',23: 'C', 24: 'P',25: 'S',26: 'C',27: 'P'}\n",
    "    return dict_of_nodes\n",
    "\n",
    "def nx_to_mol(nx_graph , edge_label='feat', node_label='feat'):\n",
    "    # create empty editable mol object\n",
    "    mol = Chem.RWMol()\n",
    "\n",
    "    # add atoms to mol and keep track of index\n",
    "    node_to_idx = {}\n",
    "    \n",
    "    #dictionary of atomic numbers\n",
    "    dict_of_atomic_no=get_atomic_number()\n",
    "    \n",
    "    #dictionary of nodes\n",
    "    node_atom_values=get_dict_of_nodes()\n",
    "    \n",
    "    \n",
    "    for i,n in enumerate(nx_graph.nodes(data=True)):\n",
    "        a = Chem.Atom( dict_of_atomic_no[node_atom_values[int(n[1][node_label].numpy())]])\n",
    "        molIdx = mol.AddAtom(a)\n",
    "        #print(molIdx)\n",
    "        node_to_idx[i] = molIdx\n",
    "        \n",
    "    for edge in nx_graph.edges(data=True):\n",
    "            bond=int(edge[2][edge_label])\n",
    "            ix=edge[0]\n",
    "            iy=edge[1]\n",
    "            \n",
    "            # only traverse half the matrix\n",
    "            if iy <= ix:\n",
    "                continue\n",
    "            if bond == 1:\n",
    "                bond_type = Chem.rdchem.BondType.SINGLE\n",
    "                mol.AddBond(node_to_idx[ix], node_to_idx[iy], bond_type)\n",
    "            elif bond == 2:\n",
    "                bond_type = Chem.rdchem.BondType.DOUBLE\n",
    "                mol.AddBond(node_to_idx[ix], node_to_idx[iy], bond_type)\n",
    "                \n",
    "            elif bond == 3:\n",
    "                    bond_type=Chem.rdchem.BondType.TRIPLE\n",
    "                    mol.AddBond(node_to_idx[ix], node_to_idx[iy] ,bond_type)\n",
    "\n",
    "        # Convert RWMol to Mol object\n",
    "    mol = mol.GetMol()  \n",
    "    return mol       \n",
    "\n",
    "nx_to_mol(test_nx)"
   ]
  },
  {
   "cell_type": "code",
   "execution_count": 277,
   "id": "1a1a1e2a",
   "metadata": {},
   "outputs": [],
   "source": [
    "lobsters = [ dgl.to_networkx(g, node_attrs=['attr','feat'], edge_attrs=['attr','feat'])  for g in a]\n",
    "grids = [dgl.to_networkx(g, node_attrs=['attr','feat'], edge_attrs=['attr','feat']) for g in a"
   ]
  },
  {
   "cell_type": "code",
   "execution_count": 309,
   "id": "a929aff9",
   "metadata": {},
   "outputs": [
    {
     "data": {
      "image/png": "[encoded data removed]",
      "text/plain": [
       "<Figure size 432x288 with 1 Axes>"
      ]
     },
     "metadata": {},
     "output_type": "display_data"
    },
    {
     "data": {
      "image/png": "[encoded data removed]",
      "text/plain": [
       "<Figure size 216x216 with 1 Axes>"
      ]
     },
     "metadata": {
      "needs_background": "light"
     },
     "output_type": "display_data"
    }
   ],
   "source": [
    "from rdkit.Chem import Draw\n",
    "for g in lobsters:\n",
    "   nx.draw(g)\n",
    "   Draw.MolToMPL(nx_to_mol(g))\n",
    "   break\n",
    "   "
   ]
  },
  {
   "cell_type": "code",
   "execution_count": null,
   "id": "ba41844e",
   "metadata": {},
   "outputs": [],
   "source": [
    "losters_mol= [nx_to_mol(g) for g in lobsters]\n",
    "grids_mol=[nx_to_mol(g) for g in grids]"
   ]
  },
  {
   "cell_type": "code",
   "execution_count": 323,
   "id": "a85a667b",
   "metadata": {},
   "outputs": [],
   "source": [
    "lobsters_smiles=[Chem.MolToSmiles(g) for g in losters_mol]\n",
    "grids_smiles=[Chem.MolToSmiles(g) for g in grids_mol]\n"
   ]
  },
  {
   "cell_type": "code",
   "execution_count": null,
   "metadata": {},
   "outputs": [],
   "source": []
  }
 ],
 "metadata": {
  "kernelspec": {
   "display_name": "Python 3",
   "language": "python",
   "name": "python3"
  },
  "language_info": {
   "codemirror_mode": {
    "name": "ipython",
    "version": 3
   },
   "file_extension": ".py",
   "mimetype": "text/x-python",
   "name": "python",
   "nbconvert_exporter": "python",
   "pygments_lexer": "ipython3",
   "version": "3.10.5"
  },
  "vscode": {
   "interpreter": {
    "hash": "06a8be8316eed2f6558da5cb68a9abde15f0a0ec61139bf81bc916fa7c6839e3"
   }
  }
 },
 "nbformat": 4,
 "nbformat_minor": 5
}
