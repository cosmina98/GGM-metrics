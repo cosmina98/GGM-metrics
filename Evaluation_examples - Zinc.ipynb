{
 "cells": [
  {
   "cell_type": "code",
   "execution_count": 62,
   "id": "09d37d22",
   "metadata": {},
   "outputs": [],
   "source": [
    "\n",
    "# Generate graphs for demonstration purposes\n",
    "import utils.graph_generators as gen\n",
    "import torch\n",
    "import dgl\n",
    "from rdkit.Chem import Draw\n",
    "from rdkit import Chem\n",
    "a=gen.load_zinc(n_samples=10)\n",
    "\n",
    "from rdkit.Chem import AllChem\n",
    "from rdkit.Chem import MACCSkeys\n",
    "from rdkit.Chem.AllChem import GetMorganFingerprintAsBitVect as Morgan\n",
    "from rdkit.Chem.QED import qed\n",
    "from rdkit.Chem.Scaffolds import MurckoScaffold\n",
    "from rdkit.Chem import Descriptors\n",
    "from evaluation.moses_metrics  import metrics\n",
    "from rdkit.Chem import Descriptors"
   ]
  },
  {
   "cell_type": "code",
   "execution_count": 105,
   "id": "382abf56",
   "metadata": {},
   "outputs": [],
   "source": [
    "import numpy as np\n",
    "from collections import Counter\n",
    "from functools import partial\n",
    "import pandas as pd\n",
    "import scipy\n",
    "import os\n",
    "import random\n",
    "from multiprocessing import Pool\n",
    "from collections import UserList, defaultdict\n",
    "import numpy as np\n",
    "import pandas as pd\n",
    "from matplotlib import pyplot as plt\n",
    "import torch\n",
    "from rdkit import rdBase\n",
    "from rdkit import Chem"
   ]
  },
  {
   "cell_type": "code",
   "execution_count": 17,
   "id": "13cf5f5b",
   "metadata": {},
   "outputs": [],
   "source": [
    "\n",
    "lobsters_nx = [ dgl.to_networkx(g, node_attrs=['attr','feat'], edge_attrs=['attr','feat'])  for g in a]\n",
    "grids_nx = [dgl.to_networkx(g, node_attrs=['attr','feat'], edge_attrs=['attr','feat']) for g in a]"
   ]
  },
  {
   "cell_type": "code",
   "execution_count": 18,
   "id": "f19d3a4c",
   "metadata": {},
   "outputs": [],
   "source": [
    "\n",
    "\n",
    "#device = torch.device('cuda') if torch.cuda.is_available() else torch.device('cpu')\n",
    "device=torch.device('cpu')\n",
    "\n",
    "grids = [ dgl.from_networkx(g,node_attrs=[], edge_attrs=[]).to(device) for g in grids_nx] # Convert graphs to DGL from NetworkX\n",
    "lobsters = [ dgl.from_networkx(g,node_attrs=[], edge_attrs=[]).to(device) for g in lobsters_nx] # Convert graphs to DGL from NetworkX"
   ]
  },
  {
   "cell_type": "code",
   "execution_count": 19,
   "id": "c7ffe67d",
   "metadata": {},
   "outputs": [
    {
     "name": "stdout",
     "output_type": "stream",
     "text": [
      "Graph(num_nodes=29, num_edges=64,\n",
      "      ndata_schemes={}\n",
      "      edata_schemes={}) \n",
      " Graph(num_nodes=29, num_edges=64,\n",
      "      ndata_schemes={}\n",
      "      edata_schemes={})\n"
     ]
    }
   ],
   "source": [
    "print(grids[0],\"\\n\", lobsters[0])"
   ]
  },
  {
   "cell_type": "code",
   "execution_count": 266,
   "id": "d9c69b91",
   "metadata": {},
   "outputs": [
    {
     "name": "stdout",
     "output_type": "stream",
     "text": [
      "orthogonal\n"
     ]
    },
    {
     "data": {
      "text/plain": [
       "{'activations_time': 0.028913021087646484,\n",
       " 'fid': -7.175364174827337e-06,\n",
       " 'fid_time': 0.05085492134094238,\n",
       " 'kid': -0.7352618,\n",
       " 'kid_time': 0.14959073066711426,\n",
       " 'precision': 1.0,\n",
       " 'recall': 1.0,\n",
       " 'f1_pr': 1.00001,\n",
       " 'precision_time': 0.0870969295501709,\n",
       " 'recall_time': 0.0870969295501709,\n",
       " 'f1_pr_time': 0.0870969295501709,\n",
       " 'density': 1.2000000000000002,\n",
       " 'coverage': 1.0,\n",
       " 'f1_dc': 1.090919173552968,\n",
       " 'density_time': 0.05186581611633301,\n",
       " 'coverage_time': 0.05186581611633301,\n",
       " 'f1_dc_time': 0.05186581611633301,\n",
       " 'mmd_rbf': 0,\n",
       " 'mmd_rbf_time': 0.06380510330200195,\n",
       " 'mmd_linear': 0.0,\n",
       " 'mmd_linear_time': 0.028913021087646484}"
      ]
     },
     "execution_count": 266,
     "metadata": {},
     "output_type": "execute_result"
    }
   ],
   "source": [
    "# Compute all GNN-based metrics at once\n",
    "from evaluation.evaluator import Evaluator\n",
    "evaluator = Evaluator(device=device)\n",
    "evaluator.evaluate_all(generated_dataset=grids, reference_dataset=lobsters)"
   ]
  },
  {
   "cell_type": "code",
   "execution_count": 267,
   "id": "4e01c2ea",
   "metadata": {},
   "outputs": [
    {
     "name": "stdout",
     "output_type": "stream",
     "text": [
      "orthogonal\n",
      "result: {'mmd_rbf': 0}, time to compute: 0.069s\n"
     ]
    }
   ],
   "source": [
    " #Alternatively, compute a single GNN-based metric. See evaluation/gin_evaluation.py for other metrics.\n",
    "from evaluation.gin_evaluation import load_feature_extractor, MMDEvaluation\n",
    "\n",
    "# Can tweak GIN hyperparameters, however defaults are set to our recommendations\n",
    "gin = load_feature_extractor(device=device)\n",
    "# Can tweak hyperparameters of MMD RBF, however defaults are set to our recommendations\n",
    "mmd_eval = MMDEvaluation(gin)\n",
    "result, time = mmd_eval.evaluate(generated_dataset=grids, reference_dataset=lobsters)\n",
    "print('result: {}, time to compute: {:.3f}s'.format(result, time))"
   ]
  },
  {
   "cell_type": "code",
   "execution_count": 268,
   "id": "f9541366",
   "metadata": {},
   "outputs": [
    {
     "name": "stdout",
     "output_type": "stream",
     "text": [
      "orthogonal\n",
      "result: {'mmd_rbf': 0.20000000298023224}, time to compute: 0.047s\n"
     ]
    }
   ],
   "source": [
    "# Evaluation incorporating custom node/edge features.\n",
    "# If no node features are provided, the default is degree features\n",
    "# expressed as an integer.\n",
    "\n",
    "node_feat_loc = 'feat'\n",
    "edge_feat_loc = 'feat'\n",
    "node_feat_dim = 10\n",
    "edge_feat_dim = 5\n",
    "\n",
    "# Create random node/edge features\n",
    "for g in grids:\n",
    "    num_nodes = g.number_of_nodes()\n",
    "    g.ndata[node_feat_loc] = torch.randn(num_nodes, node_feat_dim).to(g.device)\n",
    "    num_edges = g.number_of_edges()\n",
    "    g.edata[edge_feat_loc] = torch.randn(num_edges, edge_feat_dim).to(g.device)\n",
    "    \n",
    "for g in lobsters:\n",
    "    num_nodes = g.number_of_nodes()\n",
    "    g.ndata[node_feat_loc] = torch.randn(num_nodes, node_feat_dim).to(g.device)\n",
    "    num_edges = g.number_of_edges()\n",
    "    g.edata[edge_feat_loc] = torch.randn(num_edges, edge_feat_dim).to(g.device)\n",
    "\n",
    "# Load GIN\n",
    "gin = load_feature_extractor(\n",
    "    device=device, input_dim=node_feat_dim, edge_feat_dim=edge_feat_dim,\n",
    "    node_feat_loc=node_feat_loc, edge_feat_loc=edge_feat_loc)\n",
    "\n",
    "mmd_eval = MMDEvaluation(gin)\n",
    "result, time = mmd_eval.evaluate(generated_dataset=lobsters, reference_dataset=grids)\n",
    "print('result: {}, time to compute: {:.3f}s'.format(result, time))"
   ]
  },
  {
   "cell_type": "code",
   "execution_count": 269,
   "id": "e4143dbb",
   "metadata": {},
   "outputs": [
    {
     "name": "stdout",
     "output_type": "stream",
     "text": [
      "MMD RBF for grids with itself: 0\n",
      "MMD RBF after altering node/edge feat. distributions: 0.20000000298023224\n"
     ]
    }
   ],
   "source": [
    "# To quickly demonstrate sensitivity to node/edge features, let's create\n",
    "# a copy of the grid graphs and slightly alter the node/edge feat distributions\n",
    "import copy\n",
    "\n",
    "result, time = mmd_eval.evaluate(generated_dataset=grids, reference_dataset=grids)\n",
    "print('MMD RBF for grids with itself: {}'.format(result['mmd_rbf']))\n",
    "\n",
    "grids_copy = [copy.deepcopy(g) for g in grids]\n",
    "for g in grids_copy:\n",
    "    g.ndata[node_feat_loc] *= 1.15\n",
    "    g.edata[edge_feat_loc] *= 1.15\n",
    "    \n",
    "result, time = mmd_eval.evaluate(reference_dataset=grids, generated_dataset=grids_copy)\n",
    "print('MMD RBF after altering node/edge feat. distributions: {}'.format(result['mmd_rbf']))"
   ]
  },
  {
   "cell_type": "code",
   "execution_count": 276,
   "id": "7f8f9f8d",
   "metadata": {},
   "outputs": [
    {
     "name": "stdout",
     "output_type": "stream",
     "text": [
      "29\n",
      "tensor([[1., 0., 0., 0., 0., 0., 0., 0., 0., 0., 0., 0., 0., 0., 0., 0., 0., 0.,\n",
      "         0., 0., 0., 0., 0., 0., 0., 0., 0., 0.],\n",
      "        [0., 1., 0., 0., 0., 0., 0., 0., 0., 0., 0., 0., 0., 0., 0., 0., 0., 0.,\n",
      "         0., 0., 0., 0., 0., 0., 0., 0., 0., 0.],\n",
      "        [1., 0., 0., 0., 0., 0., 0., 0., 0., 0., 0., 0., 0., 0., 0., 0., 0., 0.,\n",
      "         0., 0., 0., 0., 0., 0., 0., 0., 0., 0.],\n",
      "        [1., 0., 0., 0., 0., 0., 0., 0., 0., 0., 0., 0., 0., 0., 0., 0., 0., 0.,\n",
      "         0., 0., 0., 0., 0., 0., 0., 0., 0., 0.],\n",
      "        [1., 0., 0., 0., 0., 0., 0., 0., 0., 0., 0., 0., 0., 0., 0., 0., 0., 0.,\n",
      "         0., 0., 0., 0., 0., 0., 0., 0., 0., 0.],\n",
      "        [1., 0., 0., 0., 0., 0., 0., 0., 0., 0., 0., 0., 0., 0., 0., 0., 0., 0.,\n",
      "         0., 0., 0., 0., 0., 0., 0., 0., 0., 0.],\n",
      "        [1., 0., 0., 0., 0., 0., 0., 0., 0., 0., 0., 0., 0., 0., 0., 0., 0., 0.,\n",
      "         0., 0., 0., 0., 0., 0., 0., 0., 0., 0.],\n",
      "        [1., 0., 0., 0., 0., 0., 0., 0., 0., 0., 0., 0., 0., 0., 0., 0., 0., 0.,\n",
      "         0., 0., 0., 0., 0., 0., 0., 0., 0., 0.],\n",
      "        [1., 0., 0., 0., 0., 0., 0., 0., 0., 0., 0., 0., 0., 0., 0., 0., 0., 0.,\n",
      "         0., 0., 0., 0., 0., 0., 0., 0., 0., 0.],\n",
      "        [0., 1., 0., 0., 0., 0., 0., 0., 0., 0., 0., 0., 0., 0., 0., 0., 0., 0.,\n",
      "         0., 0., 0., 0., 0., 0., 0., 0., 0., 0.],\n",
      "        [1., 0., 0., 0., 0., 0., 0., 0., 0., 0., 0., 0., 0., 0., 0., 0., 0., 0.,\n",
      "         0., 0., 0., 0., 0., 0., 0., 0., 0., 0.],\n",
      "        [1., 0., 0., 0., 0., 0., 0., 0., 0., 0., 0., 0., 0., 0., 0., 0., 0., 0.,\n",
      "         0., 0., 0., 0., 0., 0., 0., 0., 0., 0.],\n",
      "        [0., 0., 1., 0., 0., 0., 0., 0., 0., 0., 0., 0., 0., 0., 0., 0., 0., 0.,\n",
      "         0., 0., 0., 0., 0., 0., 0., 0., 0., 0.],\n",
      "        [1., 0., 0., 0., 0., 0., 0., 0., 0., 0., 0., 0., 0., 0., 0., 0., 0., 0.,\n",
      "         0., 0., 0., 0., 0., 0., 0., 0., 0., 0.],\n",
      "        [1., 0., 0., 0., 0., 0., 0., 0., 0., 0., 0., 0., 0., 0., 0., 0., 0., 0.,\n",
      "         0., 0., 0., 0., 0., 0., 0., 0., 0., 0.],\n",
      "        [0., 0., 1., 0., 0., 0., 0., 0., 0., 0., 0., 0., 0., 0., 0., 0., 0., 0.,\n",
      "         0., 0., 0., 0., 0., 0., 0., 0., 0., 0.],\n",
      "        [0., 0., 0., 0., 0., 1., 0., 0., 0., 0., 0., 0., 0., 0., 0., 0., 0., 0.,\n",
      "         0., 0., 0., 0., 0., 0., 0., 0., 0., 0.],\n",
      "        [0., 1., 0., 0., 0., 0., 0., 0., 0., 0., 0., 0., 0., 0., 0., 0., 0., 0.,\n",
      "         0., 0., 0., 0., 0., 0., 0., 0., 0., 0.],\n",
      "        [0., 1., 0., 0., 0., 0., 0., 0., 0., 0., 0., 0., 0., 0., 0., 0., 0., 0.,\n",
      "         0., 0., 0., 0., 0., 0., 0., 0., 0., 0.],\n",
      "        [1., 0., 0., 0., 0., 0., 0., 0., 0., 0., 0., 0., 0., 0., 0., 0., 0., 0.,\n",
      "         0., 0., 0., 0., 0., 0., 0., 0., 0., 0.],\n",
      "        [1., 0., 0., 0., 0., 0., 0., 0., 0., 0., 0., 0., 0., 0., 0., 0., 0., 0.,\n",
      "         0., 0., 0., 0., 0., 0., 0., 0., 0., 0.],\n",
      "        [0., 0., 1., 0., 0., 0., 0., 0., 0., 0., 0., 0., 0., 0., 0., 0., 0., 0.,\n",
      "         0., 0., 0., 0., 0., 0., 0., 0., 0., 0.],\n",
      "        [1., 0., 0., 0., 0., 0., 0., 0., 0., 0., 0., 0., 0., 0., 0., 0., 0., 0.,\n",
      "         0., 0., 0., 0., 0., 0., 0., 0., 0., 0.],\n",
      "        [1., 0., 0., 0., 0., 0., 0., 0., 0., 0., 0., 0., 0., 0., 0., 0., 0., 0.,\n",
      "         0., 0., 0., 0., 0., 0., 0., 0., 0., 0.],\n",
      "        [1., 0., 0., 0., 0., 0., 0., 0., 0., 0., 0., 0., 0., 0., 0., 0., 0., 0.,\n",
      "         0., 0., 0., 0., 0., 0., 0., 0., 0., 0.],\n",
      "        [1., 0., 0., 0., 0., 0., 0., 0., 0., 0., 0., 0., 0., 0., 0., 0., 0., 0.,\n",
      "         0., 0., 0., 0., 0., 0., 0., 0., 0., 0.],\n",
      "        [1., 0., 0., 0., 0., 0., 0., 0., 0., 0., 0., 0., 0., 0., 0., 0., 0., 0.,\n",
      "         0., 0., 0., 0., 0., 0., 0., 0., 0., 0.],\n",
      "        [1., 0., 0., 0., 0., 0., 0., 0., 0., 0., 0., 0., 0., 0., 0., 0., 0., 0.,\n",
      "         0., 0., 0., 0., 0., 0., 0., 0., 0., 0.],\n",
      "        [1., 0., 0., 0., 0., 0., 0., 0., 0., 0., 0., 0., 0., 0., 0., 0., 0., 0.,\n",
      "         0., 0., 0., 0., 0., 0., 0., 0., 0., 0.]]) tensor([0, 1, 0, 0, 0, 0, 0, 0, 0, 1, 0, 0, 2, 0, 0, 2, 5, 1, 1, 0, 0, 2, 0, 0,\n",
      "        0, 0, 0, 0, 0])\n"
     ]
    }
   ],
   "source": [
    "a=gen.load_zinc(n_samples=10)\n",
    "grids=a\n",
    "lobsters=a\n",
    "print(len(grids[0].ndata['attr']))\n",
    "print(grids[0].ndata['attr']  , grids[0].ndata['feat'])"
   ]
  },
  {
   "cell_type": "code",
   "execution_count": 58,
   "id": "597ffeea",
   "metadata": {},
   "outputs": [],
   "source": [
    "\n",
    "lobsters = [ dgl.to_networkx(g, node_attrs=['attr','feat'], edge_attrs=['attr','feat'])  for g in a]\n",
    "grids = [dgl.to_networkx(g, node_attrs=['attr','feat'], edge_attrs=['attr','feat']) for g in a]\n",
    "\n",
    "#device = torch.device('cuda') if torch.cuda.is_available() else torch.device('cpu')\n",
    "device=torch.device('cpu')\n",
    "\n",
    "grids = [ dgl.from_networkx(g,node_attrs=['feat'], edge_attrs=['feat']).to(device) for g in grids] # Convert graphs to DGL from NetworkX\n",
    "lobsters = [ dgl.from_networkx(g,node_attrs=['feat'], edge_attrs=['feat']).to(device) for g in lobsters] # Convert graphs to DGL from NetworkX"
   ]
  },
  {
   "cell_type": "code",
   "execution_count": 271,
   "id": "70ea8985",
   "metadata": {},
   "outputs": [
    {
     "name": "stdout",
     "output_type": "stream",
     "text": [
      "orthogonal\n"
     ]
    },
    {
     "data": {
      "text/plain": [
       "{'activations_time': 0.02293705940246582,\n",
       " 'fid': -5.0272063134571e-06,\n",
       " 'fid_time': 0.026926279067993164,\n",
       " 'kid': -0.6205814,\n",
       " 'kid_time': 0.03989148139953613,\n",
       " 'precision': 1.0,\n",
       " 'recall': 1.0,\n",
       " 'f1_pr': 1.00001,\n",
       " 'precision_time': 0.05186009407043457,\n",
       " 'recall_time': 0.05186009407043457,\n",
       " 'f1_pr_time': 0.05186009407043457,\n",
       " 'density': 1.2000000000000002,\n",
       " 'coverage': 1.0,\n",
       " 'f1_dc': 1.090919173552968,\n",
       " 'density_time': 0.038893699645996094,\n",
       " 'coverage_time': 0.038893699645996094,\n",
       " 'f1_dc_time': 0.038893699645996094,\n",
       " 'mmd_rbf': 0,\n",
       " 'mmd_rbf_time': 0.06283307075500488,\n",
       " 'mmd_linear': 0.0,\n",
       " 'mmd_linear_time': 0.02393341064453125}"
      ]
     },
     "execution_count": 271,
     "metadata": {},
     "output_type": "execute_result"
    }
   ],
   "source": [
    "# Compute all GNN-based metrics at once\n",
    "from evaluation.evaluator import Evaluator\n",
    "evaluator = Evaluator(device=device)\n",
    "evaluator.evaluate_all(generated_dataset=grids, reference_dataset=lobsters)"
   ]
  },
  {
   "cell_type": "code",
   "execution_count": 273,
   "id": "b47f8457",
   "metadata": {},
   "outputs": [
    {
     "name": "stdout",
     "output_type": "stream",
     "text": [
      "orthogonal\n",
      "result: {'mmd_rbf': 0}, time to compute: 0.046s\n"
     ]
    }
   ],
   "source": [
    " #Alternatively, compute a single GNN-based metric. See evaluation/gin_evaluation.py for other metrics.\n",
    "from evaluation.gin_evaluation import load_feature_extractor, MMDEvaluation\n",
    "\n",
    "# Can tweak GIN hyperparameters, however defaults are set to our recommendations\n",
    "gin = load_feature_extractor(device=device)\n",
    "# Can tweak hyperparameters of MMD RBF, however defaults are set to our recommendations\n",
    "mmd_eval = MMDEvaluation(gin)\n",
    "result, time = mmd_eval.evaluate(generated_dataset=grids, reference_dataset=lobsters)\n",
    "print('result: {}, time to compute: {:.3f}s'.format(result, time))"
   ]
  },
  {
   "cell_type": "code",
   "execution_count": 274,
   "id": "7ae0829b",
   "metadata": {},
   "outputs": [
    {
     "name": "stdout",
     "output_type": "stream",
     "text": [
      "orthogonal\n",
      "result: {'mmd_rbf': 0.20000000298023224}, time to compute: 0.130s\n"
     ]
    }
   ],
   "source": [
    "# Evaluation incorporating custom node/edge features.\n",
    "# If no node features are provided, the default is degree features\n",
    "# expressed as an integer.\n",
    "\n",
    "node_feat_loc = 'feat'\n",
    "edge_feat_loc = 'feat'\n",
    "node_feat_dim = 10\n",
    "edge_feat_dim = 5\n",
    "\n",
    "# Create random node/edge features\n",
    "for g in grids:\n",
    "    num_nodes = g.number_of_nodes()\n",
    "    g.ndata[node_feat_loc] = torch.randn(num_nodes, node_feat_dim).to(g.device)\n",
    "    num_edges = g.number_of_edges()\n",
    "    g.edata[edge_feat_loc] = torch.randn(num_edges, edge_feat_dim).to(g.device)\n",
    "    \n",
    "for g in lobsters:\n",
    "    num_nodes = g.number_of_nodes()\n",
    "    g.ndata[node_feat_loc] = torch.randn(num_nodes, node_feat_dim).to(g.device)\n",
    "    num_edges = g.number_of_edges()\n",
    "    g.edata[edge_feat_loc] = torch.randn(num_edges, edge_feat_dim).to(g.device)\n",
    "\n",
    "# Load GIN\n",
    "gin = load_feature_extractor(\n",
    "    device=device, input_dim=node_feat_dim, edge_feat_dim=edge_feat_dim,\n",
    "    node_feat_loc=node_feat_loc, edge_feat_loc=edge_feat_loc)\n",
    "\n",
    "mmd_eval = MMDEvaluation(gin)\n",
    "result, time = mmd_eval.evaluate(generated_dataset=lobsters, reference_dataset=grids)\n",
    "print('result: {}, time to compute: {:.3f}s'.format(result, time))"
   ]
  },
  {
   "cell_type": "code",
   "execution_count": 275,
   "id": "95956494",
   "metadata": {},
   "outputs": [
    {
     "name": "stdout",
     "output_type": "stream",
     "text": [
      "MMD RBF for grids with itself: 0\n",
      "MMD RBF after altering node/edge feat. distributions: 0.7479543089866638\n"
     ]
    }
   ],
   "source": [
    "# To quickly demonstrate sensitivity to node/edge features, let's create\n",
    "# a copy of the grid graphs and slightly alter the node/edge feat distributions\n",
    "import copy\n",
    "\n",
    "result, time = mmd_eval.evaluate(generated_dataset=grids, reference_dataset=grids)\n",
    "print('MMD RBF for grids with itself: {}'.format(result['mmd_rbf']))\n",
    "\n",
    "grids_copy = [copy.deepcopy(g) for g in grids]\n",
    "for g in grids_copy:\n",
    "    g.ndata[node_feat_loc] *= 5\n",
    "    g.edata[edge_feat_loc] *= 5\n",
    "    \n",
    "result, time = mmd_eval.evaluate(reference_dataset=grids, generated_dataset=grids_copy)\n",
    "print('MMD RBF after altering node/edge feat. distributions: {}'.format(result['mmd_rbf']))"
   ]
  },
  {
   "cell_type": "code",
   "execution_count": 91,
   "id": "48f0bc43",
   "metadata": {},
   "outputs": [],
   "source": [
    "a=gen.load_zinc(n_samples=10)\n"
   ]
  },
  {
   "cell_type": "code",
   "execution_count": 92,
   "id": "4b57d06b",
   "metadata": {},
   "outputs": [],
   "source": [
    "grids=a\n",
    "lobsters=a"
   ]
  },
  {
   "cell_type": "code",
   "execution_count": 174,
   "id": "4c3a79ce",
   "metadata": {},
   "outputs": [],
   "source": [
    "test=grids[0]\n",
    "test_nx=dgl.to_networkx(test, node_attrs=['attr','feat'], edge_attrs=['attr','feat'])"
   ]
  },
  {
   "cell_type": "code",
   "execution_count": 94,
   "id": "e2bfcfd3",
   "metadata": {},
   "outputs": [
    {
     "data": {
      "text/plain": [
       "OutMultiEdgeDataView([(0, 1, {'id': 0, 'attr': tensor([0., 1., 0., 0.]), 'feat': tensor(1)}), (1, 0, {'id': 1, 'attr': tensor([0., 1., 0., 0.]), 'feat': tensor(1)}), (1, 2, {'id': 2, 'attr': tensor([0., 1., 0., 0.]), 'feat': tensor(1)}), (2, 1, {'id': 3, 'attr': tensor([0., 1., 0., 0.]), 'feat': tensor(1)}), (2, 3, {'id': 4, 'attr': tensor([0., 0., 1., 0.]), 'feat': tensor(2)}), (2, 28, {'id': 5, 'attr': tensor([0., 1., 0., 0.]), 'feat': tensor(1)}), (3, 2, {'id': 6, 'attr': tensor([0., 0., 1., 0.]), 'feat': tensor(2)}), (3, 4, {'id': 7, 'attr': tensor([0., 1., 0., 0.]), 'feat': tensor(1)}), (4, 3, {'id': 8, 'attr': tensor([0., 1., 0., 0.]), 'feat': tensor(1)}), (4, 5, {'id': 9, 'attr': tensor([0., 0., 1., 0.]), 'feat': tensor(2)}), (5, 4, {'id': 10, 'attr': tensor([0., 0., 1., 0.]), 'feat': tensor(2)}), (5, 6, {'id': 11, 'attr': tensor([0., 1., 0., 0.]), 'feat': tensor(1)}), (5, 27, {'id': 12, 'attr': tensor([0., 1., 0., 0.]), 'feat': tensor(1)}), (6, 5, {'id': 13, 'attr': tensor([0., 1., 0., 0.]), 'feat': tensor(1)}), (6, 7, {'id': 14, 'attr': tensor([0., 0., 1., 0.]), 'feat': tensor(2)}), (7, 6, {'id': 15, 'attr': tensor([0., 0., 1., 0.]), 'feat': tensor(2)}), (7, 8, {'id': 16, 'attr': tensor([0., 1., 0., 0.]), 'feat': tensor(1)}), (8, 7, {'id': 17, 'attr': tensor([0., 1., 0., 0.]), 'feat': tensor(1)}), (8, 9, {'id': 18, 'attr': tensor([0., 1., 0., 0.]), 'feat': tensor(1)}), (8, 10, {'id': 19, 'attr': tensor([0., 0., 1., 0.]), 'feat': tensor(2)}), (9, 8, {'id': 20, 'attr': tensor([0., 1., 0., 0.]), 'feat': tensor(1)}), (10, 8, {'id': 21, 'attr': tensor([0., 0., 1., 0.]), 'feat': tensor(2)}), (10, 11, {'id': 22, 'attr': tensor([0., 1., 0., 0.]), 'feat': tensor(1)}), (10, 27, {'id': 23, 'attr': tensor([0., 1., 0., 0.]), 'feat': tensor(1)}), (11, 10, {'id': 24, 'attr': tensor([0., 1., 0., 0.]), 'feat': tensor(1)}), (11, 12, {'id': 25, 'attr': tensor([0., 1., 0., 0.]), 'feat': tensor(1)}), (12, 11, {'id': 26, 'attr': tensor([0., 1., 0., 0.]), 'feat': tensor(1)}), (12, 13, {'id': 27, 'attr': tensor([0., 1., 0., 0.]), 'feat': tensor(1)}), (12, 26, {'id': 28, 'attr': tensor([0., 1., 0., 0.]), 'feat': tensor(1)}), (13, 12, {'id': 29, 'attr': tensor([0., 1., 0., 0.]), 'feat': tensor(1)}), (13, 14, {'id': 30, 'attr': tensor([0., 1., 0., 0.]), 'feat': tensor(1)}), (14, 13, {'id': 31, 'attr': tensor([0., 1., 0., 0.]), 'feat': tensor(1)}), (14, 15, {'id': 32, 'attr': tensor([0., 1., 0., 0.]), 'feat': tensor(1)}), (15, 14, {'id': 33, 'attr': tensor([0., 1., 0., 0.]), 'feat': tensor(1)}), (15, 16, {'id': 34, 'attr': tensor([0., 1., 0., 0.]), 'feat': tensor(1)}), (15, 25, {'id': 35, 'attr': tensor([0., 1., 0., 0.]), 'feat': tensor(1)}), (16, 15, {'id': 36, 'attr': tensor([0., 1., 0., 0.]), 'feat': tensor(1)}), (16, 17, {'id': 37, 'attr': tensor([0., 0., 1., 0.]), 'feat': tensor(2)}), (16, 18, {'id': 38, 'attr': tensor([0., 0., 1., 0.]), 'feat': tensor(2)}), (16, 19, {'id': 39, 'attr': tensor([0., 1., 0., 0.]), 'feat': tensor(1)}), (17, 16, {'id': 40, 'attr': tensor([0., 0., 1., 0.]), 'feat': tensor(2)}), (18, 16, {'id': 41, 'attr': tensor([0., 0., 1., 0.]), 'feat': tensor(2)}), (19, 16, {'id': 42, 'attr': tensor([0., 1., 0., 0.]), 'feat': tensor(1)}), (19, 20, {'id': 43, 'attr': tensor([0., 0., 1., 0.]), 'feat': tensor(2)}), (19, 24, {'id': 44, 'attr': tensor([0., 1., 0., 0.]), 'feat': tensor(1)}), (20, 19, {'id': 45, 'attr': tensor([0., 0., 1., 0.]), 'feat': tensor(2)}), (20, 21, {'id': 46, 'attr': tensor([0., 1., 0., 0.]), 'feat': tensor(1)}), (21, 20, {'id': 47, 'attr': tensor([0., 1., 0., 0.]), 'feat': tensor(1)}), (21, 22, {'id': 48, 'attr': tensor([0., 1., 0., 0.]), 'feat': tensor(1)}), (21, 23, {'id': 49, 'attr': tensor([0., 1., 0., 0.]), 'feat': tensor(1)}), (22, 21, {'id': 50, 'attr': tensor([0., 1., 0., 0.]), 'feat': tensor(1)}), (23, 21, {'id': 51, 'attr': tensor([0., 1., 0., 0.]), 'feat': tensor(1)}), (23, 24, {'id': 52, 'attr': tensor([0., 0., 1., 0.]), 'feat': tensor(2)}), (24, 19, {'id': 53, 'attr': tensor([0., 1., 0., 0.]), 'feat': tensor(1)}), (24, 23, {'id': 54, 'attr': tensor([0., 0., 1., 0.]), 'feat': tensor(2)}), (25, 15, {'id': 55, 'attr': tensor([0., 1., 0., 0.]), 'feat': tensor(1)}), (25, 26, {'id': 56, 'attr': tensor([0., 1., 0., 0.]), 'feat': tensor(1)}), (26, 12, {'id': 57, 'attr': tensor([0., 1., 0., 0.]), 'feat': tensor(1)}), (26, 25, {'id': 58, 'attr': tensor([0., 1., 0., 0.]), 'feat': tensor(1)}), (27, 5, {'id': 59, 'attr': tensor([0., 1., 0., 0.]), 'feat': tensor(1)}), (27, 10, {'id': 60, 'attr': tensor([0., 1., 0., 0.]), 'feat': tensor(1)}), (27, 28, {'id': 61, 'attr': tensor([0., 0., 1., 0.]), 'feat': tensor(2)}), (28, 2, {'id': 62, 'attr': tensor([0., 1., 0., 0.]), 'feat': tensor(1)}), (28, 27, {'id': 63, 'attr': tensor([0., 0., 1., 0.]), 'feat': tensor(2)})])"
      ]
     },
     "execution_count": 94,
     "metadata": {},
     "output_type": "execute_result"
    }
   ],
   "source": [
    "test_nx.edges(data=True)"
   ]
  },
  {
   "cell_type": "code",
   "execution_count": 101,
   "id": "d47d4141",
   "metadata": {},
   "outputs": [
    {
     "data": {
      "text/plain": [
       "tensor([0, 1, 0, 0, 0, 0, 0, 0, 0, 1, 0, 0, 2, 0, 0, 2, 5, 1, 1, 0, 0, 2, 0, 0,\n",
       "        0, 0, 0, 0, 0])"
      ]
     },
     "execution_count": 101,
     "metadata": {},
     "output_type": "execute_result"
    }
   ],
   "source": [
    "(test.ndata[\"feat\"])"
   ]
  },
  {
   "cell_type": "code",
   "execution_count": 165,
   "id": "aeff6842",
   "metadata": {},
   "outputs": [
    {
     "data": {
      "text/plain": [
       "tensor([1, 1, 1, 1, 2, 1, 2, 1, 1, 2, 2, 1, 1, 1, 2, 2, 1, 1, 1, 2, 1, 2, 1, 1,\n",
       "        1, 1, 1, 1, 1, 1, 1, 1, 1, 1, 1, 1, 1, 2, 2, 1, 2, 2, 1, 2, 1, 2, 1, 1,\n",
       "        1, 1, 1, 1, 2, 1, 2, 1, 1, 1, 1, 1, 1, 2, 1, 2])"
      ]
     },
     "execution_count": 165,
     "metadata": {},
     "output_type": "execute_result"
    }
   ],
   "source": [
    "(test.edata[\"feat\"])"
   ]
  },
  {
   "cell_type": "code",
   "execution_count": 132,
   "id": "5f3e2343",
   "metadata": {},
   "outputs": [
    {
     "data": {
      "image/png": "[encoded data removed]",
      "text/plain": [
       "<Figure size 432x288 with 1 Axes>"
      ]
     },
     "metadata": {},
     "output_type": "display_data"
    }
   ],
   "source": [
    " import networkx as nx\n",
    " nx.draw(test_nx)"
   ]
  },
  {
   "cell_type": "code",
   "execution_count": 5,
   "id": "77a9d553",
   "metadata": {},
   "outputs": [],
   "source": [
    "\n",
    "#https://github.com/graphdeeplearning/benchmarking-gnns/issues/42\n",
    "https://stackoverflow.com/questions/51195392/smiles-from-graph\n"
   ]
  },
  {
   "cell_type": "code",
   "execution_count": 46,
   "id": "9122b94f",
   "metadata": {},
   "outputs": [],
   "source": [
    "\n",
    "def get_atomic_number():\n",
    "    dict_of_atomic_no ={ 'C':6, 'O':8, 'N':7, 'F':9, 'S':16, 'Cl':17,  'Br':35, 'I':53, 'P':15}\n",
    "    return dict_of_atomic_no\n",
    "\n",
    "def get_dict_of_nodes():\n",
    "    dict_of_nodes={0: 'C', 1: 'O',2: 'N',3: 'F',4: 'C',5: 'S', 6: 'Cl', 7: 'O', 8: 'N',9: 'Br', 10: 'N', 11: 'N', 12: 'N', 13: 'N', 14: 'S ', 15: 'I', 16: 'P', 17: 'O', 18: 'N', 19: 'O',20: 'S', 21: 'P' ,22: 'P',23: 'C', 24: 'P',25: 'S',26: 'C',27: 'P'}\n",
    "    return dict_of_nodes\n",
    "\n",
    "def nx_to_mol(nx_graph , edge_label='feat', node_label='feat'):\n",
    "    # create empty editable mol object\n",
    "    mol = Chem.RWMol()\n",
    "\n",
    "    # add atoms to mol and keep track of index\n",
    "    node_to_idx = {}\n",
    "    \n",
    "    #dictionary of atomic numbers\n",
    "    dict_of_atomic_no=get_atomic_number()\n",
    "    \n",
    "    #dictionary of nodes\n",
    "    node_atom_values=get_dict_of_nodes()\n",
    "    \n",
    "    \n",
    "    for i,n in enumerate(nx_graph.nodes(data=True)):\n",
    "        a = Chem.Atom( dict_of_atomic_no[node_atom_values[int(n[1][node_label].numpy())]])\n",
    "        molIdx = mol.AddAtom(a)\n",
    "        #print(molIdx)\n",
    "        node_to_idx[i] = molIdx\n",
    "        \n",
    "    for edge in nx_graph.edges(data=True):\n",
    "            bond=int(edge[2][edge_label])\n",
    "            ix=edge[0]\n",
    "            iy=edge[1]\n",
    "            \n",
    "            # only traverse half the matrix\n",
    "            if iy <= ix:\n",
    "                continue\n",
    "            if bond == 1:\n",
    "                bond_type = Chem.rdchem.BondType.SINGLE\n",
    "                mol.AddBond(node_to_idx[ix], node_to_idx[iy], bond_type)\n",
    "            elif bond == 2:\n",
    "                bond_type = Chem.rdchem.BondType.DOUBLE\n",
    "                mol.AddBond(node_to_idx[ix], node_to_idx[iy], bond_type)\n",
    "                \n",
    "            elif bond == 3:\n",
    "                    bond_type=Chem.rdchem.BondType.TRIPLE\n",
    "                    mol.AddBond(node_to_idx[ix], node_to_idx[iy] ,bond_type)\n",
    "            elif bond == 4:\n",
    "                bond_type = Chem.rdchem.BondType.AROMATIC\n",
    "                mol.AddBond(node_to_idx[ix], node_to_idx[iy] ,bond_type)\n",
    "\n",
    "        # Convert RWMol to Mol object\n",
    "    mol = mol.GetMol()  \n",
    "    try:\n",
    "        Chem.SanitizeMol(mol)\n",
    "    except:\n",
    "        # print(node_list)\n",
    "        # print(Chem.MolToSmiles(mol))\n",
    "        return None\n",
    "    return mol       \n",
    "\n"
   ]
  },
  {
   "cell_type": "code",
   "execution_count": 49,
   "id": "1a1a1e2a",
   "metadata": {},
   "outputs": [],
   "source": [
    "lobsters = [ dgl.to_networkx(g, node_attrs=['attr','feat'], edge_attrs=['attr','feat'])  for g in a]\n",
    "grids = [dgl.to_networkx(g, node_attrs=['attr','feat'], edge_attrs=['attr','feat']) for g in a]"
   ]
  },
  {
   "cell_type": "code",
   "execution_count": 309,
   "id": "a929aff9",
   "metadata": {},
   "outputs": [
    {
     "data": {
      "image/png": "[encoded data removed]",
      "text/plain": [
       "<Figure size 432x288 with 1 Axes>"
      ]
     },
     "metadata": {},
     "output_type": "display_data"
    },
    {
     "data": {
      "image/png": "[encoded data removed]",
      "text/plain": [
       "<Figure size 216x216 with 1 Axes>"
      ]
     },
     "metadata": {
      "needs_background": "light"
     },
     "output_type": "display_data"
    }
   ],
   "source": [
    "for g in lobsters:\n",
    "   nx.draw(g)\n",
    "   Draw.MolToMPL(nx_to_mol(g))\n",
    "   break\n",
    "   "
   ]
  },
  {
   "cell_type": "code",
   "execution_count": 58,
   "id": "ba41844e",
   "metadata": {},
   "outputs": [],
   "source": [
    "losters_mol= [nx_to_mol(g) for g in lobsters]\n",
    "grids_mol=[nx_to_mol(g) for g in grids]"
   ]
  },
  {
   "cell_type": "code",
   "execution_count": 59,
   "id": "a85a667b",
   "metadata": {},
   "outputs": [],
   "source": [
    "lobsters_smiles=[Chem.MolToSmiles(g) for g in losters_mol]\n",
    "grids_smiles=[Chem.MolToSmiles(g) for g in grids_mol]\n"
   ]
  },
  {
   "cell_type": "code",
   "execution_count": 61,
   "id": "8b8ce2cb",
   "metadata": {},
   "outputs": [],
   "source": [
    "t=losters_mol[2]"
   ]
  },
  {
   "cell_type": "code",
   "execution_count": 54,
   "id": "b328782d",
   "metadata": {},
   "outputs": [],
   "source": [
    "def QED(mol):\n",
    "    \"\"\"\n",
    "    Computes RDKit's QED score\n",
    "    \"\"\"\n",
    "    return qed(mol)\n",
    "qed(t)"
   ]
  },
  {
   "cell_type": "code",
   "execution_count": 57,
   "id": "c64c64c2",
   "metadata": {},
   "outputs": [
    {
     "data": {
      "text/plain": [
       "2.6438000000000006"
      ]
     },
     "execution_count": 57,
     "metadata": {},
     "output_type": "execute_result"
    }
   ],
   "source": [
    "def logP(mol):\n",
    "    \"\"\"\n",
    "    Computes RDKit's logP\n",
    "    \"\"\"\n",
    "    return Chem.Crippen.MolLogP(mol)\n",
    "logP(t)"
   ]
  },
  {
   "cell_type": "code",
   "execution_count": 64,
   "id": "7757dcbc",
   "metadata": {},
   "outputs": [
    {
     "data": {
      "text/plain": [
       "2"
      ]
     },
     "execution_count": 64,
     "metadata": {},
     "output_type": "execute_result"
    }
   ],
   "source": [
    "def get_n_rings(mol):\n",
    "    \"\"\"\n",
    "    Computes the number of rings in a molecule\n",
    "    \"\"\"\n",
    "    return mol.GetRingInfo().NumRings()\n",
    "get_n_rings(t)"
   ]
  },
  {
   "cell_type": "code",
   "execution_count": 75,
   "id": "08b11a2c",
   "metadata": {},
   "outputs": [
    {
     "data": {
      "text/plain": [
       "Counter({'[12*]S(=O)(=O)c1ccn(C)c1': 1,\n",
       "         '[16*]c1ccc2ccc(O)c([16*])c2c1': 1,\n",
       "         '[3*]OC': 1,\n",
       "         '[4*]C[8*]': 4,\n",
       "         '[5*]N1CCN([5*])CC1': 2,\n",
       "         '[1*]C([1*])=O': 3,\n",
       "         '[1*]C([6*])=O': 1,\n",
       "         '[15*]C1CC1': 2,\n",
       "         '[16*]c1ccncc1': 1,\n",
       "         '[4*]C(C)C': 1,\n",
       "         '[4*]CC[4*]': 1,\n",
       "         '[5*]N([5*])[5*]': 1,\n",
       "         '[5*]N[5*]': 7,\n",
       "         '[16*]c1ccc(Cl)cc1': 1,\n",
       "         '[5*]N([5*])C': 1,\n",
       "         '[11*]S[11*]': 1,\n",
       "         '[14*]c1cc(O)n2ncc(C#N)c2n1': 1,\n",
       "         '[15*]C1CCCCC1': 2,\n",
       "         '[9*]n1c([14*])nc(C)c1C': 1,\n",
       "         '[16*]c1cccc2ccccc12': 1,\n",
       "         '[4*]C(CC)(CC)C(=O)C[8*]': 1,\n",
       "         '[5*]N(C)C': 1,\n",
       "         '[1*]C(=O)NNc1ccc([14*])nn1': 1,\n",
       "         '[16*]c1ccccc1[16*]': 1,\n",
       "         '[4*]C([8*])C': 2,\n",
       "         '[8*]C(F)(F)F': 1,\n",
       "         '[9*]n1cccn1': 1,\n",
       "         '[16*]c1c(C)nn(C)c1Cl': 1,\n",
       "         '[4*]CC(C)(O)CCC(C)C': 1,\n",
       "         '[16*]c1ccccc1': 2,\n",
       "         '[3*]OC(O)=C(C#N)C([6*])=O': 1,\n",
       "         '[4*]CC': 1,\n",
       "         '[14*]c1cc([14*])on1': 1,\n",
       "         '[4*]CCC(O)C(C)C': 1,\n",
       "         '[1*]C(=O)C([8*])C': 1,\n",
       "         '[16*]c1ccsc1': 1})"
      ]
     },
     "execution_count": 75,
     "metadata": {},
     "output_type": "execute_result"
    }
   ],
   "source": [
    "def compute_fragments(mol_list, n_jobs=1):\n",
    "    \"\"\"\n",
    "    fragment list of mols using BRICS and return smiles list\n",
    "    \"\"\"\n",
    "    fragments = Counter()\n",
    "    for mol_frag in mapper(n_jobs)(fragmenter, mol_list):\n",
    "        fragments.update(mol_frag)\n",
    "    return fragments\n",
    "\n",
    "compute_fragments(losters_mol)"
   ]
  },
  {
   "cell_type": "code",
   "execution_count": 82,
   "id": "8c36f144",
   "metadata": {},
   "outputs": [
    {
     "data": {
      "text/plain": [
       "-1.9761440353718627"
      ]
     },
     "execution_count": 82,
     "metadata": {},
     "output_type": "execute_result"
    }
   ],
   "source": [
    "def NP(mol):\n",
    "    \"\"\"\n",
    "    Computes RDKit's Natural Product-likeness score\n",
    "    \"\"\"\n",
    "    return npscorer.scoreMol(mol)\n",
    "\n",
    "NP(t)"
   ]
  },
  {
   "cell_type": "code",
   "execution_count": 79,
   "id": "b02db747",
   "metadata": {},
   "outputs": [
    {
     "data": {
      "text/plain": [
       "1.7643596641595192"
      ]
     },
     "execution_count": 79,
     "metadata": {},
     "output_type": "execute_result"
    }
   ],
   "source": [
    "def SA(mol):\n",
    "    \"\"\"\n",
    "    Computes RDKit's Synthetic Accessibility score\n",
    "    \"\"\"\n",
    "    return sascorer.calculateScore(mol)\n",
    "SA(t)"
   ]
  },
  {
   "cell_type": "code",
   "execution_count": 84,
   "id": "4fdcda6b",
   "metadata": {},
   "outputs": [
    {
     "data": {
      "text/plain": [
       "['[1*]C([1*])=O',\n",
       " '[15*]C1CC1',\n",
       " '[16*]c1ccc(Cl)cc1',\n",
       " '[4*]C[8*]',\n",
       " '[5*]N([5*])C',\n",
       " '[5*]N[5*]']"
      ]
     },
     "execution_count": 84,
     "metadata": {},
     "output_type": "execute_result"
    }
   ],
   "source": [
    "def fragmenter(mol):\n",
    "    \"\"\"\n",
    "    fragment mol using BRICS and return smiles list\n",
    "    \"\"\"\n",
    "    fgs = AllChem.FragmentOnBRICSBonds(get_mol(mol))\n",
    "    fgs_smi = Chem.MolToSmiles(fgs).split(\".\")\n",
    "    return fgs_smi\n",
    "fragmenter(t)"
   ]
  },
  {
   "cell_type": "code",
   "execution_count": 87,
   "id": "368485e9",
   "metadata": {},
   "outputs": [
    {
     "data": {
      "text/plain": [
       "Counter({'O=S(=O)(c1cc[nH]c1)N1CCN(Cc2cccc3ccccc23)CC1': 1,\n",
       "         'O=C(NCCNC1CC1)N1CCN(C(=O)c2ccncc2)CC1': 1,\n",
       "         'O=C(NCc1ccccc1)NC1CC1': 1,\n",
       "         'c1cn(C2CCCCC2)c(SCc2ccn3nccc3n2)n1': 1,\n",
       "         'c1ccc2ccccc2c1': 1,\n",
       "         'O=C(NCc1ccccc1)NNc1ccc(-n2cccn2)nn1': 1,\n",
       "         'c1ccc(-c2ccno2)cc1': 1,\n",
       "         'O=C(Cc1ccsc1)NCC1CCCCC1': 1})"
      ]
     },
     "execution_count": 87,
     "metadata": {},
     "output_type": "execute_result"
    }
   ],
   "source": [
    "def compute_scaffolds(mol_list, n_jobs=1, min_rings=2):\n",
    "    \"\"\"\n",
    "    Extracts a scafold from a molecule in a form of a canonic SMILES\n",
    "    \"\"\"\n",
    "    scaffolds = Counter()\n",
    "    map_ = mapper(n_jobs)\n",
    "    scaffolds = Counter(\n",
    "        map_(partial(compute_scaffold, min_rings=min_rings), mol_list))\n",
    "    if None in scaffolds:\n",
    "        scaffolds.pop(None)\n",
    "    return scaffolds\n",
    "compute_scaffolds(losters_mol)"
   ]
  },
  {
   "cell_type": "code",
   "execution_count": 90,
   "id": "5e7942e4",
   "metadata": {},
   "outputs": [],
   "source": [
    "def fingerprint(smiles_or_mol, fp_type='maccs', dtype=None, morgan__r=2,\n",
    "                morgan__n=1024, *args, **kwargs):\n",
    "    \"\"\"\n",
    "    Generates fingerprint for SMILES\n",
    "    If smiles is invalid, returns None\n",
    "    Returns numpy array of fingerprint bits\n",
    "\n",
    "    Parameters:\n",
    "        smiles: SMILES string\n",
    "        type: type of fingerprint: [MACCS|morgan]\n",
    "        dtype: if not None, specifies the dtype of returned array\n",
    "    \"\"\"\n",
    "    fp_type = fp_type.lower()\n",
    "    molecule = get_mol(smiles_or_mol, *args, **kwargs)\n",
    "    if molecule is None:\n",
    "        return None\n",
    "    if fp_type == 'maccs':\n",
    "        keys = MACCSkeys.GenMACCSKeys(molecule)\n",
    "        keys = np.array(keys.GetOnBits())\n",
    "        fingerprint = np.zeros(166, dtype='uint8')\n",
    "        if len(keys) != 0:\n",
    "            fingerprint[keys - 1] = 1  # We drop 0-th key that is always zero\n",
    "    elif fp_type == 'morgan':\n",
    "        fingerprint = np.asarray(Morgan(molecule, morgan__r, nBits=morgan__n),\n",
    "                                 dtype='uint8')\n",
    "    else:\n",
    "        raise ValueError(\"Unknown fingerprint type {}\".format(fp_type))\n",
    "    if dtype is not None:\n",
    "        fingerprint = fingerprint.astype(dtype)\n",
    "    return fingerprint\n",
    "\n",
    "fingerprint(lobsters_smiles[0])"
   ]
  },
  {
   "cell_type": "code",
   "execution_count": 101,
   "id": "b73c5e38",
   "metadata": {},
   "outputs": [
    {
     "data": {
      "text/plain": [
       "array([[0, 0, 0, ..., 1, 1, 0],\n",
       "       [0, 0, 0, ..., 1, 1, 0],\n",
       "       [0, 0, 0, ..., 1, 1, 0],\n",
       "       ...,\n",
       "       [0, 0, 0, ..., 1, 1, 0],\n",
       "       [0, 0, 0, ..., 1, 1, 0],\n",
       "       [0, 0, 0, ..., 1, 1, 0]], dtype=uint8)"
      ]
     },
     "execution_count": 101,
     "metadata": {},
     "output_type": "execute_result"
    }
   ],
   "source": [
    "def fingerprints(smiles_mols_array, n_jobs=1, already_unique=False, *args,\n",
    "                 **kwargs):\n",
    "    '''\n",
    "    Computes fingerprints of smiles np.array/list/pd.Series with n_jobs workers\n",
    "    e.g.fingerprints(smiles_mols_array, type='morgan', n_jobs=10)\n",
    "    Inserts np.NaN to rows corresponding to incorrect smiles.\n",
    "    IMPORTANT: if there is at least one np.NaN, the dtype would be float\n",
    "    Parameters:\n",
    "        smiles_mols_array: list/array/pd.Series of smiles or already computed\n",
    "            RDKit molecules\n",
    "        n_jobs: number of parralel workers to execute\n",
    "        already_unique: flag for performance reasons, if smiles array is big\n",
    "            and already unique. Its value is set to True if smiles_mols_array\n",
    "            contain RDKit molecules already.\n",
    "    '''\n",
    "    if isinstance(smiles_mols_array, pd.Series):\n",
    "        smiles_mols_array = smiles_mols_array.values\n",
    "    else:\n",
    "        smiles_mols_array = np.asarray(smiles_mols_array)\n",
    "    if not isinstance(smiles_mols_array[0], str):\n",
    "        already_unique = True\n",
    "\n",
    "    if not already_unique:\n",
    "        smiles_mols_array, inv_index = np.unique(smiles_mols_array,\n",
    "                                                 return_inverse=True)\n",
    "\n",
    "    fps = mapper(n_jobs)(\n",
    "        partial(fingerprint, *args, **kwargs), smiles_mols_array\n",
    "    )\n",
    "\n",
    "    length = 1\n",
    "    for fp in fps:\n",
    "        if fp is not None:\n",
    "            length = fp.shape[-1]\n",
    "            first_fp = fp\n",
    "            break\n",
    "    fps = [fp if fp is not None else np.array([np.NaN]).repeat(length)[None, :]\n",
    "           for fp in fps]\n",
    "    if scipy.sparse.issparse(first_fp):\n",
    "        fps = scipy.sparse.vstack(fps).tocsr()\n",
    "    else:\n",
    "        fps = np.vstack(fps)\n",
    "    if not already_unique:\n",
    "        return fps[inv_index]\n",
    "    return fps\n",
    "\n",
    "\n",
    "fingerprints(lobsters_smiles, n_jobs=1, already_unique=False)"
   ]
  },
  {
   "cell_type": "code",
   "execution_count": 108,
   "id": "acde46e0",
   "metadata": {},
   "outputs": [],
   "source": [
    "_mcf = pd.read_csv( 'evaluation/moses_metrics/mcf.csv')\n",
    "_pains = pd.read_csv(('evaluation/moses_metrics/wehi_pains.csv'),\n",
    "                     names=['smarts', 'names'])\n",
    "_filters = [Chem.MolFromSmarts(x) for x in\n",
    "            _mcf.append(_pains, sort=True)['smarts'].values]"
   ]
  },
  {
   "cell_type": "code",
   "execution_count": 112,
   "id": "a55dc51c",
   "metadata": {},
   "outputs": [
    {
     "data": {
      "text/plain": [
       "True"
      ]
     },
     "execution_count": 112,
     "metadata": {},
     "output_type": "execute_result"
    }
   ],
   "source": [
    "\n",
    "def mol_passes_filters(mol,\n",
    "                       allowed=None,\n",
    "                       isomericSmiles=False):\n",
    "    \"\"\"\n",
    "    Checks if mol\n",
    "    * passes MCF and PAINS filters,\n",
    "    * has only allowed atoms\n",
    "    * is not charged\n",
    "    \"\"\"\n",
    "    allowed = allowed or {'C', 'N', 'S', 'O', 'F', 'Cl', 'Br', 'H'}\n",
    "    mol = get_mol(mol)\n",
    "    if mol is None:\n",
    "        return False\n",
    "    ring_info = mol.GetRingInfo()\n",
    "    if ring_info.NumRings() != 0 and any(\n",
    "            len(x) >= 8 for x in ring_info.AtomRings()\n",
    "    ):\n",
    "        return False\n",
    "    h_mol = Chem.AddHs(mol)\n",
    "    if any(atom.GetFormalCharge() != 0 for atom in mol.GetAtoms()):\n",
    "        return False\n",
    "    if any(atom.GetSymbol() not in allowed for atom in mol.GetAtoms()):\n",
    "        return False\n",
    "    if any(h_mol.HasSubstructMatch(smarts) for smarts in _filters):\n",
    "        return False\n",
    "    smiles = Chem.MolToSmiles(mol, isomericSmiles=isomericSmiles)\n",
    "    if smiles is None or len(smiles) == 0:\n",
    "        return False\n",
    "    if Chem.MolFromSmiles(smiles) is None:\n",
    "        return False\n",
    "    return True\n",
    "mol_passes_filters(t)"
   ]
  },
  {
   "cell_type": "code",
   "execution_count": 113,
   "id": "32d4fd11",
   "metadata": {},
   "outputs": [],
   "source": [
    "def set_torch_seed_to_all_gens(_):\n",
    "    seed = torch.initial_seed() % (2**32 - 1)\n",
    "    random.seed(seed)\n",
    "    np.random.seed(seed)\n",
    "\n",
    "\n",
    "class SpecialTokens:\n",
    "    bos = '<bos>'\n",
    "    eos = '<eos>'\n",
    "    pad = '<pad>'\n",
    "    unk = '<unk>'\n",
    "\n",
    "\n",
    "class CharVocab:\n",
    "    @classmethod\n",
    "    def from_data(cls, data, *args, **kwargs):\n",
    "        chars = set()\n",
    "        for string in data:\n",
    "            chars.update(string)\n",
    "\n",
    "        return cls(chars, *args, **kwargs)\n",
    "\n",
    "    def __init__(self, chars, ss=SpecialTokens):\n",
    "        if (ss.bos in chars) or (ss.eos in chars) or \\\n",
    "                (ss.pad in chars) or (ss.unk in chars):\n",
    "            raise ValueError('SpecialTokens in chars')\n",
    "\n",
    "        all_syms = sorted(list(chars)) + [ss.bos, ss.eos, ss.pad, ss.unk]\n",
    "\n",
    "        self.ss = ss\n",
    "        self.c2i = {c: i for i, c in enumerate(all_syms)}\n",
    "        self.i2c = {i: c for i, c in enumerate(all_syms)}\n",
    "\n",
    "    def __len__(self):\n",
    "        return len(self.c2i)\n",
    "\n",
    "    @property\n",
    "    def bos(self):\n",
    "        return self.c2i[self.ss.bos]\n",
    "\n",
    "    @property\n",
    "    def eos(self):\n",
    "        return self.c2i[self.ss.eos]\n",
    "\n",
    "    @property\n",
    "    def pad(self):\n",
    "        return self.c2i[self.ss.pad]\n",
    "\n",
    "    @property\n",
    "    def unk(self):\n",
    "        return self.c2i[self.ss.unk]\n",
    "\n",
    "    def char2id(self, char):\n",
    "        if char not in self.c2i:\n",
    "            return self.unk\n",
    "\n",
    "        return self.c2i[char]\n",
    "\n",
    "    def id2char(self, id):\n",
    "        if id not in self.i2c:\n",
    "            return self.ss.unk\n",
    "\n",
    "        return self.i2c[id]\n",
    "\n",
    "    def string2ids(self, string, add_bos=False, add_eos=False):\n",
    "        ids = [self.char2id(c) for c in string]\n",
    "\n",
    "        if add_bos:\n",
    "            ids = [self.bos] + ids\n",
    "        if add_eos:\n",
    "            ids = ids + [self.eos]\n",
    "\n",
    "        return ids\n",
    "\n",
    "    def ids2string(self, ids, rem_bos=True, rem_eos=True):\n",
    "        if len(ids) == 0:\n",
    "            return ''\n",
    "        if rem_bos and ids[0] == self.bos:\n",
    "            ids = ids[1:]\n",
    "        if rem_eos and ids[-1] == self.eos:\n",
    "            ids = ids[:-1]\n",
    "\n",
    "        string = ''.join([self.id2char(id) for id in ids])\n",
    "\n",
    "        return string\n",
    "\n",
    "\n",
    "class OneHotVocab(CharVocab):\n",
    "    def __init__(self, *args, **kwargs):\n",
    "        super(OneHotVocab, self).__init__(*args, **kwargs)\n",
    "        self.vectors = torch.eye(len(self.c2i))\n",
    "\n",
    "\n",
    "def mapper(n_jobs):\n",
    "    '''\n",
    "    Returns function for map call.\n",
    "    If n_jobs == 1, will use standard map\n",
    "    If n_jobs > 1, will use multiprocessing pool\n",
    "    If n_jobs is a pool object, will return its map function\n",
    "    '''\n",
    "    if n_jobs == 1:\n",
    "        def _mapper(*args, **kwargs):\n",
    "            return list(map(*args, **kwargs))\n",
    "\n",
    "        return _mapper\n",
    "    if isinstance(n_jobs, int):\n",
    "        pool = Pool(n_jobs)\n",
    "\n",
    "        def _mapper(*args, **kwargs):\n",
    "            try:\n",
    "                result = pool.map(*args, **kwargs)\n",
    "            finally:\n",
    "                pool.terminate()\n",
    "            return result\n",
    "\n",
    "        return _mapper\n",
    "    return n_jobs.map\n",
    "\n",
    "\n",
    "class Logger(UserList):\n",
    "    def __init__(self, data=None):\n",
    "        super().__init__()\n",
    "        self.sdata = defaultdict(list)\n",
    "        for step in (data or []):\n",
    "            self.append(step)\n",
    "\n",
    "    def __getitem__(self, key):\n",
    "        if isinstance(key, int):\n",
    "            return self.data[key]\n",
    "        if isinstance(key, slice):\n",
    "            return Logger(self.data[key])\n",
    "        ldata = self.sdata[key]\n",
    "        if isinstance(ldata[0], dict):\n",
    "            return Logger(ldata)\n",
    "        return ldata\n",
    "\n",
    "    def append(self, step_dict):\n",
    "        super().append(step_dict)\n",
    "        for k, v in step_dict.items():\n",
    "            self.sdata[k].append(v)\n",
    "\n",
    "    def save(self, path):\n",
    "        df = pd.DataFrame(list(self))\n",
    "        df.to_csv(path, index=None)\n",
    "\n",
    "\n",
    "class LogPlotter:\n",
    "    def __init__(self, log):\n",
    "        self.log = log\n",
    "\n",
    "    def line(self, ax, name):\n",
    "        if isinstance(self.log[0][name], dict):\n",
    "            for k in self.log[0][name]:\n",
    "                ax.plot(self.log[name][k], label=k)\n",
    "            ax.legend()\n",
    "        else:\n",
    "            ax.plot(self.log[name])\n",
    "\n",
    "        ax.set_ylabel('value')\n",
    "        ax.set_xlabel('epoch')\n",
    "        ax.set_title(name)\n",
    "\n",
    "    def grid(self, names, size=7):\n",
    "        _, axs = plt.subplots(nrows=len(names) // 2, ncols=2,\n",
    "                              figsize=(size * 2, size * (len(names) // 2)))\n",
    "\n",
    "        for ax, name in zip(axs.flatten(), names):\n",
    "            self.line(ax, name)\n",
    "\n",
    "\n",
    "class CircularBuffer:\n",
    "    def __init__(self, size):\n",
    "        self.max_size = size\n",
    "        self.data = np.zeros(self.max_size)\n",
    "        self.size = 0\n",
    "        self.pointer = -1\n",
    "\n",
    "    def add(self, element):\n",
    "        self.size = min(self.size + 1, self.max_size)\n",
    "        self.pointer = (self.pointer + 1) % self.max_size\n",
    "        self.data[self.pointer] = element\n",
    "        return element\n",
    "\n",
    "    def last(self):\n",
    "        assert self.pointer != -1, \"Can't get an element from an empty buffer!\"\n",
    "        return self.data[self.pointer]\n",
    "\n",
    "    def mean(self):\n",
    "        if self.size > 0:\n",
    "            return self.data[:self.size].mean()\n",
    "        return 0.0\n",
    "\n",
    "\n",
    "def disable_rdkit_log():\n",
    "    rdBase.DisableLog('rdApp.*')\n",
    "\n",
    "\n",
    "def enable_rdkit_log():\n",
    "    rdBase.EnableLog('rdApp.*')\n",
    "\n",
    "\n",
    "def get_mol(smiles_or_mol):\n",
    "    '''\n",
    "    Loads SMILES/molecule into RDKit's object\n",
    "    '''\n",
    "    if isinstance(smiles_or_mol, str):\n",
    "        if len(smiles_or_mol) == 0:\n",
    "            return None\n",
    "        mol = Chem.MolFromSmiles(smiles_or_mol)\n",
    "        if mol is None:\n",
    "            return None\n",
    "        try:\n",
    "            Chem.SanitizeMol(mol)\n",
    "        except ValueError:\n",
    "            return None\n",
    "        return mol\n",
    "    return smiles_or_mol\n",
    "\n",
    "\n",
    "class StringDataset:\n",
    "    def __init__(self, vocab, data):\n",
    "        \"\"\"\n",
    "        Creates a convenient Dataset with SMILES tokinization\n",
    "\n",
    "        Arguments:\n",
    "            vocab: CharVocab instance for tokenization\n",
    "            data (list): SMILES strings for the dataset\n",
    "        \"\"\"\n",
    "        self.vocab = vocab\n",
    "        self.tokens = [vocab.string2ids(s) for s in data]\n",
    "        self.data = data\n",
    "        self.bos = vocab.bos\n",
    "        self.eos = vocab.eos\n",
    "\n",
    "    def __len__(self):\n",
    "        \"\"\"\n",
    "        Computes a number of objects in the dataset\n",
    "        \"\"\"\n",
    "        return len(self.tokens)\n",
    "\n",
    "    def __getitem__(self, index):\n",
    "        \"\"\"\n",
    "        Prepares torch tensors with a given SMILES.\n",
    "\n",
    "        Arguments:\n",
    "            index (int): index of SMILES in the original dataset\n",
    "\n",
    "        Returns:\n",
    "            A tuple (with_bos, with_eos, smiles), where\n",
    "            * with_bos is a torch.long tensor of SMILES tokens with\n",
    "                BOS (beginning of a sentence) token\n",
    "            * with_eos is a torch.long tensor of SMILES tokens with\n",
    "                EOS (end of a sentence) token\n",
    "            * smiles is an original SMILES from the dataset\n",
    "        \"\"\"\n",
    "        tokens = self.tokens[index]\n",
    "        with_bos = torch.tensor([self.bos] + tokens, dtype=torch.long)\n",
    "        with_eos = torch.tensor(tokens + [self.eos], dtype=torch.long)\n",
    "        return with_bos, with_eos, self.data[index]\n",
    "\n",
    "    def default_collate(self, batch, return_data=False):\n",
    "        \"\"\"\n",
    "        Simple collate function for SMILES dataset. Joins a\n",
    "        batch of objects from StringDataset into a batch\n",
    "\n",
    "        Arguments:\n",
    "            batch: list of objects from StringDataset\n",
    "            pad: padding symbol, usually equals to vocab.pad\n",
    "            return_data: if True, will return SMILES used in a batch\n",
    "\n",
    "        Returns:\n",
    "            with_bos, with_eos, lengths [, data] where\n",
    "            * with_bos: padded sequence with BOS in the beginning\n",
    "            * with_eos: padded sequence with EOS in the end\n",
    "            * lengths: array with SMILES lengths in the batch\n",
    "            * data: SMILES in the batch\n",
    "\n",
    "        Note: output batch is sorted with respect to SMILES lengths in\n",
    "            decreasing order, since this is a default format for torch\n",
    "            RNN implementations\n",
    "        \"\"\"\n",
    "        with_bos, with_eos, data = list(zip(*batch))\n",
    "        lengths = [len(x) for x in with_bos]\n",
    "        order = np.argsort(lengths)[::-1]\n",
    "        with_bos = [with_bos[i] for i in order]\n",
    "        with_eos = [with_eos[i] for i in order]\n",
    "        lengths = [lengths[i] for i in order]\n",
    "        with_bos = torch.nn.utils.rnn.pad_sequence(\n",
    "            with_bos, padding_value=self.vocab.pad\n",
    "        )\n",
    "        with_eos = torch.nn.utils.rnn.pad_sequence(\n",
    "            with_eos, padding_value=self.vocab.pad\n",
    "        )\n",
    "        if return_data:\n",
    "            data = np.array(data)[order]\n",
    "            return with_bos, with_eos, lengths, data\n",
    "        return with_bos, with_eos, lengths\n",
    "\n",
    "\n",
    "def batch_to_device(batch, device):\n",
    "    return [\n",
    "        x.to(device) if isinstance(x, torch.Tensor) else x\n",
    "        for x in batch\n",
    "    ]\n"
   ]
  },
  {
   "cell_type": "code",
   "execution_count": null,
   "id": "88508cc0",
   "metadata": {},
   "outputs": [],
   "source": []
  },
  {
   "cell_type": "code",
   "execution_count": null,
   "id": "e188ff85",
   "metadata": {},
   "outputs": [],
   "source": []
  },
  {
   "cell_type": "code",
   "execution_count": null,
   "id": "72e4e214",
   "metadata": {},
   "outputs": [],
   "source": []
  },
  {
   "cell_type": "code",
   "execution_count": null,
   "id": "61293ac8",
   "metadata": {},
   "outputs": [],
   "source": []
  },
  {
   "cell_type": "code",
   "execution_count": null,
   "id": "39cdf207",
   "metadata": {},
   "outputs": [],
   "source": []
  },
  {
   "cell_type": "code",
   "execution_count": null,
   "id": "ff05cee2",
   "metadata": {},
   "outputs": [],
   "source": []
  },
  {
   "cell_type": "code",
   "execution_count": 55,
   "id": "33dfb1d9",
   "metadata": {},
   "outputs": [
    {
     "data": {
      "text/plain": [
       "0.8628610419282682"
      ]
     },
     "execution_count": 55,
     "metadata": {},
     "output_type": "execute_result"
    }
   ],
   "source": [
    "qed(t)"
   ]
  },
  {
   "cell_type": "code",
   "execution_count": null,
   "id": "8d5707b7",
   "metadata": {},
   "outputs": [],
   "source": []
  },
  {
   "cell_type": "code",
   "execution_count": null,
   "id": "7ca353f1",
   "metadata": {},
   "outputs": [],
   "source": []
  },
  {
   "cell_type": "code",
   "execution_count": null,
   "id": "6d429d02",
   "metadata": {},
   "outputs": [],
   "source": []
  },
  {
   "cell_type": "code",
   "execution_count": 341,
   "id": "05a396d3",
   "metadata": {},
   "outputs": [
    {
     "data": {
      "text/plain": [
       "'C:\\\\Users\\\\cs843'"
      ]
     },
     "execution_count": 341,
     "metadata": {},
     "output_type": "execute_result"
    }
   ],
   "source": []
  },
  {
   "cell_type": "code",
   "execution_count": null,
   "id": "152d90ec",
   "metadata": {},
   "outputs": [],
   "source": []
  },
  {
   "cell_type": "code",
   "execution_count": null,
   "id": "b6602946",
   "metadata": {},
   "outputs": [],
   "source": []
  }
 ],
 "metadata": {
  "kernelspec": {
   "display_name": "Python 3",
   "language": "python",
   "name": "python3"
  },
  "language_info": {
   "codemirror_mode": {
    "name": "ipython",
    "version": 3
   },
   "file_extension": ".py",
   "mimetype": "text/x-python",
   "name": "python",
   "nbconvert_exporter": "python",
   "pygments_lexer": "ipython3",
   "version": "3.10.5"
  },
  "vscode": {
   "interpreter": {
    "hash": "06a8be8316eed2f6558da5cb68a9abde15f0a0ec61139bf81bc916fa7c6839e3"
   }
  }
 },
 "nbformat": 4,
 "nbformat_minor": 5
}
