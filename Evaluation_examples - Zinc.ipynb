{
 "cells": [
  {
   "cell_type": "code",
   "execution_count": 30,
   "id": "09d37d22",
   "metadata": {},
   "outputs": [],
   "source": [
    "\n",
    "# Generate graphs for demonstration purposes\n",
    "import utils.graph_generators as gen\n",
    "import torch\n",
    "import dgl\n",
    "import networkx as nx\n",
    "from rdkit.Chem import Descriptors\n",
    "from evaluation.moses.metrics.utils import *\n",
    "from evaluation.moses.metrics import *\n",
    "from evaluation.moses.dataset import *\n",
    "from evaluation.evaluator import Evaluator\n",
    "from evaluation.gin_evaluation import load_feature_extractor, MMDEvaluation\n",
    "import copy\n",
    "import fuckit"
   ]
  },
  {
   "cell_type": "code",
   "execution_count": 2,
   "id": "7f8f9f8d",
   "metadata": {},
   "outputs": [],
   "source": [
    "a=gen.load_zinc(n_samples=10)\n",
    "grids=a\n",
    "lobsters=a\n",
    "#print(len(grids[0].ndata['attr']))\n",
    "#print(grids[0].ndata['attr']  , grids[0].ndata['feat'])"
   ]
  },
  {
   "cell_type": "code",
   "execution_count": 3,
   "id": "13cf5f5b",
   "metadata": {},
   "outputs": [],
   "source": [
    "\n",
    "\n",
    "lobsters = [ dgl.to_networkx(g, node_attrs=['attr','feat'], edge_attrs=['attr','feat'])  for g in a]\n",
    "grids = [dgl.to_networkx(g, node_attrs=['attr','feat'], edge_attrs=['attr','feat']) for g in a]\n",
    "\n",
    "#device = torch.device('cuda') if torch.cuda.is_available() else torch.device('cpu')\n",
    "\n",
    "device=torch.device('cpu')\n",
    "\n",
    "grids = [ dgl.from_networkx(g,node_attrs=['feat'], edge_attrs=['feat']).to(device) for g in grids] # Convert graphs to DGL from NetworkX\n",
    "lobsters = [ dgl.from_networkx(g,node_attrs=['feat'], edge_attrs=['feat']).to(device) for g in lobsters] # Convert graphs to DGL from NetworkX"
   ]
  },
  {
   "cell_type": "code",
   "execution_count": 5,
   "id": "f19d3a4c",
   "metadata": {},
   "outputs": [
    {
     "name": "stdout",
     "output_type": "stream",
     "text": [
      "orthogonal\n"
     ]
    },
    {
     "ename": "ValueError",
     "evalue": "not enough values to unpack (expected 3, got 2)",
     "output_type": "error",
     "traceback": [
      "\u001b[1;31m---------------------------------------------------------------------------\u001b[0m",
      "\u001b[1;31mValueError\u001b[0m                                Traceback (most recent call last)",
      "\u001b[1;32mc:\\Users\\cs843\\Documents\\PhD\\2023\\February\\GGM-metrics\\Evaluation_examples - Zinc.ipynb Cell 4\u001b[0m in \u001b[0;36m<cell line: 3>\u001b[1;34m()\u001b[0m\n\u001b[0;32m      <a href='vscode-notebook-cell:/c%3A/Users/cs843/Documents/PhD/2023/February/GGM-metrics/Evaluation_examples%20-%20Zinc.ipynb#W4sZmlsZQ%3D%3D?line=0'>1</a>\u001b[0m \u001b[39m# Compute all GNN-based metrics at once\u001b[39;00m\n\u001b[0;32m      <a href='vscode-notebook-cell:/c%3A/Users/cs843/Documents/PhD/2023/February/GGM-metrics/Evaluation_examples%20-%20Zinc.ipynb#W4sZmlsZQ%3D%3D?line=1'>2</a>\u001b[0m evaluator \u001b[39m=\u001b[39m Evaluator(device\u001b[39m=\u001b[39mdevice)\n\u001b[1;32m----> <a href='vscode-notebook-cell:/c%3A/Users/cs843/Documents/PhD/2023/February/GGM-metrics/Evaluation_examples%20-%20Zinc.ipynb#W4sZmlsZQ%3D%3D?line=2'>3</a>\u001b[0m all_gnn\u001b[39m=\u001b[39mevaluator\u001b[39m.\u001b[39;49mevaluate_all(generated_dataset\u001b[39m=\u001b[39;49mgrids, reference_dataset\u001b[39m=\u001b[39;49mlobsters)\n\u001b[0;32m      <a href='vscode-notebook-cell:/c%3A/Users/cs843/Documents/PhD/2023/February/GGM-metrics/Evaluation_examples%20-%20Zinc.ipynb#W4sZmlsZQ%3D%3D?line=3'>4</a>\u001b[0m \u001b[39mprint\u001b[39m(all_gnn)\n\u001b[0;32m      <a href='vscode-notebook-cell:/c%3A/Users/cs843/Documents/PhD/2023/February/GGM-metrics/Evaluation_examples%20-%20Zinc.ipynb#W4sZmlsZQ%3D%3D?line=4'>5</a>\u001b[0m  \u001b[39m#Alternatively, compute a single GNN-based metric. See evaluation/gin_evaluation.py for other metrics.\u001b[39;00m\n\u001b[0;32m      <a href='vscode-notebook-cell:/c%3A/Users/cs843/Documents/PhD/2023/February/GGM-metrics/Evaluation_examples%20-%20Zinc.ipynb#W4sZmlsZQ%3D%3D?line=5'>6</a>\u001b[0m \u001b[39m# Can tweak GIN hyperparameters, however defaults are set to our recommendations\u001b[39;00m\n",
      "File \u001b[1;32mc:\\Users\\cs843\\Documents\\PhD\\2023\\February\\GGM-metrics\\evaluation\\evaluator.py:71\u001b[0m, in \u001b[0;36mEvaluator.evaluate_all\u001b[1;34m(self, generated_dataset, reference_dataset, **kwargs)\u001b[0m\n\u001b[0;32m     68\u001b[0m     metrics[\u001b[39m'\u001b[39m\u001b[39mactivations_time\u001b[39m\u001b[39m'\u001b[39m] \u001b[39m=\u001b[39m time\n\u001b[0;32m     70\u001b[0m \u001b[39mfor\u001b[39;00m evaluator \u001b[39min\u001b[39;00m \u001b[39mself\u001b[39m\u001b[39m.\u001b[39mevaluators:\n\u001b[1;32m---> 71\u001b[0m     res, time \u001b[39m=\u001b[39m evaluator\u001b[39m.\u001b[39;49mevaluate(\n\u001b[0;32m     72\u001b[0m         generated_dataset\u001b[39m=\u001b[39;49mgenerated_dataset,\n\u001b[0;32m     73\u001b[0m         reference_dataset\u001b[39m=\u001b[39;49mreference_dataset)\n\u001b[0;32m     74\u001b[0m     \u001b[39mfor\u001b[39;00m key \u001b[39min\u001b[39;00m \u001b[39mlist\u001b[39m(res\u001b[39m.\u001b[39mkeys()):\n\u001b[0;32m     75\u001b[0m         \u001b[39mif\u001b[39;00m \u001b[39mself\u001b[39m\u001b[39m.\u001b[39m_feature_extractor\u001b[39m==\u001b[39m \u001b[39m'\u001b[39m\u001b[39mgin\u001b[39m\u001b[39m'\u001b[39m:\n",
      "File \u001b[1;32mc:\\Users\\cs843\\Documents\\PhD\\2023\\February\\GGM-metrics\\evaluation\\gin_evaluation.py:51\u001b[0m, in \u001b[0;36mtime_function.<locals>.wrapper\u001b[1;34m(*args, **kwargs)\u001b[0m\n\u001b[0;32m     49\u001b[0m \u001b[39mdef\u001b[39;00m \u001b[39mwrapper\u001b[39m(\u001b[39m*\u001b[39margs, \u001b[39m*\u001b[39m\u001b[39m*\u001b[39mkwargs):\n\u001b[0;32m     50\u001b[0m     start \u001b[39m=\u001b[39m time\u001b[39m.\u001b[39mtime()\n\u001b[1;32m---> 51\u001b[0m     results \u001b[39m=\u001b[39m func(\u001b[39m*\u001b[39margs, \u001b[39m*\u001b[39m\u001b[39m*\u001b[39mkwargs)\n\u001b[0;32m     52\u001b[0m     end \u001b[39m=\u001b[39m time\u001b[39m.\u001b[39mtime()\n\u001b[0;32m     53\u001b[0m     \u001b[39mreturn\u001b[39;00m results, end \u001b[39m-\u001b[39m start\n",
      "File \u001b[1;32mc:\\Users\\cs843\\Documents\\PhD\\2023\\February\\GGM-metrics\\evaluation\\gin_evaluation.py:248\u001b[0m, in \u001b[0;36mFIDEvaluation.evaluate\u001b[1;34m(self, generated_dataset, reference_dataset)\u001b[0m\n\u001b[0;32m    245\u001b[0m \u001b[39m@time_function\u001b[39m\n\u001b[0;32m    246\u001b[0m \u001b[39mdef\u001b[39;00m \u001b[39mevaluate\u001b[39m(\u001b[39mself\u001b[39m, generated_dataset\u001b[39m=\u001b[39m\u001b[39mNone\u001b[39;00m, reference_dataset\u001b[39m=\u001b[39m\u001b[39mNone\u001b[39;00m):\n\u001b[0;32m    247\u001b[0m     \u001b[39mif\u001b[39;00m \u001b[39mnot\u001b[39;00m \u001b[39misinstance\u001b[39m(generated_dataset, torch\u001b[39m.\u001b[39mTensor) \u001b[39mand\u001b[39;00m \u001b[39mnot\u001b[39;00m \u001b[39misinstance\u001b[39m(generated_dataset, np\u001b[39m.\u001b[39mndarray):\n\u001b[1;32m--> 248\u001b[0m         generated_dataset, reference_dataset, _ \u001b[39m=\u001b[39m \u001b[39mself\u001b[39m\u001b[39m.\u001b[39mget_activations(generated_dataset, reference_dataset)\n\u001b[0;32m    250\u001b[0m     mu_ref, cov_ref \u001b[39m=\u001b[39m \u001b[39mself\u001b[39m\u001b[39m.\u001b[39m__calculate_dataset_stats(reference_dataset)\n\u001b[0;32m    251\u001b[0m     mu_generated, cov_generated \u001b[39m=\u001b[39m \u001b[39mself\u001b[39m\u001b[39m.\u001b[39m__calculate_dataset_stats(generated_dataset)\n",
      "\u001b[1;31mValueError\u001b[0m: not enough values to unpack (expected 3, got 2)"
     ]
    }
   ],
   "source": [
    "\n",
    "# Compute all GNN-based metrics at once\n",
    "evaluator = Evaluator(device=device)\n",
    "all_gnn=evaluator.evaluate_all(generated_dataset=grids, reference_dataset=lobsters)\n",
    "print(all_gnn)\n",
    " #Alternatively, compute a single GNN-based metric. See evaluation/gin_evaluation.py for other metrics.\n",
    "# Can tweak GIN hyperparameters, however defaults are set to our recommendations\n",
    "gin = load_feature_extractor(device=device)\n",
    "# Can tweak hyperparameters of MMD RBF, however defaults are set to our recommendations\n",
    "mmd_eval = MMDEvaluation(gin)\n",
    "result, time = mmd_eval.evaluate(generated_dataset=grids, reference_dataset=lobsters)\n",
    "print('The single gin  metric recommended by the https://github.com/uoguelph-mlrg/GGM-metrics/search?q=prdcEvaluation: {}, time to compute: {:.3f}s'.format(result, time))\n",
    "\n",
    "# Evaluation incorporating custom node/edge features.\n",
    "# If no node features are provided, the default is degree features\n",
    "# expressed as an integer.\n",
    "\n",
    "node_feat_loc = 'feat'\n",
    "edge_feat_loc = 'feat'\n",
    "node_feat_dim = 10\n",
    "edge_feat_dim = 5\n",
    "\n",
    "# Create random node/edge features\n",
    "for g in grids:\n",
    "    num_nodes = g.number_of_nodes()\n",
    "    g.ndata[node_feat_loc] = torch.randn(num_nodes, node_feat_dim).to(g.device)\n",
    "    num_edges = g.number_of_edges()\n",
    "    g.edata[edge_feat_loc] = torch.randn(num_edges, edge_feat_dim).to(g.device)\n",
    "    \n",
    "for g in lobsters:\n",
    "    num_nodes = g.number_of_nodes()\n",
    "    g.ndata[node_feat_loc] = torch.randn(num_nodes, node_feat_dim).to(g.device)\n",
    "    num_edges = g.number_of_edges()\n",
    "    g.edata[edge_feat_loc] = torch.randn(num_edges, edge_feat_dim).to(g.device)\n",
    "\n",
    "# Load GIN\n",
    "gin = load_feature_extractor(\n",
    "    device=device, input_dim=node_feat_dim, edge_feat_dim=edge_feat_dim,\n",
    "    node_feat_loc=node_feat_loc, edge_feat_loc=edge_feat_loc)\n",
    "\n",
    "mmd_eval = MMDEvaluation(gin)\n",
    "result, time = mmd_eval.evaluate(generated_dataset=lobsters, reference_dataset=grids)\n",
    "print('result: {}, time to compute: {:.3f}s'.format(result, time))\n",
    "\n",
    "# To quickly demonstrate sensitivity to node/edge features, let's create\n",
    "# a copy of the grid graphs and slightly alter the node/edge feat distributions\n",
    "\n",
    "result, time = mmd_eval.evaluate(generated_dataset=grids, reference_dataset=grids)\n",
    "print('MMD RBF for grids with itself: {}'.format(result['mmd_rbf']))\n",
    "\n",
    "grids_copy = [copy.deepcopy(g) for g in grids]\n",
    "for g in grids_copy:\n",
    "    g.ndata[node_feat_loc] *= 1.15\n",
    "    g.edata[edge_feat_loc] *= 1.15\n",
    "    \n",
    "result, time = mmd_eval.evaluate(reference_dataset=grids, generated_dataset=grids_copy)\n",
    "print('MMD RBF after altering node/edge feat. distributions: {}'.format(result['mmd_rbf']))"
   ]
  },
  {
   "cell_type": "code",
   "execution_count": 39,
   "id": "8130cec4",
   "metadata": {},
   "outputs": [
    {
     "name": "stderr",
     "output_type": "stream",
     "text": [
      "c:\\Users\\cs843\\Documents\\PhD\\2023\\February\\GGM-metrics\\evaluation\\graph_structure_evaluation.py:128: RuntimeWarning: Mean of empty slice.\n",
      "  mmd = K_GG.mean() + K_RR.mean() - (2 * K_GR.mean())\n",
      "c:\\Users\\cs843\\AppData\\Local\\Programs\\Python\\Python310\\lib\\site-packages\\numpy\\core\\_methods.py:190: RuntimeWarning: invalid value encountered in double_scalars\n",
      "  ret = ret.dtype.type(ret / rcount)\n",
      "<class 'networkx.utils.decorators.argmap'> compilation 8:4: FutureWarning: normalized_laplacian_matrix will return a scipy.sparse array instead of a matrix in Networkx 3.0.\n"
     ]
    },
    {
     "data": {
      "text/plain": [
       "{'nspdk_mmd': 0.0,\n",
       " 'nspdk_mmd_time': 0.2050020694732666,\n",
       " 'wl_mmd': 0.0,\n",
       " 'wl_mmd_time': 0.021051883697509766,\n",
       " 'degree_mmd': 0,\n",
       " 'degree_mmd_time': 51.9702832698822,\n",
       " 'clustering_mmd': 0,\n",
       " 'clustering_mmd_time': 54.76243257522583,\n",
       " 'orbits_mmd': 0,\n",
       " 'orbits_mmd_time': 0.07057380676269531,\n",
       " 'spectral_mmd': 0,\n",
       " 'spectral_mmd_time': 33.53386616706848}"
      ]
     },
     "execution_count": 39,
     "metadata": {},
     "output_type": "execute_result"
    }
   ],
   "source": [
    "evaluator = Evaluator(device=device, metrics_type=['gin','structure', 'molecular'],feature_extractor='mmd-structure',statistic='all' )\n",
    "evaluator.evaluate_all(generated_dataset=grids, reference_dataset=lobsters)"
   ]
  },
  {
   "cell_type": "code",
   "execution_count": 40,
   "id": "95956494",
   "metadata": {},
   "outputs": [
    {
     "name": "stdout",
     "output_type": "stream",
     "text": [
      "MMD RBF for grids with itself: 0\n",
      "MMD RBF after altering node/edge feat. distributions: 1.0694464147090912\n"
     ]
    }
   ],
   "source": [
    "# To quickly demonstrate sensitivity to node/edge features, let's create\n",
    "# a copy of the grid graphs and slightly alter the node/edge feat distributions\n",
    "\n",
    "result, time = mmd_eval.evaluate(generated_dataset=grids, reference_dataset=grids)\n",
    "print('MMD RBF for grids with itself: {}'.format(result['mmd_rbf']))\n",
    "\n",
    "grids_copy = [copy.deepcopy(g) for g in grids]\n",
    "for g in grids_copy:\n",
    "    g.ndata[node_feat_loc] *= 5\n",
    "    g.edata[edge_feat_loc] *= 5\n",
    "    \n",
    "result, time = mmd_eval.evaluate(reference_dataset=grids, generated_dataset=grids_copy)\n",
    "print('MMD RBF after altering node/edge feat. distributions: {}'.format(result['mmd_rbf']))"
   ]
  },
  {
   "cell_type": "code",
   "execution_count": null,
   "id": "580c73fd",
   "metadata": {},
   "outputs": [],
   "source": [
    "#What sort of preprocessing  you need to make to be able to execute the metrics from moses\n",
    "\n",
    "#https://github.com/graphdeeplearning/benchmarking-gnns/issues/42\n",
    "#https://stackoverflow.com/questions/51195392/smiles-from-graph\n"
   ]
  },
  {
   "cell_type": "code",
   "execution_count": 43,
   "id": "b83d7812",
   "metadata": {},
   "outputs": [],
   "source": [
    "lobsters = [ dgl.to_networkx(g, node_attrs=['attr','feat'], edge_attrs=['attr','feat'])  for g in a]\n",
    "grids = [dgl.to_networkx(g, node_attrs=['attr','feat'], edge_attrs=['attr','feat']) for g in a]"
   ]
  },
  {
   "cell_type": "code",
   "execution_count": 12,
   "id": "9122b94f",
   "metadata": {},
   "outputs": [],
   "source": [
    "\n",
    "def get_atomic_number():\n",
    "    dict_of_atomic_no ={ 'C':6, 'O':8, 'N':7, 'F':9, 'S':16, 'Cl':17,  'Br':35, 'I':53, 'P':15}\n",
    "    return dict_of_atomic_no\n",
    "\n",
    "def get_dict_of_nodes():\n",
    "    dict_of_nodes={0: 'C', 1: 'O',2: 'N',3: 'F',4: 'C',5: 'S', 6: 'Cl', 7: 'O', 8: 'N',9: 'Br', 10: 'N', 11: 'N', 12: 'N', 13: 'N', 14: 'S ', 15: 'I', 16: 'P', 17: 'O', 18: 'N', 19: 'O',20: 'S', 21: 'P' ,22: 'P',23: 'C', 24: 'P',25: 'S',26: 'C',27: 'P'}\n",
    "    return dict_of_nodes\n",
    "\n",
    "def nx_to_mol(nx_graph , edge_label='feat', node_label='feat'):\n",
    "    # create empty editable mol object\n",
    "    mol = Chem.RWMol()\n",
    "\n",
    "    # add atoms to mol and keep track of index\n",
    "    node_to_idx = {}\n",
    "    \n",
    "    #dictionary of atomic numbers\n",
    "    dict_of_atomic_no=get_atomic_number()\n",
    "    \n",
    "    #dictionary of nodes\n",
    "    node_atom_values=get_dict_of_nodes()\n",
    "    \n",
    "    \n",
    "    for i,n in enumerate(nx_graph.nodes(data=True)):\n",
    "        a = Chem.Atom( dict_of_atomic_no[node_atom_values[int(n[1][node_label].numpy())]])\n",
    "        molIdx = mol.AddAtom(a)\n",
    "        #print(molIdx)\n",
    "        node_to_idx[i] = molIdx\n",
    "        \n",
    "    for edge in nx_graph.edges(data=True):\n",
    "            bond=int(edge[2][edge_label])\n",
    "            ix=edge[0]\n",
    "            iy=edge[1]\n",
    "            \n",
    "            # only traverse half the matrix\n",
    "            if iy <= ix:\n",
    "                continue\n",
    "            if bond == 1:\n",
    "                bond_type = Chem.rdchem.BondType.SINGLE\n",
    "                mol.AddBond(node_to_idx[ix], node_to_idx[iy], bond_type)\n",
    "            elif bond == 2:\n",
    "                bond_type = Chem.rdchem.BondType.DOUBLE\n",
    "                mol.AddBond(node_to_idx[ix], node_to_idx[iy], bond_type)\n",
    "                \n",
    "            elif bond == 3:\n",
    "                    bond_type=Chem.rdchem.BondType.TRIPLE\n",
    "                    mol.AddBond(node_to_idx[ix], node_to_idx[iy] ,bond_type)\n",
    "            elif bond == 4:\n",
    "                bond_type = Chem.rdchem.BondType.AROMATIC\n",
    "                mol.AddBond(node_to_idx[ix], node_to_idx[iy] ,bond_type)\n",
    "\n",
    "        # Convert RWMol to Mol object\n",
    "    mol = mol.GetMol()  \n",
    "    try:\n",
    "        Chem.SanitizeMol(mol)\n",
    "    except:\n",
    "        # print(node_list)\n",
    "        # print(Chem.MolToSmiles(mol))\n",
    "        return None\n",
    "    return mol       \n",
    "\n"
   ]
  },
  {
   "cell_type": "code",
   "execution_count": 235,
   "id": "a929aff9",
   "metadata": {},
   "outputs": [
    {
     "data": {
      "image/png": "[encoded data removed]",
      "text/plain": [
       "<Figure size 432x288 with 1 Axes>"
      ]
     },
     "metadata": {},
     "output_type": "display_data"
    },
    {
     "data": {
      "image/png": "[encoded data removed]",
      "text/plain": [
       "<Figure size 216x216 with 1 Axes>"
      ]
     },
     "metadata": {
      "needs_background": "light"
     },
     "output_type": "display_data"
    }
   ],
   "source": [
    "for g in lobsters:\n",
    "   nx.draw(g)\n",
    "   Draw.MolToMPL(nx_to_mol(g))\n",
    "   break\n",
    "   "
   ]
  },
  {
   "cell_type": "code",
   "execution_count": 45,
   "id": "ba41844e",
   "metadata": {},
   "outputs": [],
   "source": [
    "losters_mol= [nx_to_mol(g) for g in lobsters]\n",
    "grids_mol=[nx_to_mol(g) for g in grids]"
   ]
  },
  {
   "cell_type": "code",
   "execution_count": 46,
   "id": "a85a667b",
   "metadata": {},
   "outputs": [],
   "source": [
    "\n",
    "lobsters_smiles=[Chem.MolToSmiles(g) for g in losters_mol]\n",
    "grids_smiles=[Chem.MolToSmiles(g) for g in grids_mol]\n"
   ]
  },
  {
   "cell_type": "code",
   "execution_count": 239,
   "id": "96a8c2db",
   "metadata": {},
   "outputs": [
    {
     "name": "stderr",
     "output_type": "stream",
     "text": [
      "c:\\Users\\cs843\\Documents\\PhD\\2023\\February\\GGM-metrics\\evaluation\\moses\\metrics\\metrics.py:216: UserWarning: Can't compute unique@1000.gen contains only 10 molecules\n",
      "  warnings.warn(\n",
      "c:\\Users\\cs843\\Documents\\PhD\\2023\\February\\GGM-metrics\\evaluation\\moses\\metrics\\metrics.py:216: UserWarning: Can't compute unique@10000.gen contains only 10 molecules\n",
      "  warnings.warn(\n"
     ]
    },
    {
     "name": "stdout",
     "output_type": "stream",
     "text": [
      "[<rdkit.Chem.rdchem.Mol object at 0x00000131359DCDC0>, <rdkit.Chem.rdchem.Mol object at 0x000001314AF4FCA0>, <rdkit.Chem.rdchem.Mol object at 0x000001314AF4F880>, <rdkit.Chem.rdchem.Mol object at 0x000001314AF4FC40>, <rdkit.Chem.rdchem.Mol object at 0x000001314AF4FA60>, <rdkit.Chem.rdchem.Mol object at 0x000001314AF4F8E0>, <rdkit.Chem.rdchem.Mol object at 0x000001314AF4FA00>, <rdkit.Chem.rdchem.Mol object at 0x000001314AF4FAC0>, <rdkit.Chem.rdchem.Mol object at 0x000001314AF4FBE0>, <rdkit.Chem.rdchem.Mol object at 0x000001314AF4F940>]\n"
     ]
    },
    {
     "data": {
      "text/plain": [
       "{'valid': 1.0,\n",
       " 'unique@1000': 1.0,\n",
       " 'unique@10000': 1.0,\n",
       " 'FCD/Test': -1.0525771344305213e-05,\n",
       " 'SNN/Test': 1.0,\n",
       " 'Frag/Test': 1,\n",
       " 'Scaf/Test': 1,\n",
       " 'FCD/TestSF': 47.06954094903616,\n",
       " 'SNN/TestSF': 0.4751725435256958,\n",
       " 'Frag/TestSF': -0.03829807449991973,\n",
       " 'Scaf/TestSF': 0.0,\n",
       " 'IntDiv': 0.7798648965358734,\n",
       " 'IntDiv2': 0.6573560342604137,\n",
       " 'Filters': 0.6,\n",
       " 'logP': 0.0,\n",
       " 'SA': 0.0,\n",
       " 'QED': 0.0,\n",
       " 'weight': 0.0,\n",
       " 'Novelty': 0.9}"
      ]
     },
     "execution_count": 239,
     "metadata": {},
     "output_type": "execute_result"
    }
   ],
   "source": [
    "get_all_metrics(gen=lobsters_smiles,test=lobsters_smiles)"
   ]
  },
  {
   "cell_type": "code",
   "execution_count": null,
   "id": "b302e62d",
   "metadata": {},
   "outputs": [],
   "source": []
  },
  {
   "cell_type": "code",
   "execution_count": 7,
   "id": "f6631624",
   "metadata": {},
   "outputs": [
    {
     "data": {
      "text/plain": [
       "[Graph(num_nodes=29, num_edges=64,\n",
       "       ndata_schemes={'feat': Scheme(shape=(), dtype=torch.int64)}\n",
       "       edata_schemes={'feat': Scheme(shape=(), dtype=torch.int64)}),\n",
       " Graph(num_nodes=26, num_edges=56,\n",
       "       ndata_schemes={'feat': Scheme(shape=(), dtype=torch.int64)}\n",
       "       edata_schemes={'feat': Scheme(shape=(), dtype=torch.int64)}),\n",
       " Graph(num_nodes=16, num_edges=34,\n",
       "       ndata_schemes={'feat': Scheme(shape=(), dtype=torch.int64)}\n",
       "       edata_schemes={'feat': Scheme(shape=(), dtype=torch.int64)}),\n",
       " Graph(num_nodes=27, num_edges=60,\n",
       "       ndata_schemes={'feat': Scheme(shape=(), dtype=torch.int64)}\n",
       "       edata_schemes={'feat': Scheme(shape=(), dtype=torch.int64)}),\n",
       " Graph(num_nodes=21, num_edges=44,\n",
       "       ndata_schemes={'feat': Scheme(shape=(), dtype=torch.int64)}\n",
       "       edata_schemes={'feat': Scheme(shape=(), dtype=torch.int64)}),\n",
       " Graph(num_nodes=28, num_edges=60,\n",
       "       ndata_schemes={'feat': Scheme(shape=(), dtype=torch.int64)}\n",
       "       edata_schemes={'feat': Scheme(shape=(), dtype=torch.int64)}),\n",
       " Graph(num_nodes=19, num_edges=38,\n",
       "       ndata_schemes={'feat': Scheme(shape=(), dtype=torch.int64)}\n",
       "       edata_schemes={'feat': Scheme(shape=(), dtype=torch.int64)}),\n",
       " Graph(num_nodes=16, num_edges=32,\n",
       "       ndata_schemes={'feat': Scheme(shape=(), dtype=torch.int64)}\n",
       "       edata_schemes={'feat': Scheme(shape=(), dtype=torch.int64)}),\n",
       " Graph(num_nodes=22, num_edges=46,\n",
       "       ndata_schemes={'feat': Scheme(shape=(), dtype=torch.int64)}\n",
       "       edata_schemes={'feat': Scheme(shape=(), dtype=torch.int64)}),\n",
       " Graph(num_nodes=18, num_edges=38,\n",
       "       ndata_schemes={'feat': Scheme(shape=(), dtype=torch.int64)}\n",
       "       edata_schemes={'feat': Scheme(shape=(), dtype=torch.int64)})]"
      ]
     },
     "execution_count": 7,
     "metadata": {},
     "output_type": "execute_result"
    }
   ],
   "source": [
    "grids"
   ]
  },
  {
   "cell_type": "code",
   "execution_count": 9,
   "id": "2fb33a60",
   "metadata": {},
   "outputs": [],
   "source": [
    "lobsters = [ dgl.to_networkx(g, node_attrs=['attr','feat'], edge_attrs=['attr','feat'])  for g in a]\n",
    "grids = [dgl.to_networkx(g, node_attrs=['attr','feat'], edge_attrs=['attr','feat']) for g in a]\n",
    "grids = [ dgl.from_networkx(g,node_attrs=['feat'], edge_attrs=['feat']).to(device) for g in grids] # Convert graphs to DGL from NetworkX\n",
    "lobsters = [ dgl.from_networkx(g,node_attrs=['feat'], edge_attrs=['feat']).to(device) for g in lobsters] # Convert graphs to DGL from NetworkX"
   ]
  },
  {
   "cell_type": "code",
   "execution_count": 31,
   "id": "55cefb17",
   "metadata": {},
   "outputs": [
    {
     "name": "stdout",
     "output_type": "stream",
     "text": [
      "orthogonal\n",
      "{'activations_time': 0.018514633178710938, 'fid': -3.6513307861696376e-06, 'fid_time': 0.02151346206665039, 'kid': -0.51306605, 'kid_time': 0.039520978927612305, 'precision': 1.0, 'recall': 1.0, 'f1_pr': 1.00001, 'precision_time': 0.06002449989318848, 'recall_time': 0.06002449989318848, 'f1_pr_time': 0.06002449989318848, 'density': 1.2000000000000002, 'coverage': 1.0, 'f1_dc': 1.090919173552968, 'density_time': 0.04603171348571777, 'coverage_time': 0.04603171348571777, 'f1_dc_time': 0.04603171348571777, 'mmd_rbf': 0, 'mmd_rbf_time': 0.06151318550109863, 'mmd_linear': 0.0, 'mmd_linear_time': 0.018514633178710938, 'nspdk_mmd': 0.0, 'nspdk_mmd_time': 0.3265414237976074}\n"
     ]
    }
   ],
   "source": [
    "device=torch.device('cpu')\n",
    "metrics_type=['nn', 'structural', 'molecular']\n",
    "structural_statistic='nspdk'  #options ['WL' , 'nspdk', 'orbits, \n",
    "#'degree', 'clustering' ,'spectral']\n",
    "\n",
    "\n",
    "reference_graphs=[]\n",
    "generated_graphs=[]\n",
    "discrete_node_label_name='' #leave blank if this does not exist\n",
    "continous_node_label_name=''  #leave blank if this does not exist\n",
    "discrete_edge_label_name=''  #leave blank if this does not exist\n",
    "continous_edge_label_nane='' #leave blank if this does not exist\n",
    "#dicrete labels should be set to 'label'\n",
    "#continous labels should be set to 'attr'\n",
    "\n",
    "\n",
    "metrics={}\n",
    "if  'nn' in metrics_type:\n",
    "    eval=Evaluator(feature_extractor ='gin',device='cpu')\n",
    "    metrics.update(eval.evaluate_all(generated_dataset=grids,reference_dataset=lobsters))\n",
    "if 'structural' in metrics_type  :\n",
    "    eval=Evaluator(feature_extractor ='mmd-structure',device='cpu' ,statistic=structural_statistic)\n",
    "    metrics.update(eval.evaluate_all(generated_dataset=grids,reference_dataset=lobsters))\n",
    "if 'molecular'  in metrics_type:\n",
    "    \n",
    "    @fuckit\n",
    "    def func():\n",
    "        losters_mol= [nx_to_mol(g) for g in lobsters]\n",
    "        grids_mol=[nx_to_mol(g) for g in grids]\n",
    "        lobsters_smiles=[Chem.MolToSmiles(g) for g in losters_mol]\n",
    "        grids_smiles=[Chem.MolToSmiles(g) for g in grids_mol]\n",
    "        metrics.update(get_all_metrics(gen=lobsters_smiles,test=lobsters_smiles))\n",
    "    try: func\n",
    "    except:\n",
    "           print('Cannot compute molecular metrics for this type of graphs')\n",
    "        \n",
    "    \n",
    "print(metrics)"
   ]
  },
  {
   "cell_type": "code",
   "execution_count": 272,
   "id": "963ae7d3",
   "metadata": {},
   "outputs": [
    {
     "data": {
      "text/plain": [
       "{'wl_mmd': 0.0, 'wl_mmd_time': 0.019949913024902344}"
      ]
     },
     "execution_count": 272,
     "metadata": {},
     "output_type": "execute_result"
    }
   ],
   "source": [
    "eval=Evaluator(feature_extractor ='mmd-structure',statistic='WL')\n",
    "eval.evaluate_all(generated_dataset=grids,reference_dataset=lobsters)"
   ]
  },
  {
   "cell_type": "code",
   "execution_count": 273,
   "id": "d51dd7d4",
   "metadata": {},
   "outputs": [
    {
     "data": {
      "text/plain": [
       "{'nspdk_mmd': 0.0, 'nspdk_mmd_time': 0.164459228515625}"
      ]
     },
     "execution_count": 273,
     "metadata": {},
     "output_type": "execute_result"
    }
   ],
   "source": [
    "eval=Evaluator(feature_extractor ='mmd-structure',statistic='nspdk')\n",
    "eval.evaluate_all(generated_dataset=grids,reference_dataset=lobsters)"
   ]
  },
  {
   "cell_type": "code",
   "execution_count": 274,
   "id": "3f2378e8",
   "metadata": {},
   "outputs": [
    {
     "data": {
      "text/plain": [
       "{'clustering_mmd': 0, 'clustering_mmd_time': 68.12237238883972}"
      ]
     },
     "execution_count": 274,
     "metadata": {},
     "output_type": "execute_result"
    }
   ],
   "source": [
    "eval=Evaluator(feature_extractor ='mmd-structure',statistic='clustering')\n",
    "eval.evaluate_all(generated_dataset=grids,reference_dataset=lobsters)"
   ]
  },
  {
   "cell_type": "code",
   "execution_count": 275,
   "id": "f402496d",
   "metadata": {},
   "outputs": [
    {
     "data": {
      "text/plain": [
       "{'degree_mmd': 0, 'degree_mmd_time': 62.189956188201904}"
      ]
     },
     "execution_count": 275,
     "metadata": {},
     "output_type": "execute_result"
    }
   ],
   "source": [
    "eval=Evaluator(feature_extractor ='mmd-structure',statistic='degree')\n",
    "eval.evaluate_all(generated_dataset=grids,reference_dataset=lobsters)"
   ]
  },
  {
   "cell_type": "code",
   "execution_count": 4,
   "id": "dc77cf0b",
   "metadata": {},
   "outputs": [
    {
     "data": {
      "text/plain": [
       "{'clustering_mmd': 0, 'clustering_mmd_time': 55.546926975250244}"
      ]
     },
     "execution_count": 4,
     "metadata": {},
     "output_type": "execute_result"
    }
   ],
   "source": [
    "eval=Evaluator(feature_extractor ='mmd-structure',statistic='clustering')\n",
    "eval.evaluate_all(generated_dataset=grids,reference_dataset=lobsters)"
   ]
  },
  {
   "cell_type": "code",
   "execution_count": 5,
   "id": "ae3ffaaf",
   "metadata": {},
   "outputs": [],
   "source": [
    "\n",
    "#beware the graph statistics metric it is very slow\n",
    "eval=Evaluator(feature_extractor ='mmd-structure',statistic='all')\n",
    "metrics=eval.evaluate_all(generated_dataset=grids[:5],reference_dataset=lobsters[5:])"
   ]
  },
  {
   "cell_type": "code",
   "execution_count": null,
   "id": "334d8f6f",
   "metadata": {},
   "outputs": [],
   "source": []
  },
  {
   "cell_type": "code",
   "execution_count": null,
   "id": "673c60b2",
   "metadata": {},
   "outputs": [],
   "source": []
  },
  {
   "cell_type": "code",
   "execution_count": null,
   "id": "801f70a0",
   "metadata": {},
   "outputs": [],
   "source": []
  },
  {
   "cell_type": "code",
   "execution_count": null,
   "id": "4f349f7c",
   "metadata": {},
   "outputs": [],
   "source": []
  },
  {
   "cell_type": "code",
   "execution_count": null,
   "id": "432aee27",
   "metadata": {},
   "outputs": [],
   "source": []
  }
 ],
 "metadata": {
  "kernelspec": {
   "display_name": "Python 3",
   "language": "python",
   "name": "python3"
  },
  "language_info": {
   "codemirror_mode": {
    "name": "ipython",
    "version": 3
   },
   "file_extension": ".py",
   "mimetype": "text/x-python",
   "name": "python",
   "nbconvert_exporter": "python",
   "pygments_lexer": "ipython3",
   "version": "3.10.5"
  },
  "vscode": {
   "interpreter": {
    "hash": "06a8be8316eed2f6558da5cb68a9abde15f0a0ec61139bf81bc916fa7c6839e3"
   }
  }
 },
 "nbformat": 4,
 "nbformat_minor": 5
}
