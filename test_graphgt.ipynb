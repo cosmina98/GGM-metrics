{
 "cells": [
  {
   "cell_type": "code",
   "execution_count": 4,
   "metadata": {},
   "outputs": [
    {
     "name": "stdout",
     "output_type": "stream",
     "text": [
      "Requirement already satisfied: GraphGT in c:\\users\\cs843\\appdata\\local\\programs\\python\\python310\\lib\\site-packages (0.1.8)\n",
      "Requirement already satisfied: numpy in c:\\users\\cs843\\appdata\\local\\programs\\python\\python310\\lib\\site-packages (from GraphGT) (1.23.5)\n",
      "Collecting dictances\n",
      "  Downloading dictances-1.5.6.tar.gz (8.3 kB)\n",
      "  Preparing metadata (setup.py): started\n",
      "  Preparing metadata (setup.py): finished with status 'done'\n",
      "Collecting support_developer\n",
      "  Downloading support_developer-1.0.5.tar.gz (4.9 kB)\n",
      "  Preparing metadata (setup.py): started\n",
      "  Preparing metadata (setup.py): finished with status 'done'\n",
      "Building wheels for collected packages: dictances, support_developer\n",
      "  Building wheel for dictances (setup.py): started\n",
      "  Building wheel for dictances (setup.py): finished with status 'done'\n",
      "  Created wheel for dictances: filename=dictances-1.5.6-py3-none-any.whl size=13562 sha256=50e553b501ce5234cb68869675e8b70fa69c8138192835519e795538c26742d7\n",
      "  Stored in directory: c:\\users\\cs843\\appdata\\local\\pip\\cache\\wheels\\e5\\75\\59\\4884e0e551a2ebd364e6dda5ad4e0fc85516248ccbd35c0bf4\n",
      "  Building wheel for support_developer (setup.py): started\n",
      "  Building wheel for support_developer (setup.py): finished with status 'done'\n",
      "  Created wheel for support_developer: filename=support_developer-1.0.5-py3-none-any.whl size=5676 sha256=be3bd4feef036cd5c76faaff97daa88a4e022d0b17b584e86bfe849811af7ee4\n",
      "  Stored in directory: c:\\users\\cs843\\appdata\\local\\pip\\cache\\wheels\\b6\\72\\c8\\3054a5897ba0713dfa7a941364d68cbd42b0755c8e2ec1c18c\n",
      "Successfully built dictances support_developer\n",
      "Installing collected packages: support_developer, dictances\n",
      "Successfully installed dictances-1.5.6 support_developer-1.0.5\n"
     ]
    }
   ],
   "source": [
    "!pip install GraphGT\n",
    "!pip install dictances\n",
    "https://openreview.net/pdf?id=nUktmJLz0up"
   ]
  },
  {
   "cell_type": "code",
   "execution_count": 15,
   "metadata": {},
   "outputs": [
    {
     "name": "stderr",
     "output_type": "stream",
     "text": [
      "Found local copy...\n"
     ]
    }
   ],
   "source": [
    "import graphgt\n",
    "import dictances \n",
    "qm9 = graphgt.DataLoader(name='qm9', save_path='./data', format='numpy')"
   ]
  },
  {
   "cell_type": "code",
   "execution_count": 17,
   "metadata": {},
   "outputs": [],
   "source": [
    "input_adj, input_node_feat, input_edge_feat,input_spatial,label= qm9.get_data()\n"
   ]
  },
  {
   "cell_type": "code",
   "execution_count": 46,
   "metadata": {},
   "outputs": [
    {
     "data": {
      "text/plain": [
       "array([array([[0, 1, 0, 0, 0]]), array([[0, 0, 1, 0, 0]]),\n",
       "       array([[0, 0, 0, 1, 0]]), ..., array([[0, 1, 0, 0, 0],\n",
       "                                             [0, 0, 1, 0, 0],\n",
       "                                             [0, 1, 0, 0, 0],\n",
       "                                             [0, 1, 0, 0, 0],\n",
       "                                             [0, 1, 0, 0, 0],\n",
       "                                             [0, 1, 0, 0, 0],\n",
       "                                             [0, 1, 0, 0, 0],\n",
       "                                             [0, 1, 0, 0, 0],\n",
       "                                             [0, 0, 1, 0, 0]]),\n",
       "       array([[0, 1, 0, 0, 0],\n",
       "              [0, 0, 1, 0, 0],\n",
       "              [0, 1, 0, 0, 0],\n",
       "              [0, 1, 0, 0, 0],\n",
       "              [0, 1, 0, 0, 0],\n",
       "              [0, 1, 0, 0, 0],\n",
       "              [0, 1, 0, 0, 0],\n",
       "              [0, 1, 0, 0, 0],\n",
       "              [0, 1, 0, 0, 0]]), array([[0, 1, 0, 0, 0],\n",
       "                                        [0, 0, 1, 0, 0],\n",
       "                                        [0, 1, 0, 0, 0],\n",
       "                                        [0, 1, 0, 0, 0],\n",
       "                                        [0, 1, 0, 0, 0],\n",
       "                                        [0, 0, 0, 1, 0],\n",
       "                                        [0, 1, 0, 0, 0],\n",
       "                                        [0, 1, 0, 0, 0],\n",
       "                                        [0, 1, 0, 0, 0]])], dtype=object)"
      ]
     },
     "execution_count": 46,
     "metadata": {},
     "output_type": "execute_result"
    }
   ],
   "source": [
    "input_node_feat"
   ]
  },
  {
   "cell_type": "code",
   "execution_count": 45,
   "metadata": {},
   "outputs": [
    {
     "data": {
      "text/plain": [
       "133885"
      ]
     },
     "execution_count": 45,
     "metadata": {},
     "output_type": "execute_result"
    }
   ],
   "source": [
    "len(label)"
   ]
  },
  {
   "cell_type": "code",
   "execution_count": 37,
   "metadata": {},
   "outputs": [
    {
     "data": {
      "text/plain": [
       "(array([array([[0]]), array([[0]]), array([[0]]), ...,\n",
       "        array([[0, 0, 0, 0, 0, 0, 0, 0, 0],\n",
       "               [0, 0, 0, 0, 0, 0, 0, 0, 0],\n",
       "               [0, 0, 0, 0, 0, 0, 0, 0, 0],\n",
       "               [0, 0, 0, 0, 0, 0, 0, 0, 0],\n",
       "               [0, 0, 0, 0, 0, 0, 0, 0, 0],\n",
       "               [0, 0, 0, 0, 0, 0, 0, 0, 0],\n",
       "               [0, 0, 0, 0, 0, 0, 0, 0, 0],\n",
       "               [0, 0, 0, 0, 0, 0, 0, 0, 0],\n",
       "               [0, 0, 0, 0, 0, 0, 0, 0, 0]]),\n",
       "        array([[0, 0, 0, 0, 0, 0, 0, 0, 0],\n",
       "               [0, 0, 0, 0, 0, 0, 0, 0, 0],\n",
       "               [0, 0, 0, 0, 0, 0, 0, 0, 0],\n",
       "               [0, 0, 0, 0, 0, 0, 0, 0, 0],\n",
       "               [0, 0, 0, 0, 0, 0, 0, 0, 0],\n",
       "               [0, 0, 0, 0, 0, 0, 0, 0, 0],\n",
       "               [0, 0, 0, 0, 0, 0, 0, 0, 0],\n",
       "               [0, 0, 0, 0, 0, 0, 0, 0, 0],\n",
       "               [0, 0, 0, 0, 0, 0, 0, 0, 0]]),\n",
       "        array([[0, 0, 0, 0, 0, 0, 0, 0, 0],\n",
       "               [0, 0, 0, 0, 0, 0, 0, 0, 0],\n",
       "               [0, 0, 0, 0, 0, 0, 0, 0, 0],\n",
       "               [0, 0, 0, 0, 0, 0, 0, 0, 0],\n",
       "               [0, 0, 0, 0, 0, 0, 0, 0, 0],\n",
       "               [0, 0, 0, 0, 0, 0, 0, 0, 0],\n",
       "               [0, 0, 0, 0, 0, 0, 0, 0, 0],\n",
       "               [0, 0, 0, 0, 0, 0, 0, 0, 0],\n",
       "               [0, 0, 0, 0, 0, 0, 0, 0, 0]])], dtype=object),\n",
       " array([array([[0, 1, 0, 0, 0]]), array([[0, 0, 1, 0, 0]]),\n",
       "        array([[0, 0, 0, 1, 0]]), ..., array([[0, 1, 0, 0, 0],\n",
       "                                              [0, 0, 1, 0, 0],\n",
       "                                              [0, 1, 0, 0, 0],\n",
       "                                              [0, 1, 0, 0, 0],\n",
       "                                              [0, 1, 0, 0, 0],\n",
       "                                              [0, 1, 0, 0, 0],\n",
       "                                              [0, 1, 0, 0, 0],\n",
       "                                              [0, 1, 0, 0, 0],\n",
       "                                              [0, 0, 1, 0, 0]]),\n",
       "        array([[0, 1, 0, 0, 0],\n",
       "               [0, 0, 1, 0, 0],\n",
       "               [0, 1, 0, 0, 0],\n",
       "               [0, 1, 0, 0, 0],\n",
       "               [0, 1, 0, 0, 0],\n",
       "               [0, 1, 0, 0, 0],\n",
       "               [0, 1, 0, 0, 0],\n",
       "               [0, 1, 0, 0, 0],\n",
       "               [0, 1, 0, 0, 0]]), array([[0, 1, 0, 0, 0],\n",
       "                                         [0, 0, 1, 0, 0],\n",
       "                                         [0, 1, 0, 0, 0],\n",
       "                                         [0, 1, 0, 0, 0],\n",
       "                                         [0, 1, 0, 0, 0],\n",
       "                                         [0, 0, 0, 1, 0],\n",
       "                                         [0, 1, 0, 0, 0],\n",
       "                                         [0, 1, 0, 0, 0],\n",
       "                                         [0, 1, 0, 0, 0]])], dtype=object),\n",
       " array([array([[0]]), array([[0]]), array([[0]]), ...,\n",
       "        array([[0, 0, 0, 0, 0, 0, 0, 0, 0],\n",
       "               [0, 0, 0, 0, 0, 0, 0, 0, 0],\n",
       "               [0, 0, 0, 0, 0, 0, 0, 0, 0],\n",
       "               [0, 0, 0, 0, 0, 0, 0, 0, 0],\n",
       "               [0, 0, 0, 0, 0, 0, 0, 0, 0],\n",
       "               [0, 0, 0, 0, 0, 0, 0, 0, 0],\n",
       "               [0, 0, 0, 0, 0, 0, 0, 0, 0],\n",
       "               [0, 0, 0, 0, 0, 0, 0, 0, 0],\n",
       "               [0, 0, 0, 0, 0, 0, 0, 0, 0]]),\n",
       "        array([[0, 0, 0, 0, 0, 0, 0, 0, 0],\n",
       "               [0, 0, 0, 0, 0, 0, 0, 0, 0],\n",
       "               [0, 0, 0, 0, 0, 0, 0, 0, 0],\n",
       "               [0, 0, 0, 0, 0, 0, 0, 0, 0],\n",
       "               [0, 0, 0, 0, 0, 0, 0, 0, 0],\n",
       "               [0, 0, 0, 0, 0, 0, 0, 0, 0],\n",
       "               [0, 0, 0, 0, 0, 0, 0, 0, 0],\n",
       "               [0, 0, 0, 0, 0, 0, 0, 0, 0],\n",
       "               [0, 0, 0, 0, 0, 0, 0, 0, 0]]),\n",
       "        array([[0, 0, 0, 0, 0, 0, 0, 0, 0],\n",
       "               [0, 0, 0, 0, 0, 0, 0, 0, 0],\n",
       "               [0, 0, 0, 0, 0, 0, 0, 0, 0],\n",
       "               [0, 0, 0, 0, 0, 0, 0, 0, 0],\n",
       "               [0, 0, 0, 0, 0, 0, 0, 0, 0],\n",
       "               [0, 0, 0, 0, 0, 0, 0, 0, 0],\n",
       "               [0, 0, 0, 0, 0, 0, 0, 0, 0],\n",
       "               [0, 0, 0, 0, 0, 0, 0, 0, 0],\n",
       "               [0, 0, 0, 0, 0, 0, 0, 0, 0]])], dtype=object),\n",
       " array([array([[0., 0., 0.]]), array([[0., 0., 0.]]),\n",
       "        array([[0., 0., 0.]]), ...,\n",
       "        array([[-2.45687028, -0.47857751,  0.        ],\n",
       "               [-2.19761951,  0.99884898,  0.        ],\n",
       "               [ 1.55835601, -0.47881467,  0.        ],\n",
       "               [ 2.26146804,  0.84618853,  0.        ],\n",
       "               [ 0.76503596,  0.94958597,  0.        ],\n",
       "               [-0.72019302,  0.73959821,  0.        ],\n",
       "               [-0.97944379, -0.73782828,  0.        ],\n",
       "               [ 0.34555941, -1.4409403 ,  0.        ],\n",
       "               [ 1.42370719, -0.39806094,  0.        ]]),\n",
       "        array([[-2.34606204, -0.44316797,  0.        ],\n",
       "               [-2.00374843,  1.01725025,  0.        ],\n",
       "               [ 0.57477441, -1.12779519,  0.        ],\n",
       "               [ 2.4395902 ,  0.612888  ,  0.        ],\n",
       "               [ 1.53286555, -0.58203895,  0.        ],\n",
       "               [ 0.28016356, -0.1672623 ,  0.        ],\n",
       "               [-0.88564382, -0.78548158,  0.        ],\n",
       "               [-0.54333021,  0.67493664,  0.        ],\n",
       "               [ 0.95139078,  0.8006711 ,  0.        ]]),\n",
       "        array([[-2.34606204, -0.44316797,  0.        ],\n",
       "               [-2.00374843,  1.01725025,  0.        ],\n",
       "               [ 0.57477441, -1.12779519,  0.        ],\n",
       "               [ 2.4395902 ,  0.612888  ,  0.        ],\n",
       "               [ 1.53286555, -0.58203895,  0.        ],\n",
       "               [ 0.28016356, -0.1672623 ,  0.        ],\n",
       "               [-0.88564382, -0.78548158,  0.        ],\n",
       "               [-0.54333021,  0.67493664,  0.        ],\n",
       "               [ 0.95139078,  0.8006711 ,  0.        ]])], dtype=object),\n",
       " array(['C', 'N', 'O', ..., 'C1N2C3C4C5C2C13CN45', 'C1N2C3C4C5CC13C2C45',\n",
       "        'C1N2C3C4C5OC13C2C45'], dtype='<U28'))"
      ]
     },
     "execution_count": 37,
     "metadata": {},
     "output_type": "execute_result"
    }
   ],
   "source": [
    "qm9.get_data()\n"
   ]
  },
  {
   "cell_type": "code",
   "execution_count": 30,
   "metadata": {},
   "outputs": [
    {
     "ename": "NetworkXError",
     "evalue": "Input array must be 2D, not 1",
     "output_type": "error",
     "traceback": [
      "\u001b[1;31m---------------------------------------------------------------------------\u001b[0m",
      "\u001b[1;31mNetworkXError\u001b[0m                             Traceback (most recent call last)",
      "\u001b[1;32mc:\\Users\\cs843\\Documents\\PhD\\2023\\GRAN\\test.ipynb Cell 4\u001b[0m in \u001b[0;36m<cell line: 2>\u001b[1;34m()\u001b[0m\n\u001b[0;32m      <a href='vscode-notebook-cell:/c%3A/Users/cs843/Documents/PhD/2023/GRAN/test.ipynb#W5sZmlsZQ%3D%3D?line=0'>1</a>\u001b[0m \u001b[39mimport\u001b[39;00m \u001b[39mnetworkx\u001b[39;00m \u001b[39mas\u001b[39;00m \u001b[39mnx\u001b[39;00m\n\u001b[1;32m----> <a href='vscode-notebook-cell:/c%3A/Users/cs843/Documents/PhD/2023/GRAN/test.ipynb#W5sZmlsZQ%3D%3D?line=1'>2</a>\u001b[0m nx\u001b[39m.\u001b[39;49mfrom_numpy_matrix(input_adj)\n",
      "File \u001b[1;32mc:\\Users\\cs843\\AppData\\Local\\Programs\\Python\\Python310\\lib\\site-packages\\networkx\\convert_matrix.py:694\u001b[0m, in \u001b[0;36mfrom_numpy_matrix\u001b[1;34m(A, parallel_edges, create_using)\u001b[0m\n\u001b[0;32m    603\u001b[0m \u001b[39m\"\"\"Returns a graph from numpy matrix.\u001b[39;00m\n\u001b[0;32m    604\u001b[0m \n\u001b[0;32m    605\u001b[0m \u001b[39mThe numpy matrix is interpreted as an adjacency matrix for the graph.\u001b[39;00m\n\u001b[1;32m   (...)\u001b[0m\n\u001b[0;32m    685\u001b[0m \n\u001b[0;32m    686\u001b[0m \u001b[39m\"\"\"\u001b[39;00m\n\u001b[0;32m    687\u001b[0m warnings\u001b[39m.\u001b[39mwarn(\n\u001b[0;32m    688\u001b[0m     (\n\u001b[0;32m    689\u001b[0m         \u001b[39m\"\u001b[39m\u001b[39mfrom_numpy_matrix is deprecated and will be removed in NetworkX 3.0.\u001b[39m\u001b[39m\\n\u001b[39;00m\u001b[39m\"\u001b[39m\n\u001b[1;32m   (...)\u001b[0m\n\u001b[0;32m    692\u001b[0m     \u001b[39mDeprecationWarning\u001b[39;00m,\n\u001b[0;32m    693\u001b[0m )\n\u001b[1;32m--> 694\u001b[0m \u001b[39mreturn\u001b[39;00m from_numpy_array(A, parallel_edges\u001b[39m=\u001b[39;49mparallel_edges, create_using\u001b[39m=\u001b[39;49mcreate_using)\n",
      "File \u001b[1;32mc:\\Users\\cs843\\AppData\\Local\\Programs\\Python\\Python310\\lib\\site-packages\\networkx\\convert_matrix.py:1612\u001b[0m, in \u001b[0;36mfrom_numpy_array\u001b[1;34m(A, parallel_edges, create_using)\u001b[0m\n\u001b[0;32m   1610\u001b[0m G \u001b[39m=\u001b[39m nx\u001b[39m.\u001b[39mempty_graph(\u001b[39m0\u001b[39m, create_using)\n\u001b[0;32m   1611\u001b[0m \u001b[39mif\u001b[39;00m A\u001b[39m.\u001b[39mndim \u001b[39m!=\u001b[39m \u001b[39m2\u001b[39m:\n\u001b[1;32m-> 1612\u001b[0m     \u001b[39mraise\u001b[39;00m nx\u001b[39m.\u001b[39mNetworkXError(\u001b[39mf\u001b[39m\u001b[39m\"\u001b[39m\u001b[39mInput array must be 2D, not \u001b[39m\u001b[39m{\u001b[39;00mA\u001b[39m.\u001b[39mndim\u001b[39m}\u001b[39;00m\u001b[39m\"\u001b[39m)\n\u001b[0;32m   1613\u001b[0m n, m \u001b[39m=\u001b[39m A\u001b[39m.\u001b[39mshape\n\u001b[0;32m   1614\u001b[0m \u001b[39mif\u001b[39;00m n \u001b[39m!=\u001b[39m m:\n",
      "\u001b[1;31mNetworkXError\u001b[0m: Input array must be 2D, not 1"
     ]
    }
   ],
   "source": [
    "import networkx as nx\n",
    "nx.from_numpy_matrix(input_adj)"
   ]
  },
  {
   "cell_type": "code",
   "execution_count": null,
   "metadata": {},
   "outputs": [],
   "source": []
  },
  {
   "cell_type": "code",
   "execution_count": null,
   "metadata": {},
   "outputs": [],
   "source": []
  }
 ],
 "metadata": {
  "kernelspec": {
   "display_name": "Python 3",
   "language": "python",
   "name": "python3"
  },
  "language_info": {
   "codemirror_mode": {
    "name": "ipython",
    "version": 3
   },
   "file_extension": ".py",
   "mimetype": "text/x-python",
   "name": "python",
   "nbconvert_exporter": "python",
   "pygments_lexer": "ipython3",
   "version": "3.10.5"
  },
  "orig_nbformat": 4,
  "vscode": {
   "interpreter": {
    "hash": "06a8be8316eed2f6558da5cb68a9abde15f0a0ec61139bf81bc916fa7c6839e3"
   }
  }
 },
 "nbformat": 4,
 "nbformat_minor": 2
}
