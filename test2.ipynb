{
 "cells": [
  {
   "cell_type": "code",
   "execution_count": 7,
   "metadata": {},
   "outputs": [
    {
     "ename": "FileNotFoundError",
     "evalue": "[Errno 2] No such file or directory: 'data/bursi.pos.gspan'",
     "output_type": "error",
     "traceback": [
      "\u001b[1;31m---------------------------------------------------------------------------\u001b[0m",
      "\u001b[1;31mMissingSchema\u001b[0m                             Traceback (most recent call last)",
      "File \u001b[1;32mc:\\Users\\cs843\\AppData\\Local\\Programs\\Python\\Python310\\lib\\site-packages\\eden\\util.py:157\u001b[0m, in \u001b[0;36mread\u001b[1;34m(uri)\u001b[0m\n\u001b[0;32m    155\u001b[0m \u001b[39mtry\u001b[39;00m:\n\u001b[0;32m    156\u001b[0m     \u001b[39m# try if it is a URL and if we can open it\u001b[39;00m\n\u001b[1;32m--> 157\u001b[0m     f \u001b[39m=\u001b[39m requests\u001b[39m.\u001b[39;49mget(uri)\u001b[39m.\u001b[39mtext\u001b[39m.\u001b[39msplit(\u001b[39m'\u001b[39m\u001b[39m\\n\u001b[39;00m\u001b[39m'\u001b[39m)\n\u001b[0;32m    158\u001b[0m \u001b[39mexcept\u001b[39;00m \u001b[39mValueError\u001b[39;00m:\n\u001b[0;32m    159\u001b[0m     \u001b[39m# assume it is a file object\u001b[39;00m\n",
      "File \u001b[1;32mc:\\Users\\cs843\\AppData\\Local\\Programs\\Python\\Python310\\lib\\site-packages\\requests\\api.py:73\u001b[0m, in \u001b[0;36mget\u001b[1;34m(url, params, **kwargs)\u001b[0m\n\u001b[0;32m     63\u001b[0m \u001b[39mr\u001b[39m\u001b[39m\"\"\"Sends a GET request.\u001b[39;00m\n\u001b[0;32m     64\u001b[0m \n\u001b[0;32m     65\u001b[0m \u001b[39m:param url: URL for the new :class:`Request` object.\u001b[39;00m\n\u001b[1;32m   (...)\u001b[0m\n\u001b[0;32m     70\u001b[0m \u001b[39m:rtype: requests.Response\u001b[39;00m\n\u001b[0;32m     71\u001b[0m \u001b[39m\"\"\"\u001b[39;00m\n\u001b[1;32m---> 73\u001b[0m \u001b[39mreturn\u001b[39;00m request(\u001b[39m\"\u001b[39m\u001b[39mget\u001b[39m\u001b[39m\"\u001b[39m, url, params\u001b[39m=\u001b[39mparams, \u001b[39m*\u001b[39m\u001b[39m*\u001b[39mkwargs)\n",
      "File \u001b[1;32mc:\\Users\\cs843\\AppData\\Local\\Programs\\Python\\Python310\\lib\\site-packages\\requests\\api.py:59\u001b[0m, in \u001b[0;36mrequest\u001b[1;34m(method, url, **kwargs)\u001b[0m\n\u001b[0;32m     58\u001b[0m \u001b[39mwith\u001b[39;00m sessions\u001b[39m.\u001b[39mSession() \u001b[39mas\u001b[39;00m session:\n\u001b[1;32m---> 59\u001b[0m     \u001b[39mreturn\u001b[39;00m session\u001b[39m.\u001b[39mrequest(method\u001b[39m=\u001b[39mmethod, url\u001b[39m=\u001b[39murl, \u001b[39m*\u001b[39m\u001b[39m*\u001b[39mkwargs)\n",
      "File \u001b[1;32mc:\\Users\\cs843\\AppData\\Local\\Programs\\Python\\Python310\\lib\\site-packages\\requests\\sessions.py:573\u001b[0m, in \u001b[0;36mSession.request\u001b[1;34m(self, method, url, params, data, headers, cookies, files, auth, timeout, allow_redirects, proxies, hooks, stream, verify, cert, json)\u001b[0m\n\u001b[0;32m    561\u001b[0m req \u001b[39m=\u001b[39m Request(\n\u001b[0;32m    562\u001b[0m     method\u001b[39m=\u001b[39mmethod\u001b[39m.\u001b[39mupper(),\n\u001b[0;32m    563\u001b[0m     url\u001b[39m=\u001b[39murl,\n\u001b[1;32m   (...)\u001b[0m\n\u001b[0;32m    571\u001b[0m     hooks\u001b[39m=\u001b[39mhooks,\n\u001b[0;32m    572\u001b[0m )\n\u001b[1;32m--> 573\u001b[0m prep \u001b[39m=\u001b[39m \u001b[39mself\u001b[39;49m\u001b[39m.\u001b[39;49mprepare_request(req)\n\u001b[0;32m    575\u001b[0m proxies \u001b[39m=\u001b[39m proxies \u001b[39mor\u001b[39;00m {}\n",
      "File \u001b[1;32mc:\\Users\\cs843\\AppData\\Local\\Programs\\Python\\Python310\\lib\\site-packages\\requests\\sessions.py:484\u001b[0m, in \u001b[0;36mSession.prepare_request\u001b[1;34m(self, request)\u001b[0m\n\u001b[0;32m    483\u001b[0m p \u001b[39m=\u001b[39m PreparedRequest()\n\u001b[1;32m--> 484\u001b[0m p\u001b[39m.\u001b[39;49mprepare(\n\u001b[0;32m    485\u001b[0m     method\u001b[39m=\u001b[39;49mrequest\u001b[39m.\u001b[39;49mmethod\u001b[39m.\u001b[39;49mupper(),\n\u001b[0;32m    486\u001b[0m     url\u001b[39m=\u001b[39;49mrequest\u001b[39m.\u001b[39;49murl,\n\u001b[0;32m    487\u001b[0m     files\u001b[39m=\u001b[39;49mrequest\u001b[39m.\u001b[39;49mfiles,\n\u001b[0;32m    488\u001b[0m     data\u001b[39m=\u001b[39;49mrequest\u001b[39m.\u001b[39;49mdata,\n\u001b[0;32m    489\u001b[0m     json\u001b[39m=\u001b[39;49mrequest\u001b[39m.\u001b[39;49mjson,\n\u001b[0;32m    490\u001b[0m     headers\u001b[39m=\u001b[39;49mmerge_setting(\n\u001b[0;32m    491\u001b[0m         request\u001b[39m.\u001b[39;49mheaders, \u001b[39mself\u001b[39;49m\u001b[39m.\u001b[39;49mheaders, dict_class\u001b[39m=\u001b[39;49mCaseInsensitiveDict\n\u001b[0;32m    492\u001b[0m     ),\n\u001b[0;32m    493\u001b[0m     params\u001b[39m=\u001b[39;49mmerge_setting(request\u001b[39m.\u001b[39;49mparams, \u001b[39mself\u001b[39;49m\u001b[39m.\u001b[39;49mparams),\n\u001b[0;32m    494\u001b[0m     auth\u001b[39m=\u001b[39;49mmerge_setting(auth, \u001b[39mself\u001b[39;49m\u001b[39m.\u001b[39;49mauth),\n\u001b[0;32m    495\u001b[0m     cookies\u001b[39m=\u001b[39;49mmerged_cookies,\n\u001b[0;32m    496\u001b[0m     hooks\u001b[39m=\u001b[39;49mmerge_hooks(request\u001b[39m.\u001b[39;49mhooks, \u001b[39mself\u001b[39;49m\u001b[39m.\u001b[39;49mhooks),\n\u001b[0;32m    497\u001b[0m )\n\u001b[0;32m    498\u001b[0m \u001b[39mreturn\u001b[39;00m p\n",
      "File \u001b[1;32mc:\\Users\\cs843\\AppData\\Local\\Programs\\Python\\Python310\\lib\\site-packages\\requests\\models.py:368\u001b[0m, in \u001b[0;36mPreparedRequest.prepare\u001b[1;34m(self, method, url, headers, files, data, params, auth, cookies, hooks, json)\u001b[0m\n\u001b[0;32m    367\u001b[0m \u001b[39mself\u001b[39m\u001b[39m.\u001b[39mprepare_method(method)\n\u001b[1;32m--> 368\u001b[0m \u001b[39mself\u001b[39;49m\u001b[39m.\u001b[39;49mprepare_url(url, params)\n\u001b[0;32m    369\u001b[0m \u001b[39mself\u001b[39m\u001b[39m.\u001b[39mprepare_headers(headers)\n",
      "File \u001b[1;32mc:\\Users\\cs843\\AppData\\Local\\Programs\\Python\\Python310\\lib\\site-packages\\requests\\models.py:439\u001b[0m, in \u001b[0;36mPreparedRequest.prepare_url\u001b[1;34m(self, url, params)\u001b[0m\n\u001b[0;32m    438\u001b[0m \u001b[39mif\u001b[39;00m \u001b[39mnot\u001b[39;00m scheme:\n\u001b[1;32m--> 439\u001b[0m     \u001b[39mraise\u001b[39;00m MissingSchema(\n\u001b[0;32m    440\u001b[0m         \u001b[39mf\u001b[39m\u001b[39m\"\u001b[39m\u001b[39mInvalid URL \u001b[39m\u001b[39m{\u001b[39;00murl\u001b[39m!r}\u001b[39;00m\u001b[39m: No scheme supplied. \u001b[39m\u001b[39m\"\u001b[39m\n\u001b[0;32m    441\u001b[0m         \u001b[39mf\u001b[39m\u001b[39m\"\u001b[39m\u001b[39mPerhaps you meant http://\u001b[39m\u001b[39m{\u001b[39;00murl\u001b[39m}\u001b[39;00m\u001b[39m?\u001b[39m\u001b[39m\"\u001b[39m\n\u001b[0;32m    442\u001b[0m     )\n\u001b[0;32m    444\u001b[0m \u001b[39mif\u001b[39;00m \u001b[39mnot\u001b[39;00m host:\n",
      "\u001b[1;31mMissingSchema\u001b[0m: Invalid URL 'data/bursi.pos.gspan': No scheme supplied. Perhaps you meant http://data/bursi.pos.gspan?",
      "\nDuring handling of the above exception, another exception occurred:\n",
      "\u001b[1;31mFileNotFoundError\u001b[0m                         Traceback (most recent call last)",
      "\u001b[1;32mc:\\Users\\cs843\\Documents\\PhD\\2023\\Proposal\\GGM-metrics\\test2.ipynb Cell 1\u001b[0m in \u001b[0;36m<cell line: 2>\u001b[1;34m()\u001b[0m\n\u001b[0;32m      <a href='vscode-notebook-cell:/c%3A/Users/cs843/Documents/PhD/2023/Proposal/GGM-metrics/test2.ipynb#W0sZmlsZQ%3D%3D?line=0'>1</a>\u001b[0m \u001b[39mfrom\u001b[39;00m \u001b[39meden\u001b[39;00m\u001b[39m.\u001b[39;00m\u001b[39mio\u001b[39;00m\u001b[39m.\u001b[39;00m\u001b[39mgspan\u001b[39;00m \u001b[39mimport\u001b[39;00m load\n\u001b[1;32m----> <a href='vscode-notebook-cell:/c%3A/Users/cs843/Documents/PhD/2023/Proposal/GGM-metrics/test2.ipynb#W0sZmlsZQ%3D%3D?line=1'>2</a>\u001b[0m pos_graphs \u001b[39m=\u001b[39m \u001b[39mlist\u001b[39;49m(load(\u001b[39m'\u001b[39;49m\u001b[39mdata/bursi.pos.gspan\u001b[39;49m\u001b[39m'\u001b[39;49m))\n\u001b[0;32m      <a href='vscode-notebook-cell:/c%3A/Users/cs843/Documents/PhD/2023/Proposal/GGM-metrics/test2.ipynb#W0sZmlsZQ%3D%3D?line=2'>3</a>\u001b[0m neg_graphs \u001b[39m=\u001b[39m \u001b[39mlist\u001b[39m(load(\u001b[39m'\u001b[39m\u001b[39mdata/bursi.neg.gspan\u001b[39m\u001b[39m'\u001b[39m))\n\u001b[0;32m      <a href='vscode-notebook-cell:/c%3A/Users/cs843/Documents/PhD/2023/Proposal/GGM-metrics/test2.ipynb#W0sZmlsZQ%3D%3D?line=3'>4</a>\u001b[0m graphs \u001b[39m=\u001b[39m pos_graphs \u001b[39m+\u001b[39m neg_graphs\n",
      "File \u001b[1;32mc:\\Users\\cs843\\AppData\\Local\\Programs\\Python\\Python310\\lib\\site-packages\\eden\\io\\gspan.py:32\u001b[0m, in \u001b[0;36mgspan_to_eden\u001b[1;34m(input, options)\u001b[0m\n\u001b[0;32m     30\u001b[0m header \u001b[39m=\u001b[39m \u001b[39m'\u001b[39m\u001b[39m'\u001b[39m\n\u001b[0;32m     31\u001b[0m string_list \u001b[39m=\u001b[39m []\n\u001b[1;32m---> 32\u001b[0m \u001b[39mfor\u001b[39;00m line \u001b[39min\u001b[39;00m util\u001b[39m.\u001b[39;49mread(\u001b[39minput\u001b[39;49m):\n\u001b[0;32m     33\u001b[0m     \u001b[39mif\u001b[39;00m line\u001b[39m.\u001b[39mstrip():\n\u001b[0;32m     34\u001b[0m         \u001b[39mif\u001b[39;00m line[\u001b[39m0\u001b[39m] \u001b[39min\u001b[39;00m [\u001b[39m'\u001b[39m\u001b[39mg\u001b[39m\u001b[39m'\u001b[39m, \u001b[39m'\u001b[39m\u001b[39mt\u001b[39m\u001b[39m'\u001b[39m]:\n",
      "File \u001b[1;32mc:\\Users\\cs843\\AppData\\Local\\Programs\\Python\\Python310\\lib\\site-packages\\eden\\util.py:160\u001b[0m, in \u001b[0;36mread\u001b[1;34m(uri)\u001b[0m\n\u001b[0;32m    157\u001b[0m     f \u001b[39m=\u001b[39m requests\u001b[39m.\u001b[39mget(uri)\u001b[39m.\u001b[39mtext\u001b[39m.\u001b[39msplit(\u001b[39m'\u001b[39m\u001b[39m\\n\u001b[39;00m\u001b[39m'\u001b[39m)\n\u001b[0;32m    158\u001b[0m \u001b[39mexcept\u001b[39;00m \u001b[39mValueError\u001b[39;00m:\n\u001b[0;32m    159\u001b[0m     \u001b[39m# assume it is a file object\u001b[39;00m\n\u001b[1;32m--> 160\u001b[0m     f \u001b[39m=\u001b[39m \u001b[39mopen\u001b[39;49m(uri)\n\u001b[0;32m    161\u001b[0m \u001b[39mreturn\u001b[39;00m f\n",
      "\u001b[1;31mFileNotFoundError\u001b[0m: [Errno 2] No such file or directory: 'data/bursi.pos.gspan'"
     ]
    }
   ],
   "source": [
    "from eden.io.gspan import load\n",
    "pos_graphs = list(load('data/bursi.pos.gspan'))\n",
    "neg_graphs = list(load('data/bursi.neg.gspan'))\n",
    "graphs = pos_graphs + neg_graphs\n",
    "\n",
    "y = [1]*len(pos_graphs) + [-1]*len(neg_graphs)\n",
    "import numpy as np\n",
    "y = np.array(y)"
   ]
  },
  {
   "cell_type": "code",
   "execution_count": 6,
   "metadata": {},
   "outputs": [
    {
     "data": {
      "text/plain": [
       "'c:\\\\Users\\\\cs843\\\\Documents\\\\PhD\\\\2023\\\\Proposal\\\\GGM-metrics'"
      ]
     },
     "execution_count": 6,
     "metadata": {},
     "output_type": "execute_result"
    }
   ],
   "source": [
    "pwd"
   ]
  },
  {
   "cell_type": "code",
   "execution_count": 4,
   "metadata": {},
   "outputs": [
    {
     "name": "stdout",
     "output_type": "stream",
     "text": [
      "Collecting git+https://github.com/fabriziocosta/EDeN.git\n",
      "  Cloning https://github.com/fabriziocosta/EDeN.git to c:\\users\\cs843\\appdata\\local\\temp\\pip-req-build-a6x3h7o6\n",
      "  Resolved https://github.com/fabriziocosta/EDeN.git to commit 1ccf3e477908151848b623424f79502e8b7ec9af\n",
      "  Preparing metadata (setup.py): started\n",
      "  Preparing metadata (setup.py): finished with status 'done'\n",
      "Requirement already satisfied: dill in c:\\users\\cs843\\appdata\\local\\programs\\python\\python310\\lib\\site-packages (from eden-kernel==0.0.0) (0.3.6)\n",
      "Requirement already satisfied: future in c:\\users\\cs843\\appdata\\local\\programs\\python\\python310\\lib\\site-packages (from eden-kernel==0.0.0) (0.18.2)\n",
      "Requirement already satisfied: joblib in c:\\users\\cs843\\appdata\\local\\programs\\python\\python310\\lib\\site-packages (from eden-kernel==0.0.0) (1.1.0)\n",
      "Requirement already satisfied: toolz in c:\\users\\cs843\\appdata\\local\\programs\\python\\python310\\lib\\site-packages (from eden-kernel==0.0.0) (0.12.0)\n",
      "Requirement already satisfied: matplotlib in c:\\users\\cs843\\appdata\\local\\programs\\python\\python310\\lib\\site-packages (from eden-kernel==0.0.0) (3.6.2)\n",
      "Requirement already satisfied: networkx>=2.0 in c:\\users\\cs843\\appdata\\local\\programs\\python\\python310\\lib\\site-packages (from eden-kernel==0.0.0) (2.8.8)\n",
      "Requirement already satisfied: numpy>=1.10.4 in c:\\users\\cs843\\appdata\\local\\programs\\python\\python310\\lib\\site-packages (from eden-kernel==0.0.0) (1.23.5)\n",
      "Requirement already satisfied: requests in c:\\users\\cs843\\appdata\\local\\programs\\python\\python310\\lib\\site-packages (from eden-kernel==0.0.0) (2.28.1)\n",
      "Requirement already satisfied: scikit-learn>=0.18.2 in c:\\users\\cs843\\appdata\\local\\programs\\python\\python310\\lib\\site-packages (from eden-kernel==0.0.0) (1.1.1)\n",
      "Requirement already satisfied: scipy>=0.14.0 in c:\\users\\cs843\\appdata\\local\\programs\\python\\python310\\lib\\site-packages (from eden-kernel==0.0.0) (1.9.0)\n",
      "Requirement already satisfied: threadpoolctl>=2.0.0 in c:\\users\\cs843\\appdata\\local\\programs\\python\\python310\\lib\\site-packages (from scikit-learn>=0.18.2->eden-kernel==0.0.0) (3.1.0)\n",
      "Requirement already satisfied: kiwisolver>=1.0.1 in c:\\users\\cs843\\appdata\\local\\programs\\python\\python310\\lib\\site-packages (from matplotlib->eden-kernel==0.0.0) (1.4.4)\n",
      "Requirement already satisfied: pillow>=6.2.0 in c:\\users\\cs843\\appdata\\local\\programs\\python\\python310\\lib\\site-packages (from matplotlib->eden-kernel==0.0.0) (9.2.0)\n",
      "Requirement already satisfied: python-dateutil>=2.7 in c:\\users\\cs843\\appdata\\local\\programs\\python\\python310\\lib\\site-packages (from matplotlib->eden-kernel==0.0.0) (2.8.2)\n",
      "Requirement already satisfied: packaging>=20.0 in c:\\users\\cs843\\appdata\\local\\programs\\python\\python310\\lib\\site-packages (from matplotlib->eden-kernel==0.0.0) (21.3)\n",
      "Requirement already satisfied: contourpy>=1.0.1 in c:\\users\\cs843\\appdata\\local\\programs\\python\\python310\\lib\\site-packages (from matplotlib->eden-kernel==0.0.0) (1.0.5)\n",
      "Requirement already satisfied: cycler>=0.10 in c:\\users\\cs843\\appdata\\local\\programs\\python\\python310\\lib\\site-packages (from matplotlib->eden-kernel==0.0.0) (0.11.0)\n",
      "Requirement already satisfied: fonttools>=4.22.0 in c:\\users\\cs843\\appdata\\local\\programs\\python\\python310\\lib\\site-packages (from matplotlib->eden-kernel==0.0.0) (4.37.4)\n",
      "Requirement already satisfied: pyparsing>=2.2.1 in c:\\users\\cs843\\appdata\\local\\programs\\python\\python310\\lib\\site-packages (from matplotlib->eden-kernel==0.0.0) (3.0.9)\n",
      "Requirement already satisfied: idna<4,>=2.5 in c:\\users\\cs843\\appdata\\local\\programs\\python\\python310\\lib\\site-packages (from requests->eden-kernel==0.0.0) (3.3)\n",
      "Requirement already satisfied: certifi>=2017.4.17 in c:\\users\\cs843\\appdata\\local\\programs\\python\\python310\\lib\\site-packages (from requests->eden-kernel==0.0.0) (2022.6.15)\n",
      "Requirement already satisfied: urllib3<1.27,>=1.21.1 in c:\\users\\cs843\\appdata\\local\\programs\\python\\python310\\lib\\site-packages (from requests->eden-kernel==0.0.0) (1.26.13)\n",
      "Requirement already satisfied: charset-normalizer<3,>=2 in c:\\users\\cs843\\appdata\\local\\programs\\python\\python310\\lib\\site-packages (from requests->eden-kernel==0.0.0) (2.1.0)\n",
      "Requirement already satisfied: six>=1.5 in c:\\users\\cs843\\appdata\\local\\programs\\python\\python310\\lib\\site-packages (from python-dateutil>=2.7->matplotlib->eden-kernel==0.0.0) (1.16.0)\n"
     ]
    },
    {
     "name": "stderr",
     "output_type": "stream",
     "text": [
      "  Running command git clone --filter=blob:none --quiet https://github.com/fabriziocosta/EDeN.git 'C:\\Users\\cs843\\AppData\\Local\\Temp\\pip-req-build-a6x3h7o6'\n"
     ]
    }
   ],
   "source": []
  },
  {
   "cell_type": "code",
   "execution_count": null,
   "metadata": {},
   "outputs": [],
   "source": []
  },
  {
   "cell_type": "code",
   "execution_count": null,
   "metadata": {},
   "outputs": [],
   "source": []
  }
 ],
 "metadata": {
  "kernelspec": {
   "display_name": "Python 3",
   "language": "python",
   "name": "python3"
  },
  "language_info": {
   "codemirror_mode": {
    "name": "ipython",
    "version": 3
   },
   "file_extension": ".py",
   "mimetype": "text/x-python",
   "name": "python",
   "nbconvert_exporter": "python",
   "pygments_lexer": "ipython3",
   "version": "3.10.5"
  },
  "orig_nbformat": 4
 },
 "nbformat": 4,
 "nbformat_minor": 2
}
