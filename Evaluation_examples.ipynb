{
 "cells": [
  {
   "cell_type": "code",
   "execution_count": 5,
   "id": "09d37d22",
   "metadata": {},
   "outputs": [],
   "source": [
    "%load_ext autoreload\n",
    "%autoreload 2"
   ]
  },
  {
   "cell_type": "code",
   "execution_count": null,
   "id": "2eaf58bb",
   "metadata": {},
   "outputs": [],
   "source": [
    "!pip install tensorflow-gan\n",
    "! pip install tensorflow-probability"
   ]
  },
  {
   "cell_type": "code",
   "execution_count": 6,
   "id": "82bc296d",
   "metadata": {},
   "outputs": [
    {
     "name": "stderr",
     "output_type": "stream",
     "text": [
      "c:\\Users\\cs843\\AppData\\Local\\Programs\\Python\\Python310\\lib\\site-packages\\dgl\\heterograph.py:72: DGLWarning: Recommend creating graphs by `dgl.graph(data)` instead of `dgl.DGLGraph(data)`.\n",
      "  dgl_warning('Recommend creating graphs by `dgl.graph(data)`'\n"
     ]
    }
   ],
   "source": [
    "# Generate graphs for demonstration purposes\n",
    "import utils.graph_generators as gen\n",
    "import torch\n",
    "import dgl\n",
    "\n",
    "grids = gen.make_grid_graphs()\n",
    "lobsters = gen.make_lobster_graphs()\n",
    "\n",
    "device = torch.device('cuda') if torch.cuda.is_available() else torch.device('cpu')\n",
    "grids = [dgl.DGLGraph(g).to(device) for g in grids] # Convert graphs to DGL from NetworkX\n",
    "lobsters = [dgl.DGLGraph(g).to(device) for g in lobsters] # Convert graphs to DGL from NetworkX"
   ]
  },
  {
   "cell_type": "code",
   "execution_count": 3,
   "id": "fb307a9a",
   "metadata": {},
   "outputs": [],
   "source": [
    "b=gen.load_proteins()"
   ]
  },
  {
   "cell_type": "code",
   "execution_count": 10,
   "id": "9ab42988",
   "metadata": {},
   "outputs": [
    {
     "data": {
      "text/plain": [
       "NodeDataView({1: {'label': 4}, 2: {'label': 2}, 3: {'label': 10}, 4: {'label': 4}, 5: {'label': 20}, 6: {'label': 19}, 7: {'label': 17}, 8: {'label': 11}, 9: {'label': 6}, 10: {'label': 11}, 11: {'label': 11}, 12: {'label': 13}, 13: {'label': 7}, 14: {'label': 4}, 15: {'label': 4}, 16: {'label': 2}, 17: {'label': 11}, 18: {'label': 18}, 19: {'label': 17}, 20: {'label': 9}, 21: {'label': 11}, 22: {'label': 8}, 23: {'label': 6}, 24: {'label': 1}, 25: {'label': 7}, 26: {'label': 17}, 27: {'label': 1}, 28: {'label': 15}, 29: {'label': 16}, 30: {'label': 16}, 31: {'label': 8}, 32: {'label': 2}, 33: {'label': 16}, 34: {'label': 6}, 35: {'label': 6}, 36: {'label': 2}, 37: {'label': 7}, 38: {'label': 8}, 39: {'label': 11}, 40: {'label': 11}, 41: {'label': 15}, 42: {'label': 10}, 43: {'label': 11}, 44: {'label': 9}, 45: {'label': 16}, 46: {'label': 15}, 47: {'label': 4}, 48: {'label': 12}, 49: {'label': 7}, 50: {'label': 4}, 51: {'label': 16}, 52: {'label': 11}, 53: {'label': 6}, 54: {'label': 15}, 55: {'label': 17}, 56: {'label': 11}, 57: {'label': 12}, 58: {'label': 16}, 59: {'label': 9}, 60: {'label': 14}, 61: {'label': 20}, 62: {'label': 6}, 63: {'label': 8}, 64: {'label': 17}, 65: {'label': 11}, 66: {'label': 13}, 67: {'label': 18}, 68: {'label': 12}, 69: {'label': 2}, 70: {'label': 7}, 71: {'label': 2}, 72: {'label': 18}, 73: {'label': 8}, 74: {'label': 10}, 75: {'label': 6}, 76: {'label': 2}, 77: {'label': 7}, 78: {'label': 11}, 79: {'label': 11}, 80: {'label': 8}, 81: {'label': 11}, 82: {'label': 7}, 83: {'label': 20}, 84: {'label': 18}, 85: {'label': 2}, 86: {'label': 15}, 87: {'label': 20}, 88: {'label': 6}, 89: {'label': 1}, 90: {'label': 13}, 91: {'label': 1}, 92: {'label': 8}, 93: {'label': 20}, 94: {'label': 7}, 95: {'label': 8}, 96: {'label': 16}, 97: {'label': 7}, 98: {'label': 16}, 99: {'label': 20}, 100: {'label': 20}, 101: {'label': 14}, 102: {'label': 7}, 103: {'label': 16}, 104: {'label': 20}, 105: {'label': 11}, 106: {'label': 6}, 107: {'label': 20}, 108: {'label': 20}, 109: {'label': 18}, 110: {'label': 3}, 111: {'label': 8}, 112: {'label': 15}, 113: {'label': 12}, 114: {'label': 4}, 115: {'label': 11}, 116: {'label': 1}, 117: {'label': 1}, 118: {'label': 15}, 119: {'label': 10}, 120: {'label': 20}, 121: {'label': 20}, 122: {'label': 8}, 123: {'label': 4}, 124: {'label': 2}, 125: {'label': 10}, 126: {'label': 18}, 127: {'label': 20}, 128: {'label': 1}, 129: {'label': 8}, 130: {'label': 1}, 131: {'label': 16}, 132: {'label': 4}, 133: {'label': 11}, 134: {'label': 14}, 135: {'label': 7}, 136: {'label': 11}, 137: {'label': 1}, 138: {'label': 7}, 139: {'label': 11}, 140: {'label': 6}, 141: {'label': 1}, 142: {'label': 11}, 143: {'label': 9}, 144: {'label': 12}, 145: {'label': 14}, 146: {'label': 11}, 147: {'label': 16}, 148: {'label': 7}, 149: {'label': 8}, 150: {'label': 1}, 151: {'label': 7}, 152: {'label': 6}, 153: {'label': 2}, 154: {'label': 8}, 155: {'label': 1}, 156: {'label': 1}, 157: {'label': 1}, 158: {'label': 10}, 159: {'label': 4}, 160: {'label': 17}, 161: {'label': 13}, 162: {'label': 9}, 163: {'label': 19}, 164: {'label': 7}, 165: {'label': 7}, 166: {'label': 1}, 167: {'label': 4}, 168: {'label': 11}, 169: {'label': 7}, 170: {'label': 20}, 171: {'label': 16}, 172: {'label': 2}, 173: {'label': 1}, 174: {'label': 1}, 175: {'label': 8}, 176: {'label': 11}, 177: {'label': 11}, 178: {'label': 2}, 179: {'label': 11}, 180: {'label': 19}, 181: {'label': 15}, 182: {'label': 16}, 183: {'label': 11}, 184: {'label': 17}, 185: {'label': 1}, 186: {'label': 6}, 187: {'label': 8}, 188: {'label': 14}, 189: {'label': 4}, 190: {'label': 10}, 191: {'label': 8}, 192: {'label': 16}, 193: {'label': 16}, 194: {'label': 15}, 195: {'label': 11}, 196: {'label': 12}, 197: {'label': 9}, 198: {'label': 17}, 199: {'label': 11}, 200: {'label': 11}, 201: {'label': 4}, 202: {'label': 6}, 203: {'label': 16}, 204: {'label': 8}, 205: {'label': 2}, 206: {'label': 2}, 207: {'label': 20}, 208: {'label': 6}, 209: {'label': 3}, 210: {'label': 4}, 211: {'label': 9}, 212: {'label': 4}, 213: {'label': 14}, 214: {'label': 2}, 215: {'label': 11}, 216: {'label': 14}, 217: {'label': 20}, 218: {'label': 9}, 219: {'label': 1}, 220: {'label': 4}, 221: {'label': 9}, 222: {'label': 7}, 223: {'label': 6}, 224: {'label': 20}, 225: {'label': 16}, 226: {'label': 20}, 227: {'label': 8}, 228: {'label': 10}, 229: {'label': 11}, 230: {'label': 12}, 231: {'label': 9}, 232: {'label': 2}, 233: {'label': 8}, 234: {'label': 9}, 235: {'label': 11}, 236: {'label': 2}, 237: {'label': 11}, 238: {'label': 15}, 239: {'label': 6}, 240: {'label': 4}, 241: {'label': 6}, 242: {'label': 13}, 243: {'label': 8}, 244: {'label': 8}, 245: {'label': 15}, 246: {'label': 4}, 247: {'label': 4}, 248: {'label': 11}, 249: {'label': 12}, 250: {'label': 10}, 251: {'label': 1}, 252: {'label': 8}, 253: {'label': 6}, 254: {'label': 18}, 255: {'label': 10}, 256: {'label': 20}, 257: {'label': 1}, 258: {'label': 17}, 259: {'label': 7}, 260: {'label': 3}, 261: {'label': 15}, 262: {'label': 6}, 263: {'label': 12}, 264: {'label': 20}, 265: {'label': 16}, 266: {'label': 15}, 267: {'label': 11}, 268: {'label': 18}, 269: {'label': 8}, 270: {'label': 10}, 271: {'label': 11}, 272: {'label': 7}, 273: {'label': 8}, 274: {'label': 11}, 275: {'label': 17}, 276: {'label': 16}, 277: {'label': 12}, 278: {'label': 14}, 279: {'label': 16}, 280: {'label': 17}, 281: {'label': 8}, 282: {'label': 20}, 283: {'label': 9}, 284: {'label': 4}, 285: {'label': 8}, 286: {'label': 11}, 287: {'label': 2}, 288: {'label': 16}, 289: {'label': 14}, 290: {'label': 7}, 291: {'label': 12}, 292: {'label': 8}, 293: {'label': 4}, 294: {'label': 2}, 295: {'label': 7}, 296: {'label': 1}, 297: {'label': 7}, 298: {'label': 1}, 299: {'label': 12}, 300: {'label': 1}, 301: {'label': 19}, 302: {'label': 10}, 303: {'label': 10}, 304: {'label': 11}, 305: {'label': 4}, 306: {'label': 15}, 307: {'label': 1}, 308: {'label': 12}, 309: {'label': 1}, 310: {'label': 1}, 311: {'label': 11}, 312: {'label': 6}, 313: {'label': 20}, 314: {'label': 12}, 315: {'label': 20}, 316: {'label': 1}, 317: {'label': 19}, 318: {'label': 8}, 319: {'label': 1}, 320: {'label': 4}, 321: {'label': 20}, 322: {'label': 10}, 323: {'label': 14}, 324: {'label': 8}, 325: {'label': 9}, 326: {'label': 16}, 327: {'label': 4}})"
      ]
     },
     "execution_count": 10,
     "metadata": {},
     "output_type": "execute_result"
    }
   ],
   "source": [
    "b[0].nodes(data=True)"
   ]
  },
  {
   "cell_type": "code",
   "execution_count": 1,
   "id": "4e01c2ea",
   "metadata": {},
   "outputs": [
    {
     "ename": "NameError",
     "evalue": "name 'device' is not defined",
     "output_type": "error",
     "traceback": [
      "\u001b[1;31m---------------------------------------------------------------------------\u001b[0m",
      "\u001b[1;31mNameError\u001b[0m                                 Traceback (most recent call last)",
      "\u001b[1;32mc:\\Users\\cs843\\Documents\\PhD\\2023\\February\\GGM-metrics\\Evaluation_examples.ipynb Cell 6\u001b[0m in \u001b[0;36m<cell line: 3>\u001b[1;34m()\u001b[0m\n\u001b[0;32m      <a href='vscode-notebook-cell:/c%3A/Users/cs843/Documents/PhD/2023/February/GGM-metrics/Evaluation_examples.ipynb#W5sZmlsZQ%3D%3D?line=0'>1</a>\u001b[0m \u001b[39m# Compute all GNN-based metrics at once\u001b[39;00m\n\u001b[0;32m      <a href='vscode-notebook-cell:/c%3A/Users/cs843/Documents/PhD/2023/February/GGM-metrics/Evaluation_examples.ipynb#W5sZmlsZQ%3D%3D?line=1'>2</a>\u001b[0m \u001b[39mfrom\u001b[39;00m \u001b[39mevaluation\u001b[39;00m\u001b[39m.\u001b[39;00m\u001b[39mevaluator\u001b[39;00m \u001b[39mimport\u001b[39;00m Evaluator\n\u001b[1;32m----> <a href='vscode-notebook-cell:/c%3A/Users/cs843/Documents/PhD/2023/February/GGM-metrics/Evaluation_examples.ipynb#W5sZmlsZQ%3D%3D?line=2'>3</a>\u001b[0m evaluator \u001b[39m=\u001b[39m Evaluator(device\u001b[39m=\u001b[39mdevice)\n\u001b[0;32m      <a href='vscode-notebook-cell:/c%3A/Users/cs843/Documents/PhD/2023/February/GGM-metrics/Evaluation_examples.ipynb#W5sZmlsZQ%3D%3D?line=3'>4</a>\u001b[0m evaluator\u001b[39m.\u001b[39mevaluate_all(generated_dataset\u001b[39m=\u001b[39mgrids, reference_dataset\u001b[39m=\u001b[39mlobsters)\n",
      "\u001b[1;31mNameError\u001b[0m: name 'device' is not defined"
     ]
    }
   ],
   "source": [
    "# Compute all GNN-based metrics at once\n",
    "from evaluation.evaluator import Evaluator\n",
    "evaluator = Evaluator(device=device)\n",
    "evaluator.evaluate_all(generated_dataset=grids, reference_dataset=lobsters)"
   ]
  },
  {
   "cell_type": "code",
   "execution_count": 13,
   "id": "4018835c",
   "metadata": {},
   "outputs": [
    {
     "name": "stdout",
     "output_type": "stream",
     "text": [
      "orthogonal\n",
      "result: {'mmd_rbf': 1.3096486032009125}, time to compute: 0.084s\n"
     ]
    }
   ],
   "source": [
    "# Alternatively, compute a single GNN-based metric. See evaluation/gin_evaluation.py for other metrics.\n",
    "from evaluation.gin_evaluation import load_feature_extractor, MMDEvaluation\n",
    "\n",
    "# Can tweak GIN hyperparameters, however defaults are set to our recommendations\n",
    "gin = load_feature_extractor(device=device)\n",
    "# Can tweak hyperparameters of MMD RBF, however defaults are set to our recommendations\n",
    "mmd_eval = MMDEvaluation(gin)\n",
    "result, time = mmd_eval.evaluate(generated_dataset=grids, reference_dataset=lobsters)\n",
    "print('result: {}, time to compute: {:.3f}s'.format(result, time))"
   ]
  },
  {
   "cell_type": "code",
   "execution_count": 14,
   "id": "f9541366",
   "metadata": {},
   "outputs": [
    {
     "name": "stdout",
     "output_type": "stream",
     "text": [
      "orthogonal\n",
      "result: {'mmd_rbf': 0.9569450616836548}, time to compute: 0.100s\n"
     ]
    }
   ],
   "source": [
    "# Evaluation incorporating custom node/edge features.\n",
    "# If no node features are provided, the default is degree features\n",
    "# expressed as an integer.\n",
    "\n",
    "node_feat_loc = 'feat'\n",
    "edge_feat_loc = 'feat'\n",
    "node_feat_dim = 10\n",
    "edge_feat_dim = 5\n",
    "\n",
    "# Create random node/edge features\n",
    "for g in grids:\n",
    "    num_nodes = g.number_of_nodes()\n",
    "    g.ndata[node_feat_loc] = torch.randn(num_nodes, node_feat_dim).to(g.device)\n",
    "    num_edges = g.number_of_edges()\n",
    "    g.edata[edge_feat_loc] = torch.randn(num_edges, edge_feat_dim).to(g.device)\n",
    "    \n",
    "for g in lobsters:\n",
    "    num_nodes = g.number_of_nodes()\n",
    "    g.ndata[node_feat_loc] = torch.randn(num_nodes, node_feat_dim).to(g.device)\n",
    "    num_edges = g.number_of_edges()\n",
    "    g.edata[edge_feat_loc] = torch.randn(num_edges, edge_feat_dim).to(g.device)\n",
    "\n",
    "# Load GIN\n",
    "gin = load_feature_extractor(\n",
    "    device=device, input_dim=node_feat_dim, edge_feat_dim=edge_feat_dim,\n",
    "    node_feat_loc=node_feat_loc, edge_feat_loc=edge_feat_loc)\n",
    "\n",
    "mmd_eval = MMDEvaluation(gin)\n",
    "result, time = mmd_eval.evaluate(generated_dataset=lobsters, reference_dataset=grids)\n",
    "print('result: {}, time to compute: {:.3f}s'.format(result, time))"
   ]
  },
  {
   "cell_type": "code",
   "execution_count": 15,
   "id": "e4143dbb",
   "metadata": {},
   "outputs": [
    {
     "name": "stdout",
     "output_type": "stream",
     "text": [
      "MMD RBF for grids with itself: 0\n",
      "MMD RBF after altering node/edge feat. distributions: 0.03214991092681885\n"
     ]
    }
   ],
   "source": [
    "# To quickly demonstrate sensitivity to node/edge features, let's create\n",
    "# a copy of the grid graphs and slightly alter the node/edge feat distributions\n",
    "import copy\n",
    "\n",
    "result, time = mmd_eval.evaluate(generated_dataset=grids, reference_dataset=grids)\n",
    "print('MMD RBF for grids with itself: {}'.format(result['mmd_rbf']))\n",
    "\n",
    "grids_copy = [copy.deepcopy(g) for g in grids]\n",
    "for g in grids_copy:\n",
    "    g.ndata[node_feat_loc] *= 1.15\n",
    "    g.edata[edge_feat_loc] *= 1.15\n",
    "    \n",
    "result, time = mmd_eval.evaluate(reference_dataset=grids, generated_dataset=grids_copy)\n",
    "print('MMD RBF after altering node/edge feat. distributions: {}'.format(result['mmd_rbf']))"
   ]
  },
  {
   "cell_type": "code",
   "execution_count": null,
   "id": "b331942a",
   "metadata": {},
   "outputs": [],
   "source": []
  }
 ],
 "metadata": {
  "kernelspec": {
   "display_name": "Python 3",
   "language": "python",
   "name": "python3"
  },
  "language_info": {
   "codemirror_mode": {
    "name": "ipython",
    "version": 3
   },
   "file_extension": ".py",
   "mimetype": "text/x-python",
   "name": "python",
   "nbconvert_exporter": "python",
   "pygments_lexer": "ipython3",
   "version": "3.10.5"
  },
  "vscode": {
   "interpreter": {
    "hash": "06a8be8316eed2f6558da5cb68a9abde15f0a0ec61139bf81bc916fa7c6839e3"
   }
  }
 },
 "nbformat": 4,
 "nbformat_minor": 5
}
