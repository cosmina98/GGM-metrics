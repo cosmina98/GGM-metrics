{
 "cells": [
  {
   "cell_type": "code",
   "execution_count": 1,
   "id": "82bc296d",
   "metadata": {},
   "outputs": [
    {
     "name": "stderr",
     "output_type": "stream",
     "text": [
      "c:\\Users\\cs843\\AppData\\Local\\Programs\\Python\\Python310\\lib\\site-packages\\dgl\\heterograph.py:72: DGLWarning: Recommend creating graphs by `dgl.graph(data)` instead of `dgl.DGLGraph(data)`.\n",
      "  dgl_warning('Recommend creating graphs by `dgl.graph(data)`'\n"
     ]
    }
   ],
   "source": [
    "# Generate graphs for demonstration purposes\n",
    "import utils.graph_generators as gen\n",
    "import torch\n",
    "import dgl\n",
    "\n",
    "grids = gen.make_grid_graphs()\n",
    "lobsters = gen.make_lobster_graphs()\n",
    "\n",
    "device = torch.device('cuda') if torch.cuda.is_available() else torch.device('cpu')\n",
    "grids = [dgl.DGLGraph(g).to(device) for g in grids] # Convert graphs to DGL from NetworkX\n",
    "lobsters = [dgl.DGLGraph(g).to(device) for g in lobsters] # Convert graphs to DGL from NetworkX"
   ]
  },
  {
   "cell_type": "code",
   "execution_count": 2,
   "id": "4e01c2ea",
   "metadata": {},
   "outputs": [
    {
     "name": "stdout",
     "output_type": "stream",
     "text": [
      "WARNING:tensorflow:From c:\\Users\\cs843\\AppData\\Local\\Programs\\Python\\Python310\\lib\\site-packages\\tensorflow_gan\\python\\estimator\\tpu_gan_estimator.py:42: The name tf.estimator.tpu.TPUEstimator is deprecated. Please use tf.compat.v1.estimator.tpu.TPUEstimator instead.\n",
      "\n",
      "WARNING:tensorflow:From c:\\Users\\cs843\\AppData\\Local\\Programs\\Python\\Python310\\lib\\site-packages\\tensorflow_gan\\python\\eval\\classifier_metrics.py:1157: calling map_fn_v2 (from tensorflow.python.ops.map_fn) with back_prop=False is deprecated and will be removed in a future version.\n",
      "Instructions for updating:\n",
      "back_prop=False is deprecated. Consider using tf.stop_gradient instead.\n",
      "Instead of:\n",
      "results = tf.map_fn(fn, elems, back_prop=False)\n",
      "Use:\n",
      "results = tf.nest.map_structure(tf.stop_gradient, tf.map_fn(fn, elems))\n"
     ]
    },
    {
     "data": {
      "text/plain": [
       "{'activations_time': 0.09900069236755371,\n",
       " 'fid': 5126.874207380354,\n",
       " 'fid_time': 0.10399937629699707,\n",
       " 'kid': 613081.2,\n",
       " 'kid_time': 8.362998247146606,\n",
       " 'precision': 0.0,\n",
       " 'recall': 0.0,\n",
       " 'f1_pr': 1e-05,\n",
       " 'precision_time': 0.12754583358764648,\n",
       " 'recall_time': 0.12754583358764648,\n",
       " 'f1_pr_time': 0.12754583358764648,\n",
       " 'density': 0.0,\n",
       " 'coverage': 0.0,\n",
       " 'f1_dc': 1e-05,\n",
       " 'density_time': 0.1172800064086914,\n",
       " 'coverage_time': 0.1172800064086914,\n",
       " 'f1_dc_time': 0.1172800064086914,\n",
       " 'mmd_rbf': 1.3138309940695763,\n",
       " 'mmd_rbf_time': 0.1250011920928955,\n",
       " 'mmd_linear': 4773.8984,\n",
       " 'mmd_linear_time': 0.09900069236755371}"
      ]
     },
     "execution_count": 2,
     "metadata": {},
     "output_type": "execute_result"
    }
   ],
   "source": [
    "# Compute all GNN-based metrics at once\n",
    "from evaluation.evaluator import Evaluator\n",
    "evaluator = Evaluator(device=device)\n",
    "evaluator.evaluate_all(generated_dataset=grids, reference_dataset=lobsters)"
   ]
  },
  {
   "cell_type": "code",
   "execution_count": 3,
   "id": "4018835c",
   "metadata": {},
   "outputs": [
    {
     "name": "stdout",
     "output_type": "stream",
     "text": [
      "result: {'mmd_rbf': 1.3007222935557365}, time to compute: 0.115s\n"
     ]
    }
   ],
   "source": [
    "# Alternatively, compute a single GNN-based metric. See evaluation/gin_evaluation.py for other metrics.\n",
    "from evaluation.gin_evaluation import load_feature_extractor, MMDEvaluation\n",
    "\n",
    "# Can tweak GIN hyperparameters, however defaults are set to our recommendations\n",
    "gin = load_feature_extractor(device=device)\n",
    "# Can tweak hyperparameters of MMD RBF, however defaults are set to our recommendations\n",
    "mmd_eval = MMDEvaluation(gin)\n",
    "result, time = mmd_eval.evaluate(generated_dataset=grids, reference_dataset=lobsters)\n",
    "print('result: {}, time to compute: {:.3f}s'.format(result, time))"
   ]
  },
  {
   "cell_type": "code",
   "execution_count": 4,
   "id": "f9541366",
   "metadata": {},
   "outputs": [
    {
     "name": "stdout",
     "output_type": "stream",
     "text": [
      "result: {'mmd_rbf': 1.0303107798099518}, time to compute: 0.170s\n"
     ]
    }
   ],
   "source": [
    "# Evaluation incorporating custom node/edge features.\n",
    "# If no node features are provided, the default is degree features\n",
    "# expressed as an integer.\n",
    "\n",
    "node_feat_loc = 'attr'\n",
    "edge_feat_loc = 'attr'\n",
    "node_feat_dim = 10\n",
    "edge_feat_dim = 5\n",
    "\n",
    "# Create random node/edge features\n",
    "for g in grids:\n",
    "    num_nodes = g.number_of_nodes()\n",
    "    g.ndata[node_feat_loc] = torch.randn(num_nodes, node_feat_dim).to(g.device)\n",
    "    num_edges = g.number_of_edges()\n",
    "    g.edata[edge_feat_loc] = torch.randn(num_edges, edge_feat_dim).to(g.device)\n",
    "    \n",
    "for g in lobsters:\n",
    "    num_nodes = g.number_of_nodes()\n",
    "    g.ndata[node_feat_loc] = torch.randn(num_nodes, node_feat_dim).to(g.device)\n",
    "    num_edges = g.number_of_edges()\n",
    "    g.edata[edge_feat_loc] = torch.randn(num_edges, edge_feat_dim).to(g.device)\n",
    "\n",
    "# Load GIN\n",
    "gin = load_feature_extractor(\n",
    "    device=device, input_dim=node_feat_dim, edge_feat_dim=edge_feat_dim,\n",
    "    node_feat_loc=node_feat_loc, edge_feat_loc=edge_feat_loc)\n",
    "\n",
    "mmd_eval = MMDEvaluation(gin)\n",
    "result, time = mmd_eval.evaluate(generated_dataset=lobsters, reference_dataset=grids)\n",
    "print('result: {}, time to compute: {:.3f}s'.format(result, time))"
   ]
  },
  {
   "cell_type": "code",
   "execution_count": 5,
   "id": "e4143dbb",
   "metadata": {},
   "outputs": [
    {
     "name": "stdout",
     "output_type": "stream",
     "text": [
      "MMD RBF for grids with itself: 0\n",
      "MMD RBF after altering node/edge feat. distributions: 0.033437252044677734\n"
     ]
    }
   ],
   "source": [
    "# To quickly demonstrate sensitivity to node/edge features, let's create\n",
    "# a copy of the grid graphs and slightly alter the node/edge feat distributions\n",
    "import copy\n",
    "\n",
    "result, time = mmd_eval.evaluate(generated_dataset=grids, reference_dataset=grids)\n",
    "print('MMD RBF for grids with itself: {}'.format(result['mmd_rbf']))\n",
    "\n",
    "grids_copy = [copy.deepcopy(g) for g in grids]\n",
    "for g in grids_copy:\n",
    "    g.ndata[node_feat_loc] *= 1.15\n",
    "    g.edata[edge_feat_loc] *= 1.15\n",
    "    \n",
    "result, time = mmd_eval.evaluate(reference_dataset=grids, generated_dataset=grids_copy)\n",
    "print('MMD RBF after altering node/edge feat. distributions: {}'.format(result['mmd_rbf']))"
   ]
  },
  {
   "cell_type": "code",
   "execution_count": null,
   "id": "b331942a",
   "metadata": {},
   "outputs": [],
   "source": []
  }
 ],
 "metadata": {
  "kernelspec": {
   "display_name": "Python 3",
   "language": "python",
   "name": "python3"
  },
  "language_info": {
   "codemirror_mode": {
    "name": "ipython",
    "version": 3
   },
   "file_extension": ".py",
   "mimetype": "text/x-python",
   "name": "python",
   "nbconvert_exporter": "python",
   "pygments_lexer": "ipython3",
   "version": "3.10.5"
  }
 },
 "nbformat": 4,
 "nbformat_minor": 5
}
