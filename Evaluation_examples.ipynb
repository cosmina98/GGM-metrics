{
 "cells": [
  {
   "cell_type": "code",
   "execution_count": 1,
   "id": "09d37d22",
   "metadata": {},
   "outputs": [],
   "source": [
    "%load_ext autoreload\n",
    "%autoreload 2"
   ]
  },
  {
   "cell_type": "code",
   "execution_count": 11,
   "id": "2eaf58bb",
   "metadata": {},
   "outputs": [
    {
     "name": "stdout",
     "output_type": "stream",
     "text": [
      "Collecting tensorflow-gan\n",
      "  Downloading tensorflow_gan-2.1.0-py2.py3-none-any.whl (367 kB)\n",
      "     -------------------------------------- 367.1/367.1 kB 7.6 MB/s eta 0:00:00\n",
      "Collecting tensorflow-hub>=0.2\n",
      "  Downloading tensorflow_hub-0.12.0-py2.py3-none-any.whl (108 kB)\n",
      "     -------------------------------------- 108.8/108.8 kB 6.2 MB/s eta 0:00:00\n",
      "Collecting tensorflow-probability>=0.7\n",
      "  Downloading tensorflow_probability-0.19.0-py2.py3-none-any.whl (6.7 MB)\n",
      "     ---------------------------------------- 6.7/6.7 MB 10.2 MB/s eta 0:00:00\n",
      "Requirement already satisfied: protobuf>=3.8.0 in c:\\users\\cs843\\appdata\\local\\programs\\python\\python310\\lib\\site-packages (from tensorflow-hub>=0.2->tensorflow-gan) (3.19.6)\n",
      "Requirement already satisfied: numpy>=1.12.0 in c:\\users\\cs843\\appdata\\local\\programs\\python\\python310\\lib\\site-packages (from tensorflow-hub>=0.2->tensorflow-gan) (1.23.5)\n",
      "Requirement already satisfied: absl-py in c:\\users\\cs843\\appdata\\local\\programs\\python\\python310\\lib\\site-packages (from tensorflow-probability>=0.7->tensorflow-gan) (1.3.0)\n",
      "Requirement already satisfied: six>=1.10.0 in c:\\users\\cs843\\appdata\\local\\programs\\python\\python310\\lib\\site-packages (from tensorflow-probability>=0.7->tensorflow-gan) (1.16.0)\n",
      "Requirement already satisfied: decorator in c:\\users\\cs843\\appdata\\local\\programs\\python\\python310\\lib\\site-packages (from tensorflow-probability>=0.7->tensorflow-gan) (4.4.2)\n",
      "Requirement already satisfied: cloudpickle>=1.3 in c:\\users\\cs843\\appdata\\local\\programs\\python\\python310\\lib\\site-packages (from tensorflow-probability>=0.7->tensorflow-gan) (2.2.0)\n",
      "Requirement already satisfied: gast>=0.3.2 in c:\\users\\cs843\\appdata\\local\\programs\\python\\python310\\lib\\site-packages (from tensorflow-probability>=0.7->tensorflow-gan) (0.4.0)\n",
      "Collecting dm-tree\n",
      "  Downloading dm_tree-0.1.8-cp310-cp310-win_amd64.whl (101 kB)\n",
      "     -------------------------------------- 101.3/101.3 kB 5.7 MB/s eta 0:00:00\n",
      "Installing collected packages: dm-tree, tensorflow-probability, tensorflow-hub, tensorflow-gan\n",
      "Successfully installed dm-tree-0.1.8 tensorflow-gan-2.1.0 tensorflow-hub-0.12.0 tensorflow-probability-0.19.0\n",
      "Requirement already satisfied: tensorflow-probability in c:\\users\\cs843\\appdata\\local\\programs\\python\\python310\\lib\\site-packages (0.19.0)\n",
      "Requirement already satisfied: dm-tree in c:\\users\\cs843\\appdata\\local\\programs\\python\\python310\\lib\\site-packages (from tensorflow-probability) (0.1.8)\n",
      "Requirement already satisfied: cloudpickle>=1.3 in c:\\users\\cs843\\appdata\\local\\programs\\python\\python310\\lib\\site-packages (from tensorflow-probability) (2.2.0)\n",
      "Requirement already satisfied: absl-py in c:\\users\\cs843\\appdata\\local\\programs\\python\\python310\\lib\\site-packages (from tensorflow-probability) (1.3.0)\n",
      "Requirement already satisfied: numpy>=1.13.3 in c:\\users\\cs843\\appdata\\local\\programs\\python\\python310\\lib\\site-packages (from tensorflow-probability) (1.23.5)\n",
      "Requirement already satisfied: six>=1.10.0 in c:\\users\\cs843\\appdata\\local\\programs\\python\\python310\\lib\\site-packages (from tensorflow-probability) (1.16.0)\n",
      "Requirement already satisfied: gast>=0.3.2 in c:\\users\\cs843\\appdata\\local\\programs\\python\\python310\\lib\\site-packages (from tensorflow-probability) (0.4.0)\n",
      "Requirement already satisfied: decorator in c:\\users\\cs843\\appdata\\local\\programs\\python\\python310\\lib\\site-packages (from tensorflow-probability) (4.4.2)\n"
     ]
    }
   ],
   "source": [
    "!pip install tensorflow-gan\n",
    "! pip install tensorflow-probability"
   ]
  },
  {
   "cell_type": "code",
   "execution_count": 2,
   "id": "82bc296d",
   "metadata": {},
   "outputs": [],
   "source": [
    "# Generate graphs for demonstration purposes\n",
    "import utils.graph_generators as gen\n",
    "import torch\n",
    "import dgl\n",
    "\n",
    "grids = gen.make_grid_graphs()\n",
    "lobsters = gen.make_lobster_graphs()\n",
    "\n",
    "device = torch.device('cuda') if torch.cuda.is_available() else torch.device('cpu')\n",
    "grids = [dgl.DGLGraph(g).to(device) for g in grids] # Convert graphs to DGL from NetworkX\n",
    "lobsters = [dgl.DGLGraph(g).to(device) for g in lobsters] # Convert graphs to DGL from NetworkX"
   ]
  },
  {
   "cell_type": "code",
   "execution_count": null,
   "id": "fb307a9a",
   "metadata": {},
   "outputs": [],
   "source": []
  },
  {
   "cell_type": "code",
   "execution_count": 3,
   "id": "4e01c2ea",
   "metadata": {},
   "outputs": [
    {
     "name": "stdout",
     "output_type": "stream",
     "text": [
      "orthogonal\n",
      "WARNING:tensorflow:From c:\\Users\\cs843\\AppData\\Local\\Programs\\Python\\Python310\\lib\\site-packages\\tensorflow_gan\\python\\estimator\\tpu_gan_estimator.py:42: The name tf.estimator.tpu.TPUEstimator is deprecated. Please use tf.compat.v1.estimator.tpu.TPUEstimator instead.\n",
      "\n",
      "WARNING:tensorflow:From c:\\Users\\cs843\\AppData\\Local\\Programs\\Python\\Python310\\lib\\site-packages\\tensorflow_gan\\python\\eval\\classifier_metrics.py:1157: calling map_fn_v2 (from tensorflow.python.ops.map_fn) with back_prop=False is deprecated and will be removed in a future version.\n",
      "Instructions for updating:\n",
      "back_prop=False is deprecated. Consider using tf.stop_gradient instead.\n",
      "Instead of:\n",
      "results = tf.map_fn(fn, elems, back_prop=False)\n",
      "Use:\n",
      "results = tf.nest.map_structure(tf.stop_gradient, tf.map_fn(fn, elems))\n"
     ]
    },
    {
     "data": {
      "text/plain": [
       "{'activations_time': 0.07132959365844727,\n",
       " 'fid': 6168.4258472316,\n",
       " 'fid_time': 0.07732033729553223,\n",
       " 'kid': 1059663.1,\n",
       " 'kid_time': 10.806140184402466,\n",
       " 'precision': 0.0,\n",
       " 'recall': 0.0,\n",
       " 'f1_pr': 1e-05,\n",
       " 'precision_time': 0.09810519218444824,\n",
       " 'recall_time': 0.09810519218444824,\n",
       " 'f1_pr_time': 0.09810519218444824,\n",
       " 'density': 0.0,\n",
       " 'coverage': 0.0,\n",
       " 'f1_dc': 1e-05,\n",
       " 'density_time': 0.08915305137634277,\n",
       " 'coverage_time': 0.08915305137634277,\n",
       " 'f1_dc_time': 0.08915305137634277,\n",
       " 'mmd_rbf': 1.3175783678889275,\n",
       " 'mmd_rbf_time': 0.09559774398803711,\n",
       " 'mmd_linear': 5732.88,\n",
       " 'mmd_linear_time': 0.07132959365844727}"
      ]
     },
     "execution_count": 3,
     "metadata": {},
     "output_type": "execute_result"
    }
   ],
   "source": [
    "# Compute all GNN-based metrics at once\n",
    "from evaluation.evaluator import Evaluator\n",
    "evaluator = Evaluator(device=device)\n",
    "evaluator.evaluate_all(generated_dataset=grids, reference_dataset=lobsters)"
   ]
  },
  {
   "cell_type": "code",
   "execution_count": 13,
   "id": "4018835c",
   "metadata": {},
   "outputs": [
    {
     "name": "stdout",
     "output_type": "stream",
     "text": [
      "orthogonal\n",
      "result: {'mmd_rbf': 1.3096486032009125}, time to compute: 0.084s\n"
     ]
    }
   ],
   "source": [
    "# Alternatively, compute a single GNN-based metric. See evaluation/gin_evaluation.py for other metrics.\n",
    "from evaluation.gin_evaluation import load_feature_extractor, MMDEvaluation\n",
    "\n",
    "# Can tweak GIN hyperparameters, however defaults are set to our recommendations\n",
    "gin = load_feature_extractor(device=device)\n",
    "# Can tweak hyperparameters of MMD RBF, however defaults are set to our recommendations\n",
    "mmd_eval = MMDEvaluation(gin)\n",
    "result, time = mmd_eval.evaluate(generated_dataset=grids, reference_dataset=lobsters)\n",
    "print('result: {}, time to compute: {:.3f}s'.format(result, time))"
   ]
  },
  {
   "cell_type": "code",
   "execution_count": 14,
   "id": "f9541366",
   "metadata": {},
   "outputs": [
    {
     "name": "stdout",
     "output_type": "stream",
     "text": [
      "orthogonal\n",
      "result: {'mmd_rbf': 0.9569450616836548}, time to compute: 0.100s\n"
     ]
    }
   ],
   "source": [
    "# Evaluation incorporating custom node/edge features.\n",
    "# If no node features are provided, the default is degree features\n",
    "# expressed as an integer.\n",
    "\n",
    "node_feat_loc = 'feat'\n",
    "edge_feat_loc = 'feat'\n",
    "node_feat_dim = 10\n",
    "edge_feat_dim = 5\n",
    "\n",
    "# Create random node/edge features\n",
    "for g in grids:\n",
    "    num_nodes = g.number_of_nodes()\n",
    "    g.ndata[node_feat_loc] = torch.randn(num_nodes, node_feat_dim).to(g.device)\n",
    "    num_edges = g.number_of_edges()\n",
    "    g.edata[edge_feat_loc] = torch.randn(num_edges, edge_feat_dim).to(g.device)\n",
    "    \n",
    "for g in lobsters:\n",
    "    num_nodes = g.number_of_nodes()\n",
    "    g.ndata[node_feat_loc] = torch.randn(num_nodes, node_feat_dim).to(g.device)\n",
    "    num_edges = g.number_of_edges()\n",
    "    g.edata[edge_feat_loc] = torch.randn(num_edges, edge_feat_dim).to(g.device)\n",
    "\n",
    "# Load GIN\n",
    "gin = load_feature_extractor(\n",
    "    device=device, input_dim=node_feat_dim, edge_feat_dim=edge_feat_dim,\n",
    "    node_feat_loc=node_feat_loc, edge_feat_loc=edge_feat_loc)\n",
    "\n",
    "mmd_eval = MMDEvaluation(gin)\n",
    "result, time = mmd_eval.evaluate(generated_dataset=lobsters, reference_dataset=grids)\n",
    "print('result: {}, time to compute: {:.3f}s'.format(result, time))"
   ]
  },
  {
   "cell_type": "code",
   "execution_count": 15,
   "id": "e4143dbb",
   "metadata": {},
   "outputs": [
    {
     "name": "stdout",
     "output_type": "stream",
     "text": [
      "MMD RBF for grids with itself: 0\n",
      "MMD RBF after altering node/edge feat. distributions: 0.03214991092681885\n"
     ]
    }
   ],
   "source": [
    "# To quickly demonstrate sensitivity to node/edge features, let's create\n",
    "# a copy of the grid graphs and slightly alter the node/edge feat distributions\n",
    "import copy\n",
    "\n",
    "result, time = mmd_eval.evaluate(generated_dataset=grids, reference_dataset=grids)\n",
    "print('MMD RBF for grids with itself: {}'.format(result['mmd_rbf']))\n",
    "\n",
    "grids_copy = [copy.deepcopy(g) for g in grids]\n",
    "for g in grids_copy:\n",
    "    g.ndata[node_feat_loc] *= 1.15\n",
    "    g.edata[edge_feat_loc] *= 1.15\n",
    "    \n",
    "result, time = mmd_eval.evaluate(reference_dataset=grids, generated_dataset=grids_copy)\n",
    "print('MMD RBF after altering node/edge feat. distributions: {}'.format(result['mmd_rbf']))"
   ]
  },
  {
   "cell_type": "code",
   "execution_count": null,
   "id": "b331942a",
   "metadata": {},
   "outputs": [],
   "source": []
  }
 ],
 "metadata": {
  "kernelspec": {
   "display_name": "Python 3",
   "language": "python",
   "name": "python3"
  },
  "language_info": {
   "codemirror_mode": {
    "name": "ipython",
    "version": 3
   },
   "file_extension": ".py",
   "mimetype": "text/x-python",
   "name": "python",
   "nbconvert_exporter": "python",
   "pygments_lexer": "ipython3",
   "version": "3.10.5"
  },
  "vscode": {
   "interpreter": {
    "hash": "06a8be8316eed2f6558da5cb68a9abde15f0a0ec61139bf81bc916fa7c6839e3"
   }
  }
 },
 "nbformat": 4,
 "nbformat_minor": 5
}
