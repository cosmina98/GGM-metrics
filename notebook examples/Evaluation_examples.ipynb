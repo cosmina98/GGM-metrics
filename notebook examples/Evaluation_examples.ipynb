{
 "cells": [
  {
   "cell_type": "code",
   "execution_count": 1,
   "id": "82bc296d",
   "metadata": {},
   "outputs": [
    {
     "name": "stderr",
     "output_type": "stream",
     "text": [
      "c:\\Users\\cs843\\AppData\\Local\\Programs\\Python\\Python310\\lib\\site-packages\\torch\\_masked\\__init__.py:223: UserWarning: Failed to initialize NumPy: module compiled against API version 0xf but this version of numpy is 0xe (Triggered internally at  ..\\torch\\csrc\\utils\\tensor_numpy.cpp:68.)\n",
      "  example_input = torch.tensor([[-3, -2, -1], [0, 1, 2]])\n",
      "c:\\Users\\cs843\\AppData\\Local\\Programs\\Python\\Python310\\lib\\site-packages\\dgl\\heterograph.py:72: DGLWarning: Recommend creating graphs by `dgl.graph(data)` instead of `dgl.DGLGraph(data)`.\n",
      "  dgl_warning('Recommend creating graphs by `dgl.graph(data)`'\n"
     ]
    },
    {
     "ename": "RuntimeError",
     "evalue": "Numpy is not available",
     "output_type": "error",
     "traceback": [
      "\u001b[1;31m---------------------------------------------------------------------------\u001b[0m",
      "\u001b[1;31mRuntimeError\u001b[0m                              Traceback (most recent call last)",
      "\u001b[1;32mc:\\Users\\cs843\\Documents\\PhD\\2023\\Proposal\\GGM-metrics\\Evaluation_examples.ipynb Cell 1\u001b[0m in \u001b[0;36m<cell line: 6>\u001b[1;34m()\u001b[0m\n\u001b[0;32m      <a href='vscode-notebook-cell:/c%3A/Users/cs843/Documents/PhD/2023/Proposal/GGM-metrics/Evaluation_examples.ipynb#W0sZmlsZQ%3D%3D?line=2'>3</a>\u001b[0m \u001b[39mimport\u001b[39;00m \u001b[39mtorch\u001b[39;00m\n\u001b[0;32m      <a href='vscode-notebook-cell:/c%3A/Users/cs843/Documents/PhD/2023/Proposal/GGM-metrics/Evaluation_examples.ipynb#W0sZmlsZQ%3D%3D?line=3'>4</a>\u001b[0m \u001b[39mimport\u001b[39;00m \u001b[39mdgl\u001b[39;00m\n\u001b[1;32m----> <a href='vscode-notebook-cell:/c%3A/Users/cs843/Documents/PhD/2023/Proposal/GGM-metrics/Evaluation_examples.ipynb#W0sZmlsZQ%3D%3D?line=5'>6</a>\u001b[0m grids \u001b[39m=\u001b[39m gen\u001b[39m.\u001b[39;49mmake_grid_graphs()\n\u001b[0;32m      <a href='vscode-notebook-cell:/c%3A/Users/cs843/Documents/PhD/2023/Proposal/GGM-metrics/Evaluation_examples.ipynb#W0sZmlsZQ%3D%3D?line=6'>7</a>\u001b[0m lobsters \u001b[39m=\u001b[39m gen\u001b[39m.\u001b[39mmake_lobster_graphs()\n\u001b[0;32m      <a href='vscode-notebook-cell:/c%3A/Users/cs843/Documents/PhD/2023/Proposal/GGM-metrics/Evaluation_examples.ipynb#W0sZmlsZQ%3D%3D?line=8'>9</a>\u001b[0m device \u001b[39m=\u001b[39m torch\u001b[39m.\u001b[39mdevice(\u001b[39m'\u001b[39m\u001b[39mcuda\u001b[39m\u001b[39m'\u001b[39m) \u001b[39mif\u001b[39;00m torch\u001b[39m.\u001b[39mcuda\u001b[39m.\u001b[39mis_available() \u001b[39melse\u001b[39;00m torch\u001b[39m.\u001b[39mdevice(\u001b[39m'\u001b[39m\u001b[39mcpu\u001b[39m\u001b[39m'\u001b[39m)\n",
      "File \u001b[1;32mc:\\Users\\cs843\\Documents\\PhD\\2023\\Proposal\\GGM-metrics\\utils\\graph_generators.py:13\u001b[0m, in \u001b[0;36mmake_grid_graphs\u001b[1;34m(lower, upper, **kwargs)\u001b[0m\n\u001b[0;32m     10\u001b[0m     \u001b[39mfor\u001b[39;00m j \u001b[39min\u001b[39;00m \u001b[39mrange\u001b[39m(lower, upper):\n\u001b[0;32m     11\u001b[0m         graphs\u001b[39m.\u001b[39mappend(nx\u001b[39m.\u001b[39mgrid_2d_graph(i, j))\n\u001b[1;32m---> 13\u001b[0m \u001b[39mreturn\u001b[39;00m [dgl\u001b[39m.\u001b[39mDGLGraph(g)\u001b[39m.\u001b[39mto_networkx() \u001b[39mfor\u001b[39;00m g \u001b[39min\u001b[39;00m graphs]\n",
      "File \u001b[1;32mc:\\Users\\cs843\\Documents\\PhD\\2023\\Proposal\\GGM-metrics\\utils\\graph_generators.py:13\u001b[0m, in \u001b[0;36m<listcomp>\u001b[1;34m(.0)\u001b[0m\n\u001b[0;32m     10\u001b[0m     \u001b[39mfor\u001b[39;00m j \u001b[39min\u001b[39;00m \u001b[39mrange\u001b[39m(lower, upper):\n\u001b[0;32m     11\u001b[0m         graphs\u001b[39m.\u001b[39mappend(nx\u001b[39m.\u001b[39mgrid_2d_graph(i, j))\n\u001b[1;32m---> 13\u001b[0m \u001b[39mreturn\u001b[39;00m [dgl\u001b[39m.\u001b[39;49mDGLGraph(g)\u001b[39m.\u001b[39;49mto_networkx() \u001b[39mfor\u001b[39;00m g \u001b[39min\u001b[39;00m graphs]\n",
      "File \u001b[1;32mc:\\Users\\cs843\\AppData\\Local\\Programs\\Python\\Python310\\lib\\site-packages\\dgl\\convert.py:1604\u001b[0m, in \u001b[0;36mto_networkx\u001b[1;34m(g, node_attrs, edge_attrs)\u001b[0m\n\u001b[0;32m   1602\u001b[0m     \u001b[39mraise\u001b[39;00m DGLError(\u001b[39m'\u001b[39m\u001b[39mdgl.to_networkx only supports homogeneous graphs.\u001b[39m\u001b[39m'\u001b[39m)\n\u001b[0;32m   1603\u001b[0m src, dst \u001b[39m=\u001b[39m g\u001b[39m.\u001b[39medges()\n\u001b[1;32m-> 1604\u001b[0m src \u001b[39m=\u001b[39m F\u001b[39m.\u001b[39;49masnumpy(src)\n\u001b[0;32m   1605\u001b[0m dst \u001b[39m=\u001b[39m F\u001b[39m.\u001b[39masnumpy(dst)\n\u001b[0;32m   1606\u001b[0m \u001b[39m# xiangsx: Always treat graph as multigraph\u001b[39;00m\n",
      "File \u001b[1;32mc:\\Users\\cs843\\AppData\\Local\\Programs\\Python\\Python310\\lib\\site-packages\\dgl\\backend\\pytorch\\tensor.py:108\u001b[0m, in \u001b[0;36masnumpy\u001b[1;34m(input)\u001b[0m\n\u001b[0;32m    106\u001b[0m     \u001b[39mreturn\u001b[39;00m \u001b[39minput\u001b[39m\u001b[39m.\u001b[39mto_dense()\u001b[39m.\u001b[39mcpu()\u001b[39m.\u001b[39mdetach()\u001b[39m.\u001b[39mnumpy()\n\u001b[0;32m    107\u001b[0m \u001b[39melse\u001b[39;00m:\n\u001b[1;32m--> 108\u001b[0m     \u001b[39mreturn\u001b[39;00m \u001b[39minput\u001b[39;49m\u001b[39m.\u001b[39;49mcpu()\u001b[39m.\u001b[39;49mdetach()\u001b[39m.\u001b[39;49mnumpy()\n",
      "\u001b[1;31mRuntimeError\u001b[0m: Numpy is not available"
     ]
    }
   ],
   "source": [
    "# Generate graphs for demonstration purposes\n",
    "import utils.graph_generators as gen\n",
    "import torch\n",
    "import dgl\n",
    "\n",
    "grids = gen.make_grid_graphs()\n",
    "lobsters = gen.make_lobster_graphs()\n",
    "\n",
    "device = torch.device('cuda') if torch.cuda.is_available() else torch.device('cpu')\n",
    "grids = [dgl.DGLGraph(g).to(device) for g in grids] # Convert graphs to DGL from NetworkX\n",
    "lobsters = [dgl.DGLGraph(g).to(device) for g in lobsters] # Convert graphs to DGL from NetworkX"
   ]
  },
  {
   "cell_type": "code",
   "execution_count": 2,
   "id": "6ac11d5a",
   "metadata": {},
   "outputs": [],
   "source": [
    "proteins=gen.load_proteins()"
   ]
  },
  {
   "cell_type": "code",
   "execution_count": 6,
   "id": "21405f8b",
   "metadata": {},
   "outputs": [
    {
     "data": {
      "text/plain": [
       "NodeDataView({1: {'label': 4}, 2: {'label': 2}, 3: {'label': 10}, 4: {'label': 4}, 5: {'label': 20}, 6: {'label': 19}, 7: {'label': 17}, 8: {'label': 11}, 9: {'label': 6}, 10: {'label': 11}, 11: {'label': 11}, 12: {'label': 13}, 13: {'label': 7}, 14: {'label': 4}, 15: {'label': 4}, 16: {'label': 2}, 17: {'label': 11}, 18: {'label': 18}, 19: {'label': 17}, 20: {'label': 9}, 21: {'label': 11}, 22: {'label': 8}, 23: {'label': 6}, 24: {'label': 1}, 25: {'label': 7}, 26: {'label': 17}, 27: {'label': 1}, 28: {'label': 15}, 29: {'label': 16}, 30: {'label': 16}, 31: {'label': 8}, 32: {'label': 2}, 33: {'label': 16}, 34: {'label': 6}, 35: {'label': 6}, 36: {'label': 2}, 37: {'label': 7}, 38: {'label': 8}, 39: {'label': 11}, 40: {'label': 11}, 41: {'label': 15}, 42: {'label': 10}, 43: {'label': 11}, 44: {'label': 9}, 45: {'label': 16}, 46: {'label': 15}, 47: {'label': 4}, 48: {'label': 12}, 49: {'label': 7}, 50: {'label': 4}, 51: {'label': 16}, 52: {'label': 11}, 53: {'label': 6}, 54: {'label': 15}, 55: {'label': 17}, 56: {'label': 11}, 57: {'label': 12}, 58: {'label': 16}, 59: {'label': 9}, 60: {'label': 14}, 61: {'label': 20}, 62: {'label': 6}, 63: {'label': 8}, 64: {'label': 17}, 65: {'label': 11}, 66: {'label': 13}, 67: {'label': 18}, 68: {'label': 12}, 69: {'label': 2}, 70: {'label': 7}, 71: {'label': 2}, 72: {'label': 18}, 73: {'label': 8}, 74: {'label': 10}, 75: {'label': 6}, 76: {'label': 2}, 77: {'label': 7}, 78: {'label': 11}, 79: {'label': 11}, 80: {'label': 8}, 81: {'label': 11}, 82: {'label': 7}, 83: {'label': 20}, 84: {'label': 18}, 85: {'label': 2}, 86: {'label': 15}, 87: {'label': 20}, 88: {'label': 6}, 89: {'label': 1}, 90: {'label': 13}, 91: {'label': 1}, 92: {'label': 8}, 93: {'label': 20}, 94: {'label': 7}, 95: {'label': 8}, 96: {'label': 16}, 97: {'label': 7}, 98: {'label': 16}, 99: {'label': 20}, 100: {'label': 20}, 101: {'label': 14}, 102: {'label': 7}, 103: {'label': 16}, 104: {'label': 20}, 105: {'label': 11}, 106: {'label': 6}, 107: {'label': 20}, 108: {'label': 20}, 109: {'label': 18}, 110: {'label': 3}, 111: {'label': 8}, 112: {'label': 15}, 113: {'label': 12}, 114: {'label': 4}, 115: {'label': 11}, 116: {'label': 1}, 117: {'label': 1}, 118: {'label': 15}, 119: {'label': 10}, 120: {'label': 20}, 121: {'label': 20}, 122: {'label': 8}, 123: {'label': 4}, 124: {'label': 2}, 125: {'label': 10}, 126: {'label': 18}, 127: {'label': 20}, 128: {'label': 1}, 129: {'label': 8}, 130: {'label': 1}, 131: {'label': 16}, 132: {'label': 4}, 133: {'label': 11}, 134: {'label': 14}, 135: {'label': 7}, 136: {'label': 11}, 137: {'label': 1}, 138: {'label': 7}, 139: {'label': 11}, 140: {'label': 6}, 141: {'label': 1}, 142: {'label': 11}, 143: {'label': 9}, 144: {'label': 12}, 145: {'label': 14}, 146: {'label': 11}, 147: {'label': 16}, 148: {'label': 7}, 149: {'label': 8}, 150: {'label': 1}, 151: {'label': 7}, 152: {'label': 6}, 153: {'label': 2}, 154: {'label': 8}, 155: {'label': 1}, 156: {'label': 1}, 157: {'label': 1}, 158: {'label': 10}, 159: {'label': 4}, 160: {'label': 17}, 161: {'label': 13}, 162: {'label': 9}, 163: {'label': 19}, 164: {'label': 7}, 165: {'label': 7}, 166: {'label': 1}, 167: {'label': 4}, 168: {'label': 11}, 169: {'label': 7}, 170: {'label': 20}, 171: {'label': 16}, 172: {'label': 2}, 173: {'label': 1}, 174: {'label': 1}, 175: {'label': 8}, 176: {'label': 11}, 177: {'label': 11}, 178: {'label': 2}, 179: {'label': 11}, 180: {'label': 19}, 181: {'label': 15}, 182: {'label': 16}, 183: {'label': 11}, 184: {'label': 17}, 185: {'label': 1}, 186: {'label': 6}, 187: {'label': 8}, 188: {'label': 14}, 189: {'label': 4}, 190: {'label': 10}, 191: {'label': 8}, 192: {'label': 16}, 193: {'label': 16}, 194: {'label': 15}, 195: {'label': 11}, 196: {'label': 12}, 197: {'label': 9}, 198: {'label': 17}, 199: {'label': 11}, 200: {'label': 11}, 201: {'label': 4}, 202: {'label': 6}, 203: {'label': 16}, 204: {'label': 8}, 205: {'label': 2}, 206: {'label': 2}, 207: {'label': 20}, 208: {'label': 6}, 209: {'label': 3}, 210: {'label': 4}, 211: {'label': 9}, 212: {'label': 4}, 213: {'label': 14}, 214: {'label': 2}, 215: {'label': 11}, 216: {'label': 14}, 217: {'label': 20}, 218: {'label': 9}, 219: {'label': 1}, 220: {'label': 4}, 221: {'label': 9}, 222: {'label': 7}, 223: {'label': 6}, 224: {'label': 20}, 225: {'label': 16}, 226: {'label': 20}, 227: {'label': 8}, 228: {'label': 10}, 229: {'label': 11}, 230: {'label': 12}, 231: {'label': 9}, 232: {'label': 2}, 233: {'label': 8}, 234: {'label': 9}, 235: {'label': 11}, 236: {'label': 2}, 237: {'label': 11}, 238: {'label': 15}, 239: {'label': 6}, 240: {'label': 4}, 241: {'label': 6}, 242: {'label': 13}, 243: {'label': 8}, 244: {'label': 8}, 245: {'label': 15}, 246: {'label': 4}, 247: {'label': 4}, 248: {'label': 11}, 249: {'label': 12}, 250: {'label': 10}, 251: {'label': 1}, 252: {'label': 8}, 253: {'label': 6}, 254: {'label': 18}, 255: {'label': 10}, 256: {'label': 20}, 257: {'label': 1}, 258: {'label': 17}, 259: {'label': 7}, 260: {'label': 3}, 261: {'label': 15}, 262: {'label': 6}, 263: {'label': 12}, 264: {'label': 20}, 265: {'label': 16}, 266: {'label': 15}, 267: {'label': 11}, 268: {'label': 18}, 269: {'label': 8}, 270: {'label': 10}, 271: {'label': 11}, 272: {'label': 7}, 273: {'label': 8}, 274: {'label': 11}, 275: {'label': 17}, 276: {'label': 16}, 277: {'label': 12}, 278: {'label': 14}, 279: {'label': 16}, 280: {'label': 17}, 281: {'label': 8}, 282: {'label': 20}, 283: {'label': 9}, 284: {'label': 4}, 285: {'label': 8}, 286: {'label': 11}, 287: {'label': 2}, 288: {'label': 16}, 289: {'label': 14}, 290: {'label': 7}, 291: {'label': 12}, 292: {'label': 8}, 293: {'label': 4}, 294: {'label': 2}, 295: {'label': 7}, 296: {'label': 1}, 297: {'label': 7}, 298: {'label': 1}, 299: {'label': 12}, 300: {'label': 1}, 301: {'label': 19}, 302: {'label': 10}, 303: {'label': 10}, 304: {'label': 11}, 305: {'label': 4}, 306: {'label': 15}, 307: {'label': 1}, 308: {'label': 12}, 309: {'label': 1}, 310: {'label': 1}, 311: {'label': 11}, 312: {'label': 6}, 313: {'label': 20}, 314: {'label': 12}, 315: {'label': 20}, 316: {'label': 1}, 317: {'label': 19}, 318: {'label': 8}, 319: {'label': 1}, 320: {'label': 4}, 321: {'label': 20}, 322: {'label': 10}, 323: {'label': 14}, 324: {'label': 8}, 325: {'label': 9}, 326: {'label': 16}, 327: {'label': 4}})"
      ]
     },
     "execution_count": 6,
     "metadata": {},
     "output_type": "execute_result"
    }
   ],
   "source": [
    "proteins[0].nodes(data=True)"
   ]
  },
  {
   "cell_type": "code",
   "execution_count": 9,
   "id": "1efe6a78",
   "metadata": {},
   "outputs": [
    {
     "data": {
      "text/plain": [
       "EdgeDataView([(1, 2, {}), (1, 3, {}), (1, 4, {}), (1, 5, {}), (1, 30, {}), (1, 31, {}), (1, 260, {}), (1, 267, {}), (1, 268, {}), (2, 3, {}), (2, 4, {}), (2, 5, {}), (2, 6, {}), (2, 7, {}), (2, 74, {}), (3, 74, {}), (3, 243, {}), (3, 260, {}), (3, 267, {}), (4, 5, {}), (4, 6, {}), (4, 243, {}), (4, 260, {}), (5, 6, {}), (5, 198, {}), (5, 199, {}), (5, 220, {}), (6, 246, {}), (7, 71, {}), (7, 74, {}), (7, 90, {}), (7, 93, {}), (7, 262, {}), (8, 9, {}), (8, 10, {}), (8, 11, {}), (8, 12, {}), (8, 55, {}), (8, 56, {}), (9, 10, {}), (9, 11, {}), (9, 12, {}), (9, 195, {}), (10, 11, {}), (10, 12, {}), (10, 55, {}), (10, 195, {}), (11, 12, {}), (11, 55, {}), (12, 55, {}), (12, 56, {}), (12, 195, {}), (12, 205, {}), (13, 14, {}), (13, 15, {}), (13, 16, {}), (13, 17, {}), (13, 185, {}), (13, 187, {}), (13, 200, {}), (14, 15, {}), (14, 16, {}), (14, 17, {}), (15, 16, {}), (15, 184, {}), (15, 187, {}), (15, 200, {}), (16, 17, {}), (16, 21, {}), (16, 138, {}), (17, 20, {}), (17, 21, {}), (17, 138, {}), (18, 19, {}), (18, 20, {}), (18, 21, {}), (18, 22, {}), (18, 23, {}), (18, 24, {}), (18, 25, {}), (19, 22, {}), (19, 67, {}), (19, 123, {}), (19, 208, {}), (19, 263, {}), (20, 21, {}), (20, 23, {}), (20, 24, {}), (20, 25, {}), (20, 39, {}), (21, 22, {}), (21, 25, {}), (21, 138, {}), (22, 25, {}), (22, 122, {}), (22, 123, {}), (23, 24, {}), (23, 25, {}), (23, 39, {}), (23, 40, {}), (24, 36, {}), (24, 37, {}), (24, 39, {}), (24, 40, {}), (25, 123, {}), (26, 27, {}), (26, 28, {}), (26, 30, {}), (26, 31, {}), (27, 28, {}), (27, 29, {}), (27, 30, {}), (27, 31, {}), (27, 325, {}), (28, 29, {}), (28, 31, {}), (28, 325, {}), (29, 271, {}), (29, 272, {}), (29, 273, {}), (29, 278, {}), (29, 325, {}), (30, 31, {}), (30, 268, {}), (31, 260, {}), (31, 267, {}), (31, 268, {}), (31, 269, {}), (32, 33, {}), (32, 34, {}), (32, 35, {}), (32, 299, {}), (32, 300, {}), (32, 322, {}), (33, 35, {}), (33, 57, {}), (33, 58, {}), (33, 60, {}), (33, 61, {}), (33, 322, {}), (34, 35, {}), (34, 87, {}), (34, 299, {}), (34, 300, {}), (34, 301, {}), (34, 302, {}), (34, 322, {}), (35, 60, {}), (35, 299, {}), (35, 322, {}), (36, 37, {}), (36, 38, {}), (36, 39, {}), (36, 40, {}), (37, 38, {}), (37, 39, {}), (37, 66, {}), (38, 39, {}), (38, 40, {}), (38, 66, {}), (39, 40, {}), (39, 66, {}), (40, 219, {}), (41, 42, {}), (41, 43, {}), (41, 44, {}), (41, 45, {}), (42, 43, {}), (42, 44, {}), (42, 53, {}), (42, 285, {}), (42, 312, {}), (42, 313, {}), (43, 45, {}), (43, 234, {}), (44, 53, {}), (44, 194, {}), (44, 195, {}), (44, 285, {}), (45, 234, {}), (45, 235, {}), (46, 47, {}), (46, 49, {}), (46, 206, {}), (46, 207, {}), (46, 315, {}), (47, 48, {}), (47, 49, {}), (47, 50, {}), (47, 206, {}), (48, 304, {}), (48, 306, {}), (48, 315, {}), (48, 316, {}), (49, 50, {}), (49, 207, {}), (49, 235, {}), (49, 236, {}), (50, 236, {}), (50, 316, {}), (51, 52, {}), (51, 53, {}), (51, 54, {}), (52, 53, {}), (52, 54, {}), (52, 285, {}), (52, 311, {}), (53, 285, {}), (53, 311, {}), (53, 312, {}), (53, 313, {}), (54, 100, {}), (55, 56, {}), (55, 202, {}), (55, 203, {}), (55, 205, {}), (56, 202, {}), (56, 203, {}), (56, 204, {}), (56, 205, {}), (57, 58, {}), (57, 61, {}), (57, 288, {}), (57, 289, {}), (58, 59, {}), (58, 60, {}), (58, 61, {}), (59, 60, {}), (59, 61, {}), (59, 258, {}), (59, 287, {}), (59, 288, {}), (59, 289, {}), (60, 61, {}), (60, 322, {}), (61, 322, {}), (62, 63, {}), (62, 64, {}), (62, 65, {}), (62, 66, {}), (62, 67, {}), (62, 68, {}), (62, 69, {}), (63, 64, {}), (63, 65, {}), (63, 66, {}), (63, 211, {}), (63, 212, {}), (63, 241, {}), (63, 261, {}), (64, 65, {}), (64, 68, {}), (64, 69, {}), (64, 241, {}), (65, 69, {}), (65, 211, {}), (65, 212, {}), (65, 213, {}), (65, 241, {}), (66, 261, {}), (67, 68, {}), (67, 69, {}), (67, 263, {}), (67, 286, {}), (67, 319, {}), (68, 69, {}), (68, 263, {}), (69, 263, {}), (70, 71, {}), (70, 72, {}), (70, 73, {}), (70, 74, {}), (70, 227, {}), (70, 229, {}), (71, 73, {}), (71, 74, {}), (71, 93, {}), (71, 94, {}), (71, 227, {}), (72, 73, {}), (72, 159, {}), (72, 163, {}), (72, 229, {}), (72, 244, {}), (72, 254, {}), (73, 74, {}), (73, 242, {}), (73, 243, {}), (73, 244, {}), (74, 243, {}), (75, 76, {}), (75, 77, {}), (75, 79, {}), (75, 82, {}), (75, 129, {}), (75, 287, {}), (75, 288, {}), (75, 289, {}), (76, 77, {}), (76, 78, {}), (76, 79, {}), (76, 82, {}), (77, 78, {}), (77, 79, {}), (77, 80, {}), (77, 82, {}), (78, 79, {}), (78, 80, {}), (78, 81, {}), (78, 82, {}), (79, 82, {}), (79, 287, {}), (79, 288, {}), (80, 81, {}), (80, 82, {}), (80, 94, {}), (81, 82, {}), (81, 163, {}), (81, 227, {}), (81, 228, {}), (81, 229, {}), (82, 228, {}), (82, 287, {}), (83, 84, {}), (83, 324, {}), (84, 85, {}), (84, 86, {}), (85, 97, {}), (85, 98, {}), (85, 99, {}), (85, 100, {}), (85, 155, {}), (85, 156, {}), (86, 99, {}), (86, 155, {}), (86, 156, {}), (87, 88, {}), (87, 160, {}), (87, 164, {}), (88, 89, {}), (89, 118, {}), (90, 91, {}), (90, 93, {}), (90, 95, {}), (90, 262, {}), (91, 92, {}), (91, 93, {}), (91, 94, {}), (91, 95, {}), (91, 96, {}), (92, 94, {}), (93, 227, {}), (94, 96, {}), (94, 213, {}), (94, 227, {}), (95, 151, {}), (95, 327, {}), (96, 213, {}), (97, 98, {}), (97, 99, {}), (97, 100, {}), (97, 155, {}), (97, 156, {}), (98, 99, {}), (98, 100, {}), (99, 100, {}), (99, 155, {}), (99, 156, {}), (101, 102, {}), (101, 103, {}), (101, 104, {}), (101, 106, {}), (101, 121, {}), (101, 124, {}), (101, 140, {}), (102, 103, {}), (102, 104, {}), (102, 105, {}), (102, 106, {}), (102, 107, {}), (102, 282, {}), (103, 105, {}), (103, 124, {}), (103, 208, {}), (104, 106, {}), (104, 314, {}), (104, 315, {}), (105, 107, {}), (105, 118, {}), (105, 119, {}), (105, 120, {}), (106, 282, {}), (106, 309, {}), (107, 119, {}), (107, 120, {}), (107, 282, {}), (108, 109, {}), (108, 111, {}), (108, 116, {}), (108, 117, {}), (108, 134, {}), (108, 136, {}), (108, 137, {}), (109, 110, {}), (109, 111, {}), (109, 112, {}), (109, 113, {}), (109, 134, {}), (109, 137, {}), (109, 167, {}), (110, 112, {}), (110, 134, {}), (110, 167, {}), (110, 168, {}), (110, 169, {}), (110, 264, {}), (111, 113, {}), (111, 114, {}), (111, 115, {}), (111, 116, {}), (111, 117, {}), (112, 168, {}), (112, 169, {}), (112, 264, {}), (113, 114, {}), (113, 115, {}), (113, 116, {}), (113, 157, {}), (113, 158, {}), (113, 214, {}), (114, 115, {}), (114, 116, {}), (114, 157, {}), (114, 158, {}), (115, 116, {}), (115, 117, {}), (116, 157, {}), (116, 158, {}), (116, 214, {}), (117, 217, {}), (117, 303, {}), (118, 119, {}), (118, 310, {}), (119, 120, {}), (120, 141, {}), (120, 143, {}), (120, 265, {}), (121, 122, {}), (121, 124, {}), (121, 140, {}), (122, 123, {}), (122, 124, {}), (124, 140, {}), (125, 126, {}), (125, 127, {}), (125, 128, {}), (125, 129, {}), (125, 130, {}), (125, 297, {}), (126, 128, {}), (126, 129, {}), (126, 130, {}), (126, 250, {}), (126, 297, {}), (127, 130, {}), (127, 274, {}), (127, 275, {}), (127, 276, {}), (127, 277, {}), (127, 297, {}), (128, 129, {}), (128, 130, {}), (128, 249, {}), (128, 250, {}), (128, 251, {}), (129, 249, {}), (129, 250, {}), (129, 251, {}), (130, 275, {}), (130, 297, {}), (131, 132, {}), (131, 133, {}), (131, 281, {}), (132, 133, {}), (132, 231, {}), (132, 281, {}), (133, 230, {}), (133, 231, {}), (133, 232, {}), (133, 281, {}), (134, 135, {}), (134, 136, {}), (134, 137, {}), (135, 136, {}), (135, 139, {}), (136, 139, {}), (136, 190, {}), (136, 217, {}), (137, 167, {}), (137, 214, {}), (139, 190, {}), (139, 193, {}), (140, 307, {}), (140, 314, {}), (141, 142, {}), (141, 143, {}), (141, 144, {}), (141, 320, {}), (141, 321, {}), (142, 143, {}), (142, 206, {}), (142, 207, {}), (142, 317, {}), (142, 321, {}), (143, 210, {}), (143, 265, {}), (144, 161, {}), (144, 320, {}), (145, 146, {}), (145, 147, {}), (145, 148, {}), (145, 149, {}), (145, 165, {}), (145, 256, {}), (146, 147, {}), (146, 149, {}), (146, 150, {}), (147, 148, {}), (147, 149, {}), (147, 150, {}), (147, 165, {}), (147, 166, {}), (147, 256, {}), (147, 257, {}), (147, 259, {}), (148, 149, {}), (148, 165, {}), (148, 166, {}), (148, 256, {}), (150, 266, {}), (151, 152, {}), (151, 153, {}), (151, 154, {}), (151, 327, {}), (152, 153, {}), (152, 278, {}), (152, 279, {}), (153, 154, {}), (154, 327, {}), (155, 156, {}), (157, 158, {}), (157, 214, {}), (157, 294, {}), (157, 295, {}), (158, 214, {}), (158, 295, {}), (159, 160, {}), (159, 161, {}), (159, 163, {}), (159, 253, {}), (159, 254, {}), (159, 318, {}), (160, 161, {}), (160, 162, {}), (160, 163, {}), (160, 164, {}), (160, 254, {}), (161, 162, {}), (161, 253, {}), (161, 320, {}), (162, 253, {}), (162, 254, {}), (163, 164, {}), (163, 229, {}), (164, 228, {}), (164, 229, {}), (165, 256, {}), (166, 256, {}), (166, 257, {}), (166, 258, {}), (166, 259, {}), (167, 168, {}), (167, 169, {}), (168, 169, {}), (168, 264, {}), (169, 264, {}), (170, 171, {}), (170, 172, {}), (170, 252, {}), (170, 284, {}), (171, 172, {}), (171, 173, {}), (171, 174, {}), (171, 175, {}), (171, 176, {}), (171, 209, {}), (172, 173, {}), (172, 252, {}), (173, 245, {}), (173, 246, {}), (174, 175, {}), (174, 290, {}), (175, 176, {}), (175, 209, {}), (175, 290, {}), (176, 209, {}), (176, 210, {}), (177, 178, {}), (177, 179, {}), (177, 180, {}), (177, 181, {}), (177, 182, {}), (177, 222, {}), (177, 223, {}), (178, 179, {}), (178, 180, {}), (178, 181, {}), (178, 182, {}), (179, 180, {}), (179, 182, {}), (179, 222, {}), (179, 223, {}), (179, 225, {}), (180, 181, {}), (180, 182, {}), (180, 247, {}), (180, 248, {}), (180, 294, {}), (181, 182, {}), (181, 247, {}), (182, 222, {}), (183, 184, {}), (183, 185, {}), (183, 186, {}), (183, 187, {}), (183, 200, {}), (184, 185, {}), (184, 187, {}), (184, 200, {}), (185, 186, {}), (185, 187, {}), (185, 197, {}), (185, 200, {}), (186, 196, {}), (186, 197, {}), (186, 198, {}), (186, 199, {}), (186, 200, {}), (186, 245, {}), (187, 200, {}), (188, 189, {}), (188, 190, {}), (188, 215, {}), (188, 216, {}), (188, 217, {}), (188, 218, {}), (189, 190, {}), (189, 191, {}), (189, 192, {}), (189, 193, {}), (189, 215, {}), (190, 193, {}), (190, 217, {}), (191, 215, {}), (191, 226, {}), (191, 242, {}), (191, 260, {}), (191, 269, {}), (191, 270, {}), (192, 193, {}), (192, 242, {}), (192, 244, {}), (192, 318, {}), (193, 255, {}), (193, 318, {}), (194, 195, {}), (196, 197, {}), (196, 198, {}), (196, 199, {}), (196, 200, {}), (196, 201, {}), (197, 198, {}), (197, 199, {}), (197, 200, {}), (198, 199, {}), (198, 201, {}), (198, 219, {}), (198, 220, {}), (199, 201, {}), (199, 219, {}), (199, 220, {}), (200, 245, {}), (201, 219, {}), (201, 220, {}), (202, 203, {}), (202, 204, {}), (202, 205, {}), (202, 253, {}), (202, 320, {}), (203, 204, {}), (203, 205, {}), (204, 205, {}), (204, 253, {}), (204, 255, {}), (204, 320, {}), (206, 207, {}), (206, 317, {}), (207, 317, {}), (207, 326, {}), (208, 209, {}), (208, 210, {}), (209, 210, {}), (210, 265, {}), (210, 319, {}), (211, 212, {}), (211, 213, {}), (211, 241, {}), (212, 213, {}), (212, 241, {}), (214, 291, {}), (214, 292, {}), (214, 294, {}), (214, 295, {}), (215, 217, {}), (215, 221, {}), (215, 224, {}), (215, 225, {}), (215, 226, {}), (216, 218, {}), (216, 224, {}), (217, 218, {}), (218, 303, {}), (219, 220, {}), (221, 222, {}), (221, 223, {}), (221, 224, {}), (221, 225, {}), (221, 226, {}), (221, 269, {}), (222, 223, {}), (222, 225, {}), (223, 225, {}), (225, 226, {}), (226, 260, {}), (226, 269, {}), (226, 270, {}), (227, 229, {}), (228, 229, {}), (230, 231, {}), (230, 232, {}), (230, 233, {}), (230, 281, {}), (231, 232, {}), (231, 281, {}), (232, 233, {}), (232, 252, {}), (232, 283, {}), (232, 284, {}), (233, 252, {}), (233, 268, {}), (233, 270, {}), (234, 235, {}), (234, 326, {}), (235, 236, {}), (235, 326, {}), (237, 238, {}), (237, 323, {}), (238, 239, {}), (238, 240, {}), (239, 240, {}), (239, 303, {}), (242, 243, {}), (242, 244, {}), (242, 260, {}), (243, 260, {}), (243, 267, {}), (244, 318, {}), (245, 246, {}), (247, 248, {}), (248, 292, {}), (248, 293, {}), (248, 294, {}), (249, 250, {}), (249, 251, {}), (249, 258, {}), (249, 259, {}), (250, 251, {}), (250, 258, {}), (251, 257, {}), (251, 258, {}), (251, 259, {}), (252, 268, {}), (252, 270, {}), (252, 284, {}), (253, 254, {}), (253, 255, {}), (253, 318, {}), (253, 320, {}), (254, 255, {}), (254, 318, {}), (255, 318, {}), (256, 257, {}), (256, 259, {}), (257, 258, {}), (257, 259, {}), (258, 259, {}), (260, 267, {}), (260, 268, {}), (260, 269, {}), (261, 262, {}), (263, 286, {}), (263, 319, {}), (265, 286, {}), (265, 319, {}), (266, 323, {}), (267, 268, {}), (268, 269, {}), (268, 270, {}), (269, 270, {}), (270, 283, {}), (270, 284, {}), (271, 272, {}), (271, 273, {}), (272, 273, {}), (273, 325, {}), (274, 275, {}), (274, 276, {}), (274, 277, {}), (274, 278, {}), (274, 279, {}), (274, 280, {}), (275, 276, {}), (275, 277, {}), (275, 297, {}), (276, 277, {}), (276, 280, {}), (276, 297, {}), (277, 279, {}), (277, 280, {}), (278, 279, {}), (278, 280, {}), (279, 280, {}), (282, 309, {}), (283, 284, {}), (283, 296, {}), (285, 311, {}), (285, 312, {}), (285, 313, {}), (286, 319, {}), (287, 288, {}), (287, 289, {}), (288, 289, {}), (290, 308, {}), (291, 292, {}), (291, 293, {}), (291, 294, {}), (291, 295, {}), (291, 296, {}), (292, 293, {}), (292, 294, {}), (292, 295, {}), (292, 296, {}), (293, 296, {}), (294, 295, {}), (294, 296, {}), (295, 296, {}), (298, 299, {}), (298, 300, {}), (298, 301, {}), (298, 302, {}), (299, 300, {}), (299, 301, {}), (299, 302, {}), (300, 301, {}), (300, 302, {}), (301, 302, {}), (304, 305, {}), (304, 306, {}), (304, 307, {}), (304, 315, {}), (304, 316, {}), (305, 306, {}), (305, 307, {}), (306, 307, {}), (306, 316, {}), (308, 309, {}), (310, 311, {}), (310, 312, {}), (310, 324, {}), (311, 312, {}), (311, 313, {}), (312, 313, {}), (312, 324, {}), (314, 315, {}), (315, 316, {}), (317, 321, {}), (317, 324, {}), (317, 326, {}), (320, 321, {})])"
      ]
     },
     "execution_count": 9,
     "metadata": {},
     "output_type": "execute_result"
    }
   ],
   "source": [
    "proteins[0].edges(data=True)"
   ]
  },
  {
   "cell_type": "code",
   "execution_count": 13,
   "id": "2d31763c",
   "metadata": {},
   "outputs": [
    {
     "data": {
      "image/png": "[encoded data removed]",
      "text/plain": [
       "<Figure size 432x288 with 1 Axes>"
      ]
     },
     "metadata": {},
     "output_type": "display_data"
    }
   ],
   "source": [
    "import networkx as nx\n",
    "nx.draw(proteins[0])"
   ]
  },
  {
   "cell_type": "code",
   "execution_count": 2,
   "id": "4e01c2ea",
   "metadata": {},
   "outputs": [
    {
     "name": "stdout",
     "output_type": "stream",
     "text": [
      "WARNING:tensorflow:From c:\\Users\\cs843\\AppData\\Local\\Programs\\Python\\Python310\\lib\\site-packages\\tensorflow_gan\\python\\estimator\\tpu_gan_estimator.py:42: The name tf.estimator.tpu.TPUEstimator is deprecated. Please use tf.compat.v1.estimator.tpu.TPUEstimator instead.\n",
      "\n",
      "WARNING:tensorflow:From c:\\Users\\cs843\\AppData\\Local\\Programs\\Python\\Python310\\lib\\site-packages\\tensorflow_gan\\python\\eval\\classifier_metrics.py:1157: calling map_fn_v2 (from tensorflow.python.ops.map_fn) with back_prop=False is deprecated and will be removed in a future version.\n",
      "Instructions for updating:\n",
      "back_prop=False is deprecated. Consider using tf.stop_gradient instead.\n",
      "Instead of:\n",
      "results = tf.map_fn(fn, elems, back_prop=False)\n",
      "Use:\n",
      "results = tf.nest.map_structure(tf.stop_gradient, tf.map_fn(fn, elems))\n"
     ]
    },
    {
     "data": {
      "text/plain": [
       "{'activations_time': 0.09900069236755371,\n",
       " 'fid': 5126.874207380354,\n",
       " 'fid_time': 0.10399937629699707,\n",
       " 'kid': 613081.2,\n",
       " 'kid_time': 8.362998247146606,\n",
       " 'precision': 0.0,\n",
       " 'recall': 0.0,\n",
       " 'f1_pr': 1e-05,\n",
       " 'precision_time': 0.12754583358764648,\n",
       " 'recall_time': 0.12754583358764648,\n",
       " 'f1_pr_time': 0.12754583358764648,\n",
       " 'density': 0.0,\n",
       " 'coverage': 0.0,\n",
       " 'f1_dc': 1e-05,\n",
       " 'density_time': 0.1172800064086914,\n",
       " 'coverage_time': 0.1172800064086914,\n",
       " 'f1_dc_time': 0.1172800064086914,\n",
       " 'mmd_rbf': 1.3138309940695763,\n",
       " 'mmd_rbf_time': 0.1250011920928955,\n",
       " 'mmd_linear': 4773.8984,\n",
       " 'mmd_linear_time': 0.09900069236755371}"
      ]
     },
     "execution_count": 2,
     "metadata": {},
     "output_type": "execute_result"
    }
   ],
   "source": [
    "# Compute all GNN-based metrics at once\n",
    "from evaluation.evaluator import Evaluator\n",
    "evaluator = Evaluator(device=device)\n",
    "evaluator.evaluate_all(generated_dataset=grids, reference_dataset=lobsters)"
   ]
  },
  {
   "cell_type": "code",
   "execution_count": 3,
   "id": "4018835c",
   "metadata": {},
   "outputs": [
    {
     "name": "stdout",
     "output_type": "stream",
     "text": [
      "result: {'mmd_rbf': 1.3007222935557365}, time to compute: 0.115s\n"
     ]
    }
   ],
   "source": [
    "# Alternatively, compute a single GNN-based metric. See evaluation/gin_evaluation.py for other metrics.\n",
    "from evaluation.gin_evaluation import load_feature_extractor, MMDEvaluation\n",
    "\n",
    "# Can tweak GIN hyperparameters, however defaults are set to our recommendations\n",
    "gin = load_feature_extractor(device=device)\n",
    "# Can tweak hyperparameters of MMD RBF, however defaults are set to our recommendations\n",
    "mmd_eval = MMDEvaluation(gin)\n",
    "result, time = mmd_eval.evaluate(generated_dataset=grids, reference_dataset=lobsters)\n",
    "print('result: {}, time to compute: {:.3f}s'.format(result, time))"
   ]
  },
  {
   "cell_type": "code",
   "execution_count": 4,
   "id": "f9541366",
   "metadata": {},
   "outputs": [
    {
     "name": "stdout",
     "output_type": "stream",
     "text": [
      "result: {'mmd_rbf': 1.0303107798099518}, time to compute: 0.170s\n"
     ]
    }
   ],
   "source": [
    "# Evaluation incorporating custom node/edge features.\n",
    "# If no node features are provided, the default is degree features\n",
    "# expressed as an integer.\n",
    "\n",
    "node_feat_loc = 'attr'\n",
    "edge_feat_loc = 'attr'\n",
    "node_feat_dim = 10\n",
    "edge_feat_dim = 5\n",
    "\n",
    "# Create random node/edge features\n",
    "for g in grids:\n",
    "    num_nodes = g.number_of_nodes()\n",
    "    g.ndata[node_feat_loc] = torch.randn(num_nodes, node_feat_dim).to(g.device)\n",
    "    num_edges = g.number_of_edges()\n",
    "    g.edata[edge_feat_loc] = torch.randn(num_edges, edge_feat_dim).to(g.device)\n",
    "    \n",
    "for g in lobsters:\n",
    "    num_nodes = g.number_of_nodes()\n",
    "    g.ndata[node_feat_loc] = torch.randn(num_nodes, node_feat_dim).to(g.device)\n",
    "    num_edges = g.number_of_edges()\n",
    "    g.edata[edge_feat_loc] = torch.randn(num_edges, edge_feat_dim).to(g.device)\n",
    "\n",
    "# Load GIN\n",
    "gin = load_feature_extractor(\n",
    "    device=device, input_dim=node_feat_dim, edge_feat_dim=edge_feat_dim,\n",
    "    node_feat_loc=node_feat_loc, edge_feat_loc=edge_feat_loc)\n",
    "\n",
    "mmd_eval = MMDEvaluation(gin)\n",
    "result, time = mmd_eval.evaluate(generated_dataset=lobsters, reference_dataset=grids)\n",
    "print('result: {}, time to compute: {:.3f}s'.format(result, time))"
   ]
  },
  {
   "cell_type": "code",
   "execution_count": 5,
   "id": "e4143dbb",
   "metadata": {},
   "outputs": [
    {
     "name": "stdout",
     "output_type": "stream",
     "text": [
      "MMD RBF for grids with itself: 0\n",
      "MMD RBF after altering node/edge feat. distributions: 0.033437252044677734\n"
     ]
    }
   ],
   "source": [
    "# To quickly demonstrate sensitivity to node/edge features, let's create\n",
    "# a copy of the grid graphs and slightly alter the node/edge feat distributions\n",
    "import copy\n",
    "\n",
    "result, time = mmd_eval.evaluate(generated_dataset=grids, reference_dataset=grids)\n",
    "print('MMD RBF for grids with itself: {}'.format(result['mmd_rbf']))\n",
    "\n",
    "grids_copy = [copy.deepcopy(g) for g in grids]\n",
    "for g in grids_copy:\n",
    "    g.ndata[node_feat_loc] *= 1.15\n",
    "    g.edata[edge_feat_loc] *= 1.15\n",
    "    \n",
    "result, time = mmd_eval.evaluate(reference_dataset=grids, generated_dataset=grids_copy)\n",
    "print('MMD RBF after altering node/edge feat. distributions: {}'.format(result['mmd_rbf']))"
   ]
  },
  {
   "cell_type": "code",
   "execution_count": null,
   "id": "b331942a",
   "metadata": {},
   "outputs": [],
   "source": []
  }
 ],
 "metadata": {
  "kernelspec": {
   "display_name": "Python 3",
   "language": "python",
   "name": "python3"
  },
  "language_info": {
   "codemirror_mode": {
    "name": "ipython",
    "version": 3
   },
   "file_extension": ".py",
   "mimetype": "text/x-python",
   "name": "python",
   "nbconvert_exporter": "python",
   "pygments_lexer": "ipython3",
   "version": "3.10.5"
  }
 },
 "nbformat": 4,
 "nbformat_minor": 5
}
