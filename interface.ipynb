{
 "cells": [
  {
   "cell_type": "code",
   "execution_count": 1,
   "metadata": {},
   "outputs": [],
   "source": [
    "from evaluation.mol_structure import mol_to_smiles, nx_to_mol\n",
    "# Generate graphs for demonstration purposes\n",
    "import utils.graph_generators as gen\n",
    "import torch\n",
    "import dgl\n",
    "import networkx as nx\n",
    "from rdkit.Chem import Descriptors\n",
    "from evaluation.moses.metrics import get_all_metrics\n",
    "from evaluation.evaluator import Evaluator\n",
    "from evaluation.gin_evaluation import load_feature_extractor, MMDEvaluation\n",
    "import copy\n",
    "import fuckit"
   ]
  },
  {
   "cell_type": "code",
   "execution_count": 2,
   "metadata": {},
   "outputs": [],
   "source": [
    "a=gen.load_zinc(n_samples=10)\n",
    "grids=a\n",
    "lobsters=a\n",
    "#print(len(grids[0].ndata['attr']))\n",
    "#print(grids[0].ndata['attr']  , grids[0].ndata['feat'])"
   ]
  },
  {
   "cell_type": "code",
   "execution_count": 4,
   "metadata": {},
   "outputs": [],
   "source": [
    "lobsters_nx = [ dgl.to_networkx(g, node_attrs=['attr','feat'], edge_attrs=['attr','feat'])  for g in a]\n",
    "grids_nx = [dgl.to_networkx(g, node_attrs=['attr','feat'], edge_attrs=['attr','feat']) for g in a]\n",
    "\n",
    "#device = torch.device('cuda') if torch.cuda.is_available() else torch.device('cpu')\n",
    "\n",
    "device=torch.device('cpu')\n",
    "\n",
    "grids = [ dgl.from_networkx(g,node_attrs=['feat'], edge_attrs=['feat']).to(device) for g in grids_nx] # Convert graphs to DGL from NetworkX\n",
    "lobsters = [ dgl.from_networkx(g,node_attrs=['feat'], edge_attrs=['feat']).to(device) for g in lobsters_nx] # Convert graphs to DGL from NetworkX"
   ]
  },
  {
   "cell_type": "code",
   "execution_count": 7,
   "metadata": {},
   "outputs": [
    {
     "name": "stdout",
     "output_type": "stream",
     "text": [
      "orthogonal\n",
      "s\n"
     ]
    },
    {
     "name": "stderr",
     "output_type": "stream",
     "text": [
      "c:\\Users\\cs843\\Documents\\PhD\\2023\\February\\GGM-metrics\\evaluation\\moses\\metrics\\metrics.py:216: UserWarning: Can't compute unique@1000.gen contains only 10 molecules\n",
      "  warnings.warn(\n",
      "c:\\Users\\cs843\\Documents\\PhD\\2023\\February\\GGM-metrics\\evaluation\\moses\\metrics\\metrics.py:216: UserWarning: Can't compute unique@10000.gen contains only 10 molecules\n",
      "  warnings.warn(\n"
     ]
    },
    {
     "name": "stdout",
     "output_type": "stream",
     "text": [
      "{'activations_time': 0.01700425148010254, 'fid': -4.820885820322474e-06, 'fid_time': 0.02102041244506836, 'kid': -0.5831497, 'kid_time': 0.029989957809448242, 'precision': 1.0, 'recall': 1.0, 'f1_pr': 1.00001, 'precision_time': 0.0450129508972168, 'recall_time': 0.0450129508972168, 'f1_pr_time': 0.0450129508972168, 'density': 1.2000000000000002, 'coverage': 1.0, 'f1_dc': 1.090919173552968, 'density_time': 0.034012556076049805, 'coverage_time': 0.034012556076049805, 'f1_dc_time': 0.034012556076049805, 'mmd_rbf': 0, 'mmd_rbf_time': 0.04401230812072754, 'mmd_linear': 0.0, 'mmd_linear_time': 0.01700425148010254, 'nspdk_mmd': 0.0, 'nspdk_mmd_time': 0.1530454158782959, 'valid': 1.0, 'unique@1000': 1.0, 'unique@10000': 1.0, 'FCD/Test': 46.72970354700773, 'SNN/Test': 0.49758105874061587, 'Frag/Test': 0.6078516005720516, 'Scaf/Test': 0.029266636262645807, 'FCD/TestSF': 47.06954094903616, 'SNN/TestSF': 0.4751725435256958, 'Frag/TestSF': -0.03829807449991973, 'Scaf/TestSF': 0.0, 'IntDiv': 0.7798648965358734, 'IntDiv2': 0.6573560342604137, 'Filters': 0.6, 'logP': 0.4848532570282956, 'SA': 0.23933803793536645, 'QED': 0.079520396336778, 'weight': 34.227634518441164, 'Novelty': 0.0}\n"
     ]
    }
   ],
   "source": [
    "device=torch.device('cpu')\n",
    "metrics_type=['nn', 'structural', 'molecular']\n",
    "structural_statistic='nspdk'  #options ['WL' , 'nspdk', 'orbits, \n",
    "#'degree', 'clustering' ,'spectral']\n",
    "\n",
    "reference_graphs=lobsters_nx\n",
    "generated_graphs=grids_nx\n",
    "\n",
    "discrete_node_label_name='attr' #leave it blank if this does not exist, default: 'label'\n",
    " #leave blank if this does not exist, default: 'label'\n",
    "continuous_node_label_name='feat'  #leave it blank if this does not exist default: 'attr'\n",
    "discrete_edge_label_name='attr'  #leave it blank if this does not exist  ,default: 'label'\n",
    "continuous_edge_label_name='feat' #leave it blank if this does not exist , default: 'attr'\n",
    "#dicrete labels should be set to 'label'\n",
    "#continous labels should be set to 'attr'\n",
    "\n",
    "\n",
    "def preprocess(nx_dataset,discrete_node_label_name, continuous_node_label_name,discrete_edge_label_name,  continuous_edge_label_name):\n",
    "    processed_dataset=[]\n",
    "    for G in nx_dataset:\n",
    "        dict=nx.get_node_attributes(G, discrete_node_label_name)\n",
    "        nx.set_node_attributes(G, dict, 'label') \n",
    "        dict=nx.get_node_attributes(G, continuous_node_label_name)\n",
    "        nx.set_node_attributes(G, dict, 'attr')\n",
    "        dict=nx.get_edge_attributes(G, discrete_edge_label_name)\n",
    "        nx.set_node_attributes(G, dict, 'label')\n",
    "        dict=nx.get_edge_attributes(G, continuous_edge_label_name)\n",
    "        nx.set_node_attributes(G, dict, 'attr')\n",
    "        processed_dataset.append(G)\n",
    "    return processed_dataset\n",
    "\n",
    "\n",
    "reference_graphs=preprocess(reference_graphs,discrete_node_label_name, continuous_node_label_name, discrete_edge_label_name,continuous_edge_label_name)\n",
    "generated_graphs=preprocess(generated_graphs,discrete_node_label_name, continuous_node_label_name, discrete_edge_label_name,continuous_edge_label_name)\n",
    "reference_graphs_dgl = [ dgl.from_networkx(g,node_attrs=[continuous_node_label_name], edge_attrs=[continuous_edge_label_name]).to(device) for g in reference_graphs] # Convert graphs to DGL from NetworkX\n",
    "generated_graphs_dgl = [ dgl.from_networkx(g,node_attrs=[continuous_node_label_name], edge_attrs=[continuous_edge_label_name]).to(device) for g in generated_graphs] # Convert graphs to DGL from NetworkX\n",
    "metrics={}\n",
    "if  'nn' in metrics_type:\n",
    "    assert continuous_node_label_name!='' ,'You need continuous features to be able to compure nn-based metrics'\n",
    "    eval=Evaluator(feature_extractor ='gin',device='cpu')\n",
    "    nn_metrics=eval.evaluate_all(generated_dataset=reference_graphs_dgl,reference_dataset=reference_graphs_dgl)\n",
    "    metrics.update(nn_metrics)\n",
    "        \n",
    "if 'structural' in metrics_type  :\n",
    "    def fun():\n",
    "        eval=Evaluator(feature_extractor ='mmd-structure',device='cpu' ,statistic=structural_statistic)\n",
    "        structural_metrics=eval.evaluate_all(generated_dataset=generated_graphs_dgl,reference_dataset=reference_graphs_dgl)\n",
    "        metrics.update(structural_metrics)\n",
    "    try:  fun()\n",
    "    except: print('Cannot compute these metrics for this type of graphs')\n",
    "    \n",
    "if 'molecular'  in metrics_type:\n",
    "    #@fuckit\n",
    "    def func(reference_graphs, generated_graphs):\n",
    "        reference_graphs_mol= [nx_to_mol(g,edge_label='feat', node_label='feat') for g in reference_graphs]\n",
    "        generated_graphs_mol=[nx_to_mol(g,edge_label='feat', node_label='feat') for g in generated_graphs]\n",
    "        reference_graphs_smiles=mol_to_smiles(reference_graphs_mol)\n",
    "        generated_graphs_smiles=mol_to_smiles(generated_graphs_mol)\n",
    "\n",
    "        mol_metrics=get_all_metrics(gen=generated_graphs_smiles,train=reference_graphs_smiles)\n",
    "        metrics.update(mol_metrics)\n",
    "    try: \n",
    "        func(reference_graphs,generated_graphs)\n",
    "    except: \n",
    "        print('Cannot compute molecular metrics for this type of graphs. You might neeed  to manually change the definition of nx_to_mol:)\\n')\n",
    "        \n",
    "    \n",
    "print(metrics)"
   ]
  },
  {
   "cell_type": "code",
   "execution_count": null,
   "metadata": {},
   "outputs": [],
   "source": []
  }
 ],
 "metadata": {
  "kernelspec": {
   "display_name": "Python 3",
   "language": "python",
   "name": "python3"
  },
  "language_info": {
   "codemirror_mode": {
    "name": "ipython",
    "version": 3
   },
   "file_extension": ".py",
   "mimetype": "text/x-python",
   "name": "python",
   "nbconvert_exporter": "python",
   "pygments_lexer": "ipython3",
   "version": "3.10.5"
  },
  "orig_nbformat": 4,
  "vscode": {
   "interpreter": {
    "hash": "06a8be8316eed2f6558da5cb68a9abde15f0a0ec61139bf81bc916fa7c6839e3"
   }
  }
 },
 "nbformat": 4,
 "nbformat_minor": 2
}
