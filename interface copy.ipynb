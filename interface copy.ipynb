{
 "cells": [
  {
   "cell_type": "code",
   "execution_count": 5,
   "metadata": {},
   "outputs": [],
   "source": [
    "import warnings\n",
    "warnings.filterwarnings(\"ignore\")\n",
    "from evaluation.mol_structure import list_of_smiles_to_nx_graphs\n",
    "from evaluation.mol_structure import draw_one_mol, draw_graphs\n",
    "from evaluation.new_structural_metric import symmetric_graph_set_distance,atom,cycle,neighborhood\n",
    "from evaluate import evaluate\n",
    "#import utils.graph_generators as gen\n",
    "import torch\n",
    "import networkx as nx\n",
    "import os \n",
    "import sys\n",
    "import json\n",
    "current = os.getcwd()\n",
    "parent = os.path.dirname(current)\n",
    "sys.path.append(parent)\n",
    "import rdkit\n",
    "import numpy as np\n",
    "from evaluation.utils import get_data,get_graph_data,  get_mock_data,remove_empty_graphs_and_targets,\\\n",
    "    get_generated_data,preprocess,get_generated_graph_data,_preprocess\n",
    "\n"
   ]
  },
  {
   "cell_type": "code",
   "execution_count": 9,
   "metadata": {},
   "outputs": [],
   "source": [
    "import pandas as pd\n",
    "def get_rewired_graph_data(name,percent):\n",
    "    generated_neg_graphs=pd.read_pickle(f'data/rewired/{name}_train1_neg/{name}_train1_neg_rewired_with_{percent}.pkl')\n",
    "    generated_pos_graphs=pd.read_pickle(f'data/rewired/{name}_train1_pos/{name}_train1_pos_rewired_with_{percent}.pkl')\n",
    "    generated_graphs,generated_targets = generated_pos_graphs + generated_neg_graphs, [1]*len(generated_pos_graphs)+[0]*len(generated_neg_graphs)\n",
    "    return  generated_graphs, np.array(generated_targets)"
   ]
  },
  {
   "cell_type": "code",
   "execution_count": 12,
   "metadata": {},
   "outputs": [
    {
     "name": "stdout",
     "output_type": "stream",
     "text": [
      "synthetic_1_50\n",
      "Now computing classifier based metrics\n",
      "{'activations_time': 0.12489128112792969, 'fid': 0.8565697315438214, 'fid_time': 0.1268930435180664, 'kid': 0.026730895, 'kid_time': 0.14792466163635254, 'precision': 0.9425, 'recall': 0.9825, 'f1_pr': 0.962094419902131, 'precision_time': 0.1878347396850586, 'recall_time': 0.1878347396850586, 'f1_pr_time': 0.1878347396850586, 'density': 0.9935, 'coverage': 0.97, 'f1_dc': 0.9816193724535527, 'density_time': 0.18436336517333984, 'coverage_time': 0.18436336517333984, 'f1_dc_time': 0.18436336517333984, 'mmd_rbf': 0.006902933120727539, 'mmd_rbf_time': 0.2096855640411377, 'mmd_linear': 0.6247199, 'mmd_linear_time': 0.12489128112792969, 'dataset': 'synthetic_1_50', 'generator_name': 'rewired', 'degree_of_perturbation': '5'}\n",
      "synthetic_1_50\n"
     ]
    },
    {
     "ename": "KeyboardInterrupt",
     "evalue": "",
     "output_type": "error",
     "traceback": [
      "\u001b[1;31m---------------------------------------------------------------------------\u001b[0m",
      "\u001b[1;31mKeyboardInterrupt\u001b[0m                         Traceback (most recent call last)",
      "\u001b[1;32mc:\\Users\\cosmi\\Documents\\PhD\\2023\\Proposal\\Graph_Evaluation_Benchmark\\interface copy.ipynb Cell 3\u001b[0m line \u001b[0;36m1\n\u001b[0;32m     <a href='vscode-notebook-cell:/c%3A/Users/cosmi/Documents/PhD/2023/Proposal/Graph_Evaluation_Benchmark/interface%20copy.ipynb#W2sZmlsZQ%3D%3D?line=11'>12</a>\u001b[0m \u001b[39mprint\u001b[39m(dataset_name\u001b[39m+\u001b[39msplit)\n\u001b[0;32m     <a href='vscode-notebook-cell:/c%3A/Users/cosmi/Documents/PhD/2023/Proposal/Graph_Evaluation_Benchmark/interface%20copy.ipynb#W2sZmlsZQ%3D%3D?line=12'>13</a>\u001b[0m train1_graphs,train1_targets,train2_graphs,train2_targets,test_graphs,test_targets\u001b[39m=\u001b[39mget_graph_data(dataset_name\u001b[39m+\u001b[39msplit, path\u001b[39m=\u001b[39m\u001b[39mr\u001b[39m\u001b[39m'\u001b[39m\u001b[39mdata/graphs/datasets\u001b[39m\u001b[39m'\u001b[39m)\n\u001b[1;32m---> <a href='vscode-notebook-cell:/c%3A/Users/cosmi/Documents/PhD/2023/Proposal/Graph_Evaluation_Benchmark/interface%20copy.ipynb#W2sZmlsZQ%3D%3D?line=13'>14</a>\u001b[0m generated_graphs, generated_targets\u001b[39m=\u001b[39m get_rewired_graph_data(dataset_name\u001b[39m+\u001b[39;49msplit,percent)\n\u001b[0;32m     <a href='vscode-notebook-cell:/c%3A/Users/cosmi/Documents/PhD/2023/Proposal/Graph_Evaluation_Benchmark/interface%20copy.ipynb#W2sZmlsZQ%3D%3D?line=15'>16</a>\u001b[0m splits_for_auc_roc\u001b[39m=\u001b[39m[train1_graphs , train1_targets,train2_graphs , train2_targets, test_graphs, test_targets, generated_graphs, generated_targets]\n\u001b[0;32m     <a href='vscode-notebook-cell:/c%3A/Users/cosmi/Documents/PhD/2023/Proposal/Graph_Evaluation_Benchmark/interface%20copy.ipynb#W2sZmlsZQ%3D%3D?line=16'>17</a>\u001b[0m metrics\u001b[39m=\u001b[39mevaluate(train1_graphs, generated_graphs, device,  metrics_type, structural_statistic,\u001b[39m*\u001b[39msplits_for_auc_roc)\n",
      "\u001b[1;32mc:\\Users\\cosmi\\Documents\\PhD\\2023\\Proposal\\Graph_Evaluation_Benchmark\\interface copy.ipynb Cell 3\u001b[0m line \u001b[0;36m4\n\u001b[0;32m      <a href='vscode-notebook-cell:/c%3A/Users/cosmi/Documents/PhD/2023/Proposal/Graph_Evaluation_Benchmark/interface%20copy.ipynb#W2sZmlsZQ%3D%3D?line=1'>2</a>\u001b[0m \u001b[39mdef\u001b[39;00m \u001b[39mget_rewired_graph_data\u001b[39m(name,percent):\n\u001b[0;32m      <a href='vscode-notebook-cell:/c%3A/Users/cosmi/Documents/PhD/2023/Proposal/Graph_Evaluation_Benchmark/interface%20copy.ipynb#W2sZmlsZQ%3D%3D?line=2'>3</a>\u001b[0m     generated_neg_graphs\u001b[39m=\u001b[39mpd\u001b[39m.\u001b[39mread_pickle(\u001b[39mf\u001b[39m\u001b[39m'\u001b[39m\u001b[39mdata/rewired/\u001b[39m\u001b[39m{\u001b[39;00mname\u001b[39m}\u001b[39;00m\u001b[39m_train1_neg/\u001b[39m\u001b[39m{\u001b[39;00mname\u001b[39m}\u001b[39;00m\u001b[39m_train1_neg_rewired_with_\u001b[39m\u001b[39m{\u001b[39;00mpercent\u001b[39m}\u001b[39;00m\u001b[39m.pkl\u001b[39m\u001b[39m'\u001b[39m)\n\u001b[1;32m----> <a href='vscode-notebook-cell:/c%3A/Users/cosmi/Documents/PhD/2023/Proposal/Graph_Evaluation_Benchmark/interface%20copy.ipynb#W2sZmlsZQ%3D%3D?line=3'>4</a>\u001b[0m     generated_pos_graphs\u001b[39m=\u001b[39mpd\u001b[39m.\u001b[39;49mread_pickle(\u001b[39mf\u001b[39;49m\u001b[39m'\u001b[39;49m\u001b[39mdata/rewired/\u001b[39;49m\u001b[39m{\u001b[39;49;00mname\u001b[39m}\u001b[39;49;00m\u001b[39m_train1_pos/\u001b[39;49m\u001b[39m{\u001b[39;49;00mname\u001b[39m}\u001b[39;49;00m\u001b[39m_train1_pos_rewired_with_\u001b[39;49m\u001b[39m{\u001b[39;49;00mpercent\u001b[39m}\u001b[39;49;00m\u001b[39m.pkl\u001b[39;49m\u001b[39m'\u001b[39;49m)\n\u001b[0;32m      <a href='vscode-notebook-cell:/c%3A/Users/cosmi/Documents/PhD/2023/Proposal/Graph_Evaluation_Benchmark/interface%20copy.ipynb#W2sZmlsZQ%3D%3D?line=4'>5</a>\u001b[0m     generated_graphs,generated_targets \u001b[39m=\u001b[39m generated_pos_graphs \u001b[39m+\u001b[39m generated_neg_graphs, [\u001b[39m1\u001b[39m]\u001b[39m*\u001b[39m\u001b[39mlen\u001b[39m(generated_pos_graphs)\u001b[39m+\u001b[39m[\u001b[39m0\u001b[39m]\u001b[39m*\u001b[39m\u001b[39mlen\u001b[39m(generated_neg_graphs)\n\u001b[0;32m      <a href='vscode-notebook-cell:/c%3A/Users/cosmi/Documents/PhD/2023/Proposal/Graph_Evaluation_Benchmark/interface%20copy.ipynb#W2sZmlsZQ%3D%3D?line=5'>6</a>\u001b[0m     \u001b[39mreturn\u001b[39;00m  generated_graphs, np\u001b[39m.\u001b[39marray(generated_targets)\n",
      "File \u001b[1;32m~\\AppData\\Local\\Packages\\PythonSoftwareFoundation.Python.3.11_qbz5n2kfra8p0\\LocalCache\\local-packages\\Python311\\site-packages\\pandas\\io\\pickle.py:208\u001b[0m, in \u001b[0;36mread_pickle\u001b[1;34m(filepath_or_buffer, compression, storage_options)\u001b[0m\n\u001b[0;32m    205\u001b[0m     \u001b[39mwith\u001b[39;00m warnings\u001b[39m.\u001b[39mcatch_warnings(record\u001b[39m=\u001b[39m\u001b[39mTrue\u001b[39;00m):\n\u001b[0;32m    206\u001b[0m         \u001b[39m# We want to silence any warnings about, e.g. moved modules.\u001b[39;00m\n\u001b[0;32m    207\u001b[0m         warnings\u001b[39m.\u001b[39msimplefilter(\u001b[39m\"\u001b[39m\u001b[39mignore\u001b[39m\u001b[39m\"\u001b[39m, \u001b[39mWarning\u001b[39;00m)\n\u001b[1;32m--> 208\u001b[0m         \u001b[39mreturn\u001b[39;00m pickle\u001b[39m.\u001b[39mload(handles\u001b[39m.\u001b[39mhandle)\n\u001b[0;32m    209\u001b[0m \u001b[39mexcept\u001b[39;00m excs_to_catch:\n\u001b[0;32m    210\u001b[0m     \u001b[39m# e.g.\u001b[39;00m\n\u001b[0;32m    211\u001b[0m     \u001b[39m#  \"No module named 'pandas.core.sparse.series'\"\u001b[39;00m\n\u001b[0;32m    212\u001b[0m     \u001b[39m#  \"Can't get attribute '__nat_unpickle' on <module 'pandas._libs.tslib\"\u001b[39;00m\n\u001b[0;32m    213\u001b[0m     \u001b[39mreturn\u001b[39;00m pc\u001b[39m.\u001b[39mload(handles\u001b[39m.\u001b[39mhandle, encoding\u001b[39m=\u001b[39m\u001b[39mNone\u001b[39;00m)\n",
      "File \u001b[1;32m~\\AppData\\Local\\Packages\\PythonSoftwareFoundation.Python.3.11_qbz5n2kfra8p0\\LocalCache\\local-packages\\Python311\\site-packages\\torch\\_utils.py:169\u001b[0m, in \u001b[0;36m_rebuild_tensor_v2\u001b[1;34m(storage, storage_offset, size, stride, requires_grad, backward_hooks, metadata)\u001b[0m\n\u001b[0;32m    166\u001b[0m \u001b[39mdef\u001b[39;00m \u001b[39m_rebuild_tensor_v2\u001b[39m(\n\u001b[0;32m    167\u001b[0m     storage, storage_offset, size, stride, requires_grad, backward_hooks, metadata\u001b[39m=\u001b[39m\u001b[39mNone\u001b[39;00m\n\u001b[0;32m    168\u001b[0m ):\n\u001b[1;32m--> 169\u001b[0m     tensor \u001b[39m=\u001b[39m _rebuild_tensor(storage, storage_offset, size, stride)\n\u001b[0;32m    170\u001b[0m     tensor\u001b[39m.\u001b[39mrequires_grad \u001b[39m=\u001b[39m requires_grad\n\u001b[0;32m    171\u001b[0m     \u001b[39mif\u001b[39;00m metadata:\n",
      "File \u001b[1;32m~\\AppData\\Local\\Packages\\PythonSoftwareFoundation.Python.3.11_qbz5n2kfra8p0\\LocalCache\\local-packages\\Python311\\site-packages\\torch\\_utils.py:148\u001b[0m, in \u001b[0;36m_rebuild_tensor\u001b[1;34m(storage, storage_offset, size, stride)\u001b[0m\n\u001b[0;32m    145\u001b[0m \u001b[39mdef\u001b[39;00m \u001b[39m_rebuild_tensor\u001b[39m(storage, storage_offset, size, stride):\n\u001b[0;32m    146\u001b[0m     \u001b[39m# first construct a tensor with the correct dtype/device\u001b[39;00m\n\u001b[0;32m    147\u001b[0m     t \u001b[39m=\u001b[39m torch\u001b[39m.\u001b[39mtensor([], dtype\u001b[39m=\u001b[39mstorage\u001b[39m.\u001b[39mdtype, device\u001b[39m=\u001b[39mstorage\u001b[39m.\u001b[39m_untyped_storage\u001b[39m.\u001b[39mdevice)\n\u001b[1;32m--> 148\u001b[0m     \u001b[39mreturn\u001b[39;00m t\u001b[39m.\u001b[39;49mset_(storage\u001b[39m.\u001b[39;49m_untyped_storage, storage_offset, size, stride)\n",
      "\u001b[1;31mKeyboardInterrupt\u001b[0m: "
     ]
    }
   ],
   "source": [
    "structural_statistic=['WL', 'nspdk','degree','cluster', 'spectral']\n",
    "device=torch.device('cpu')\n",
    "metrics_type=['nn','structural', 'auc_roc']\n",
    "generators=['swingnn','gdss']\n",
    "splits=['_50']\n",
    "rewiring_ratio=['5','10','25','33','40','50','66','75','90','100']\n",
    "metrics={}\n",
    "for generator in ['rewired']:\n",
    "    for dataset_name in ['synthetic_1','synthetic_2']:\n",
    "        for split in splits:\n",
    "            for percent in rewiring_ratio:\n",
    "                print(dataset_name+split)\n",
    "                train1_graphs,train1_targets,train2_graphs,train2_targets,test_graphs,test_targets=get_graph_data(dataset_name+split, path=r'data/graphs/datasets')\n",
    "                generated_graphs, generated_targets= get_rewired_graph_data(dataset_name+split,percent)\n",
    "                \n",
    "                splits_for_auc_roc=[train1_graphs , train1_targets,train2_graphs , train2_targets, test_graphs, test_targets, generated_graphs, generated_targets]\n",
    "                metrics=evaluate(train1_graphs, generated_graphs, device,  metrics_type, structural_statistic,*splits_for_auc_roc)\n",
    "                metrics['dataset']=dataset_name+split\n",
    "                metrics['generator_name']=generator\n",
    "                metrics['degree_of_perturbation']=percent\n",
    "                print(metrics)"
   ]
  },
  {
   "cell_type": "code",
   "execution_count": 7,
   "metadata": {},
   "outputs": [
    {
     "name": "stdout",
     "output_type": "stream",
     "text": [
      "hi\n"
     ]
    }
   ],
   "source": [
    "metrics_type=['nn' ]\n",
    "if  'nn' in metrics_type: \n",
    "    print('hi')\n",
    "     "
   ]
  },
  {
   "cell_type": "code",
   "execution_count": null,
   "metadata": {},
   "outputs": [],
   "source": [
    "import pandas as pd\n",
    "def get_corrupted_graph_data(name,percent):\n",
    "    generated_neg_graphs=pd.read_pickle(f'data/corrupted/{name}_train1_neg/{name}_train1_neg_perturbed_with_{percent}.pkl')\n",
    "    generated_pos_graphs=pd.read_pickle(f'data/corrupted/{name}_train1_pos/{name}_train1_pos_perturbed_with_{percent}.pkl')\n",
    "    generated_graphs,generated_targets = generated_pos_graphs + generated_neg_graphs, [1]*len(generated_pos_graphs)+[0]*len(generated_neg_graphs)\n",
    "    return  generated_graphs, np.array(generated_targets)"
   ]
  },
  {
   "cell_type": "code",
   "execution_count": null,
   "metadata": {},
   "outputs": [],
   "source": [
    "structural_statistic=['WL', 'nspdk','degree','cluster', 'spectral']\n",
    "device=torch.device('cpu')\n",
    "metrics_type=['nn', 'structural', 'auc_roc']\n",
    "generators=['swingnn','gdss']\n",
    "splits=['_50']\n",
    "rewiring_ratio=[i for i in range(1, 29)]\n",
    "metrics={}\n",
    "for generator in ['corrupted']:\n",
    "    for dataset_name in ['synthetic_1']:\n",
    "        for split in splits:\n",
    "            for percent in rewiring_ratio:\n",
    "                print(dataset_name+split)\n",
    "                train1_graphs,train1_targets,train2_graphs,train2_targets,test_graphs,test_targets=get_graph_data(dataset_name+split, path=r'data/graphs/datasets')\n",
    "                generated_graphs, generated_targets= get_corrupted_graph_data(dataset_name+split,percent)\n",
    "                splits_for_auc_roc=[train1_graphs , train1_targets,train2_graphs , train2_targets, test_graphs, test_targets, generated_graphs, generated_targets]\n",
    "                metrics=evaluate(train1_graphs, generated_graphs, device,  metrics_type, structural_statistic,*splits_for_auc_roc)\n",
    "                metrics['dataset']=dataset_name+split\n",
    "                metrics['generator_name']=generator\n",
    "                metrics['degree_of_perturbation']=percent\n",
    "                print(metrics)"
   ]
  },
  {
   "cell_type": "code",
   "execution_count": null,
   "metadata": {},
   "outputs": [],
   "source": [
    "\n",
    "\n",
    "import pandas as pd\n",
    "def get_mode_dropping_graph_data(name,percent):\n",
    "    #try:\n",
    "    generated_neg_graphs=pd.read_pickle(f'data/mode_dropping/{name}_train1_neg/{name}_train1_neg_no_of_clusters_dropped_{percent}.pkl')\n",
    "    #except:generated_neg_graphs=[]\n",
    "    try:\n",
    "        generated_pos_graphs=pd.read_pickle(f'data/mode_dropping/{name}_train1_pos/{name}_train1_pos_no_of_clusters_dropped_{percent}.pkl')\n",
    "    except:generated_pos_graphs=[]\n",
    "    generated_graphs,generated_targets = generated_pos_graphs + generated_neg_graphs, [1]*len(generated_pos_graphs)+[0]*len(generated_neg_graphs)\n",
    "    return  generated_graphs, np.array(generated_targets)"
   ]
  },
  {
   "cell_type": "code",
   "execution_count": null,
   "metadata": {},
   "outputs": [],
   "source": [
    "structural_statistic=['WL', 'nspdk','degree','cluster', 'spectral']\n",
    "device=torch.device('cpu')\n",
    "metrics_type=['nn', 'structural', 'auc_roc']\n",
    "generators=['swingnn','gdss']\n",
    "splits=['_50']\n",
    "rewiring_ratio=[i for i in range(1, 29)]\n",
    "metrics={}\n",
    "for generator in ['mode_dropping']:\n",
    "    for dataset_name in ['synthetic_1','synthetic_2']:\n",
    "        for split in splits:\n",
    "            for percent in rewiring_ratio:\n",
    "                print(dataset_name+split)\n",
    "                train1_graphs,train1_targets,train2_graphs,train2_targets,test_graphs,test_targets=get_graph_data(dataset_name+split, path=r'data/graphs/datasets')\n",
    "                generated_graphs, generated_targets= get_mode_dropping_graph_data(dataset_name+split,percent)\n",
    "                splits_for_auc_roc=[train1_graphs , train1_targets,train2_graphs , train2_targets, test_graphs, test_targets, generated_graphs, generated_targets]\n",
    "                metrics=evaluate(train1_graphs, generated_graphs, device,  metrics_type, structural_statistic,*splits_for_auc_roc)\n",
    "                metrics['dataset']=dataset_name+split\n",
    "                metrics['generator_name']=generator\n",
    "                metrics['degree_of_perturbation']=percent\n",
    "                print(metrics)\n",
    "\n"
   ]
  },
  {
   "cell_type": "code",
   "execution_count": null,
   "metadata": {},
   "outputs": [],
   "source": [
    "import pandas as pd\n",
    "def get_mode_collapse_graph_data(name,percent):\n",
    "    #try:\n",
    "    generated_neg_graphs=pd.read_pickle(f'data/mode_collapse/{name}_train1_neg/{name}_train1_neg_no_of_clusters_collapsed_{percent}.pkl')\n",
    "    #except:generated_neg_graphs=[]\n",
    "    try:\n",
    "        generated_pos_graphs=pd.read_pickle(f'data/mode_collapse/{name}_train1_pos/{name}_train1_pos_no_of_clusters_collapsed_{percent}.pkl')\n",
    "    except:generated_pos_graphs=[]\n",
    "    generated_graphs,generated_targets = generated_pos_graphs + generated_neg_graphs, [1]*len(generated_pos_graphs)+[0]*len(generated_neg_graphs)\n",
    "    return  generated_graphs, np.array(generated_targets)"
   ]
  },
  {
   "cell_type": "code",
   "execution_count": null,
   "metadata": {},
   "outputs": [],
   "source": [
    "structural_statistic=['WL', 'nspdk','degree','cluster', 'spectral']\n",
    "device=torch.device('cpu')\n",
    "metrics_type=['nn', 'structural', 'auc_roc']\n",
    "generators=['swingnn','gdss']\n",
    "splits=['_50']\n",
    "rewiring_ratio=[i for i in range(1, 27)]\n",
    "metrics={}\n",
    "for generator in ['mode_collapse']:\n",
    "    for dataset_name in ['synthetic_1','synthetic_2']:\n",
    "        for split in splits:\n",
    "            for percent in rewiring_ratio:\n",
    "                print(dataset_name+split)\n",
    "                train1_graphs,train1_targets,train2_graphs,train2_targets,test_graphs,test_targets=get_graph_data(dataset_name+split, path=r'data/graphs/datasets')\n",
    "                generated_graphs, generated_targets= get_mode_collapse_graph_data(dataset_name+split,percent)\n",
    "                splits_for_auc_roc=[train1_graphs , train1_targets,train2_graphs , train2_targets, test_graphs, test_targets, generated_graphs, generated_targets]\n",
    "                metrics=evaluate(train1_graphs, generated_graphs, device,  metrics_type, structural_statistic,*splits_for_auc_roc)\n",
    "                metrics['dataset']=dataset_name+split\n",
    "                metrics['generator_name']=generator\n",
    "                metrics['degree_of_perturbation']=percent\n",
    "                print(metrics)"
   ]
  },
  {
   "cell_type": "code",
   "execution_count": null,
   "metadata": {},
   "outputs": [],
   "source": [
    "[i for i in range(1, 29)]"
   ]
  },
  {
   "cell_type": "code",
   "execution_count": null,
   "metadata": {},
   "outputs": [],
   "source": []
  },
  {
   "cell_type": "code",
   "execution_count": null,
   "metadata": {},
   "outputs": [],
   "source": []
  },
  {
   "cell_type": "code",
   "execution_count": null,
   "metadata": {},
   "outputs": [],
   "source": [
    "def get_generated_graph_data(name, path=r'data/graphs/datasets',generator_name='swingnn'):\n",
    "    dataset=name[:name.rindex('_')]\n",
    "    if generator_name=='swingnn': \n",
    "        generated_neg_graphs=pd.read_pickle(path + f'/{dataset}/{name}/{name}_gen_neg_{generator_name}.pkl')\n",
    "        generated_pos_graphs=pd.read_pickle(path + f'/{dataset}/{name}/{name}_gen_pos_{generator_name}.pkl')\n",
    "    else:\n",
    "        generated_neg_graphs=pd.read_pickle(path + f'/{dataset}/{name}/{name}_gen_neg_{generator_name}.p')\n",
    "        generated_pos_graphs=pd.read_pickle(path + f'/{dataset}/{name}/{name}_gen_pos_{generator_name}.p')\n",
    "    generated_graphs,generated_targets = generated_pos_graphs + generated_neg_graphs, [1]*len(generated_pos_graphs)+[0]*len(generated_neg_graphs)\n",
    "    return  generated_graphs, np.array(generated_targets)"
   ]
  },
  {
   "cell_type": "code",
   "execution_count": null,
   "metadata": {},
   "outputs": [],
   "source": []
  },
  {
   "cell_type": "code",
   "execution_count": null,
   "metadata": {},
   "outputs": [],
   "source": [
    "structural_statistic=['WL', 'nspdk','degree','cluster', 'spectral']\n",
    "device=torch.device('cpu')\n",
    "metrics_type=['nn', 'structural', 'auc_roc']\n",
    "generators=['swingnn','gdss']\n",
    "splits=['_25','_33','_40','_50']\n",
    "metrics={}\n",
    "for generator in generators:\n",
    "    for dataset_name in ['synthetic_1','synthetic_2']:\n",
    "        for split in splits:\n",
    "            print(dataset_name+split)\n",
    "            train1_graphs,train1_targets,train2_graphs,train2_targets,test_graphs,test_targets=get_graph_data(dataset_name+split, path=r'data/graphs/datasets')\n",
    "            generated_graphs, generated_targets= get_generated_graph_data(dataset_name+split,generator_name=generator)\n",
    "            splits_for_auc_roc=[train1_graphs , train1_targets,train2_graphs , train2_targets, test_graphs, test_targets, generated_graphs, generated_targets]\n",
    "            metrics=evaluate(train1_graphs, generated_graphs, device,  metrics_type, structural_statistic,*splits_for_auc_roc)\n",
    "            metrics['dataset']=dataset_name+split\n",
    "            metrics['generator_name']=generator\n",
    "            print(metrics)\n"
   ]
  },
  {
   "cell_type": "code",
   "execution_count": null,
   "metadata": {},
   "outputs": [],
   "source": [
    "structural_statistic=['WL', 'nspdk','degree','cluster', 'spectral']\n",
    "device=torch.device('cpu')\n",
    "metrics_type=['nn', 'structural', 'auc_roc']\n",
    "generators=['swingnn','gdss']\n",
    "splits=['_25','_33','_40','_50']\n",
    "metrics={}\n",
    "for generator in ['train']:\n",
    "    for dataset_name in ['synthetic_1','synthetic_2']:\n",
    "        for split in splits:\n",
    "            print(dataset_name+split)\n",
    "            train1_graphs,train1_targets,train2_graphs,train2_targets,test_graphs,test_targets=get_graph_data(dataset_name+split, path=r'data/graphs/datasets')\n",
    "            generated_graphs, generated_targets= train1_graphs,train1_targets\n",
    "            splits_for_auc_roc=[train1_graphs , train1_targets,train2_graphs , train2_targets, test_graphs, test_targets, generated_graphs, generated_targets]\n",
    "            metrics=evaluate(train1_graphs, generated_graphs, device,  metrics_type, structural_statistic,*splits_for_auc_roc)\n",
    "            metrics['dataset']=dataset_name+split\n",
    "            metrics['generator_name']=generator\n",
    "            print(metrics)\n"
   ]
  },
  {
   "cell_type": "code",
   "execution_count": null,
   "metadata": {},
   "outputs": [],
   "source": [
    "structural_statistic=['WL', 'nspdk','degree','cluster', 'spectral']\n",
    "device=torch.device('cpu')\n",
    "metrics_type=['nn', 'structural', 'auc_roc']\n",
    "generators=['gdss','swingnn']\n",
    "splits=['_25','_33','_40','_50']\n",
    "metrics={}\n",
    "for generator in generators:\n",
    "    for dataset_name in ['synthetic_2']:\n",
    "        for split in splits:\n",
    "            print(dataset_name+split)\n",
    "            train1_graphs,train1_targets,train2_graphs,train2_targets,test_graphs,test_targets=get_graph_data(dataset_name+split, path=r'data/graphs/datasets')\n",
    "            generated_graphs, generated_targets= get_generated_graph_data(dataset_name+split,generator_name=generator)\n",
    "            splits_for_auc_roc=[train1_graphs , train1_targets,train2_graphs , train2_targets, test_graphs, test_targets, generated_graphs, generated_targets]\n",
    "            metrics=evaluate(train1_graphs, generated_graphs, device,  metrics_type, structural_statistic,*splits_for_auc_roc)\n",
    "            metrics['dataset']=dataset_name+split\n",
    "            metrics['generator_name']=generator\n",
    "            print(metrics)\n"
   ]
  },
  {
   "cell_type": "code",
   "execution_count": null,
   "metadata": {},
   "outputs": [],
   "source": [
    "train1_neg_graphs=pd.read_pickle('data/graphs/datasets/synthetic_1/synthetic_1_25/synthetic_1_25_train1_neg.p')\n"
   ]
  },
  {
   "cell_type": "code",
   "execution_count": null,
   "metadata": {},
   "outputs": [],
   "source": [
    "train1_neg_graphs"
   ]
  },
  {
   "cell_type": "code",
   "execution_count": null,
   "metadata": {},
   "outputs": [],
   "source": [
    "data/graphs/datasets/synthetic_1/synthetic_1_25/synthetic_1_25_train1_neg.p"
   ]
  },
  {
   "cell_type": "code",
   "execution_count": null,
   "metadata": {},
   "outputs": [],
   "source": [
    "train1_graphs,train1_targets,train2_graphs,train2_targets,test_graphs,test_targets=get_graph_data(dataset_name+split, path=r'data/graphs/datasets')\n"
   ]
  },
  {
   "cell_type": "code",
   "execution_count": null,
   "metadata": {},
   "outputs": [],
   "source": [
    "train1_graphs=_preprocess(train1_graphs,label=0,discrete_node_label_name='',discrete_edge_label_name='',continuous_node_label_name='',continuous_edge_label_name='')\n",
    "train2_graphs=_preprocess(train2_graphs,label=0,discrete_node_label_name='',discrete_edge_label_name='',continuous_node_label_name='',continuous_edge_label_name='')\n",
    "test_graphs=_preprocess(test_graphs,label=0,discrete_node_label_name='',discrete_edge_label_name='',continuous_node_label_name='',continuous_edge_label_name='')\n",
    "generated_graphs=_preprocess(generated_graphs,label=0,discrete_node_label_name='',discrete_edge_label_name='',continuous_node_label_name='',continuous_edge_label_name='')\n"
   ]
  },
  {
   "cell_type": "code",
   "execution_count": null,
   "metadata": {},
   "outputs": [],
   "source": [
    "\n",
    "def auc_estimate(pos_graphs,neg_graphs,test_pos_graphs, test_neg_graphs):\n",
    "    train_graphs=pos_graphs+neg_graphs\n",
    "    train_targets=np.array([1]*len(pos_graphs) + [0]*len(neg_graphs))\n",
    "    test_graphs=test_pos_graphs+test_neg_graphs\n",
    "    test_targets=np.array([1]*len(test_pos_graphs) + [0]*len(test_neg_graphs))\n",
    "    #print(test_targets)\n",
    "    #random.shuffle(test_targets)\n",
    "    #print(test_targets)\n",
    "    #transform\n",
    "    vectorizer = Vectorizer(r=2,d=4)\n",
    "    train_data_mtx = vectorizer.transform(train_graphs)\n",
    "    test_data_mtx = vectorizer.transform(test_graphs)\n",
    "    estimator = ExtraTreesClassifier(n_estimators=300, n_jobs=-1,random_state=0).fit(train_data_mtx, train_targets)\n",
    "    preds = estimator.predict_proba(test_data_mtx)[:,1]\n",
    "    auc1 = roc_auc_score(test_targets, preds)\n",
    "    return auc1"
   ]
  },
  {
   "cell_type": "code",
   "execution_count": null,
   "metadata": {},
   "outputs": [],
   "source": [
    "vectorizer = Vectorizer(r=2,d=4)\n",
    "train_data_mtx = vectorizer.transform(_preprocess(train1_graphs+generated_graphs,label=0,discrete_node_label_name='',discrete_edge_label_name='',continuous_node_label_name='',continuous_edge_label_name=''))\n",
    "test_data_mtx = vectorizer.transform(_preprocess(test_graphs,label=0,discrete_node_label_name='',discrete_edge_label_name='',continuous_node_label_name='',continuous_edge_label_name=''))\n",
    "estimator = ExtraTreesClassifier(n_estimators=300, n_jobs=-1,random_state=0).fit(train_data_mtx, list(train1_targets)+list(generated_targets))\n",
    "preds = estimator.predict_proba(test_data_mtx)[:,1]\n",
    "auc1 = roc_auc_score(test_targets, preds)\n",
    "auc1\n",
    "\n"
   ]
  },
  {
   "cell_type": "code",
   "execution_count": null,
   "metadata": {},
   "outputs": [],
   "source": [
    "    train1_graphs[0].edges(data=True)"
   ]
  },
  {
   "cell_type": "code",
   "execution_count": null,
   "metadata": {},
   "outputs": [],
   "source": [
    "train1_graphs,train1_targets,train2_graphs,train2_targets,test_graphs,test_targets=get_graph_data(dataset_name+split, path=r'data/graphs/datasets')"
   ]
  },
  {
   "cell_type": "code",
   "execution_count": null,
   "metadata": {},
   "outputs": [],
   "source": [
    "\n",
    "train1_graphs[0].nodes(data=True)"
   ]
  },
  {
   "cell_type": "code",
   "execution_count": null,
   "metadata": {},
   "outputs": [],
   "source": [
    "metrics"
   ]
  },
  {
   "cell_type": "code",
   "execution_count": null,
   "metadata": {},
   "outputs": [],
   "source": [
    "structural_statistic=['WL', 'nspdk','degree','cluster', 'spectral','common_substructures']\n",
    "device=torch.device('cpu')\n",
    "metrics_type=['nn', 'structural', 'auc_roc']\n",
    "generators=['swingnn']\n",
    "splits=['_25','_33','_40','_50']\n",
    "metrics={}\n",
    "for generator in generators:\n",
    "    for dataset_name in ['synthetic_path_vs_tree']:\n",
    "        for split in splits:\n",
    "            print(dataset_name+split)\n",
    "            train1_graphs,train1_targets,train2_graphs,train2_targets,test_graphs,test_targets=get_graph_data(dataset_name+split, path=r'data/graphs/datasets')\n",
    "            generated_graphs, generated_targets= get_generated_graph_data(dataset_name+split,generator_name=generator)\n",
    "            splits_for_auc_roc=[train1_graphs , train1_targets,train2_graphs , train2_targets, test_graphs, test_targets, generated_graphs, generated_targets]\n",
    "            metrics=evaluate(train1_graphs, generated_graphs, device,  metrics_type, structural_statistic,*splits_for_auc_roc)\n",
    "            metrics['dataset']=dataset_name+split\n",
    "            metrics['generator_name']=generator\n",
    "            print(metrics)\n",
    "\n",
    "train1_graphs"
   ]
  },
  {
   "cell_type": "code",
   "execution_count": null,
   "metadata": {},
   "outputs": [],
   "source": [
    "def draw_graphs(graphs, node_color='label', edge_color='label', n_graphs_per_line=13, size=3):\n",
    "    unique_node_labels = list(sorted(set(str(graph.nodes[u].get(node_color,0)) for graph in graphs for u in graph.nodes())))\n",
    "    node_labels_color_map = {unique_node_label: i/len(unique_node_labels) for i,unique_node_label in enumerate(unique_node_labels)}\n",
    "    unique_edge_labels = list(sorted(set(str(graph.edges[u,v].get(edge_color,0)) for graph in graphs for u,v in graph.edges())))\n",
    "    edge_labels_color_map = {unique_edge_label: i/len(unique_edge_labels) for i,unique_edge_label in enumerate(unique_edge_labels)}\n",
    "    n = len(graphs)\n",
    "    n_lines = np.ceil(n / n_graphs_per_line).astype(int)\n",
    "    fig, axs = plt.subplots(n_lines, n_graphs_per_line, figsize=(size*n_graphs_per_line,size*n_lines))\n",
    "    for t,graph in enumerate(graphs):\n",
    "        col = t % n_graphs_per_line\n",
    "        row = t // n_graphs_per_line\n",
    "        #if n_lines>1: ax = axs[row,col]\n",
    "        ax = axs[col]\n",
    "        ax.axis('off')\n",
    "        pos = nx.kamada_kawai_layout(graph)\n",
    "        node_colors = [node_labels_color_map[str(graph.nodes[u].get(node_color,0))] for u in graph.nodes()]\n",
    "        nx.draw_networkx_nodes(graph, pos, node_size=80, node_color=node_colors, cmap='Set3', linewidths=1, edgecolors='k', ax=ax)\n",
    "        edge_colors = [edge_labels_color_map[str(graph.edges[u,v].get(edge_color,0))] for u,v in graph.edges()]\n",
    "        nx.draw_networkx_edges(graph, pos, width=1, style='-', edge_color=edge_colors, edge_cmap=plt.get_cmap('tab20'), ax=ax)    \n",
    "    plt.show()"
   ]
  },
  {
   "cell_type": "code",
   "execution_count": null,
   "metadata": {},
   "outputs": [],
   "source": [
    "nx.draw(generated_graphs[0])"
   ]
  },
  {
   "cell_type": "code",
   "execution_count": null,
   "metadata": {},
   "outputs": [],
   "source": [
    "import matplotlib.pyplot as plt\n",
    "print('sample of positive graphs')\n",
    "draw_graphs(list(train1_graphs[:13]))   \n",
    "print('sample of negative graphs')\n",
    "draw_graphs(list(train1_graphs[len(train1_graphs)-13:]),n_graphs_per_line=13)   \n",
    "import matplotlib.pyplot as plt\n",
    "print('sample of generated positive graphs')\n",
    "draw_graphs(list(generated_graphs[:13]))   \n",
    "print('sample of generated negative graphs')\n",
    "draw_graphs(list(generated_graphs[len(generated_graphs)-13:]),n_graphs_per_line=13)   \n"
   ]
  },
  {
   "cell_type": "code",
   "execution_count": null,
   "metadata": {},
   "outputs": [],
   "source": [
    "structural_statistic=['WL', 'nspdk','degree','cluster', 'spectral','common_substructures']\n",
    "device=torch.device('cpu')\n",
    "metrics_type=['nn','molecular' 'structural', 'auc_roc']\n",
    "generators=['swingnn']\n",
    "splits=['_25','_33','_40','_50']\n",
    "metrics={}\n",
    "for generator in generators:\n",
    "    for dataset_name in ['synthetic_path_vs_tree']:\n",
    "        for split in splits:\n",
    "            print(dataset_name+split)\n",
    "            train1_graphs,train1_targets,train2_graphs,train2_targets,test_graphs,test_targets=get_graph_data(dataset_name+split, path=r'data/graphs/datasets')\n",
    "            generated_graphs, generated_targets= get_generated_graph_data(dataset_name+split,generator_name=generator)\n",
    "            splits_for_auc_roc=[train1_graphs , train1_targets,train2_graphs , train2_targets, test_graphs, test_targets, generated_graphs, generated_targets]\n",
    "            metrics=evaluate(train1_graphs, generated_graphs, device,  metrics_type, structural_statistic,*splits_for_auc_roc)\n",
    "            metrics['dataset']=dataset_name+split\n",
    "            metrics['generator_name']=generator\n",
    "            print(metrics)\n"
   ]
  },
  {
   "cell_type": "code",
   "execution_count": null,
   "metadata": {},
   "outputs": [],
   "source": [
    "import  pandas as pd\n",
    "\n",
    "x=pd.DataFrame(metrics, index=[i for i in range(1)])"
   ]
  },
  {
   "cell_type": "code",
   "execution_count": null,
   "metadata": {},
   "outputs": [],
   "source": []
  },
  {
   "cell_type": "code",
   "execution_count": null,
   "metadata": {},
   "outputs": [],
   "source": [
    "current_smiles_datasets=['ames', 'bbb_martins', 'cyp1a2_veith', 'cyp2c19_veith','herg_karim','lipophilicity_astrazeneca']\n",
    "splits=['_25','_33','_40','_50']\n",
    "device=torch.device('cpu')\n",
    "generators=['swingnn']\n",
    "metrics={}\n",
    "for generator in generators:\n",
    "    for dataset_name in current_smiles_datasets:\n",
    "        for split in splits:\n",
    "            print(dataset_name+split)\n",
    "            train1_graphs , train1_targets,train2_graphs , train2_targets, test_graphs, test_targets  =get_data(dataset_name+split, return_smiles=False)\n",
    "            generated_graphs, generated_targets=get_generated_data(dataset_name+split, generator_name=generator)\n",
    "            splits_for_auc_roc=[train1_graphs , train1_targets,train2_graphs , train2_targets, test_graphs, test_targets, generated_graphs, generated_targets]\n",
    "            metrics=evaluate(train1_graphs, generated_graphs, device,  metrics_type, structural_statistic,*splits_for_auc_roc)\n",
    "            metrics['dataset']=dataset_name+split\n",
    "            metrics['generator_name']=generator\n",
    "            print(metrics)\n"
   ]
  },
  {
   "cell_type": "code",
   "execution_count": null,
   "metadata": {},
   "outputs": [],
   "source": [
    "import  rdkit\n",
    "rdkit.Chem.Draw.MolsToGridImage(molsPerRow=3)"
   ]
  },
  {
   "cell_type": "code",
   "execution_count": null,
   "metadata": {},
   "outputs": [],
   "source": []
  },
  {
   "attachments": {},
   "cell_type": "markdown",
   "metadata": {},
   "source": [
    "# Data collection"
   ]
  },
  {
   "attachments": {},
   "cell_type": "markdown",
   "metadata": {},
   "source": [
    "## Hide"
   ]
  },
  {
   "cell_type": "code",
   "execution_count": null,
   "metadata": {},
   "outputs": [],
   "source": [
    "#disable  \n",
    "from rdkit import RDLogger \n",
    "RDLogger.EnableLog('rdApp.*')\n",
    "#RDLogger.DisableLog('rdApp.*')        \n",
    "name='ames'                                                                                                                                                                                                                                                                                                                                                                                                                                                               \n",
    "path='data/smiles/{}/train1_smiles.txt'.format(name)\n",
    "#rom data.smiles.carcinogens import test_smiles\n",
    "reference_smiles_list = []\n",
    "with open(path) as my_file:\n",
    "    for line in my_file:\n",
    "        reference_smiles_list.append(line)\n",
    "reference_nx_graphs=list_of_smiles_to_nx_graphs(reference_smiles_list)\n",
    "\"\"\"\n",
    "print(reference_smiles_list[0])\n",
    "mol = Chem.MolFromSmiles(reference_smiles_list[0])\n",
    "Chem.Kekulize(mol)\n",
    "Chem.RemoveStereochemistry(mol)\n",
    "Chem.rdmolops.AddHs(mol)\n",
    "print(mol_to_smiles([mol])[0])\n",
    "print(mol_to_smiles([nx_to_mol(reference_nx_graphs[0])])[0])\n",
    "rdkit.Chem.Draw.MolToImage(mol = Chem.MolFromSmiles(reference_smiles_list[0]))\n",
    "rdkit.Chem.Draw.MolToImage(mol = Chem.MolFromSmiles(mol_to_smiles([nx_to_mol(reference_nx_graphs[0])])[0]))\n",
    "\n",
    "#rdkit.Chem.Draw.MolsToGridImage(mols = [Chem.MolFromSmiles(mol_to_smiles([nx_to_mol(reference_nx_graphs[0])])[0]),   Chem.MolFromSmiles(reference_smiles_list[0])  ]  )\n",
    "\n",
    "#rdkit.Chem.Draw.MolsToGridImage(mols = [Chem.MolFromSmiles(mol_to_smiles([nx_to_mol(reference_nx_graphs[0])])[0]),   Chem.MolFromSmiles(reference_smiles_list[0])  ]  )\n",
    "\"\"\""
   ]
  },
  {
   "cell_type": "code",
   "execution_count": null,
   "metadata": {},
   "outputs": [],
   "source": [
    "list_of_G=reference_nx_graphs[:4]\n",
    "#for n , d in (G.nodes().items() ):\n",
    "    #print(str(d['label'][0]))\n",
    "\n",
    "draw_graphs(list_of_G)"
   ]
  },
  {
   "cell_type": "code",
   "execution_count": null,
   "metadata": {},
   "outputs": [],
   "source": [
    "draw_one_mol(reference_nx_graphs[2])\n",
    "print(reference_smiles_list[2])\n",
    "draw_one_mol(reference_nx_graphs[2])\n",
    "\n",
    "rdkit.Chem.Draw.MolToImage(mol = Chem.MolFromSmiles(reference_smiles_list[2]))\n"
   ]
  },
  {
   "cell_type": "code",
   "execution_count": null,
   "metadata": {},
   "outputs": [],
   "source": [
    "reference_nx_graphs[0].nodes(data=True)"
   ]
  },
  {
   "cell_type": "code",
   "execution_count": null,
   "metadata": {},
   "outputs": [],
   "source": [
    "reference_nx_graphs[0].edges(data=True)"
   ]
  },
  {
   "attachments": {},
   "cell_type": "markdown",
   "metadata": {},
   "source": [
    "## Show\n"
   ]
  },
  {
   "cell_type": "code",
   "execution_count": null,
   "metadata": {},
   "outputs": [],
   "source": [
    "current_smiles_datasets=['ames', 'bbb_martins', 'cyp1a2_veith', 'cyp2c19_veith','herg_karim','lipophilicity_astrazeneca']\n",
    "splits=['_25','_33','_40','_50']\n",
    "device=torch.device('cpu')\n",
    "structural_statistic=['nspdk','WL']\n",
    "metrics_type=['nn', 'structural','molecular', 'auc_roc']\n",
    "#leave it blank to compute all the structural structures \n",
    "generators=['hiervae','wgan','stgg','moflow','gdss','jtnn']"
   ]
  },
  {
   "cell_type": "code",
   "execution_count": null,
   "metadata": {},
   "outputs": [],
   "source": []
  },
  {
   "cell_type": "code",
   "execution_count": null,
   "metadata": {},
   "outputs": [],
   "source": [
    "device=torch.device('cpu')\n",
    "metrics={}\n",
    "for generator in generators:\n",
    "    for dataset_name in current_smiles_datasets:\n",
    "        for split in splits:\n",
    "            print(dataset_name+split)\n",
    "            train1_graphs , train1_targets,train2_graphs , train2_targets, test_graphs, test_targets  =get_data(dataset_name+split, return_smiles=False)\n",
    "            generated_graphs, generated_targets=get_generated_data(dataset_name+split, generator_name=generator)\n",
    "            splits_for_auc_roc=[train1_graphs , train1_targets,train2_graphs , train2_targets, test_graphs, test_targets, generated_graphs, generated_targets]\n",
    "            metrics=evaluate(train1_graphs, generated_graphs, device,  metrics_type, structural_statistic,*splits_for_auc_roc)\n",
    "            metrics['dataset']=dataset_name+split\n",
    "            metrics['generator_name']=generator\n",
    "            print(metrics)\n",
    "            break\n",
    "        break\n",
    "    brea\n"
   ]
  },
  {
   "cell_type": "code",
   "execution_count": null,
   "metadata": {},
   "outputs": [],
   "source": [
    "device=torch.device('cpu')\n",
    "metrics={}\n",
    "for generator in ['train1']:\n",
    "    for dataset_name in current_smiles_datasets:\n",
    "        for split in splits:\n",
    "            print(dataset_name+split)\n",
    "            train1_graphs , train1_targets,train2_graphs , train2_targets, test_graphs, test_targets  =get_data(dataset_name+split, return_smiles=False)\n",
    "            generated_graphs, generated_targets=train1_graphs,train1_targets\n",
    "            splits_for_auc_roc=[train1_graphs , train1_targets,train2_graphs , train2_targets, test_graphs, test_targets, generated_graphs, generated_targets]\n",
    "            metrics=evaluate(train1_graphs, generated_graphs, device,  metrics_type, structural_statistic,*splits_for_auc_roc)\n",
    "            metrics['dataset']=dataset_name+split\n",
    "            metrics['generator_name']=generator\n",
    "            print(metrics)"
   ]
  },
  {
   "cell_type": "code",
   "execution_count": null,
   "metadata": {},
   "outputs": [],
   "source": [
    "device=torch.device('cpu')\n",
    "metrics={}\n",
    "for generator in ['train2']:\n",
    "    for dataset_name in current_smiles_datasets:\n",
    "        for split in splits:\n",
    "            print(dataset_name+split)\n",
    "            train1_graphs , train1_targets,train2_graphs , train2_targets, test_graphs, test_targets  =get_data(dataset_name+split, return_smiles=False)\n",
    "            generated_graphs, generated_targets=train2_graphs,train2_targets\n",
    "            splits_for_auc_roc=[train1_graphs , train1_targets,train2_graphs , train2_targets, test_graphs, test_targets, generated_graphs, generated_targets]\n",
    "            metrics=evaluate(train1_graphs, generated_graphs, device,  metrics_type, structural_statistic,*splits_for_auc_roc)\n",
    "            metrics['dataset']=dataset_name+split\n",
    "            metrics['generator_name']=generator\n",
    "            print(metrics)"
   ]
  },
  {
   "cell_type": "code",
   "execution_count": null,
   "metadata": {},
   "outputs": [],
   "source": [
    "device=torch.device('cpu')\n",
    "metrics={}\n",
    "for generator in ['train1/2+train2/2']:\n",
    "    for dataset_name in current_smiles_datasets:\n",
    "        for split in splits:\n",
    "            print(dataset_name+split)\n",
    "            train1_graphs , train1_targets,train2_graphs , train2_targets, test_graphs, test_targets  =get_data(dataset_name+split, return_smiles=False)\n",
    "            half=len(train1_graphs)//2\n",
    "            half2=len(train2_graphs)//2\n",
    "            train3_graphs,train3_targets=train1_graphs[:half]+train2_graphs[:half], train1_targets[:half]+train2_targets[:half]\n",
    "            generated_graphs, generated_targets=train3_graphs,train3_targets\n",
    "            splits_for_auc_roc=[train1_graphs , train1_targets,train2_graphs , train2_targets, test_graphs, test_targets, generated_graphs, generated_targets]\n",
    "            metrics=evaluate(train1_graphs, generated_graphs, device,  metrics_type, structural_statistic,*splits_for_auc_roc)\n",
    "            metrics['dataset']=dataset_name+split\n",
    "            metrics['generator_name']=generator\n",
    "            print(metrics)"
   ]
  },
  {
   "cell_type": "code",
   "execution_count": null,
   "metadata": {},
   "outputs": [],
   "source": [
    "device=torch.device('cpu')\n",
    "metrics={}\n",
    "for generator in ['jtnn']:\n",
    "    for dataset_name in current_smiles_datasets:\n",
    "        for split in splits:\n",
    "            print(dataset_name+split)\n",
    "            train1_graphs , train1_targets,train2_graphs , train2_targets, test_graphs, test_targets  =get_data(dataset_name+split, return_smiles=False)\n",
    "            generated_graphs, generated_targets=get_generated_data(dataset_name+split, generator_name=generator)\n",
    "            splits_for_auc_roc=[train1_graphs , train1_targets,train2_graphs , train2_targets, test_graphs, test_targets, generated_graphs, generated_targets]\n",
    "            metrics=evaluate(train1_graphs, generated_graphs, device,  metrics_type, structural_statistic,*splits_for_auc_roc)\n",
    "            metrics['dataset']=dataset_name+split\n",
    "            metrics['generator_name']=generator\n",
    "            print(metrics)\n"
   ]
  },
  {
   "cell_type": "code",
   "execution_count": null,
   "metadata": {},
   "outputs": [],
   "source": []
  },
  {
   "attachments": {},
   "cell_type": "markdown",
   "metadata": {},
   "source": [
    "## Dev"
   ]
  },
  {
   "cell_type": "code",
   "execution_count": null,
   "metadata": {},
   "outputs": [],
   "source": []
  },
  {
   "cell_type": "code",
   "execution_count": null,
   "metadata": {},
   "outputs": [],
   "source": []
  },
  {
   "cell_type": "code",
   "execution_count": null,
   "metadata": {},
   "outputs": [],
   "source": []
  },
  {
   "attachments": {},
   "cell_type": "markdown",
   "metadata": {},
   "source": [
    "## Vectorize\n"
   ]
  },
  {
   "cell_type": "code",
   "execution_count": null,
   "metadata": {},
   "outputs": [],
   "source": [
    "from eden.ml.ml import serial_vectorize as vectorize\n",
    "from eden.graph import Vectorizer\n",
    "from sklearn.ensemble import ExtraTreesClassifier\n",
    "from sklearn.metrics import roc_auc_score\n",
    "\n",
    "estimator =ExtraTreesClassifier(n_estimators=300, n_jobs=-1,random_state=0)\n",
    "generator='stgg'\n",
    "dataset_name='cyp1a2_veith'\n",
    "metrics_type=['auc_roc']\n",
    "train1_graphs , train1_targets,train2_graphs , train2_targets, test_graphs, test_targets  =get_data(dataset_name, return_smiles=False)\n",
    "generated_graphs, generated_targets=get_generated_data(dataset_name,generator_name=generator)\n",
    "train_graphs, train_targets=train1_graphs +  train2_graphs , list(train1_targets)+list(train2_targets)\n",
    "train1_plus_generated_targets=list(train1_targets)+list(generated_targets)   \n",
    "   \n",
    "vectorizer = Vectorizer(\n",
    "            r=2, d=4,\n",
    "            normalization=False,\n",
    "            inner_normalization=False,\n",
    "            discrete=True,\n",
    "            nbits=10)\n",
    "\n",
    "def serialize(train_graphs,test_graphs,train1_graphs,generated_graphs):\n",
    "        X_train=vectorize(train_graphs,vectorizer=vectorizer).toarray()\n",
    "        X_test=vectorize(test_graphs,vectorizer=vectorizer).toarray()\n",
    "        X_train1=vectorize(train1_graphs,vectorizer=vectorizer).toarray()\n",
    "        X_generated=vectorize(generated_graphs,vectorizer=vectorizer).toarray()\n",
    "        X_train1_plus_generated=np.vstack((X_train1,X_generated))\n",
    "        return X_train,X_test,X_train1,X_generated,X_train1_plus_generated\n",
    "X_train,X_test,X_train1,X_generated,X_train1_plus_generated=serialize(train_graphs,test_graphs,train1_graphs,generated_graphs)\n",
    "\n",
    "def predict(test_embedding):\n",
    "        preds= estimator.predict_proba(test_embedding)[:,1]\n",
    "        return preds\n",
    "def compute_auc(X_train, train_targets,X_test, test_targets):\n",
    "    estimator.fit( X_train,train_targets)\n",
    "    preds=predict(X_test )\n",
    "    auc=roc_auc_score(test_targets, preds)\n",
    "    return auc\n",
    "\n",
    "auc_1= compute_auc(X_train1, train1_targets, X_test, test_targets)\n",
    "auc_2=compute_auc(X_train, train_targets, X_test, test_targets)\n",
    "auc_3=compute_auc(X_generated, generated_targets, X_test, test_targets)\n",
    "auc_4=compute_auc( X_train1_plus_generated,train1_plus_generated_targets, X_test, test_targets)\n",
    "print(auc_1, auc_2,auc_3,auc_4 )\n"
   ]
  },
  {
   "cell_type": "code",
   "execution_count": null,
   "metadata": {},
   "outputs": [],
   "source": [
    "metrics={}\n",
    "\n",
    "metrics_type=['auc_roc']\n",
    "for generator in ['stgg','gdss','hiervae','moflow','wgan']:\n",
    "    for dataset_name in ['cyp1a2_veith']:\n",
    "        train1_graphs , train1_targets,train2_graphs , train2_targets, test_graphs, test_targets  =get_data(dataset_name, return_smiles=False)\n",
    "        generated_graphs, generated_targets=get_generated_data(dataset_name,generator_name=generator)\n",
    "        splits_for_auc_roc=[train1_graphs , train1_targets,train2_graphs , train2_targets, test_graphs, test_targets, generated_graphs, generated_targets]\n",
    "        metrics=evaluate(train1_graphs, generated_graphs, device,  metrics_type, structural_statistic,*splits_for_auc_roc)\n",
    "        metrics['dataset']=dataset_name\n",
    "        metrics['generator_name']=generator\n",
    "        print(metrics)"
   ]
  },
  {
   "attachments": {},
   "cell_type": "markdown",
   "metadata": {},
   "source": [
    "# New metric  (Step 1 and Step 2)"
   ]
  },
  {
   "attachments": {
    "image.png": {
     "image/png": "[encoded data removed]"
    }
   },
   "cell_type": "markdown",
   "metadata": {},
   "source": [
    "![image.png](attachment:image.png)"
   ]
  },
  {
   "cell_type": "code",
   "execution_count": null,
   "metadata": {},
   "outputs": [],
   "source": []
  },
  {
   "attachments": {},
   "cell_type": "markdown",
   "metadata": {},
   "source": [
    "# NN classifier  with ogb AtomEncoder, BondEncoder"
   ]
  },
  {
   "attachments": {
    "image.png": {
     "image/png": "[encoded data removed]"
    }
   },
   "cell_type": "markdown",
   "metadata": {},
   "source": [
    "![image.png](attachment:image.png)"
   ]
  },
  {
   "cell_type": "code",
   "execution_count": null,
   "metadata": {},
   "outputs": [],
   "source": []
  },
  {
   "cell_type": "code",
   "execution_count": null,
   "metadata": {},
   "outputs": [],
   "source": []
  },
  {
   "cell_type": "code",
   "execution_count": null,
   "metadata": {},
   "outputs": [],
   "source": []
  },
  {
   "cell_type": "code",
   "execution_count": null,
   "metadata": {},
   "outputs": [],
   "source": []
  },
  {
   "cell_type": "code",
   "execution_count": null,
   "metadata": {},
   "outputs": [],
   "source": []
  },
  {
   "cell_type": "code",
   "execution_count": null,
   "metadata": {},
   "outputs": [],
   "source": []
  }
 ],
 "metadata": {
  "kernelspec": {
   "display_name": "Python 3",
   "language": "python",
   "name": "python3"
  },
  "language_info": {
   "codemirror_mode": {
    "name": "ipython",
    "version": 3
   },
   "file_extension": ".py",
   "mimetype": "text/x-python",
   "name": "python",
   "nbconvert_exporter": "python",
   "pygments_lexer": "ipython3",
   "version": "3.11.6"
  },
  "orig_nbformat": 4,
  "vscode": {
   "interpreter": {
    "hash": "06a8be8316eed2f6558da5cb68a9abde15f0a0ec61139bf81bc916fa7c6839e3"
   }
  }
 },
 "nbformat": 4,
 "nbformat_minor": 2
}
